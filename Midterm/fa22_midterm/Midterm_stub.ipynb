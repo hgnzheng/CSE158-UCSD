{
 "cells": [
  {
   "cell_type": "code",
   "execution_count": 1,
   "id": "8fadc0b4",
   "metadata": {},
   "outputs": [],
   "source": [
    "import json\n",
    "import gzip\n",
    "import math\n",
    "from collections import defaultdict\n",
    "import numpy\n",
    "from sklearn import linear_model"
   ]
  },
  {
   "cell_type": "code",
   "execution_count": 2,
   "id": "0e39c36a",
   "metadata": {},
   "outputs": [],
   "source": [
    "# This will suppress any warnings, comment out if you'd like to preserve them\n",
    "import warnings\n",
    "warnings.filterwarnings(\"ignore\")"
   ]
  },
  {
   "cell_type": "code",
   "execution_count": 3,
   "id": "bcdcf1eb",
   "metadata": {},
   "outputs": [],
   "source": [
    "# Check formatting of submissions\n",
    "def assertFloat(x):\n",
    "    assert type(float(x)) == float\n",
    "\n",
    "def assertFloatList(items, N):\n",
    "    assert len(items) == N\n",
    "    assert [type(float(x)) for x in items] == [float]*N"
   ]
  },
  {
   "cell_type": "code",
   "execution_count": 4,
   "id": "42a8d119",
   "metadata": {},
   "outputs": [],
   "source": [
    "answers = {}"
   ]
  },
  {
   "cell_type": "code",
   "execution_count": 5,
   "id": "84568759",
   "metadata": {},
   "outputs": [],
   "source": [
    "f = open(\"spoilers.json.gz\", 'r')"
   ]
  },
  {
   "cell_type": "code",
   "execution_count": 6,
   "id": "d4b15a4d",
   "metadata": {},
   "outputs": [],
   "source": [
    "dataset = []\n",
    "for l in f:\n",
    "    d = eval(l)\n",
    "    dataset.append(d)"
   ]
  },
  {
   "cell_type": "code",
   "execution_count": 7,
   "id": "043724ef",
   "metadata": {},
   "outputs": [],
   "source": [
    "f.close()"
   ]
  },
  {
   "cell_type": "code",
   "execution_count": 8,
   "metadata": {},
   "outputs": [
    {
     "data": {
      "text/plain": [
       "{'user_id': 'b0d7e561ca59e313b728dc30a5b1862e',\n",
       " 'timestamp': '2013-05-06',\n",
       " 'review_sentences': [[0,\n",
       "   'The author did an excellent job of making a very readable novel about the emotional lives of Hadley and Ernest Hemingway.'],\n",
       "  [0,\n",
       "   'The many other creative people interacting with them in Paris in the 1920s were very colorful and interesting too.'],\n",
       "  [0,\n",
       "   'She captured a wonderful snapshot of the 1920s in Europe--the men returning from war, the writing, the music, the art, the fashions, the eating and drinking.'],\n",
       "  [0,\n",
       "   'Mostly told from the viewpoint of Hadley, the book shows she was very attracted to Ernest who was extroverted, interesting, ambitious, and a gifted writer.'],\n",
       "  [0,\n",
       "   'Hadley had a sweetness, and more traditional values than some of their friends in Paris.'],\n",
       "  [0,\n",
       "   'They both came from families with domineering mothers and suicidal fathers.'],\n",
       "  [0,\n",
       "   'Ernest was still suffering the traumatic effects of his time in World War I. He was also very self absorbed, and hurt Hadley very deeply.'],\n",
       "  [0, 'Their love story spiraled downward as his career took off.'],\n",
       "  [0,\n",
       "   'I enjoyed this historical fiction about the five years of their marriage, and was sorry to see the book end.'],\n",
       "  [0, 'First read August 3, 2011'],\n",
       "  [0, 'Reread May 7, 2013 for a bookgroup']],\n",
       " 'rating': 4,\n",
       " 'has_spoiler': False,\n",
       " 'book_id': '8683812',\n",
       " 'review_id': 'd293fbf3512a0b05faffec43a7811c55'}"
      ]
     },
     "execution_count": 8,
     "metadata": {},
     "output_type": "execute_result"
    }
   ],
   "source": [
    "dataset[0]"
   ]
  },
  {
   "cell_type": "code",
   "execution_count": 9,
   "id": "23147241",
   "metadata": {},
   "outputs": [],
   "source": [
    "# A few utility data structures\n",
    "reviewsPerUser = defaultdict(list)\n",
    "reviewsPerItem = defaultdict(list)\n",
    "\n",
    "for d in dataset:\n",
    "    u,i = d['user_id'],d['book_id']\n",
    "    reviewsPerUser[u].append(d)\n",
    "    reviewsPerItem[i].append(d)\n",
    "\n",
    "# Sort reviews per user by timestamp\n",
    "for u in reviewsPerUser:\n",
    "    reviewsPerUser[u].sort(key=lambda x: x['timestamp'])\n",
    "    \n",
    "# Same for reviews per item\n",
    "for i in reviewsPerItem:\n",
    "    reviewsPerItem[i].sort(key=lambda x: x['timestamp'])"
   ]
  },
  {
   "cell_type": "code",
   "execution_count": 10,
   "metadata": {},
   "outputs": [
    {
     "data": {
      "text/plain": [
       "[{'user_id': 'b0d7e561ca59e313b728dc30a5b1862e',\n",
       "  'timestamp': '2012-03-13',\n",
       "  'review_sentences': [[0,\n",
       "    'The Grapes of Wrath is set during the Great Depression when times were terribly hard for the farmers in the Dust Bowl.'],\n",
       "   [0,\n",
       "    'Drought, inability to pay back loans, and the movement of large agricultural companies to take over the small farms all led to a bad economic situation.'],\n",
       "   [0,\n",
       "    'The Joads can no longer farm in Oklahoma, and they have piled their possessions on top of an old truck and headed down Route 66 to California.'],\n",
       "   [0,\n",
       "    'They are hoping for high pay picking crops, but there are so many workers heading west that the owners of the large farms are only giving them a pittance.'],\n",
       "   [0,\n",
       "    'People are starving and dying while the corporate farmers are in collusion with the police to arrest anyone who objects or tries to unionize.'],\n",
       "   [0,\n",
       "    'A bright spot is their stay at a federal camp operated by a New Deal agency that helps the migrant workers.'],\n",
       "   [0,\n",
       "    'They are in a heartbreaking situation, but near the end of the book, Tom Joad promises his mother that he will continue to fight for the less fortunate.'],\n",
       "   [0,\n",
       "    \"I reread this book for a class, and was impressed with Steinbeck's writing as much as when I read it years ago.\"],\n",
       "   [0, 'The characters seem very real in the story of the Joad family.'],\n",
       "   [0,\n",
       "    'The book brings to light an important part of American history in its portrayal of poor people in need during the Great Depression in the 1930s.']],\n",
       "  'rating': 5,\n",
       "  'has_spoiler': False,\n",
       "  'book_id': '4395',\n",
       "  'review_id': '8c15c6e6d6e2497f7caa5f6c8b73f9b9'},\n",
       " {'user_id': 'b0d7e561ca59e313b728dc30a5b1862e',\n",
       "  'timestamp': '2013-05-06',\n",
       "  'review_sentences': [[0,\n",
       "    'The author did an excellent job of making a very readable novel about the emotional lives of Hadley and Ernest Hemingway.'],\n",
       "   [0,\n",
       "    'The many other creative people interacting with them in Paris in the 1920s were very colorful and interesting too.'],\n",
       "   [0,\n",
       "    'She captured a wonderful snapshot of the 1920s in Europe--the men returning from war, the writing, the music, the art, the fashions, the eating and drinking.'],\n",
       "   [0,\n",
       "    'Mostly told from the viewpoint of Hadley, the book shows she was very attracted to Ernest who was extroverted, interesting, ambitious, and a gifted writer.'],\n",
       "   [0,\n",
       "    'Hadley had a sweetness, and more traditional values than some of their friends in Paris.'],\n",
       "   [0,\n",
       "    'They both came from families with domineering mothers and suicidal fathers.'],\n",
       "   [0,\n",
       "    'Ernest was still suffering the traumatic effects of his time in World War I. He was also very self absorbed, and hurt Hadley very deeply.'],\n",
       "   [0, 'Their love story spiraled downward as his career took off.'],\n",
       "   [0,\n",
       "    'I enjoyed this historical fiction about the five years of their marriage, and was sorry to see the book end.'],\n",
       "   [0, 'First read August 3, 2011'],\n",
       "   [0, 'Reread May 7, 2013 for a bookgroup']],\n",
       "  'rating': 4,\n",
       "  'has_spoiler': False,\n",
       "  'book_id': '8683812',\n",
       "  'review_id': 'd293fbf3512a0b05faffec43a7811c55'},\n",
       " {'user_id': 'b0d7e561ca59e313b728dc30a5b1862e',\n",
       "  'timestamp': '2013-09-03',\n",
       "  'review_sentences': [[0,\n",
       "    'Cecilia was looking for something in her attic when she overturned a box with a letter that would change her life.'],\n",
       "   [0,\n",
       "    'The letter was addressed to her by her husband, to be opened by her after his death.'],\n",
       "   [0,\n",
       "    'Cecilia had been living a happy life with her husband and three daughters.'],\n",
       "   [0,\n",
       "    'But the secret in that letter would change their lives forever--as well as the lives of other families in their Sydney neighborhood.'],\n",
       "   [0,\n",
       "    'Two other women figure prominently in this book--Tess is dealing with a damaged marriage and Rachel is grieving for her murdered daughter.'],\n",
       "   [0,\n",
       "    'This was an engaging story with multidimensional characters with no easy answers to their problems.'],\n",
       "   [0,\n",
       "    \"It showed how intertwined people's lives can be, and how a bad decision can come back years later to haunt us.\"],\n",
       "   [0, \"The Husband's Secret is an enjoyable page-turner.\"]],\n",
       "  'rating': 4,\n",
       "  'has_spoiler': False,\n",
       "  'book_id': '17802724',\n",
       "  'review_id': '7b645bb19ee897937fdfc1f2358e8778'},\n",
       " {'user_id': 'b0d7e561ca59e313b728dc30a5b1862e',\n",
       "  'timestamp': '2015-04-05',\n",
       "  'review_sentences': [[0,\n",
       "    '4/6/15 Reread for book group, and enjoyed it again.'],\n",
       "   [0,\n",
       "    '5/13/14 The Storied Life of A. J. Fikry is a tale that will charm book lovers and book sellers.'],\n",
       "   [0,\n",
       "    'A. J. Fikry is the depressed, recently widowed owner of an independent bookstore on an island off the coast of Massachusetts.'],\n",
       "   [0,\n",
       "    'His sales are down, and a valuable first edition book has been stolen.'],\n",
       "   [0,\n",
       "    'His life changes when someone leaves a precious bundle in the bookstore for him.'],\n",
       "   [0,\n",
       "    'The setting is wonderful--a quaint little bookstore full of good literature.'],\n",
       "   [0,\n",
       "    'The author weaves in situations involving the book-selling business, book clubs, and a humorous author visit.'],\n",
       "   [0,\n",
       "    'Each chapter is prefaced by a letter recommending a book, usually a short story, a way for A. J. to pass down his love of books.'],\n",
       "   [0,\n",
       "    'The story is heartwarming, humorous, romantic, and sad with a bit of a fairy tale feel to it.'],\n",
       "   [0, 'I was sorry to have this engaging story come to an end.']],\n",
       "  'rating': 4,\n",
       "  'has_spoiler': False,\n",
       "  'book_id': '18293427',\n",
       "  'review_id': 'fc586e857dd9835a810dfdb2cc948778'},\n",
       " {'user_id': 'b0d7e561ca59e313b728dc30a5b1862e',\n",
       "  'timestamp': '2016-02-10',\n",
       "  'review_sentences': [[0, 'Anne Morrow, the quiet daughter of a U.S.'],\n",
       "   [0,\n",
       "    'ambassador, was thrilled to be invited for a plane ride piloted by Charles Lindbergh.'],\n",
       "   [0,\n",
       "    'He was a famous American hero after his solo flight across the Atlantic Ocean in 1927.'],\n",
       "   [0,\n",
       "    \"After they were married in 1929, Charles brought adventure into Anne's life as she earned her pilot's license and flew as co-pilot on many important flights with him.\"],\n",
       "   [0,\n",
       "    'But their marriage was far from ideal since Charles was very cool and regimented, always wanting to be in charge of any decisions.'],\n",
       "   [0,\n",
       "    'After the tragic kidnapping of their first baby, they had to cope with their grief while being dreadfully hounded by the press.'],\n",
       "   [0,\n",
       "    '(The book made me think about the pressures of always being in the public eye during difficult personal times, and brought Jacqueline Kennedy and Princess Diana to mind.)'],\n",
       "   [0,\n",
       "    \"The story shows Anne's emotional journey through a challenging marriage, and the childhoods of their children.\"],\n",
       "   [0,\n",
       "    '\"Charles Lindbergh, the hero\" was a different man than \"Charles Lindbergh, the husband and father\" who often neglected his family.'],\n",
       "   [0,\n",
       "    'As Anne reached middle age she learned to create her own happiness, and find her own voice as an author.'],\n",
       "   [0,\n",
       "    'Melanie Benjamin really brought Anne Morrow Lindbergh to life in her well-written book.'],\n",
       "   [0, '\"The Aviator\\'s Wife\" kept my interest all the way to the end.']],\n",
       "  'rating': 4,\n",
       "  'has_spoiler': False,\n",
       "  'book_id': '13642950',\n",
       "  'review_id': '356fcfd0ab47346e1cd5304f3ea5c9d2'},\n",
       " {'user_id': 'b0d7e561ca59e313b728dc30a5b1862e',\n",
       "  'timestamp': '2016-05-29',\n",
       "  'review_sentences': [[0,\n",
       "    'During the time of the Gautama Buddha, Siddhartha goes on a journey in India to experience spiritual enlightenment.'],\n",
       "   [0, 'He lived as an ascetic with a life of self-denial for years.'],\n",
       "   [0,\n",
       "    'Then he lived a life of pleasure, learning the art of love from Kamala, acquiring possessions, and gambling.'],\n",
       "   [0,\n",
       "    'He then renounced that materialistic life, and took up a simple life as a ferryman.'],\n",
       "   [0,\n",
       "    'Siddhartha felt that every person must learn spirituality from their own complete experiences.'],\n",
       "   [0,\n",
       "    'As Siddhartha listens to the river, he feels connected with everything in the world in a timeless fashion.'],\n",
       "   [0, 'The story was an interesting look at Eastern philosophy.'],\n",
       "   [0,\n",
       "    \"Spirituality seems to have played an important role in the author's life.\"],\n",
       "   [0,\n",
       "    'Hermann Hesse was raised in a missionary family and educated at a Pietist (Lutheran) seminary in Germany as a child.'],\n",
       "   [0,\n",
       "    'Later in life, he studied Eastern philosophy and wrote \"Siddhartha.\"']],\n",
       "  'rating': 3,\n",
       "  'has_spoiler': False,\n",
       "  'book_id': '52036',\n",
       "  'review_id': '85688d9b5c4db6f96161e391d4c4eab7'}]"
      ]
     },
     "execution_count": 10,
     "metadata": {},
     "output_type": "execute_result"
    }
   ],
   "source": [
    "reviewsPerUser[\"b0d7e561ca59e313b728dc30a5b1862e\"]"
   ]
  },
  {
   "cell_type": "code",
   "execution_count": 11,
   "id": "742587d2",
   "metadata": {},
   "outputs": [
    {
     "data": {
      "text/plain": [
       "['2012-03-13',\n",
       " '2013-05-06',\n",
       " '2013-09-03',\n",
       " '2015-04-05',\n",
       " '2016-02-10',\n",
       " '2016-05-29']"
      ]
     },
     "execution_count": 11,
     "metadata": {},
     "output_type": "execute_result"
    }
   ],
   "source": [
    "# E.g. reviews for this user are sorted from earliest to most recent\n",
    "[d['timestamp'] for d in reviewsPerUser['b0d7e561ca59e313b728dc30a5b1862e']]"
   ]
  },
  {
   "cell_type": "code",
   "execution_count": 12,
   "id": "bb364612",
   "metadata": {},
   "outputs": [],
   "source": [
    "### 1a"
   ]
  },
  {
   "cell_type": "code",
   "execution_count": 13,
   "id": "991fbe6a",
   "metadata": {},
   "outputs": [],
   "source": [
    "userAverages = {}\n",
    "itemAverages = {}\n",
    "userAverages1 = {} # Skips the last entry\n",
    "itemAverages1 = {}\n",
    "\n",
    "for u in reviewsPerUser:\n",
    "    rs = [d['rating'] for d in reviewsPerUser[u]]\n",
    "    userAverages[u] = sum(rs) / len(rs)\n",
    "    rs1 = rs[:-1]\n",
    "    if len(rs1):\n",
    "        userAverages1[u] = sum(rs1) / len(rs1)\n",
    "\n",
    "for i in reviewsPerItem:\n",
    "    rs = [d['rating'] for d in reviewsPerItem[i]]\n",
    "    itemAverages[i] = sum(rs) / len(rs)\n",
    "    rs1 = rs[:-1]\n",
    "    if len(rs1):\n",
    "        itemAverages1[i] = sum(rs1) / len(rs1)"
   ]
  },
  {
   "cell_type": "code",
   "execution_count": 14,
   "metadata": {},
   "outputs": [
    {
     "data": {
      "text/plain": [
       "{'b0d7e561ca59e313b728dc30a5b1862e': 4.2,\n",
       " '025f6535878e5bb486ac3869e3c6e35a': 3.5,\n",
       " '3037e45de740da82703e55a19f94cfbe': 3.75,\n",
       " '9c0d9df5cf36d370f6e3945ebe95fd57': 5.0,\n",
       " '34e83c43b312a8613706367c32df26e3': 4.166666666666667,\n",
       " 'ba35836a9e86f764f28b61c8dbc8fe01': 4.25,\n",
       " '5d6e554bc8961d4464d64c0184c88936': 4.0,\n",
       " '510b63e8bbdf635b13e8932fd67be15a': 4.75,\n",
       " '6079cf8b963518fdf7539a289e72e5b6': 3.3846153846153846,\n",
       " '50e049989a18928611fd83d1209bfed4': 3.9,\n",
       " 'f115dc148ad8536b6fbc38abf48da61e': 3.8333333333333335,\n",
       " '1fc58f53eb67bcf6c78af62087697449': 4.3,\n",
       " '2334fbd037bdac2509f55ac2c4ed5def': 3.75,\n",
       " 'aca892063124d76e701c739cc6348f00': 4.833333333333333,\n",
       " 'c3fad585250f725cd9cb4271164d4469': 4.333333333333333,\n",
       " '0ec6d7cbf7fd22a6bc82c7d3a5215e4e': 4.4,\n",
       " 'dfee8ffe6c324e786f6648f4e8dec6fe': 3.0,\n",
       " 'b4f502353837efb1a799e5499a713682': 4.0,\n",
       " '4e123830b00d61a272259cd581340f2f': 4.066666666666666,\n",
       " '9e72362bebbdf3fe75790a8c4a44aba7': 4.0,\n",
       " '1b2bad2d45d3cd4298d368664c40150a': 4.0,\n",
       " '042ec3a109146c8e288a9ef0b1b89659': 2.888888888888889,\n",
       " 'a118e7979d6f3f607553a95629d829c0': 3.625,\n",
       " 'f1e10ca86497053f31e86ebad4244e27': 3.3333333333333335,\n",
       " '9ed8051972bca430be7d2e8127c15230': 3.0833333333333335,\n",
       " 'ef8d64749dc4413ce9d81d46e82714d5': 3.888888888888889,\n",
       " '6d6a6ba2779f001b7ea3456a22234ed5': 3.8,\n",
       " '8522eba1011e52d7672f9d9aeccc044c': 4.0,\n",
       " '224b81c0119491d6138ec5a47dfa93e8': 4.333333333333333,\n",
       " '0c2b160d87e86f1311db37ea87c4c04e': 5.0,\n",
       " 'e5b8484675a71252dd0ae7629dcfd203': 4.529411764705882,\n",
       " '2996e63c7181abb975463446ef76cb4e': 4.0,\n",
       " '819a7290e0adda6e3db60e5f61358747': 2.6,\n",
       " '96e96cf938ca0a79c4391d64b55b13b9': 2.888888888888889,\n",
       " 'f71bdd27f61ce809b25a050f090e9bdf': 4.666666666666667,\n",
       " '122d7599179f65c9784e290fdc75a19a': 5.0,\n",
       " 'd90d0a94e4e63c21df6a82726c94aaaa': 4.142857142857143,\n",
       " 'ec300511949e284c86af098257a2a522': 3.6,\n",
       " '42f0a7cb849df52c7b4950ce0a5bf876': 3.3333333333333335,\n",
       " '0aae2cf2022259400ae63632e08ec235': 4.0,\n",
       " 'af93adfd572720789f44e8ebb28c37a0': 3.0,\n",
       " '0e1cb8be0c878229d505fda2bb94e085': 1.0,\n",
       " 'ba0fc22967bebdaa02ce36182680d024': 4.0,\n",
       " '2ee3e83fce3d5d0c71e996afb356bf47': 4.5,\n",
       " 'c3ec1ea0f591ebd42dee602b9d8f7a08': 4.333333333333333,\n",
       " '375214913366ffc76283f5911f4d657b': 4.833333333333333,\n",
       " '017619f3daea3c2382652fc71cc3b3d7': 4.5,\n",
       " '5028c1fc19bb6a037e71c8e38c64b1d3': 4.0,\n",
       " 'ba953abffbe8528d2e6a2d1d21cdf595': 3.6,\n",
       " '1a562ca226aed9b00af540dfe63893e1': 4.666666666666667,\n",
       " '1039ff90328ab719cf5477fe61037d42': 3.5,\n",
       " '1401322ab98562b7193e986244697dfb': 4.0,\n",
       " '7b9c93203e17641d11d7ff000d341ca9': 4.285714285714286,\n",
       " '7878e400e52a7521e62442bf65c4c002': 4.0,\n",
       " 'c5cb97b35fe3ff680b95e741dfc8d13b': 3.25,\n",
       " '9c271906ecc43e188502d478e10c7c00': 3.4285714285714284,\n",
       " '882231374d12e82c0805467bf625cb25': 4.5,\n",
       " 'e63e4d09c60967d37407db00445f8415': 3.75,\n",
       " '05404f03966d297d7492d2b999e151d8': 5.0,\n",
       " '6b65584e675591ec3df0d2737bf3cd69': 4.4,\n",
       " 'd13b598d674c7879ce3b978f499cd07a': 3.5,\n",
       " '34216df2a5f3846b17e3f96bea6c2ad7': 4.75,\n",
       " 'e4b1b522a7f954ecd890095048f317dd': 3.25,\n",
       " '2d58664f983e421f4f3aa3ce8bdd7949': 4.333333333333333,\n",
       " 'b84721a512f5d9df824f059f0a1e50bb': 4.5,\n",
       " 'b99aab24e0c98728c795c5d1acdff06b': 3.8461538461538463,\n",
       " '5eba91b6f073f1d713bcf099b6aad88e': 3.3333333333333335,\n",
       " '95f3b0f0a4723265a1f13f3640b21f13': 4.875,\n",
       " '60774fe001fdb7bb551d8db8a244d392': 2.923076923076923,\n",
       " 'f988bc378771d280c10d81e1aeb49a0f': 4.0,\n",
       " 'd3be269521fdca3c8366b20182ab683a': 3.0,\n",
       " 'd3f297619523447003b08dae5f4bc733': 4.0,\n",
       " '693e2043d842df40888557074e423a1d': 3.3333333333333335,\n",
       " '6799978556d2693940a793986a1dabf5': 4.333333333333333,\n",
       " '7833c57d92c6a3230c604a3158db815a': 5.0,\n",
       " 'fbebf6e12548a04439945b7ec9c0fdfd': 5.0,\n",
       " '2c5f45b30d3cfc0e53dedf7a9b7446de': 4.0,\n",
       " '82383aff59ee37c0a01d8326604f21e1': 3.0,\n",
       " '544116420afea2ecd3f96287826fe9ef': 3.6,\n",
       " '3d4de41c64dd9f0ed80990b18d07fc43': 2.0,\n",
       " 'c8318ae9350f2ab7c59f36720ab2ec6a': 3.8,\n",
       " '132ed5c6d7954dadc603973f20cfaaa5': 3.4,\n",
       " '2e9db2eed4ada149ef3fe6b9256c7e8b': 4.0,\n",
       " '6a223cdbf6395b957aac85607dafb91a': 4.333333333333333,\n",
       " '12d9862e1bd65113eddd27a0a11ae253': 4.0,\n",
       " 'cca791aaec9d57a183d961e0aee72208': 5.0,\n",
       " '107da0a62852c1c32e35872e310c8aeb': 3.8,\n",
       " '515c4a047e2bc9d95af021469288de08': 2.5,\n",
       " '1bddb330948afd231e89f5bc6eb84e8a': 4.5,\n",
       " '659f9b2befeae80c75a5fe143716d077': 4.0,\n",
       " '378a1cd3adecdf974cd54956da25eb12': 4.142857142857143,\n",
       " '52c71887d90b2f8ee83233624f579fbb': 1.75,\n",
       " '7e7df90b3eb0e7eabe010f4ecd429418': 4.166666666666667,\n",
       " '96ba166d96b45e6250d4dbdc4aef78d8': 4.4375,\n",
       " '7f217176800c264da773f1d64e2e0f1a': 3.6666666666666665,\n",
       " 'a0f53b30c058946433bcc386d261776b': 4.333333333333333,\n",
       " '845b1553dad76b275cb747aefe08cefd': 4.666666666666667,\n",
       " '56f187caf5b325e33cdad408d07db342': 3.7333333333333334,\n",
       " '65b05f124de8e181e148833b2ebb1f3b': 2.6666666666666665,\n",
       " '51339766de23207eebdd4ec0be76c7c3': 2.888888888888889,\n",
       " 'e02aad86c0106ca4429701358c1d3d34': 5.0,\n",
       " '04d58f0fa24cf4d5940748263b19d05d': 5.0,\n",
       " 'e4fcefa1d575fc76a1b931970d071d94': 3.0,\n",
       " '16d000d7ba3b8d34ab44d15469af2f60': 3.4,\n",
       " '1560f9e5cc1fdcc5812c3d933a74149e': 3.6666666666666665,\n",
       " '024bab6b518b5593131eebe65c6511e5': 5.0,\n",
       " 'ed6dcf4c14ab57e857851f22039433f9': 3.75,\n",
       " '7b7e92401399b62e5f6ca5bcacd70941': 3.0,\n",
       " 'efa8715473c319521e1d3d73b1806253': 4.0,\n",
       " 'd2bb3aaa4e7d81943c2dc3067f628508': 3.642857142857143,\n",
       " '8e4573b94871e75398528196a9f39dff': 4.333333333333333,\n",
       " 'f0c26bf31a8b0b5f6d886668c4598026': 4.4,\n",
       " '30ca8e018827483552f3b666a69eb07f': 4.25,\n",
       " '8d8595904838cec09da1a61375128fba': 3.875,\n",
       " '114d8821adeb988a240b9ec4c68078a0': 2.6666666666666665,\n",
       " '23ff856934a5ed25418e8cac8ebff503': 5.0,\n",
       " '82c1e13f9c8377779847dc68834033c8': 4.0,\n",
       " '5480ef888c2a7b89636e0811514ffc9c': 4.6,\n",
       " '69d6de82682308ae18acf638799094f5': 4.1,\n",
       " '3c96e9907906e7dd07b645fb7d3c75ee': 4.5,\n",
       " '11e392382b2f37e0489b43d63f8cdea0': 4.0,\n",
       " 'cdfc2a9f0a6edbbef25e68776e416868': 4.125,\n",
       " '0c268ebd6cff02712e14a289d2be2a41': 3.888888888888889,\n",
       " '86c50170b8acde454c645ade35f24d78': 3.066666666666667,\n",
       " 'b8a3e4eef7ae2d45bb6c7357a1dba725': 4.5,\n",
       " '2cb105639add13b67a31306515284ad0': 4.4,\n",
       " '05ba51360a98b56789e8493024d6fcff': 5.0,\n",
       " 'ffbf525357e96614c4b9ee613aa95caa': 3.25,\n",
       " '9174d5b98264d40b2155b6061657ed54': 2.0,\n",
       " 'e7cca3ed9742458934b3ea4259e67e4b': 4.0,\n",
       " '8cc35e27badbd27fa1d36a223bf9b1f2': 3.3333333333333335,\n",
       " '4d36b6df3ed43a785a0032cf41cc75a1': 3.6666666666666665,\n",
       " '5d2be99b96eb02ef220e928eaef56860': 4.666666666666667,\n",
       " '0e96652b15f1e5e0fa6399b0e64c263d': 1.3333333333333333,\n",
       " '387cffb55b896c27fe5d80e51ae3fd04': 4.142857142857143,\n",
       " '17d65e14de983ab88d3e7445f11863ca': 3.5,\n",
       " '8466e38c9ddd0396311d41e7f49d8307': 4.571428571428571,\n",
       " 'a82948b20b7e591085d105afe4d3d0f2': 4.166666666666667,\n",
       " '7f1fe16a1878c1bfffcac3a58f970913': 4.571428571428571,\n",
       " 'acf5da85bc2bb6c7f5f1ad492e29ac2f': 4.5,\n",
       " 'b20ed4e640cff54daa803cdea01b3b58': 4.833333333333333,\n",
       " 'aca0327d89562cdd6354639598737b5c': 4.0,\n",
       " '5f2ab1bb7faf49eee463cc95f9b7b359': 3.5,\n",
       " '575bb6b3dda1dad202627e2d571c4508': 3.6,\n",
       " 'b324ad51676ee36fb6d1a0a07a495e77': 2.6363636363636362,\n",
       " 'b3aa01a6227304cd2cd51b3ffa9eb916': 3.0,\n",
       " 'a815249ed2cb05bfecd2ec1aa47e80f1': 4.0,\n",
       " 'dde8fd03ce844e4e7c7c55232b596902': 3.4,\n",
       " '6048982eee8b84600acf1e15fec5961b': 3.142857142857143,\n",
       " 'eefce2af5af2030d503a167a9c0e7589': 4.714285714285714,\n",
       " '637f4e8d4658d140584b2cdbd75387ae': 2.25,\n",
       " '0ec225fcaef73e6b1a2eab7c7f3e1f13': 4.833333333333333,\n",
       " '253bc3401cf498a59caa919184826a4a': 4.090909090909091,\n",
       " '50c6444411eeced02e89173941e6f2f2': 3.6,\n",
       " 'b6a6fc3f9a10caa5df18c39fcd34a9a5': 4.0,\n",
       " '179f96ae72a3585bd270b31b96c04406': 5.0,\n",
       " '7538ee8f4bd2e982295a07c9ba8cf933': 4.0,\n",
       " 'bcfc0375ea845f4b7beb4ebf674adb38': 5.0,\n",
       " 'f18e9a17737c79e96b197362451c1610': 3.2857142857142856,\n",
       " 'c184262f89a02aa9e351e784821d326f': 3.5714285714285716,\n",
       " '8471e9242b18357a4e15b14a8d1526f2': 3.0,\n",
       " 'fd2ba2e6e222b020e9f0d97d2b60d89d': 3.5714285714285716,\n",
       " '2c8a8a1423d777d9e924d0be9fae9904': 4.333333333333333,\n",
       " '70bb4724bbc13a8d5ff0954b79c5d4ad': 4.2,\n",
       " 'c13302dc602ec61113f796c2b5068b73': 5.0,\n",
       " '0756acf3bc69631858f888220c980a6a': 5.0,\n",
       " '5e32c18955ecad68dfd36d76c97a3cfc': 3.6666666666666665,\n",
       " '53be49429de87c27dba1b748ca746d02': 3.0,\n",
       " 'fd0c1c59ca436b650137805d80ea64b8': 4.0,\n",
       " 'ac988bdfd300af22bf26586ff64971e0': 4.166666666666667,\n",
       " 'e776c780ee13228f54d634ebb8cb1ecf': 4.0,\n",
       " '923414df4e66ca9339902adb5c6a3db8': 4.0,\n",
       " '9adf5413d7cc99ce8c7723b4f1b1e4aa': 4.571428571428571,\n",
       " 'e01b59c32cb6c29afa5a35403fd8ab1c': 3.5,\n",
       " 'ce28ab287c6338557c659d5bfa20fe8a': 2.6666666666666665,\n",
       " 'da65bb1302210984b69a2236014a6063': 4.0,\n",
       " '785d9ac97b87aebef15d20a6e3d11ae9': 3.6363636363636362,\n",
       " '1b168bdcb38d2afd9cbfd7acd8a90f75': 4.0,\n",
       " '07ae415dce502be729c12bf44ec28c75': 3.5,\n",
       " 'cc4a741572692496a71eee7d7ee66b95': 2.727272727272727,\n",
       " '81f3c60e5cf338feb69cd353fa39ce47': 1.0,\n",
       " '130f64d145cb6c86c344f795252713f1': 4.5,\n",
       " '98993c1e4d167be9a44a0f83c0b342dc': 3.4,\n",
       " 'cb5d8dde2594cc72281d63a727ab3f63': 4.5,\n",
       " '6be0a20adc4040e2ca3b17c33db48ae6': 3.2857142857142856,\n",
       " '321577c45894e30e66d2c4d7edc78bc6': 3.0,\n",
       " 'e9decb6ba786ca17bf66a7cfb94bac22': 3.888888888888889,\n",
       " '65406e4ce07a1e1cb0037767a2d1c961': 3.75,\n",
       " '8dc5aacfccce2287825d53e045fc9b64': 4.571428571428571,\n",
       " '3a50d6c6c3c0be86ae166eaa5b4b2b82': 4.3,\n",
       " 'fff3a250fbc018ad2c2c2d45c86734da': 4.333333333333333,\n",
       " '24ba883b01e330a00bc5df42610490c4': 4.5,\n",
       " '8f8904b4fc3b6d2c577420a3ad5af121': 3.2,\n",
       " 'f92981e29c415ac0ce8f326881179eec': 3.0,\n",
       " 'ad25063356088da18a49625e1a5aa590': 3.1666666666666665,\n",
       " 'be4c3209e646873a212218ac4a5ed667': 2.3333333333333335,\n",
       " '7407685b547e0a2dbda37c48b391b640': 3.4,\n",
       " '8cc50d8bffb8a530d64e4d2669fc8c77': 4.5,\n",
       " '38f8f0e646c9b25053feb291fea3520a': 5.0,\n",
       " 'b0ed09d14a462cb2d27327b87edf6f68': 3.0,\n",
       " 'e219effbadcf589e6ca07096ca923344': 2.5,\n",
       " 'fc18cfc845e161e9a7e2794014111875': 3.5,\n",
       " 'b86ccbc2c2a265b605b827a9f5f9aecb': 3.6666666666666665,\n",
       " '718b567507be85b2725184ad20fda10b': 3.6666666666666665,\n",
       " 'f63f5d9c7ae229d3d709769a53df6a90': 4.166666666666667,\n",
       " 'c1aba9f60a0aca9cdce48cbb9cef5848': 3.125,\n",
       " '9a778454aca0e18026a858f360c4ec47': 3.142857142857143,\n",
       " '74c8a9f3896f024983aafbe0d54af81c': 4.666666666666667,\n",
       " '630f1c10f4e76be80e44500189d28ad0': 3.3333333333333335,\n",
       " '61a916c50def2c66d2fb2391772edd73': 5.0,\n",
       " '1b18066225e1461456bebb25a0c74a57': 3.8333333333333335,\n",
       " '68f9915717ccc347b5f46f1b11ec40fe': 4.181818181818182,\n",
       " 'c2d1ff579c1e19e72b90ebbf21daf149': 4.25,\n",
       " '37facb1ced381310ca9b50955540af0d': 3.2,\n",
       " 'ab19e0f15d09cceec1e18018dfd481f6': 3.5,\n",
       " 'bcf981fd6736d4f12aeaf6b4861f8202': 4.0,\n",
       " 'fdf15c8ca619122b6c97bca3b0e0c821': 4.4,\n",
       " '97a6daab0f3afd0ff00a300ce49afe8a': 1.6,\n",
       " '9db1fd33657796dfee932f86f7b43c2e': 3.142857142857143,\n",
       " '8c7baee9d81487e14172303ea23a2b0c': 2.3333333333333335,\n",
       " '7a60081065811133782e4ee9db3b686f': 3.6363636363636362,\n",
       " 'd037f700c44eaf24d313bd997643abac': 3.7777777777777777,\n",
       " 'e498e5c25393265b0d416fda4958bc20': 5.0,\n",
       " '5620ccc84e96b0e1458ade64070bebc8': 4.1875,\n",
       " 'b31840e0371ddbe889be6be2fe11ae30': 3.25,\n",
       " '84e34b0dff4f10d921b4a4f6cc2d2818': 3.0,\n",
       " '607f7cfca04b84df53cd7f2117a0164f': 3.5555555555555554,\n",
       " '56681fd045b91f9c0f04ce7940354356': 5.0,\n",
       " '388f504792976c4ed8fb140fe7e33134': 4.5,\n",
       " '3af7e1cda1d80d6a6d73e06eab301368': 3.0,\n",
       " 'd8d8990a10b999c57d6e60da0b015abe': 4.0,\n",
       " 'fa2dd4ec25a7de4fc59bb6137096d415': 4.0,\n",
       " '3bdc080639f0573ac32819b798f1be2c': 4.5,\n",
       " 'fbe583693fadce9a06204023309f8b97': 2.8,\n",
       " '792500e85277fa7ada535de23e7eb4c3': 5.0,\n",
       " 'f525acb072de98388500abb857c63821': 5.0,\n",
       " '1ca1932e6b06168b345b26c964a7031d': 4.5,\n",
       " '34ce3d9df787e38a2e32d64dc40da28e': 3.3333333333333335,\n",
       " 'db5b62015a31365cc107076df2289bc1': 4.333333333333333,\n",
       " '65dac923d96ed9e0e3667dd9850d16be': 4.0,\n",
       " '2f7b1e4f0a2508b243bc055f6398fce3': 3.6666666666666665,\n",
       " '5e3837ae7999bdbc76dab9d5be98306d': 4.0,\n",
       " 'b6c57fb523a9c8d0242d0286a229d690': 5.0,\n",
       " '6c159ebe8113c6e9f2545773692833dd': 5.0,\n",
       " '99c56237bbbd2c9affb5027c5c369ef5': 4.0,\n",
       " 'af538fe5f6aba0a0656d1d6a0454b184': 3.7777777777777777,\n",
       " '6570ef5cddc26934c8bed5fcec22c4b1': 4.428571428571429,\n",
       " 'e0e7c5393a2804aebd3ff8ee6ccda68b': 3.625,\n",
       " '79037622a8cb6dcc6dd8b617c70c1301': 3.2857142857142856,\n",
       " '617487d3ad615a777505246c54cdee83': 5.0,\n",
       " '37d8353490e210e2b3766336be99ebd4': 4.0,\n",
       " '63622ca05d381b35f373db93ce37cbb9': 4.0,\n",
       " '5b2d1a2a17c6a18c52d92b93e1a6edcc': 2.5,\n",
       " '58f7d3af14dfa25acd9ec029fcc43bec': 3.3333333333333335,\n",
       " 'e5645006eb9dc54b37c742ec842e3ec9': 3.4285714285714284,\n",
       " '466d87da9ff4b1319c64a77aa3e07d3f': 4.0,\n",
       " '166ca8aac766ea115166001b67b6ab46': 4.0,\n",
       " '9f81af8a02674ca4ce751f3464d3b1f9': 3.6666666666666665,\n",
       " '1e9698f39e8a69db0f93ffc7133c3fb6': 3.3333333333333335,\n",
       " '2286392473c3299d8e781ad0456ec360': 3.857142857142857,\n",
       " '7ec2645533605fa80e649d550fe14a1e': 3.75,\n",
       " '5c0a76a445829482c8bbc8243734795a': 3.357142857142857,\n",
       " 'f986c213af3348660c6143a42a77f0fc': 4.0,\n",
       " 'bcd17fcaa6763961ebd8fdb5bef54b9a': 2.75,\n",
       " '4566896fea05322edef141170d329f1f': 3.4,\n",
       " '5e2b66699819825a5779ebd11a374bba': 3.8,\n",
       " '2cf1996d790ea8678f748448d9e9e3d4': 2.3333333333333335,\n",
       " 'b29933e5dd7eef3b6cc3eb2ac4be48a1': 4.0,\n",
       " '1eff095a882bd44ee4c6ea1055823b0e': 3.8,\n",
       " '059f12db0f67b39ca212ddfd2b903814': 5.0,\n",
       " 'a01b0bc226e19047be99dcd2dd11190b': 3.75,\n",
       " '6419373900de79cdce3d61f386cda66d': 4.5,\n",
       " 'b00c1d9dc54763b9b365b54dc68485f8': 3.5,\n",
       " '172a7b055bef1ce3d500ed93ff23077a': 4.0,\n",
       " '1fa746cacb7fbcaa2f4184edd6f18e36': 4.0,\n",
       " '1e4bc3467ddf378b3ca0c1399bcfdb1c': 3.75,\n",
       " 'd969504b4cf1ee31f84d0e650a988fc0': 4.5,\n",
       " '5be325adbb61fb9d27b4264f6c8737e9': 3.0,\n",
       " '4c10e22b689513070e95a7f07f6b387c': 4.166666666666667,\n",
       " 'd2a37fc21cdeef2e65a1dea4e467f677': 2.75,\n",
       " '887eeda87a848c7119be8209b0bcadb9': 3.0,\n",
       " '2edbb0dcf49ad138ef79bd6b5f4ba390': 3.75,\n",
       " 'a6b16ffba79873bf733e18f22999671d': 4.5,\n",
       " '6a88925e1ca56d8845518deb00db068f': 4.166666666666667,\n",
       " '151bd68492cdea380d1b816aa01ece88': 5.0,\n",
       " 'cdc18146a5d9c120dc2411027d0bef90': 4.45,\n",
       " '3f2b5a47ad86527881bdb47c38ebb232': 4.666666666666667,\n",
       " '3ffe42a4ad71cb54553f0e2976aa22c2': 3.6,\n",
       " '43cf26c88890d0a26570a25174f9951e': 5.0,\n",
       " 'bfb073eeb119dedf3d0b5fa185ac433d': 3.5,\n",
       " '4a1519ab12f64db1665c5588db8c9175': 3.5,\n",
       " '3b0f36de9517c3dd10497f25c3785fc5': 4.666666666666667,\n",
       " '93a24a3546f4ac0fe41c03b3658f8eb7': 1.8571428571428572,\n",
       " '60982541be85a0611e9634b4f63d0cb0': 3.6666666666666665,\n",
       " '213ebbd84be50e1c88353ea4d17c2e70': 3.6666666666666665,\n",
       " 'c44c7a0573c3528c29c62ba46b524210': 3.0,\n",
       " 'bc4bb74905024aa5fe6e51be189e7d00': 5.0,\n",
       " 'd9a9de30a809afbad99ea4a3e09ce26a': 5.0,\n",
       " '3a1d154acd9d2d34c6d66b0a1106a0d1': 0.6666666666666666,\n",
       " 'c616bb2836e07560645b34e580697e37': 4.0,\n",
       " '6478d1ff3d540bad79cb7976b6bec8fc': 3.0,\n",
       " 'ae9b5788d1dccd3348ed80c630e366f3': 3.5,\n",
       " '294e23cfa74d6483f9e147297fe9ff91': 3.0,\n",
       " '2f3ca86286ff11323a4b5da1623bbe71': 3.5,\n",
       " 'f0ca61f7de3ba5f7e9a71b77d7a9d0df': 4.5,\n",
       " 'fe7d2f1ecc244521ef709c1e7e8cfadd': 4.0,\n",
       " 'ac4d53ce9cb31d5035cf1d7c2e0904e5': 3.5,\n",
       " 'b012ddad3df33ae31b180d0b70095b42': 3.0,\n",
       " '53907aa17a189b08b4fd7f079671513d': 4.0,\n",
       " '885f07bf80f531393c66e29f2a586cb0': 4.0,\n",
       " '7e96e00eb09913d2143f277c7e5edbfe': 3.875,\n",
       " '2a0bca8d74bf6811e6c44df3f8ea0761': 3.7142857142857144,\n",
       " '08aac3573887ae0086dc873cc8ba9837': 3.0,\n",
       " 'c83badc93e7496747ef65bd1ae524904': 4.2,\n",
       " '8b786e4edcca01516ad3502637235e6c': 4.625,\n",
       " '66a3c1eae2597bb573ab99c7dd80c670': 3.0,\n",
       " '16ac89b02e0a5b4119867b17fe061ef0': 5.0,\n",
       " 'e758f11e486c998e5f17f10fa0fdf6fe': 4.333333333333333,\n",
       " '6f769796f173a2c9b56d098684dca92c': 3.3333333333333335,\n",
       " 'dd45c639feef9041ef3545c7082272f1': 3.6,\n",
       " 'b03ab9ee719d2d71b5609f66e579c6f5': 4.0,\n",
       " 'c822cdfb64614becfa6fc1d335a95048': 2.5,\n",
       " '0bfca57f3fed09a11172e689931181e5': 4.0,\n",
       " '98d8780d1e98c68b518d3c842055e10b': 4.4,\n",
       " '60a4a11edb6fa12b4f265a6b4fd4fc4a': 3.8333333333333335,\n",
       " '6caeea1315643facc28258d498c130f8': 4.0,\n",
       " 'bf0107e8f7219d77d86341d817231cfc': 4.25,\n",
       " 'fd9f1a5633c1c62cee180cee39413765': 4.333333333333333,\n",
       " '26530b06f3f51ebe29fa338eeb5f76ab': 4.5,\n",
       " 'ef44e0bd2812ed304d17d5f8bdb99826': 3.0,\n",
       " 'f1a1c7c28803239af9a835a471f8bfb5': 2.5,\n",
       " 'cb8601a6475252525bd1f520d5cb3417': 4.4,\n",
       " '306003679162f088fe27eed465400e98': 2.0,\n",
       " '495f507dd1594cfe555534c44b05e937': 4.666666666666667,\n",
       " 'e6f36b3562a8b8c216565c426632c93e': 3.3333333333333335,\n",
       " '17856e0571acf74a67a9119521d2b4e1': 3.0,\n",
       " '53b16e76f4ed9dad5bcbfe6c5414060b': 4.666666666666667,\n",
       " '98a65fb1c85854f0321bb0e36a96e00b': 4.666666666666667,\n",
       " 'd168460e846f8f55abc856beaa22651f': 3.8333333333333335,\n",
       " '49fe426df86d5d22e2d5eff3c12d9b1f': 5.0,\n",
       " '1335ad7d85ef35dc8d2ecd76dfc2f514': 4.0,\n",
       " '9a1286fc9fe6f448e1e7ea8f05451e19': 3.0,\n",
       " '4037713954a3f54c7534b3552a1b3bc1': 3.6153846153846154,\n",
       " '264da73db6bc22a97826cadb4de24d6d': 4.777777777777778,\n",
       " '1f1e291071a787d9bf56ca3cf7cdc3bc': 2.0,\n",
       " 'a503787fc828a9d0cd027e79116c7d50': 3.0,\n",
       " '8bc318a159d29018dfd97c99bd4f8752': 2.5,\n",
       " 'd4b14805a20dc28c560ac2290632a7dd': 3.6666666666666665,\n",
       " '6ff6f572141651ad567e301e95158a68': 3.75,\n",
       " 'e20c5f99319f2cd968f237e3f800b1c2': 5.0,\n",
       " '3b03b0e3350e312351cb0c5e7899a1f0': 4.25,\n",
       " '1a5989f94ef45eda73840f70c90b46d4': 4.0,\n",
       " '8f2ddadc81f0d51aaa07669fac951f32': 3.0,\n",
       " '0fbf141a6c2dcb4e827cc38abb28bf18': 3.25,\n",
       " '149e336726888ebcf2aa69214cf91538': 4.285714285714286,\n",
       " '24de0a6898e80cf5ef43392bebea9fc1': 4.25,\n",
       " 'fe701668f562b9dfc22ba94ca6f72480': 5.0,\n",
       " '908b185d21d29d3dc12bbd414fee1ef2': 4.545454545454546,\n",
       " 'bca26fbd2fc6c7ea7221b147ced9f37b': 5.0,\n",
       " '2da03a3aa887cec1296e6c77ef4e274a': 1.3333333333333333,\n",
       " '265be97f83f414cf5381e1ee2d734218': 3.75,\n",
       " '96ca379cfe1348e3d0209cb88a5d0224': 4.0,\n",
       " '66c36e0e13bd170b1249427908e6c4ad': 4.466666666666667,\n",
       " '6b70dc5d4dc20f7ae55f83a02068cf7d': 4.0,\n",
       " '7780b043c915895d6cbf403097b305e5': 3.4285714285714284,\n",
       " 'e47caf6844fcc1535cf4bebbfac66c18': 4.0,\n",
       " '4df93e28f3407ce33f07b363d2d658a2': 4.25,\n",
       " '75f67329e97f3c5ae8776be8c4891b86': 4.333333333333333,\n",
       " 'c78a9fbd8ca324ae8cffa630f48a0c6c': 4.4,\n",
       " '49ab6ee17044838979b98c3133fd51bb': 3.6,\n",
       " '4a2d674e014cab49ca9f4bd41a2724d5': 5.0,\n",
       " 'eb8c4639c4271c719b9e8bb9241fb2d3': 2.5,\n",
       " '214a6e09499f58d860e97830449c5d11': 4.0,\n",
       " '0d344a261de9ab42e62cf9b3b7c52cc4': 4.173913043478261,\n",
       " '4c64277c5c4990ee8cd52655ee032fdb': 3.0,\n",
       " 'a4ddb072b0f5c01d9a9a3b9e86fb472f': 3.5,\n",
       " '3e1f81789c6e74ea2267b90b393e07cb': 3.8666666666666667,\n",
       " '60c272eec9d4e8fa5cd8811476401c72': 5.0,\n",
       " '929bfe22df70aacffe15fa2478d96177': 3.8333333333333335,\n",
       " '15316b0ff2bcd60e57d3f3c8b7f2f87d': 4.5,\n",
       " '5b6795b109fb462177f54011b07d3708': 4.666666666666667,\n",
       " '72378fe2153955e31dcf3119336d24c4': 3.8333333333333335,\n",
       " '5a07f68ed118beb4d3198062754e5277': 3.6666666666666665,\n",
       " 'fbae3744061eb8fcec1beea862d863b5': 4.0,\n",
       " 'a4ac29f8b7cde22b0a50ef2ae2106f5a': 4.0,\n",
       " '8e302a2917b4197ef8e9df3a361bf24b': 4.230769230769231,\n",
       " '660df106f8fe60980d4b26f8f01f52c8': 3.5,\n",
       " 'c2b309a38e1b723e8eacbd3e14bbc61b': 3.8,\n",
       " '5ef39c1d7aa1e5e185a725807c9753a7': 3.5,\n",
       " '53d2b70f2e820f3bd042e2ba3b999833': 3.3333333333333335,\n",
       " '2155d6848e0d857084e07025c4e84d00': 2.875,\n",
       " 'dc026c881593cd16680b3a0c5f1f350c': 3.75,\n",
       " '5a7355dd76fb7649912b783dffe604e1': 4.2,\n",
       " 'cd3e07757b054a92a5102440ae129c52': 3.5,\n",
       " '6aa142c33153a82cdb4f14501b9c0dd8': 3.6666666666666665,\n",
       " '3b6bb0f99f9c8d869ccdda5325409796': 2.0,\n",
       " '79743d8845fa3ef00b263af4aff563e9': 2.6666666666666665,\n",
       " '3a6fd397316bb25ee68d084d0726d731': 4.0,\n",
       " 'bf5fab83184d9ae0447185a4cfeb9af8': 4.0,\n",
       " 'e181850ae57b939a13291e3199bb899e': 4.0,\n",
       " '5f18a7b5ffdb16c8b63972b62c15fbfa': 4.25,\n",
       " '3de68421742ca3ae240dc0f1e6945a4f': 5.0,\n",
       " 'e1efe841c3485a5aeb7a23cf3db5debd': 2.0,\n",
       " '437d078896f436e0b85b0360ff883719': 3.090909090909091,\n",
       " '93b80636c72d17b98d1293e81bcea12f': 4.0,\n",
       " '9ca4d43b6273bdf5f2068a60d80794c2': 4.0,\n",
       " '6ace7ac40603395904fcf04d0156f64f': 3.6666666666666665,\n",
       " '4a788578bcb863e124b3a48ffb76ea6e': 4.0,\n",
       " 'aab70b2afc0240cf3520e6d7cf111f45': 3.5,\n",
       " 'e97ba91cec46fb8b372f9ebf34be251f': 3.5,\n",
       " '6254db5fdc3ec4cdfd35f5c851e7d6c7': 3.8333333333333335,\n",
       " '8737f7c58ca1a9fe3a5eb08f2e982647': 5.0,\n",
       " 'b54329b20b6ee5d4b2a275e866693146': 3.25,\n",
       " 'cf3b50ee4f4970540cff4ecca09f324f': 4.166666666666667,\n",
       " '7003a4974d488ef1b8ae12c504c772a8': 3.3333333333333335,\n",
       " '1e6f6b38affe22d1181debaee9aabc71': 4.125,\n",
       " 'bb0ed227be312739c35bb5d2fe00fc13': 5.0,\n",
       " '9b4ecbca653b6c4af77bd09caa1d748c': 4.0,\n",
       " '4e9f08ad59730877ccac0c127590be41': 2.0,\n",
       " '59c4c7823ed9c418ca4f0e8bd9ae58ff': 3.0,\n",
       " '41b4037190c76bb4273424c8b37b7ef7': 4.5,\n",
       " 'a9392d07c005e747b1a8a1dd3b3bc7d5': 3.2222222222222223,\n",
       " '604f8693bfdcfdf6d01c3f5fd174f893': 5.0,\n",
       " 'e2099a6dc6325633120bb0e1b0c04e02': 3.8,\n",
       " '0e9ad8744750e8b478b3ff0b5de95948': 4.0,\n",
       " '983d9496d28e6f7e8652f1203f44ec63': 5.0,\n",
       " 'f0f3401c2708dbe477054ff8e6d9de7b': 4.111111111111111,\n",
       " '033cf640dfa6f85eb146c39787289628': 1.8,\n",
       " 'a84ff57a511ac11957ce8e745ed9f4d2': 3.7777777777777777,\n",
       " '43f8c9b697b36a3a447d5dcf02f4bcf8': 3.1666666666666665,\n",
       " '5096731608211f5ab09a1f4e80cc1e3d': 3.375,\n",
       " '97bccf302dcf2cb2d45d2c2338e92a01': 4.25,\n",
       " '8ce363ad063e762cce72c3b18023404c': 2.75,\n",
       " '5e6ba99c54405ce1e6fc47542125dd42': 4.0,\n",
       " '903a18012a96ae56858aac7aa6731410': 2.5,\n",
       " '904e3ef1f4df56efbd124f7bdd658a80': 4.0,\n",
       " 'e76f332e3540c90bb7a560286e9da1cc': 3.6666666666666665,\n",
       " 'a8e55d9ec4691a720168153872b0e8b5': 5.0,\n",
       " '59da752e9ce11357b291d833e45db848': 3.5,\n",
       " '89792c2c139b39347004d2d8480046f6': 0.38461538461538464,\n",
       " '3a6b05f4e9049a575848f1897ab780fc': 3.5,\n",
       " '82f0cd05e14b9a60e71b0df57525b9f0': 4.285714285714286,\n",
       " 'f05ea5cce1a020dd91e022dd56b1084e': 3.5,\n",
       " '17deb25686b888de5354385f9256944f': 3.3333333333333335,\n",
       " '4fafbb0b3705335e8895cf7b0713e432': 3.0,\n",
       " '7a9287a8a169656c0c60d7b4ea5fccdc': 3.5,\n",
       " '16b60bb530dceaafde65828438bc79ca': 4.0,\n",
       " '2c2987b1eb10f80e9e950f8f7cebe6df': 4.0,\n",
       " 'bb1852ccf50dfb6ffbb626a53d8ce4e2': 4.5,\n",
       " '633a8685d591bb39947f3dffeda39324': 4.2727272727272725,\n",
       " '413560e62ea20e8b668853bfbef9c186': 3.75,\n",
       " '4a2e37ba4e6c931a08e58d944a03272f': 3.4,\n",
       " '969645c396d739fc36c35007a77c59c5': 3.0,\n",
       " '946c715c14997800ec066c6183e962ad': 4.0,\n",
       " '37c998f542a08083c30f2595bd52f60b': 3.888888888888889,\n",
       " 'aec4b667a88f6ed7e39d456a7e80284c': 3.466666666666667,\n",
       " '009a47e49c0dc6e84d1c5e0eb4cdf7f6': 4.0,\n",
       " '17ea8d8f7ad5d303fc66a657634a7586': 3.4,\n",
       " 'fcbe31916707dc9882097b623d1ca97e': 4.5,\n",
       " '0f88a28fbec16fe96d4ecdf584bbdfb3': 0.0,\n",
       " 'd281bd3b384b28582291cfb8b7a3de78': 3.25,\n",
       " '2fabe3eda9d5c543c357c1111365d988': 4.0,\n",
       " '4aa35a1f9c6691e333cba57d31e6b94a': 5.0,\n",
       " '1b3905cc6ac01080c59944eb5fd40ec1': 4.0,\n",
       " '9d5cb08e46f18b2fe048b33f13fd6059': 4.428571428571429,\n",
       " 'd7879573928a367edb1d1accf2372810': 3.6923076923076925,\n",
       " '0accdcb86f88751760cf3fcd04a44816': 4.0,\n",
       " 'cbe851ae20560fc12501dc98af876fe3': 3.7142857142857144,\n",
       " 'a69e396bd8cfa86492b3fd29ba2e69a4': 5.0,\n",
       " 'ee0c7e383f524bdb5d23a0142b21f674': 4.333333333333333,\n",
       " '138df156188c7555a83c1986e9e4eba6': 3.5,\n",
       " '4c4378dca57936da21caceb68fc00de3': 5.0,\n",
       " '3b03d260fcca1b5fa361bc6ac5cca687': 2.25,\n",
       " '6601377ea3b946ec832138f3c51dd270': 3.0,\n",
       " 'e6e6485f1cfa168f9c866844cde2b680': 5.0,\n",
       " '7e3f430b57842ceba937814736a543c6': 3.8181818181818183,\n",
       " 'b80be234215783e72c0845256531420d': 3.0,\n",
       " '475a605c04b322a6dbe131644b8e2dd1': 3.8333333333333335,\n",
       " '53cb097d46263967beaaddd98b79a15b': 4.0,\n",
       " '0e241c80acaa6859cd7f913b160345fb': 3.769230769230769,\n",
       " 'ad6e226648335c72be287d39e4bc6cd7': 3.8,\n",
       " '2658ab5a29f9566e4c8499dad5d460b8': 3.0,\n",
       " 'ee7cba4a36e7556b0848707c4622ed6b': 1.6666666666666667,\n",
       " 'cb2ee347443af0e36e002e7a2acfa6d2': 4.0,\n",
       " 'bb636c94ff45338e678aac9ff6489202': 4.0,\n",
       " 'f9f5fe32aef71f81257dd07de9689e84': 3.8,\n",
       " '7483586109a0dbc8f9952b958ce3b087': 3.5,\n",
       " 'f070f1cc66d79485f12f9a185afb9413': 3.7,\n",
       " 'a762959e6dd669b85ba13601f3a9b30d': 5.0,\n",
       " 'f4d95e562e14658c1e9b20f3f6f548f2': 4.833333333333333,\n",
       " '91dadf0bd25b48bd89f6a17c1d24952e': 2.8333333333333335,\n",
       " '779cbe0df6e725b296292dd9a733f9cd': 4.5,\n",
       " '4bdc9c38b6ff6ac950b48d25fe6a6aed': 2.5,\n",
       " '75445ada29885aab7276098f6964f08a': 3.6666666666666665,\n",
       " '7d6d913859b8bc4ed9839552eea8e153': 4.8,\n",
       " 'a64946865c648874cfe16847166bf6eb': 3.5,\n",
       " '79a62a7cf08f446796695d4209eea69c': 3.5,\n",
       " '191941c990613321aea2deda41bd8997': 4.2,\n",
       " 'db8cce925ef72705be29e36cd3fc91d8': 4.0,\n",
       " '414288f33658d69169869945fbd165d2': 4.2,\n",
       " '483783e3e85a265440702ffd03c72d5e': 3.0,\n",
       " 'e880b76ec9e176abf52ca46a838d2ae9': 3.75,\n",
       " '49464edd6ed2be5adac962f30baca425': 3.0,\n",
       " 'f194fc59d057cc4014d9a3f80f6bdda7': 4.333333333333333,\n",
       " 'a4124d6e0b360b6ec3893f60e9132d2d': 4.166666666666667,\n",
       " '15f165d062c0b6f3e736290c2a6d32d9': 4.75,\n",
       " '24344e9ba217d9481e7e0dccf43530e5': 3.6666666666666665,\n",
       " '04af458a95409fda938a6c1a4c4f1296': 3.1666666666666665,\n",
       " '867c1f695f57190f5bee12fde013668c': 3.25,\n",
       " '4eb22dfac14a789fde5a4f8ee76b3976': 2.5555555555555554,\n",
       " 'afd32fbf141d6bb23abd95a2d559962c': 4.5,\n",
       " '9bd92e9e2a1dd9a69a6f9b8a98483e05': 4.5,\n",
       " '29b4779c050ef2f4e26144435feb739a': 4.666666666666667,\n",
       " '8284a77f03befda2ddb9f140ca12daa7': 2.6666666666666665,\n",
       " '90cda47d668b823073d2718315fb3c64': 4.714285714285714,\n",
       " '3e94b20288134bdd76c79f1da754009d': 3.25,\n",
       " 'abc4a0147e00cf29d7a9d865ecdf160c': 4.666666666666667,\n",
       " 'cfb2db0fd5fbe83872829ed57d3adcfa': 4.0,\n",
       " '384071ac0def6deb48a4fb2fb9957944': 4.5,\n",
       " 'e92ce73aea794e368ae3af5654ec4562': 4.0,\n",
       " 'ede38724bb334a8c64b0bec675b3fdd7': 4.0,\n",
       " '823c23f1e9137dc6a730a34d15f32fc5': 2.5,\n",
       " 'e59d4ddd07e7030ef55e3d21abef85db': 4.0,\n",
       " 'fc158f58f621d1b9244cd6c630c1bd18': 2.9,\n",
       " 'ccf944f8aca6814c1ec21cad667b7123': 3.6666666666666665,\n",
       " 'e140bbe3395fb1dcb5012bd6a1af5230': 4.333333333333333,\n",
       " 'c3dc0f8a43c3bb509bafc93ccd9c125c': 4.285714285714286,\n",
       " '9ac0bac35da4f9084886d60f7978599c': 4.666666666666667,\n",
       " 'a636171fa32eb02ed9a4b4259f7cfac0': 3.0,\n",
       " '804fee4f80c75eadc17214c8be9d1407': 5.0,\n",
       " 'b44a983cb63d2cf78d180c5bc977c90d': 3.3333333333333335,\n",
       " '2856c44b244147ab4964a445fc1bb69f': 4.0,\n",
       " 'f50447d5082fd20edeaf95aa9c97ae54': 3.5,\n",
       " '7f76ceeda1705388ce497b959c20fb91': 5.0,\n",
       " '92d6f02258e72747e3d58c95ce05b030': 4.25,\n",
       " '7e19def58ef7ef230ccbba1440cf2ddf': 4.0,\n",
       " '02c227ed0402d9236f274877afa75592': 3.3333333333333335,\n",
       " '634b306bb83130e2daa50f8bf5294a63': 3.5,\n",
       " '17402c762b11cbbc20906ce0df76d668': 4.75,\n",
       " '83d4c1428afe4b0df30af8fc55bd273c': 3.7777777777777777,\n",
       " 'd5c2cd9c8b5c93e817fd8fb6e668b5df': 4.0,\n",
       " '480102fd37896642ff45d18be1d9a316': 4.0,\n",
       " 'c694c01d5d3a3bcee6fe5e3211130e65': 5.0,\n",
       " '0355718bf229620091eacd5b03b58372': 4.0,\n",
       " '54e08d519623871c5eb93f86c1048edc': 4.25,\n",
       " '6028cc455bfd956c6ad6834ba4b936b4': 2.5,\n",
       " '0a909779b7eeff84e6e0869cc9987f2f': 4.0,\n",
       " '6511484df09bfa748d62347e18296cc0': 3.8,\n",
       " 'a2a608d1e35f131534a1da0e46d8fa21': 3.3333333333333335,\n",
       " 'c14836cf3ade9908003634306ac88772': 3.0,\n",
       " 'aa74b2f131b6773a83eaca02ebb88b90': 4.5,\n",
       " '2c76507b238613f58cb080ae76af4dc4': 2.0,\n",
       " 'aa72bf772024e8333f4b32cb79a901d7': 3.5,\n",
       " '2a305aa9eca6d6503bd2eb03ac32ab9e': 3.857142857142857,\n",
       " '3e47bdf35c848e5f8f8a6f3d6b2b53ce': 3.7777777777777777,\n",
       " '3a660c329e9edec6c2fa009a9b68e1e0': 3.0,\n",
       " 'fc1843b87cfb7768852dddaf4a8768db': 4.25,\n",
       " 'e7647d2fecdcd25275e0e30094791b68': 3.0,\n",
       " 'b31c12c40e6e129efa3714f9c827920d': 4.25,\n",
       " 'bcb39a34917dedc250940d0b342d6fcf': 3.3333333333333335,\n",
       " '4aac9e075999cce310ea3a9cd1e0538d': 5.0,\n",
       " '7667d16f30d64c0b8d0ddfca7e0f0618': 3.6666666666666665,\n",
       " '08624e714e9f4a5fc15327dce82b835e': 3.0,\n",
       " 'f90676c8e2dcb79a856920ef077d7453': 3.75,\n",
       " 'd8b41ff2fc25b76393c839f4b93c104e': 3.5,\n",
       " '3693374212181c5995f4cd4eaf1b9651': 3.4,\n",
       " '896e8118b4e656099e1ba86e180a01a2': 4.0,\n",
       " 'ab4ec11ca2f707167143310be7de30be': 4.0,\n",
       " '5ced42e501539715bc86991ed86dd1cf': 4.166666666666667,\n",
       " '874507ab349b2258eaecd967f4573c00': 3.4615384615384617,\n",
       " '90bffd32ab6aeafa1482fed85cc37615': 3.3333333333333335,\n",
       " '0790a9e3cedd2c937414654fcc6a7594': 3.5,\n",
       " '410e2d7f3923cb03a907cb7497685877': 3.6923076923076925,\n",
       " 'b281d310e6dfae9f30042226b733fd7f': 3.6,\n",
       " '414854ccbe367d9cb5a97d159b40cf2f': 2.75,\n",
       " 'd5b5f8bc4f9c083085a4dc104f184688': 3.5,\n",
       " '0d81d76c4b6a2c7884d2392bc50c2b4f': 5.0,\n",
       " 'ddd3f61edfa4d32c3f4942d9162c3452': 3.0,\n",
       " 'af34f73cabb72d4480eb6be2b20f2746': 3.727272727272727,\n",
       " 'c2c8512549fd8ad2255e67b592a44c22': 4.0,\n",
       " 'd1124075fbe081dc139c8f49e1b1095c': 4.0,\n",
       " 'bb32e131687024108900b547855b5b14': 4.0,\n",
       " 'deb461164fcde3e7c2a4f10ed245a821': 4.0,\n",
       " '4aa81e7994e8686766163c2807b12b09': 4.5,\n",
       " '38205069b91cbb9c5916500344f91524': 3.0,\n",
       " '80c4abb598aa8e86c40dac4f69167883': 3.0,\n",
       " '4ad272c41af8a81a381278a7587d14a9': 4.714285714285714,\n",
       " 'ff3f54967e2f79f3ddaf225a80b980c5': 3.3333333333333335,\n",
       " 'f444acd61b0ccce1105a2dd139009e83': 3.6666666666666665,\n",
       " 'df23d31980c9168b90e3a9ecfb1e63b0': 4.333333333333333,\n",
       " '26dc9923e29c4fd45dc1b8c71322c593': 4.0,\n",
       " '1c845473e18c23f917126cb29bc8d243': 4.2,\n",
       " 'c66af598b86e8f540a77eefd4ac18668': 3.5,\n",
       " '4902d7d1c6cb4352f889a1e1fccc82a4': 2.6666666666666665,\n",
       " '2df5e1ec4cf6f4e19920ea28596c8772': 4.0,\n",
       " '9092655e44d7dced325636a1eb228f62': 2.0,\n",
       " 'c501c9917c0445add80838dcbaf8164b': 2.6666666666666665,\n",
       " 'ee4b9eb7f20de500c42e07a6598796f7': 4.0,\n",
       " '288dc8c9871098c8a1b680db829275b4': 3.206896551724138,\n",
       " '6d224a7654e10d7a957885725bc140b9': 4.142857142857143,\n",
       " 'e364b3c3702aef6c75bde0948ca6e8d1': 3.2142857142857144,\n",
       " 'b2a5a4bdc1e226b1a458c25050becadf': 4.666666666666667,\n",
       " 'ede9b6532ff8797db2dcd404e1678ffb': 4.75,\n",
       " '9fee1a2acb51c2d99faad14dbbdea027': 4.5,\n",
       " '9284d08c93e3d4f8ed8e07b2ba4e3c95': 4.0,\n",
       " '8cb9d582209a0bcb467f84412dcd9491': 3.0,\n",
       " '9eb816cd2587c3b58c8527cd286563ed': 3.2,\n",
       " '8dca51563b71aa4f10771b5a708e0815': 3.6666666666666665,\n",
       " '9b8a3df630bc8d7cd93fb93ab47629fe': 2.0,\n",
       " '412536ef9f19577ed0fb1ae6adb0d29d': 3.1666666666666665,\n",
       " '1a18545e0bf07492a69ddfb430e090bb': 5.0,\n",
       " '823b867fd932e939b9057bccc2a6a93c': 4.0,\n",
       " '335a0e12ed4ca2539baf96dce55148b9': 4.5,\n",
       " '9354e14433f7e26da11ee6e4cbe7e341': 2.3333333333333335,\n",
       " '8b2c528dd5f0efc576edf97ec326670b': 3.7142857142857144,\n",
       " 'b3f40625bbfacfd161804d98ca45300f': 3.3333333333333335,\n",
       " 'bbd7fc6fd4941b207728bb3c045e499a': 5.0,\n",
       " '30770158bce43a315bd70150dc1b9a95': 3.857142857142857,\n",
       " 'f5be702495e5385d07df3b0e00787092': 2.3333333333333335,\n",
       " '05d313f6ef1e4bde738d03fcdf8f215d': 4.333333333333333,\n",
       " '65296f2b0c01912aa664322d968cc008': 4.0,\n",
       " '74d501e6a62a752a31ec53ddee1a52f0': 4.076923076923077,\n",
       " 'e1822adbb9239a6f6c5b3b5cb5d1f572': 3.1666666666666665,\n",
       " '2c42399f331743e306e9aa0babf944f7': 3.6666666666666665,\n",
       " '2d030d30d38907e47a6793462ef95660': 3.2857142857142856,\n",
       " 'f04e0affa894c52539ca5fa7c79162a0': 3.6666666666666665,\n",
       " '674f067f991a37fa160c541847102304': 3.4,\n",
       " '2dfb5333ab6974fa98c3b7c44df637c1': 3.5,\n",
       " '2d733f77cdb3da65a3b6380625bffacd': 4.4,\n",
       " 'c597747ec8ce3c9a13ffce9c35b4b0f6': 4.0,\n",
       " '6055f913cbbe6b1397225fbfa1149868': 3.6666666666666665,\n",
       " '9d1152622631cc46fd698f29968ec8eb': 3.5,\n",
       " '0c154d3717b690fbf8ff0446af3e2e18': 3.357142857142857,\n",
       " '6d3fdda881efbc582d1a48040ca1cf14': 2.888888888888889,\n",
       " '3d3c274dfe57506ea763d57438663887': 4.25,\n",
       " '2a6a7ee4896d0013ccaa02bda12068dc': 4.75,\n",
       " '79b691e4c0e0f726e25122e796b8ca5e': 3.5,\n",
       " '16ce1905c9c20cd4e8bd3a0f1cf02fe7': 3.6153846153846154,\n",
       " 'cad467bce42931cc9a462b65956e6652': 3.6666666666666665,\n",
       " '28f1f677fc0fc74cf10b58de161eaef2': 3.8333333333333335,\n",
       " '56a9b04e04f7fbfe56a598815bd455c4': 3.5,\n",
       " '3722b331eba0f4d35fd5c3ff4280b9e9': 4.6,\n",
       " '09f3678ca89828ab032bd20138ea3fcf': 4.666666666666667,\n",
       " 'f558f6cbafa4a1ca4110a5e4fac380dd': 4.0,\n",
       " '6fc8d566d8332b27890189385612911f': 3.5555555555555554,\n",
       " 'b61dcc8868b391abe5b9a4305c4bce32': 4.5,\n",
       " 'ee93921ba67f4e7df22b9e9be9c4862e': 5.0,\n",
       " '9c1b2836b6a7604ed2054191635c5c59': 4.5,\n",
       " 'f6842d4a6335422bdc56ef318acaa60a': 4.25,\n",
       " 'e9d6840166a1a97840b100f5ab970024': 4.0,\n",
       " '81524cfc3daff00fb72e1b9a54f6f363': 4.0,\n",
       " '1870fad0d2e05dc7cd30ee657c667f9f': 5.0,\n",
       " 'fd66853edd97a8375aa40472c4d1ae97': 3.25,\n",
       " '06e1a327fd336d7eee74aa62f1275386': 3.5,\n",
       " '65942521823df7ff3f8bb3e07eec2b57': 3.0,\n",
       " '5df828dd58783a6e27c3f910865ed191': 3.5714285714285716,\n",
       " '9d256b5ee65d0d2314999db699e2c329': 4.333333333333333,\n",
       " 'd4db9e98675886277d5aca99052243a3': 3.5,\n",
       " '94f014216e7774c841b60079e8b2cc1a': 2.8,\n",
       " 'edb2a3a9a204bb3ae620cffb51faf6a0': 3.0,\n",
       " 'ffb72f9c157638ddc3a7c65d4f7a7209': 5.0,\n",
       " 'bd38a9c0f55e324717ccad3999388016': 3.25,\n",
       " 'b492976229a8c400dac0f49e7fdbc089': 3.6666666666666665,\n",
       " 'a985e1f4340281138c7806a5e07ad418': 4.0,\n",
       " '070eebfc3bebc647febe5bc5cce900c2': 4.333333333333333,\n",
       " '855a7585e8dd2917e234893eb6738d6e': 3.0,\n",
       " 'fe7ab4fa6e081f2d54129c57f15b1009': 3.6666666666666665,\n",
       " '78e3faf71f26fd8be1adabd396a33b4f': 4.0,\n",
       " '99c53aa4b75e5c4a3fc05a9649f17bb0': 3.75,\n",
       " 'bb5e8af6b4053bafd7feff7199ada51c': 3.7777777777777777,\n",
       " 'f118251ce3e1189aed55bb2351651bcc': 3.25,\n",
       " '06f6410b98b03556253520dc46d4970c': 4.0,\n",
       " '4cd42c8f440e0bf68518de883f8feb27': 3.625,\n",
       " '537d545c10562ac280571224f406de25': 4.0,\n",
       " '14400d74464192e756bdeaae566b9d12': 4.666666666666667,\n",
       " '464e6dda51ad6d74bd43cc6fd230c3be': 5.0,\n",
       " '2cc44aabbee6463c7f957c6e58ddb954': 3.0,\n",
       " '16302ea1e4a3601ae05f9576466aa636': 2.5,\n",
       " 'abac74c2d32092a19071008eb89dbbeb': 5.0,\n",
       " '4d427519f50af6a4cd0b5d894c315507': 4.666666666666667,\n",
       " '2b459840795d06437fe9b0f4145c822f': 1.0,\n",
       " '42e00e0d0562592ec8cf8c0d1446af39': 4.0,\n",
       " 'baf71e230e4c718a1a0b399642de4761': 3.0,\n",
       " '1af7b136ac4c8444b27fc957510f677f': 4.0,\n",
       " '3693bb4f1062b659a354848cf11ca313': 4.545454545454546,\n",
       " '664f253a7e1dc8196c84bed3365ce6e3': 4.0,\n",
       " '1f931bb40b93032bb4386f71271f5c3d': 4.5,\n",
       " '42bcabc58a83924156ca4cb624412462': 2.0,\n",
       " '256a2d57f9629ba5bebdad5978958f5d': 4.0,\n",
       " 'ebfdd03f8f0a13497ce0d7da5340a459': 4.25,\n",
       " 'ccf27886cb4d36f519e15e583b04301f': 4.166666666666667,\n",
       " '8913e53623e2e49eb987f48875b1d67c': 3.7142857142857144,\n",
       " 'fad49a6c10161a226624d212294251b7': 3.8,\n",
       " 'aed35dbc626957174ebedf3c555b63d0': 3.230769230769231,\n",
       " '74c19398bff959b2ffd4787871b3bc70': 4.0,\n",
       " 'f70f0349b2905e9bd73384932988edaf': 4.0,\n",
       " 'e09e217adbd595baf1def64aaa5d167f': 5.0,\n",
       " 'c4ccb23db8dee77cd923de30d836afae': 3.75,\n",
       " '60ba13d8c742b84b2ec2445d9e04afe6': 4.285714285714286,\n",
       " '181f5f8f781a361e8c38eed49a3452c2': 3.0,\n",
       " '6f4420bfc5e9683a602e8d4373848482': 3.625,\n",
       " '9e7b90576d1ca95eeaafe895d1b0dd93': 4.714285714285714,\n",
       " '07401b116babfaece4b11a4dcb9de1e3': 4.0,\n",
       " 'c86f3f7d32f27cef11804499090ab9a9': 2.4,\n",
       " '9453d59ff8e823e93833af73969177c7': 2.125,\n",
       " '02f6c91ef77b301085298cb15c38f1ce': 3.764705882352941,\n",
       " 'd8c39b3b11bb2da1c1d5c39f49669dea': 3.7857142857142856,\n",
       " '1b38069719aadc7b7d99854832e4cfbe': 4.0,\n",
       " 'e96d7b0855e99f52b99771b5482e2128': 2.8,\n",
       " 'c15913e0a58b84b80991266c5507c015': 2.142857142857143,\n",
       " 'b171d3d2ca3a4ccd0517320a8c63566b': 4.0,\n",
       " 'd108571e77aa604ba35091445bd0ca87': 2.857142857142857,\n",
       " '30e889bff1d9f5d4742b19eeb77cb054': 4.0,\n",
       " '7870b689ff6b6a76170f7384a53634ce': 3.75,\n",
       " 'f8786d2f353a029ba12d5f75a22e1282': 4.5,\n",
       " 'fc8060b56d99d519161dfe22adbb84e7': 3.3636363636363638,\n",
       " '3b341ab64190cac43a6b6b9f3349e90e': 3.6666666666666665,\n",
       " '2ed79e885f692ea45b8fde6af00f10d7': 5.0,\n",
       " 'e598484370f9e4285a578c59ea1e5572': 4.5,\n",
       " 'ab43f15f4c1c8f49d52a90738e8a42d9': 3.7777777777777777,\n",
       " 'a95381a51bda359128f9ab42ca9a0011': 5.0,\n",
       " 'a66d9755ccb8553ec930dcbe7853ac39': 4.076923076923077,\n",
       " 'ff9232cff314bdd83feace42830f77f1': 1.0,\n",
       " 'a4991722f94c89e48be8e2402aecc864': 4.4,\n",
       " 'ad1ca74a0cc0a92477df7b55a84db861': 4.4,\n",
       " '95b22f99934e50fa545d40099e3986e2': 3.1666666666666665,\n",
       " 'b024b78b02743ccf558001189ab31ea0': 4.333333333333333,\n",
       " '04fa8ddf76452f01b245278feef95454': 5.0,\n",
       " 'c7bb99d0a2a00c83077f44436ad8cced': 5.0,\n",
       " '58f0a709279a587818b9b547be1b2198': 3.75,\n",
       " 'a4647c9a2b6597d19488bac6c041e99c': 4.2,\n",
       " '1952f1237c343df6e73ba8cccfda5a57': 3.25,\n",
       " '916fc9982553250907ee160f66e9a348': 4.0,\n",
       " '19c4c36c12bc4df6e368ea05aec68e6d': 3.0,\n",
       " 'c02fa0047eea640a4e365c62c4c54720': 5.0,\n",
       " 'e5e8e3612e1926440d2431fd9c69ff06': 3.5555555555555554,\n",
       " 'f409be88133ddd232c51df108c059657': 4.5,\n",
       " 'd451d0cb5276e963fec263f0d50e5773': 3.6,\n",
       " '1ff2a2567092d5435f4bb6ee648a16a5': 4.2,\n",
       " 'cd45b955f2bd95f92cd413788837de56': 3.0,\n",
       " 'cc2e34bdb1ca29b4ddc0998d06547238': 2.0,\n",
       " '181bcadf310864df7ab31df84878cb51': 4.0,\n",
       " '87c9e3883ac78ce3424e6ae59f96fab8': 3.1666666666666665,\n",
       " '1ffd36055cc50b9d3a08cfaf3085e2ea': 3.5555555555555554,\n",
       " 'fae84b8feeb9b3c6c2235d2570d1921b': 3.3333333333333335,\n",
       " 'cf277e3d8296415f26c320f73dd68618': 4.5,\n",
       " 'f93976af5f3519d2f09317e7cdb6a99a': 4.5,\n",
       " '0650a8d392283dd126ac70810f9c307d': 5.0,\n",
       " '86625310cfde768d201c263b78879c9f': 2.0,\n",
       " '1648d3172ca9cba08f6a9f2e077a576a': 5.0,\n",
       " 'b06a139b2c4e655688f36d7747c4d5fd': 4.375,\n",
       " 'f705c99823b3ca1e9d01f98c71f56fe9': 3.8181818181818183,\n",
       " 'da3d56e05ae8ed51d35ed67ba6b77716': 3.3,\n",
       " '5325480cdb918d8a08aae2fa12e56495': 4.666666666666667,\n",
       " 'ad68970e4899854a81586ad6d17fc958': 3.875,\n",
       " '42991a8cd76f58f1d8117dd866bb516d': 5.0,\n",
       " '7c6ff45ba5e72b02debe6e389f3ebef4': 3.0,\n",
       " 'c96affa389e76e748b3efa5ccab8cedf': 3.6666666666666665,\n",
       " 'c68397b62c5aa1ebdd60dbdbdc4918a9': 4.333333333333333,\n",
       " 'da9605abfb2c808d70149457d8bb8829': 4.333333333333333,\n",
       " '1219fde4341c01146293068aae4bb12a': 3.5,\n",
       " 'a726850ebe07846419ba4448ae16a41d': 3.5555555555555554,\n",
       " '5903e1327b38e7a93fd2affd55fede8a': 3.3333333333333335,\n",
       " '78b46da957aff701be9e890f6efe244c': 4.0,\n",
       " '96f26cd578ea2b734e7cc4cdbcf8e336': 4.214285714285714,\n",
       " 'c60cc2ac07e6adc15bfafe1129db0d64': 4.5,\n",
       " 'e733396e88dc9d1d9bb2bfaf1060e771': 2.4,\n",
       " 'ffd8f0635d15905b37ae3ab6743af80c': 3.1666666666666665,\n",
       " 'a288e9ad51c4ec30a405bc8f6cd67e66': 3.3333333333333335,\n",
       " '4481dca41124ad60cd3eee91717e346b': 2.9,\n",
       " 'c56448e1f0d3761071b4d7644070b946': 4.0,\n",
       " '62bd96b8800673dc19792e7a63722fe3': 1.0,\n",
       " 'e1640cee09545a1faf3ab0faa2c36f43': 4.0,\n",
       " 'e21627c07b1c16a64b1d55afb0801cd3': 4.181818181818182,\n",
       " '03ee3491e69b0c9f1171edcdd3d74446': 4.2,\n",
       " '6f77dda617a70c852b96db83b966e4b5': 3.25,\n",
       " '6179aa28a21f8ef035c5c8f414d0f0ff': 2.6,\n",
       " 'cf0f2a4bd18c9ad5b3850291a67624c9': 1.0,\n",
       " '299dc2394963ada9a6fda9d069659593': 2.8,\n",
       " 'c8462f350e5d6b6a3d9e15c2be1fdc88': 4.166666666666667,\n",
       " 'fe138e8cb5b8d1a5a116fecec068e586': 4.5,\n",
       " '32b75e9ee64920b46fc9e350b67b5b25': 5.0,\n",
       " '91df1779d825390269f89ee5b04884d1': 4.6,\n",
       " 'd115a3a51bed2d8dea4b01ff746f7a24': 2.25,\n",
       " '4c69bcb8d77ee9fcf5622adc4eaf607f': 3.0,\n",
       " '644b4f11748785d59fe18438a5ac1ef5': 0.0,\n",
       " '37fd93c08034bafbdee2236ba1aabcec': 4.666666666666667,\n",
       " '584878a21b9e6f48cfc51c38a7398aab': 4.5,\n",
       " 'dabc2df3003ef6cc075033bd525dcf41': 2.25,\n",
       " '46b89e925260f6d8b000ae002a409d78': 3.1666666666666665,\n",
       " 'a4c3c26b8a44dd53c269c357fd6a2f4a': 3.857142857142857,\n",
       " '2f35aa9961e00c51ce0188328632c983': 3.0,\n",
       " 'f28334db6e5b695a754824cd09223e9c': 4.0,\n",
       " '3e21217bf9361fabf46d11e1a93948aa': 3.0,\n",
       " 'bb061773b5bf923155d3b1a34756664c': 3.0,\n",
       " 'f07b05c39d1d3def251c2fa919a4450f': 4.428571428571429,\n",
       " '1785f06e25632ff5e8833a26625f9d29': 5.0,\n",
       " 'fc42cbb17f863f27ab7b8b231ef6e49a': 3.769230769230769,\n",
       " 'fd9408c2d2d8c33bd835fb29c26189c4': 1.75,\n",
       " 'f857b01c32434333981252aa5ee03d71': 4.0,\n",
       " 'c08fcf449e316cd8fd0be6c455fcda97': 2.0,\n",
       " '41eadb0d4094153a1e64955ce30cec37': 3.5,\n",
       " '96f73098c9af3d729ab65c3e14362c38': 4.333333333333333,\n",
       " 'a413371aecc682414eb9c712a1c4187c': 3.0,\n",
       " 'd6c49b7b45333e97b71a3a9184db35b6': 4.0,\n",
       " 'a7658df0fa09a7d080450994ca1f1f34': 4.0,\n",
       " 'd6985a05164b0abfec537c4a30b5f413': 3.5714285714285716,\n",
       " 'f95df8a26bbe807e8b4f4bae5eeecb40': 4.0,\n",
       " '5a0ae1e70bb3ba07a1b826d4f6daa714': 4.0,\n",
       " '1c45a55c17e09a1a9148b8a401274fcd': 5.0,\n",
       " 'f05c07b444138f3c21b4925fa0669edf': 3.5555555555555554,\n",
       " '7f43ad54f23b6091a0990aa081aadde9': 4.5,\n",
       " 'f6fd6ee959921421fd075595a0e6930d': 3.0,\n",
       " '71deddf6fe72b9b727c9801c86609258': 0.29411764705882354,\n",
       " '3309542e40881999877e0509ad4fa445': 4.5,\n",
       " '92c52514ddadaabec37eb1ab8d3710c9': 3.857142857142857,\n",
       " '17eb1f1e107eeff5edba37ac5934bbe1': 4.6,\n",
       " '37e5dd3d7baa34ad4f2b008edbe9377e': 3.3333333333333335,\n",
       " '16a03a26332dbcbdd28ca168bc56882b': 5.0,\n",
       " '69cc220927e1c636094abe9a17ccdeef': 3.4,\n",
       " 'a917a5daffd64f7273bd2fbadd052d85': 4.833333333333333,\n",
       " 'c5ee4f5122d4a282c0d220b34b68093f': 2.75,\n",
       " '843a44e2499ba9362b47a089b0b0ce75': 3.111111111111111,\n",
       " '85a38c75870b4efb4b791a18b7c0599d': 4.0,\n",
       " 'b6aceda54f217ed2f7148239fef3fca5': 3.0,\n",
       " '9659f9767df3bc58d8f1cd31af2a48a0': 3.375,\n",
       " '638ee45b5902d82d28f309ee64b11cd4': 5.0,\n",
       " 'e0e27bac61fd39a97761c3f544781e85': 3.6666666666666665,\n",
       " 'd3acfe100fd0fd37b800e221b711cb91': 3.7142857142857144,\n",
       " '41d356ba422328e649107e0c9313e0ed': 4.0,\n",
       " '8d06b71bdb9663de3816ce1a58691b06': 3.2222222222222223,\n",
       " '1e4ecd34f40677be6e3f177bf17ed0e3': 3.0,\n",
       " '7773b9d97db0a2f0fccbe8b402ca4047': 4.0,\n",
       " 'ca5dca9c983cc06be260a269fc5fa029': 4.142857142857143,\n",
       " '65e5625b3207445ae779d7dcac86eefe': 3.0,\n",
       " 'f3bb01c67ca2f5602f8e833828f895f7': 3.8,\n",
       " '6b8caaba1f409e1367e0953db3a977f5': 4.571428571428571,\n",
       " '1acd81d8e959f6e23712c9a236ca01d7': 4.5,\n",
       " '09be6dca3d89c6c0c8d0a5dcfcad2c51': 4.6,\n",
       " '024ed00a53e577d78fd8daef52d941b0': 3.625,\n",
       " '2f1bd7f8293200c03af16435f17483a3': 4.75,\n",
       " '5908548bec49010918247537e5a46b22': 5.0,\n",
       " 'ed4ae0d470955cdcbeb7fd63ade4c462': 5.0,\n",
       " '4c5de2d0c8cbe729f790ec99ffba75f4': 3.8,\n",
       " 'e6849cb4877fde29d98ac71422051404': 4.5,\n",
       " 'bc5f0215cf86f12b58fedcf08c2ccb02': 3.5,\n",
       " '0f53cd49b54af0c56075cb2bd1e6507a': 1.75,\n",
       " 'f52a4689e7a70a9ea653d35b0b5cd71b': 4.0,\n",
       " 'c3cebe0b5f14b35fee5b71bfffe440fe': 3.8181818181818183,\n",
       " '0830da4a1ed6573af54dedadedf2beff': 4.0,\n",
       " '9eae3e92377c17462b7e3b0012c20a8b': 5.0,\n",
       " 'afe9733af593bc416c7502c62c00813b': 3.7142857142857144,\n",
       " '5a8d715a19d7d30a328bafeca38e0116': 3.6666666666666665,\n",
       " '6a16d32f31f2ca68ed81320c0715c201': 3.5,\n",
       " 'd8b4c0f6e6a1acf9cc41d7e05cb9b39d': 3.5,\n",
       " '2c55b224c55a4836cefdfad4f367d376': 3.0,\n",
       " '2d68e98d4b968ca66b3f5f1ee6c7230d': 4.142857142857143,\n",
       " '48031ab9ef685a911a49081842eaf379': 3.0,\n",
       " '181a5a6e1ebb7e1bfa194b253289ae20': 4.0,\n",
       " '8f03275219897ae59a7729ee51a92733': 3.75,\n",
       " '9da810ac28645a3d958c525735d92747': 4.75,\n",
       " 'acaf93fb04ee9b6e0f6fcc7df4e16f6b': 4.0,\n",
       " '6e28bb18becdf5e8d2497aa06ba8b233': 3.3333333333333335,\n",
       " 'd8ca1bba1bd6da214363ca51ee85b274': 3.625,\n",
       " 'c5753649594667ec854ec27e720fbdc1': 3.0,\n",
       " '2f9a6157b13e598faa8b973732324399': 4.5,\n",
       " '67a051e0ea0888364743140ee64a9537': 3.6666666666666665,\n",
       " 'fd9bef204e4a88755f48a21b5b7c0eae': 3.6666666666666665,\n",
       " '7aad87cf23d4054ed2d3dc46bab39582': 3.25,\n",
       " '87cf9bfae30ec18141bfacbbcf6d53d5': 4.75,\n",
       " 'e0ac05b178e6f6d6e60f4aef4f28baa8': 3.0,\n",
       " 'd4b0f753d41d50d15b4b9aa8ff1bd42d': 4.1,\n",
       " '5996cce2f5c9b4d6e45f803ad117ab00': 3.0,\n",
       " 'bed0a93b9c63b3619929f2557cd9bea1': 3.5,\n",
       " '28f1081afb0ed1ff2b69e7886407ed1c': 3.0,\n",
       " 'bbab22b46150c9d8550ab347bddcd610': 4.285714285714286,\n",
       " 'c524d9c6322aa3e20ec1b0a5a2716657': 5.0,\n",
       " '5f4bce05d28ee52cbfefa470cb8fef29': 3.0,\n",
       " '30f15efe905f009b21219e11a395d1bc': 4.333333333333333,\n",
       " '6168b58f259a18349c123d8ff9d8ad68': 3.0,\n",
       " 'b16f3ef27014d87e947ea3f902742162': 4.8,\n",
       " '721c6eb1e85d5c73651135473ba8d399': 4.5,\n",
       " 'eef8e65453436879ac07ec54ec5bbca3': 3.6666666666666665,\n",
       " '9f7d458360179a07a6c092778676d651': 5.0,\n",
       " 'e0f129e59336106bf33b377a7d1c26f8': 3.0,\n",
       " '5d8799c32b08780a4524771c49018ce0': 5.0,\n",
       " 'f2c2466c038395212dbef9c45d511f3f': 4.333333333333333,\n",
       " 'e029eadd65345bb32ef4d0c902cd66a6': 2.8,\n",
       " '2d6e0ea93a403354261dc77771359b0a': 4.5,\n",
       " '79addbe68a26cbd8baa27e3b067a7b25': 3.0,\n",
       " '42b002a233cac822ccc39a579fba4839': 4.0,\n",
       " 'fc8b918d0a110085aa05080790622b68': 3.0,\n",
       " '7cd903ed3cf73f0e280868e03d2c51bc': 4.0,\n",
       " '5da655873086917d8f32a6235a913534': 3.5625,\n",
       " '6209a1de96ddbf54602eb6bb107cffc7': 3.6923076923076925,\n",
       " '7d2f26248082300810da1fc4392415cd': 3.8,\n",
       " '4386c889782104d8ff01b2ebee214c35': 4.615384615384615,\n",
       " '968a5a8089d677d5b51bd7f3d550c65a': 3.6923076923076925,\n",
       " 'ab512b87a61f5c4ae2749c4accc268a1': 5.0,\n",
       " '61ed555f078cd656a96e144906102169': 3.25,\n",
       " 'f2f0882cdf4484cef095f52db7ac5fe6': 3.25,\n",
       " '29fc4a73a6f3e55d80830dd699695a96': 4.0,\n",
       " 'cba0abedd67c3e31d78b39f53e15b250': 3.0,\n",
       " '5f80f55be5fcac98f67649030cb58a81': 5.0,\n",
       " 'aa3a874c991cd9fecdd68e4c9938ba0c': 3.0,\n",
       " 'e01794a3c9d04fdd0ab94365d03c29f1': 3.5,\n",
       " '9c832443e883b0fbf613883fd744c6ad': 4.0,\n",
       " 'e0ae88eaf34008151ed85eee86bd0ede': 4.0,\n",
       " 'f3c8964c3a81ab9f5694f4164c9a8b2d': 3.0,\n",
       " '90017cad4e4c44a843ba5ebf67988a52': 3.0,\n",
       " '7d78bd9bcf12a3fe093c801649eff398': 3.0,\n",
       " '0441deec21214ebc60c13f41ac8ab06c': 3.0,\n",
       " '26e9028eff279f4cd4ee7d56d7381bb1': 3.3333333333333335,\n",
       " '439e66af8143bc0ea96e76fed1a0daff': 4.25,\n",
       " 'b8c130a78b47cca1cc7340c05e768331': 3.7142857142857144,\n",
       " '459a5021409ad869d02dcfb41eccce1d': 3.0,\n",
       " '653704064dfa74e0604262b2a646ca15': 2.75,\n",
       " '54f37d5f5e8111d2e7fe39e997468b32': 3.125,\n",
       " '722183bd328a903c8559843b11d249f5': 3.3636363636363638,\n",
       " '47b994feef16f8ebc5142ad7a42bfc79': 3.4,\n",
       " '0e60bafc7be5db29912b8d27f62f6241': 5.0,\n",
       " '8590e0a173796ab4cf08e9a2b85afe87': 4.0,\n",
       " '287d63454fec73b523f9ce650f931210': 4.5,\n",
       " '8cf5e7b479644265868bd08e8f64b622': 3.5,\n",
       " '5d665ec0ea6a3b363144e61dd387a7c9': 3.0,\n",
       " '31c85fc6bf4ed80533c3212fc88b8386': 4.0,\n",
       " '594673156086b31ff84561ed148b0558': 4.0,\n",
       " '5f26661d439249b94a9fce394036588f': 5.0,\n",
       " 'efb7b06f7b419668d5d6b2a4a149769a': 3.25,\n",
       " 'c96ef78de7028e9ed7002356fb800a52': 3.6,\n",
       " '23f5c2b9a21741efdc63d3a2faed913d': 2.0,\n",
       " 'f758115f956864416fdf6ab5f41992fc': 1.0,\n",
       " '811ad8ec70ab7fa4c0f89664936537c1': 3.25,\n",
       " '3fa532eba8a1128343e6570e806829f4': 4.0,\n",
       " 'f29a124685394c930015acbc29639f47': 4.0,\n",
       " '0316c55eb991aee9d8c498c243046a70': 4.428571428571429,\n",
       " '23a3138ff390bdca40be05d3f2fa91df': 4.875,\n",
       " 'f24f68239f7ca277b8cae003ab07ba75': 3.5,\n",
       " 'bcb2c9cad4eec8d445d2fee98c2d30c1': 3.2857142857142856,\n",
       " '8842281e1d1347389f2ab93d60773d4d': 4.333333333333333,\n",
       " '64e4eb9eeb5cc26857587493892dd516': 4.5,\n",
       " 'ffd6c953994c599ce74e90874e3c7809': 3.6,\n",
       " '4840ecfe83b1864d5e5045a21e4d1bbb': 4.0,\n",
       " 'b6cf16f53f90af005288120d2ce60310': 4.75,\n",
       " '02b6c0dac439b8c8239e4d4bde32cad2': 3.6666666666666665,\n",
       " '5138cb3f558db18829bfd52ff4081fbf': 4.333333333333333,\n",
       " 'eb2fd69bee2831a9fcc9624fbf6e6f8c': 4.0,\n",
       " '7abca458eadbe6599a1a19cfbd0e846e': 4.0,\n",
       " 'fc433ef79d2d37c5f827f2d84ca0880a': 4.5,\n",
       " 'd61f73208ec7385cff30110708a6ac17': 4.0,\n",
       " '4933e88148d1335103d81c6625ee556d': 3.3333333333333335,\n",
       " '6b10f513ddaed37b6ebd9f0c785b800c': 4.5,\n",
       " 'bc3afdc8c21ad9d5c674708b882111bd': 4.0,\n",
       " '23fb1fc4a167b534ad8b3ee2969a6023': 2.5,\n",
       " '1889ceb8a3430115b59814d7e010f2c4': 3.6666666666666665,\n",
       " '315728370808d2dd2b60f824d398a266': 3.5,\n",
       " '0f930b3901144834a93783a25a03d1bd': 4.0,\n",
       " 'daccf66a386d5f725932cf7a529e0eeb': 4.75,\n",
       " '11525d39b06fcc7a4b41f068f34f3bb7': 4.8,\n",
       " '56ac99e3fd7616a95370ed2a954c27bb': 5.0,\n",
       " '846df16652fda605d9ad0d65d1d0deac': 3.5,\n",
       " '7e5ba5b39c36adc36fc67f5e1c2be0bf': 3.6666666666666665,\n",
       " '893a8d7fb585d32ce572712a0f9de80b': 4.5,\n",
       " 'f1bf9f422038df63c5eb398dd2192513': 3.75,\n",
       " 'f4183216c3e6487fd85419f9750e9220': 3.2,\n",
       " 'a1ffeaf98cb4e26d7ec24d69de916332': 3.6666666666666665,\n",
       " '263e663a0d11d9ed4d8ed8eae054c211': 3.0,\n",
       " '197dfdde11872683ad08276f0b09d195': 3.0,\n",
       " 'cfaa05c95872b5a25ece9f1815d1c016': 1.25,\n",
       " '29a670c6335520042f46f68e60c74e12': 4.142857142857143,\n",
       " '4b74f069a4248e93307481eb95e453d5': 4.25,\n",
       " '3557940a81f03417b2d29888ed16f4a2': 3.5,\n",
       " '35c1a8330df4f54e11252ff691bd6124': 3.125,\n",
       " '3e788b8bd7e5dccc4c21e09d0cac31a5': 3.3333333333333335,\n",
       " 'a9a4b0d7051cb6dd31fe15d82b330d35': 4.125,\n",
       " '2be175c86ecf349cafb4d136c37f24f7': 4.0,\n",
       " 'a429aa89999a54a0d8305bc2df1004b3': 4.0,\n",
       " 'ecd0586fae65e11f5fe567140f5a897a': 3.0,\n",
       " 'c3bbef4cdfdff6646d08ea17a05ad0db': 2.0,\n",
       " 'b777c2c98295133f5cb41ff3c9071ddc': 4.0,\n",
       " 'e6419cd0fd6687f84e4642a452c18b1a': 5.0,\n",
       " 'da57641f40d51d03db3ab94f5adbc328': 4.5,\n",
       " '6f0186410b6c5c0424b5ab1b90438bc6': 5.0,\n",
       " '7f413367ae89cf382689760ed06c3764': 3.6666666666666665,\n",
       " '7f6138f67e862de80ec004db1ae4d5ab': 4.5,\n",
       " '2488ceaea55060c82d9f3ed91eb82654': 4.0,\n",
       " '36f23a60a97fddc4ac6d34878be1abab': 3.3333333333333335,\n",
       " '2f727c754c81c6eaa14b5f80622bdbd9': 4.0,\n",
       " 'ab9bece5039632e9395ae431b519c282': 4.2,\n",
       " '892c90aef012dc294072ea70329c2ced': 2.3333333333333335,\n",
       " 'd867c5710baa2559255fd209a9e4a60c': 4.0,\n",
       " 'e2ac2bff0156bc759927d90c7bb8f5b0': 4.2,\n",
       " '899d33ec8bf33df7f59e07c111aa9e25': 2.0,\n",
       " '869ed7efc6a85ea3fc9f278b5151b5b0': 5.0,\n",
       " 'ec649dfc5ca1c0b9fe48716a4300ac39': 3.4,\n",
       " 'b891f4c64ee8368a5408b9dda39e84d2': 4.5,\n",
       " 'f620a5dde5438ab23dab6781a8fc3570': 3.5,\n",
       " 'b4365ebd5b60fb9027e54247fd9f19cd': 3.3076923076923075,\n",
       " 'df05dab8eeaf9f759de0d336ddccf175': 3.3333333333333335,\n",
       " 'addae4247be860dc349a0477b0399f6d': 3.0,\n",
       " ...}"
      ]
     },
     "execution_count": 14,
     "metadata": {},
     "output_type": "execute_result"
    }
   ],
   "source": [
    "userAverages1"
   ]
  },
  {
   "cell_type": "code",
   "execution_count": 15,
   "metadata": {},
   "outputs": [],
   "source": [
    "y = []\n",
    "ypred = []\n",
    "for u in reviewsPerUser:\n",
    "    for r in reviewsPerUser[u]:\n",
    "        if u in userAverages1:\n",
    "            y.append(r['rating'])\n",
    "            ypred.append(userAverages1[u])"
   ]
  },
  {
   "cell_type": "code",
   "execution_count": 16,
   "metadata": {},
   "outputs": [],
   "source": [
    "def MSE(y, ypred):\n",
    "    ds = [(a-b)**2 for (a,b) in zip(y, ypred)]\n",
    "    return sum(ds) / len(ds)"
   ]
  },
  {
   "cell_type": "code",
   "execution_count": 17,
   "id": "373cff96",
   "metadata": {},
   "outputs": [],
   "source": [
    "answers['Q1a'] = MSE(y,ypred)"
   ]
  },
  {
   "cell_type": "code",
   "execution_count": 18,
   "id": "bcd5ddd8",
   "metadata": {},
   "outputs": [],
   "source": [
    "assertFloat(answers['Q1a'])"
   ]
  },
  {
   "cell_type": "code",
   "execution_count": 19,
   "id": "c38c9d74",
   "metadata": {},
   "outputs": [],
   "source": [
    "### 1b"
   ]
  },
  {
   "cell_type": "code",
   "execution_count": 20,
   "id": "5131368a",
   "metadata": {},
   "outputs": [],
   "source": [
    "y = []\n",
    "ypred = []\n",
    "for i in reviewsPerItem:\n",
    "    for r in reviewsPerItem[i]:\n",
    "        if i in itemAverages1:\n",
    "            y.append(r['rating'])\n",
    "            ypred.append(itemAverages1[i])"
   ]
  },
  {
   "cell_type": "code",
   "execution_count": 21,
   "id": "2cccbe4e",
   "metadata": {},
   "outputs": [],
   "source": [
    "answers['Q1b'] = MSE(y,ypred)"
   ]
  },
  {
   "cell_type": "code",
   "execution_count": 22,
   "id": "7288fc5f",
   "metadata": {},
   "outputs": [],
   "source": [
    "assertFloat(answers['Q1b'])"
   ]
  },
  {
   "cell_type": "code",
   "execution_count": 23,
   "metadata": {},
   "outputs": [
    {
     "data": {
      "text/plain": [
       "{'Q1a': 1.1412831672957289, 'Q1b': 1.2232617119559104}"
      ]
     },
     "execution_count": 23,
     "metadata": {},
     "output_type": "execute_result"
    }
   ],
   "source": [
    "answers"
   ]
  },
  {
   "cell_type": "code",
   "execution_count": 24,
   "id": "0abf5752",
   "metadata": {},
   "outputs": [],
   "source": [
    "### 2"
   ]
  },
  {
   "cell_type": "code",
   "execution_count": 25,
   "metadata": {},
   "outputs": [],
   "source": [
    "userAveragesN = [{}, {}, {}]\n",
    "itemAveragesN = [{}, {}, {}] # Last 1, 2, 3\n",
    "\n",
    "for u in reviewsPerUser:\n",
    "    for i in range(3):\n",
    "        rs = [d['rating'] for d in reviewsPerUser[u]]\n",
    "        if len(rs) < i + 2:\n",
    "            continue\n",
    "        rs = rs[-(i+2):-1]\n",
    "        userAveragesN[i][u] = sum(rs) / len(rs)"
   ]
  },
  {
   "cell_type": "code",
   "execution_count": 26,
   "metadata": {},
   "outputs": [
    {
     "data": {
      "text/plain": [
       "4.0"
      ]
     },
     "execution_count": 26,
     "metadata": {},
     "output_type": "execute_result"
    }
   ],
   "source": [
    "userAveragesN[0][\"b0d7e561ca59e313b728dc30a5b1862e\"]"
   ]
  },
  {
   "cell_type": "code",
   "execution_count": 27,
   "id": "bcd540f9",
   "metadata": {},
   "outputs": [],
   "source": [
    "answers['Q2'] = []\n",
    "\n",
    "for N in [1,2,3]:\n",
    "    y = []\n",
    "    ypred = []\n",
    "    \n",
    "    for u in reviewsPerUser:\n",
    "        for r in reviewsPerUser[u]:\n",
    "            if u in userAveragesN[N-1]:\n",
    "                y.append(r['rating'])\n",
    "                ypred.append(userAveragesN[N-1][u])\n",
    "    answers['Q2'].append(MSE(y,ypred))"
   ]
  },
  {
   "cell_type": "code",
   "execution_count": 28,
   "metadata": {},
   "outputs": [
    {
     "data": {
      "text/plain": [
       "{'Q1a': 1.1412831672957289,\n",
       " 'Q1b': 1.2232617119559104,\n",
       " 'Q2': [2.072069253233208, 1.4872838998000706, 1.3331403382817468]}"
      ]
     },
     "execution_count": 28,
     "metadata": {},
     "output_type": "execute_result"
    }
   ],
   "source": [
    "answers"
   ]
  },
  {
   "cell_type": "code",
   "execution_count": 29,
   "id": "e1b4ed9d",
   "metadata": {},
   "outputs": [],
   "source": [
    "assertFloatList(answers['Q2'], 3)"
   ]
  },
  {
   "cell_type": "code",
   "execution_count": 30,
   "id": "206c058a",
   "metadata": {},
   "outputs": [],
   "source": [
    "### 3a"
   ]
  },
  {
   "cell_type": "code",
   "execution_count": 31,
   "id": "3ddd5e80",
   "metadata": {},
   "outputs": [],
   "source": [
    "def feature3(N, u): # For a user u and a window size of N\n",
    "    x = [1]\n",
    "    rs = [d['rating'] for d in reviewsPerUser[u]]\n",
    "    for n in range(N):\n",
    "        x.append(rs[-(n+2)])\n",
    "    return x"
   ]
  },
  {
   "cell_type": "code",
   "execution_count": 32,
   "id": "05e622a1",
   "metadata": {},
   "outputs": [],
   "source": [
    "answers['Q3a'] = [feature3(2,dataset[0]['user_id']), feature3(3,dataset[0]['user_id'])]"
   ]
  },
  {
   "cell_type": "code",
   "execution_count": 33,
   "id": "f839c5f5",
   "metadata": {},
   "outputs": [],
   "source": [
    "assert len(answers['Q3a']) == 2\n",
    "assert len(answers['Q3a'][0]) == 3\n",
    "assert len(answers['Q3a'][1]) == 4"
   ]
  },
  {
   "cell_type": "code",
   "execution_count": 34,
   "metadata": {},
   "outputs": [
    {
     "data": {
      "text/plain": [
       "[[1, 4, 4], [1, 4, 4, 4]]"
      ]
     },
     "execution_count": 34,
     "metadata": {},
     "output_type": "execute_result"
    }
   ],
   "source": [
    "answers['Q3a']"
   ]
  },
  {
   "cell_type": "code",
   "execution_count": 35,
   "id": "55691b95",
   "metadata": {},
   "outputs": [],
   "source": [
    "### 3b"
   ]
  },
  {
   "cell_type": "code",
   "execution_count": 36,
   "id": "4146d926",
   "metadata": {},
   "outputs": [],
   "source": [
    "answers['Q3b'] = []\n",
    "\n",
    "for N in [1,2,3]:\n",
    "    X = [feature3(N, u) for u in reviewsPerUser if len(reviewsPerUser[u]) > N+1]\n",
    "    y = [reviewsPerUser[u][-1]['rating'] for u in reviewsPerUser if len(reviewsPerUser[u]) > N+1]\n",
    "    mod = linear_model.LinearRegression()\n",
    "    mod.fit(X, y)\n",
    "    ypred = mod.predict(X)\n",
    "    mse = MSE(y, ypred)\n",
    "    answers['Q3b'].append(mse)"
   ]
  },
  {
   "cell_type": "code",
   "execution_count": 37,
   "id": "d512b24a",
   "metadata": {},
   "outputs": [],
   "source": [
    "assertFloatList(answers['Q3b'], 3)"
   ]
  },
  {
   "cell_type": "code",
   "execution_count": 38,
   "metadata": {},
   "outputs": [
    {
     "data": {
      "text/plain": [
       "{'Q1a': 1.1412831672957289,\n",
       " 'Q1b': 1.2232617119559104,\n",
       " 'Q2': [2.072069253233208, 1.4872838998000706, 1.3331403382817468],\n",
       " 'Q3a': [[1, 4, 4], [1, 4, 4, 4]],\n",
       " 'Q3b': [1.5723325467509277, 1.5610886662971608, 1.5236978010116853]}"
      ]
     },
     "execution_count": 38,
     "metadata": {},
     "output_type": "execute_result"
    }
   ],
   "source": [
    "answers"
   ]
  },
  {
   "cell_type": "code",
   "execution_count": 39,
   "id": "1ba65fb0",
   "metadata": {},
   "outputs": [],
   "source": [
    "### 4a"
   ]
  },
  {
   "cell_type": "code",
   "execution_count": 40,
   "id": "4aab34e1",
   "metadata": {},
   "outputs": [],
   "source": [
    "globalAverage = [d['rating'] for d in dataset]\n",
    "globalAverage = sum(globalAverage) / len(globalAverage)"
   ]
  },
  {
   "cell_type": "code",
   "execution_count": 41,
   "id": "2676be3e",
   "metadata": {},
   "outputs": [],
   "source": [
    "def featureMeanValue(N, u): # For a user u and a window size of N\n",
    "    f = [1]\n",
    "    for n in range(N):\n",
    "        try:\n",
    "            previous_val = reviewsPerUser[u][-1 - (n+1)]['rating']\n",
    "            f.append(previous_val)\n",
    "        except Exception as e:\n",
    "            try:\n",
    "                f.append(userAverages1[u])\n",
    "            except Exception as e2:\n",
    "                f.append(globalAverage)\n",
    "    return f"
   ]
  },
  {
   "cell_type": "code",
   "execution_count": 42,
   "id": "270cf89b",
   "metadata": {},
   "outputs": [],
   "source": [
    "def featureMissingValue(N, u):\n",
    "    f = [1]\n",
    "    for n in range(N):\n",
    "        try:\n",
    "            previous_val = reviewsPerUser[u][-1 - (n+1)]['rating']\n",
    "            f += [0, previous_val]\n",
    "        except Exception as e:\n",
    "            f += [1, 0]\n",
    "    return f"
   ]
  },
  {
   "cell_type": "code",
   "execution_count": 43,
   "id": "58791bde",
   "metadata": {},
   "outputs": [],
   "source": [
    "answers['Q4a'] = [featureMeanValue(10, dataset[0]['user_id']), featureMissingValue(10, dataset[0]['user_id'])]"
   ]
  },
  {
   "cell_type": "code",
   "execution_count": 44,
   "id": "a3c28e9f",
   "metadata": {},
   "outputs": [],
   "source": [
    "assert len(answers['Q4a']) == 2\n",
    "assert len(answers['Q4a'][0]) == 11\n",
    "assert len(answers['Q4a'][1]) == 21"
   ]
  },
  {
   "cell_type": "code",
   "execution_count": 45,
   "metadata": {},
   "outputs": [
    {
     "data": {
      "text/plain": [
       "{'Q1a': 1.1412831672957289,\n",
       " 'Q1b': 1.2232617119559104,\n",
       " 'Q2': [2.072069253233208, 1.4872838998000706, 1.3331403382817468],\n",
       " 'Q3a': [[1, 4, 4], [1, 4, 4, 4]],\n",
       " 'Q3b': [1.5723325467509277, 1.5610886662971608, 1.5236978010116853],\n",
       " 'Q4a': [[1, 4, 4, 4, 4, 5, 4.2, 4.2, 4.2, 4.2, 4.2],\n",
       "  [1, 0, 4, 0, 4, 0, 4, 0, 4, 0, 5, 1, 0, 1, 0, 1, 0, 1, 0, 1, 0]]}"
      ]
     },
     "execution_count": 45,
     "metadata": {},
     "output_type": "execute_result"
    }
   ],
   "source": [
    "answers"
   ]
  },
  {
   "cell_type": "code",
   "execution_count": 46,
   "id": "cbcee03e",
   "metadata": {},
   "outputs": [],
   "source": [
    "### 4b"
   ]
  },
  {
   "cell_type": "code",
   "execution_count": 47,
   "id": "73fabbf2",
   "metadata": {},
   "outputs": [],
   "source": [
    "answers['Q4b'] = []\n",
    "\n",
    "for featFunc in [featureMeanValue, featureMissingValue]:\n",
    "    X = [featFunc(N, u) for u in reviewsPerUser]\n",
    "    y = [reviewsPerUser[u][-1]['rating'] for u in reviewsPerUser]\n",
    "    mod = linear_model.LinearRegression()\n",
    "    mod.fit(X, y)\n",
    "    pred = mod.predict(X)\n",
    "    mse = MSE(pred, y)\n",
    "    answers['Q4b'].append(mse)"
   ]
  },
  {
   "cell_type": "code",
   "execution_count": 48,
   "id": "e348489b",
   "metadata": {},
   "outputs": [],
   "source": [
    "assertFloatList(answers[\"Q4b\"], 2)"
   ]
  },
  {
   "cell_type": "code",
   "execution_count": 49,
   "metadata": {},
   "outputs": [
    {
     "data": {
      "text/plain": [
       "[1.5505122537180556, 1.5432722347239864]"
      ]
     },
     "execution_count": 49,
     "metadata": {},
     "output_type": "execute_result"
    }
   ],
   "source": [
    "answers[\"Q4b\"]"
   ]
  },
  {
   "cell_type": "code",
   "execution_count": 50,
   "id": "c548e8bb",
   "metadata": {},
   "outputs": [],
   "source": [
    "### 5"
   ]
  },
  {
   "cell_type": "code",
   "execution_count": 51,
   "id": "1cee7eed",
   "metadata": {},
   "outputs": [],
   "source": [
    "def feature5(sentence):\n",
    "    f = [1]\n",
    "    f.append(len(sentence))\n",
    "    f.append(sentence.count('!'))\n",
    "    f.append(sum(c.isupper() for c in sentence))\n",
    "    return f"
   ]
  },
  {
   "cell_type": "code",
   "execution_count": 52,
   "id": "426ca2e8",
   "metadata": {},
   "outputs": [],
   "source": [
    "y = []\n",
    "X = []\n",
    "\n",
    "for d in dataset:\n",
    "    for spoiler,sentence in d['review_sentences']:\n",
    "        X.append(feature5(sentence))\n",
    "        y.append(spoiler)"
   ]
  },
  {
   "cell_type": "code",
   "execution_count": 53,
   "id": "428bd0e1",
   "metadata": {},
   "outputs": [
    {
     "data": {
      "text/plain": [
       "[[1, 121, 0, 4],\n",
       " [1, 114, 0, 2],\n",
       " [1, 157, 0, 2],\n",
       " [1, 155, 0, 3],\n",
       " [1, 88, 0, 2],\n",
       " [1, 75, 0, 1],\n",
       " [1, 137, 0, 6],\n",
       " [1, 58, 0, 1],\n",
       " [1, 108, 0, 1],\n",
       " [1, 25, 0, 2]]"
      ]
     },
     "execution_count": 53,
     "metadata": {},
     "output_type": "execute_result"
    }
   ],
   "source": [
    "X[:10]"
   ]
  },
  {
   "cell_type": "code",
   "execution_count": 54,
   "metadata": {},
   "outputs": [],
   "source": [
    "mod = linear_model.LogisticRegression(C=1.0, class_weight='balanced')"
   ]
  },
  {
   "cell_type": "code",
   "execution_count": 55,
   "metadata": {},
   "outputs": [
    {
     "data": {
      "text/html": [
       "<style>#sk-container-id-1 {color: black;}#sk-container-id-1 pre{padding: 0;}#sk-container-id-1 div.sk-toggleable {background-color: white;}#sk-container-id-1 label.sk-toggleable__label {cursor: pointer;display: block;width: 100%;margin-bottom: 0;padding: 0.3em;box-sizing: border-box;text-align: center;}#sk-container-id-1 label.sk-toggleable__label-arrow:before {content: \"▸\";float: left;margin-right: 0.25em;color: #696969;}#sk-container-id-1 label.sk-toggleable__label-arrow:hover:before {color: black;}#sk-container-id-1 div.sk-estimator:hover label.sk-toggleable__label-arrow:before {color: black;}#sk-container-id-1 div.sk-toggleable__content {max-height: 0;max-width: 0;overflow: hidden;text-align: left;background-color: #f0f8ff;}#sk-container-id-1 div.sk-toggleable__content pre {margin: 0.2em;color: black;border-radius: 0.25em;background-color: #f0f8ff;}#sk-container-id-1 input.sk-toggleable__control:checked~div.sk-toggleable__content {max-height: 200px;max-width: 100%;overflow: auto;}#sk-container-id-1 input.sk-toggleable__control:checked~label.sk-toggleable__label-arrow:before {content: \"▾\";}#sk-container-id-1 div.sk-estimator input.sk-toggleable__control:checked~label.sk-toggleable__label {background-color: #d4ebff;}#sk-container-id-1 div.sk-label input.sk-toggleable__control:checked~label.sk-toggleable__label {background-color: #d4ebff;}#sk-container-id-1 input.sk-hidden--visually {border: 0;clip: rect(1px 1px 1px 1px);clip: rect(1px, 1px, 1px, 1px);height: 1px;margin: -1px;overflow: hidden;padding: 0;position: absolute;width: 1px;}#sk-container-id-1 div.sk-estimator {font-family: monospace;background-color: #f0f8ff;border: 1px dotted black;border-radius: 0.25em;box-sizing: border-box;margin-bottom: 0.5em;}#sk-container-id-1 div.sk-estimator:hover {background-color: #d4ebff;}#sk-container-id-1 div.sk-parallel-item::after {content: \"\";width: 100%;border-bottom: 1px solid gray;flex-grow: 1;}#sk-container-id-1 div.sk-label:hover label.sk-toggleable__label {background-color: #d4ebff;}#sk-container-id-1 div.sk-serial::before {content: \"\";position: absolute;border-left: 1px solid gray;box-sizing: border-box;top: 0;bottom: 0;left: 50%;z-index: 0;}#sk-container-id-1 div.sk-serial {display: flex;flex-direction: column;align-items: center;background-color: white;padding-right: 0.2em;padding-left: 0.2em;position: relative;}#sk-container-id-1 div.sk-item {position: relative;z-index: 1;}#sk-container-id-1 div.sk-parallel {display: flex;align-items: stretch;justify-content: center;background-color: white;position: relative;}#sk-container-id-1 div.sk-item::before, #sk-container-id-1 div.sk-parallel-item::before {content: \"\";position: absolute;border-left: 1px solid gray;box-sizing: border-box;top: 0;bottom: 0;left: 50%;z-index: -1;}#sk-container-id-1 div.sk-parallel-item {display: flex;flex-direction: column;z-index: 1;position: relative;background-color: white;}#sk-container-id-1 div.sk-parallel-item:first-child::after {align-self: flex-end;width: 50%;}#sk-container-id-1 div.sk-parallel-item:last-child::after {align-self: flex-start;width: 50%;}#sk-container-id-1 div.sk-parallel-item:only-child::after {width: 0;}#sk-container-id-1 div.sk-dashed-wrapped {border: 1px dashed gray;margin: 0 0.4em 0.5em 0.4em;box-sizing: border-box;padding-bottom: 0.4em;background-color: white;}#sk-container-id-1 div.sk-label label {font-family: monospace;font-weight: bold;display: inline-block;line-height: 1.2em;}#sk-container-id-1 div.sk-label-container {text-align: center;}#sk-container-id-1 div.sk-container {/* jupyter's `normalize.less` sets `[hidden] { display: none; }` but bootstrap.min.css set `[hidden] { display: none !important; }` so we also need the `!important` here to be able to override the default hidden behavior on the sphinx rendered scikit-learn.org. See: https://github.com/scikit-learn/scikit-learn/issues/21755 */display: inline-block !important;position: relative;}#sk-container-id-1 div.sk-text-repr-fallback {display: none;}</style><div id=\"sk-container-id-1\" class=\"sk-top-container\"><div class=\"sk-text-repr-fallback\"><pre>LogisticRegression(class_weight=&#x27;balanced&#x27;)</pre><b>In a Jupyter environment, please rerun this cell to show the HTML representation or trust the notebook. <br />On GitHub, the HTML representation is unable to render, please try loading this page with nbviewer.org.</b></div><div class=\"sk-container\" hidden><div class=\"sk-item\"><div class=\"sk-estimator sk-toggleable\"><input class=\"sk-toggleable__control sk-hidden--visually\" id=\"sk-estimator-id-1\" type=\"checkbox\" checked><label for=\"sk-estimator-id-1\" class=\"sk-toggleable__label sk-toggleable__label-arrow\">LogisticRegression</label><div class=\"sk-toggleable__content\"><pre>LogisticRegression(class_weight=&#x27;balanced&#x27;)</pre></div></div></div></div></div>"
      ],
      "text/plain": [
       "LogisticRegression(class_weight='balanced')"
      ]
     },
     "execution_count": 55,
     "metadata": {},
     "output_type": "execute_result"
    }
   ],
   "source": [
    "mod.fit(X, y)"
   ]
  },
  {
   "cell_type": "code",
   "execution_count": 56,
   "metadata": {},
   "outputs": [],
   "source": [
    "y_pred = mod.predict(X)"
   ]
  },
  {
   "cell_type": "code",
   "execution_count": 57,
   "id": "a94d7aa9",
   "metadata": {},
   "outputs": [],
   "source": [
    "answers['Q5a'] = X[0]"
   ]
  },
  {
   "cell_type": "code",
   "execution_count": 58,
   "metadata": {},
   "outputs": [],
   "source": [
    "TP = sum([(p and l) for (p,l) in zip(y_pred, y)])\n",
    "FP = sum([(p and not l) for (p,l) in zip(y_pred, y)])\n",
    "TN = sum([(not p and not l) for (p,l) in zip(y_pred, y)])\n",
    "FN = sum([(not p and l) for (p,l) in zip(y_pred, y)])"
   ]
  },
  {
   "cell_type": "code",
   "execution_count": 59,
   "metadata": {},
   "outputs": [
    {
     "data": {
      "text/plain": [
       "0.4702652880062319"
      ]
     },
     "execution_count": 59,
     "metadata": {},
     "output_type": "execute_result"
    }
   ],
   "source": [
    "TPR = TP / (TP + FN)\n",
    "TNR = TN / (TN + FP)\n",
    "\n",
    "BER = 1 - 1/2 * (TPR + TNR)\n",
    "BER"
   ]
  },
  {
   "cell_type": "code",
   "execution_count": 60,
   "id": "116c5b25",
   "metadata": {},
   "outputs": [],
   "source": [
    "answers['Q5b'] = [TP, TN, FP, FN, BER]"
   ]
  },
  {
   "cell_type": "code",
   "execution_count": 61,
   "id": "c0c96525",
   "metadata": {},
   "outputs": [],
   "source": [
    "assert len(answers['Q5a']) == 4\n",
    "assertFloatList(answers['Q5b'], 5)"
   ]
  },
  {
   "cell_type": "code",
   "execution_count": 62,
   "metadata": {},
   "outputs": [
    {
     "data": {
      "text/plain": [
       "[2384, 168945, 86232, 3615, 0.4702652880062319]"
      ]
     },
     "execution_count": 62,
     "metadata": {},
     "output_type": "execute_result"
    }
   ],
   "source": [
    "answers['Q5b']"
   ]
  },
  {
   "cell_type": "code",
   "execution_count": 63,
   "id": "f826e166",
   "metadata": {},
   "outputs": [],
   "source": [
    "### 6"
   ]
  },
  {
   "cell_type": "code",
   "execution_count": 64,
   "id": "193e94e7",
   "metadata": {},
   "outputs": [],
   "source": [
    "def feature6(review):\n",
    "    f = []\n",
    "    f += [x[0] for x in review['review_sentences'][:5]]\n",
    "    f += feature5(review['review_sentences'][5][1])\n",
    "    return f"
   ]
  },
  {
   "cell_type": "code",
   "execution_count": 65,
   "id": "0a437dea",
   "metadata": {},
   "outputs": [],
   "source": [
    "y = []\n",
    "X = []\n",
    "\n",
    "for d in dataset:\n",
    "    sentences = d['review_sentences']\n",
    "    if len(sentences) < 6: continue\n",
    "    X.append(feature6(d))\n",
    "    y.append(sentences[5][0])\n",
    "\n",
    "mod = linear_model.LogisticRegression(C=1.0, class_weight='balanced')\n",
    "mod.fit(X, y)\n",
    "y_pred = mod.predict(X)"
   ]
  },
  {
   "cell_type": "code",
   "execution_count": 66,
   "metadata": {},
   "outputs": [],
   "source": [
    "def rates(y_pred, y):\n",
    "    TP = sum([(p and l) for (p,l) in zip(y_pred, y)])\n",
    "    FP = sum([(p and not l) for (p,l) in zip(y_pred, y)])\n",
    "    TN = sum([(not p and not l) for (p,l) in zip(y_pred, y)])\n",
    "    FN = sum([(not p and l) for (p,l) in zip(y_pred, y)])\n",
    "    \n",
    "    TPR = TP / (TP + FN)\n",
    "    TNR = TN / (TN + FP)\n",
    "\n",
    "    BER = 1 - 1/2 * (TPR + TNR)\n",
    "    BER\n",
    "    return (TP, FP, TN, FN, BER)"
   ]
  },
  {
   "cell_type": "code",
   "execution_count": 67,
   "metadata": {},
   "outputs": [
    {
     "data": {
      "text/plain": [
       "0.170849126718692"
      ]
     },
     "execution_count": 67,
     "metadata": {},
     "output_type": "execute_result"
    }
   ],
   "source": [
    "_, _, _, _, BER = rates(y_pred, y)\n",
    "BER"
   ]
  },
  {
   "cell_type": "code",
   "execution_count": 68,
   "id": "c61a5fc1",
   "metadata": {},
   "outputs": [],
   "source": [
    "answers['Q6a'] = X[0]"
   ]
  },
  {
   "cell_type": "code",
   "execution_count": 69,
   "id": "f977c642",
   "metadata": {},
   "outputs": [],
   "source": [
    "answers['Q6b'] = BER"
   ]
  },
  {
   "cell_type": "code",
   "execution_count": 70,
   "id": "f0be28cd",
   "metadata": {},
   "outputs": [],
   "source": [
    "assert len(answers['Q6a']) == 9\n",
    "assertFloat(answers['Q6b'])"
   ]
  },
  {
   "cell_type": "code",
   "execution_count": 71,
   "id": "3bda0b36",
   "metadata": {},
   "outputs": [],
   "source": [
    "### 7"
   ]
  },
  {
   "cell_type": "code",
   "execution_count": 72,
   "id": "8c01c5f8",
   "metadata": {},
   "outputs": [],
   "source": [
    "# 50/25/25% train/valid/test split\n",
    "Xtrain, Xvalid, Xtest = X[:len(X)//2], X[len(X)//2:(3*len(X))//4], X[(3*len(X))//4:]\n",
    "ytrain, yvalid, ytest = y[:len(X)//2], y[len(X)//2:(3*len(X))//4], y[(3*len(X))//4:]"
   ]
  },
  {
   "cell_type": "code",
   "execution_count": 73,
   "id": "c253fc14",
   "metadata": {},
   "outputs": [],
   "source": [
    "bers = []\n",
    "bestC = None\n",
    "bestValidBER = None\n",
    "bestBER = None\n",
    "\n",
    "for c in [0.01, 0.1, 1, 10, 100]:\n",
    "    mod = linear_model.LogisticRegression(C=1.0, class_weight='balanced')\n",
    "    mod.fit(Xtrain, ytrain)\n",
    "    y_pred_valid = mod.predict(Xvalid)\n",
    "    y_pred_test = mod.predict(Xtest)\n",
    "    _,_,_,_,ber_valid = rates(y_pred_valid, yvalid)\n",
    "    _,_,_,_,ber_test = rates(y_pred_test, ytest)\n",
    "    if bestC == None or ber_valid < bestValidBER:\n",
    "        bestC = c\n",
    "        bestValidBER = ber_valid\n",
    "        bestBER = ber_test\n",
    "    bers.append(ber_valid)"
   ]
  },
  {
   "cell_type": "code",
   "execution_count": 74,
   "id": "b8389608",
   "metadata": {},
   "outputs": [],
   "source": [
    "answers['Q7'] = bers + [bestC] + [bestBER]"
   ]
  },
  {
   "cell_type": "code",
   "execution_count": 75,
   "metadata": {},
   "outputs": [
    {
     "data": {
      "text/plain": [
       "[0.14353872972563286,\n",
       " 0.14353872972563286,\n",
       " 0.14353872972563286,\n",
       " 0.14353872972563286,\n",
       " 0.14353872972563286,\n",
       " 0.01,\n",
       " 0.21402101510460647]"
      ]
     },
     "execution_count": 75,
     "metadata": {},
     "output_type": "execute_result"
    }
   ],
   "source": [
    "answers['Q7']"
   ]
  },
  {
   "cell_type": "code",
   "execution_count": 76,
   "id": "1d53b5ef",
   "metadata": {},
   "outputs": [],
   "source": [
    "assertFloatList(answers['Q7'], 7)"
   ]
  },
  {
   "cell_type": "code",
   "execution_count": 77,
   "id": "f06e4f15",
   "metadata": {},
   "outputs": [],
   "source": [
    "### 8"
   ]
  },
  {
   "cell_type": "code",
   "execution_count": 78,
   "id": "38a6c14f",
   "metadata": {},
   "outputs": [],
   "source": [
    "def Jaccard(s1, s2):\n",
    "    numer = len(s1.intersection(s2))\n",
    "    denom = len(s1.union(s2))\n",
    "    if denom == 0:\n",
    "        return 0\n",
    "    return numer / denom"
   ]
  },
  {
   "cell_type": "code",
   "execution_count": 79,
   "id": "57f30ce4",
   "metadata": {},
   "outputs": [],
   "source": [
    "# 75/25% train/test split\n",
    "dataTrain = dataset[:15000]\n",
    "dataTest = dataset[15000:]"
   ]
  },
  {
   "cell_type": "code",
   "execution_count": 80,
   "id": "1d770bb8",
   "metadata": {},
   "outputs": [],
   "source": [
    "# A few utilities\n",
    "\n",
    "itemAverages = defaultdict(list)\n",
    "ratingMean = []\n",
    "\n",
    "for d in dataTrain:\n",
    "    itemAverages[d['book_id']].append(d['rating'])\n",
    "    ratingMean.append(d['rating'])\n",
    "\n",
    "for i in itemAverages:\n",
    "    itemAverages[i] = sum(itemAverages[i]) / len(itemAverages[i])\n",
    "\n",
    "ratingMean = sum(ratingMean) / len(ratingMean)"
   ]
  },
  {
   "cell_type": "code",
   "execution_count": 81,
   "id": "62952595",
   "metadata": {},
   "outputs": [],
   "source": [
    "reviewsPerUser = defaultdict(list)\n",
    "usersPerItem = defaultdict(set)\n",
    "\n",
    "for d in dataTrain:\n",
    "    u,i = d['user_id'], d['book_id']\n",
    "    reviewsPerUser[u].append(d)\n",
    "    usersPerItem[i].add(u)"
   ]
  },
  {
   "cell_type": "code",
   "execution_count": 82,
   "id": "4e0ab533",
   "metadata": {},
   "outputs": [],
   "source": [
    "# From my HW2 solution, welcome to reuse\n",
    "def predictRating(user,item):\n",
    "    ratings = []\n",
    "    similarities = []\n",
    "    for d in reviewsPerUser[user]:\n",
    "        i2 = d['book_id']\n",
    "        if i2 == item: continue\n",
    "        ratings.append(d['rating'] - itemAverages[i2])\n",
    "        similarities.append(Jaccard(usersPerItem[item],usersPerItem[i2]))\n",
    "    if (sum(similarities) > 0):\n",
    "        weightedRatings = [(x*y) for x,y in zip(ratings,similarities)]\n",
    "        return itemAverages[item] + sum(weightedRatings) / sum(similarities)\n",
    "    else:\n",
    "        # User hasn't rated any similar items\n",
    "        if item in itemAverages:\n",
    "            return itemAverages[item]\n",
    "        else:\n",
    "            return ratingMean"
   ]
  },
  {
   "cell_type": "code",
   "execution_count": 83,
   "metadata": {},
   "outputs": [],
   "source": [
    "predictions = [predictRating(d['user_id'], d['book_id']) for d in dataTest]"
   ]
  },
  {
   "cell_type": "code",
   "execution_count": 84,
   "metadata": {},
   "outputs": [],
   "source": [
    "labels = [d['rating'] for d in dataTest]"
   ]
  },
  {
   "cell_type": "code",
   "execution_count": 85,
   "id": "e4891766",
   "metadata": {},
   "outputs": [],
   "source": [
    "answers[\"Q8\"] = MSE(predictions, labels)"
   ]
  },
  {
   "cell_type": "code",
   "execution_count": 86,
   "id": "789b53e1",
   "metadata": {},
   "outputs": [],
   "source": [
    "assertFloat(answers[\"Q8\"])"
   ]
  },
  {
   "cell_type": "code",
   "execution_count": 87,
   "metadata": {},
   "outputs": [
    {
     "data": {
      "text/plain": [
       "1.8164934412791371"
      ]
     },
     "execution_count": 87,
     "metadata": {},
     "output_type": "execute_result"
    }
   ],
   "source": [
    "answers[\"Q8\"]"
   ]
  },
  {
   "cell_type": "code",
   "execution_count": 88,
   "id": "0b298ec5",
   "metadata": {},
   "outputs": [],
   "source": [
    "### 9"
   ]
  },
  {
   "cell_type": "code",
   "execution_count": 89,
   "id": "b8b8ce68",
   "metadata": {},
   "outputs": [],
   "source": [
    "seA = []\n",
    "seB = []\n",
    "seC = []\n",
    "\n",
    "for d in dataTest:\n",
    "    u,i = d['user_id'], d['book_id']\n",
    "    rat = d['rating']\n",
    "    pred = predictRating(u, i)\n",
    "    se = (pred - rat)**2\n",
    "    \n",
    "    if not (i in itemAverages):\n",
    "        seA.append(se)\n",
    "    \n",
    "    if len(usersPerItem[i]) >= 1 and len(usersPerItem[i]) <= 5:\n",
    "        seB.append(se)\n",
    "    \n",
    "    if len(usersPerItem[i]) > 5:\n",
    "        seC.append(se)"
   ]
  },
  {
   "cell_type": "code",
   "execution_count": 90,
   "metadata": {},
   "outputs": [],
   "source": [
    "seA = sum(seA) / len(seA)\n",
    "seB = sum(seB) / len(seB)\n",
    "seC = sum(seC) / len(seC)"
   ]
  },
  {
   "cell_type": "code",
   "execution_count": 91,
   "id": "d269238e",
   "metadata": {},
   "outputs": [],
   "source": [
    "answers[\"Q9\"] = [seA, seB, seC]"
   ]
  },
  {
   "cell_type": "code",
   "execution_count": 92,
   "id": "ebfff50c",
   "metadata": {},
   "outputs": [],
   "source": [
    "assertFloatList(answers[\"Q9\"], 3)"
   ]
  },
  {
   "cell_type": "code",
   "execution_count": 93,
   "metadata": {},
   "outputs": [
    {
     "data": {
      "text/plain": [
       "(1.742012484444442, 2.052681872005889, 1.452063234864505)"
      ]
     },
     "execution_count": 93,
     "metadata": {},
     "output_type": "execute_result"
    }
   ],
   "source": [
    "seA, seB, seC"
   ]
  },
  {
   "cell_type": "code",
   "execution_count": 94,
   "id": "0dbe10f1",
   "metadata": {},
   "outputs": [],
   "source": [
    "### 10"
   ]
  },
  {
   "cell_type": "code",
   "execution_count": null,
   "id": "e2fea856",
   "metadata": {},
   "outputs": [],
   "source": []
  },
  {
   "cell_type": "code",
   "execution_count": 95,
   "id": "305d3531",
   "metadata": {},
   "outputs": [
    {
     "ename": "NameError",
     "evalue": "name 'itsMSE' is not defined",
     "output_type": "error",
     "traceback": [
      "\u001b[0;31m---------------------------------------------------------------------------\u001b[0m",
      "\u001b[0;31mNameError\u001b[0m                                 Traceback (most recent call last)",
      "\u001b[1;32m/Users/youzezheng/Desktop/fa22_midterm/Midterm_stub.ipynb Cell 96\u001b[0m line \u001b[0;36m1\n\u001b[0;32m----> <a href='vscode-notebook-cell:/Users/youzezheng/Desktop/fa22_midterm/Midterm_stub.ipynb#Y163sZmlsZQ%3D%3D?line=0'>1</a>\u001b[0m answers[\u001b[39m\"\u001b[39m\u001b[39mQ10\u001b[39m\u001b[39m\"\u001b[39m] \u001b[39m=\u001b[39m (\u001b[39m\"\u001b[39m\u001b[39mdescribe your solution\u001b[39m\u001b[39m\"\u001b[39m, itsMSE)\n",
      "\u001b[0;31mNameError\u001b[0m: name 'itsMSE' is not defined"
     ]
    }
   ],
   "source": [
    "answers[\"Q10\"] = (\"describe your solution\", itsMSE)"
   ]
  },
  {
   "cell_type": "code",
   "execution_count": null,
   "id": "d0613500",
   "metadata": {},
   "outputs": [],
   "source": [
    "assert type(answers[\"Q10\"][0]) == str\n",
    "assertFloat(answers[\"Q10\"][1])"
   ]
  },
  {
   "cell_type": "code",
   "execution_count": null,
   "id": "436d2691",
   "metadata": {},
   "outputs": [],
   "source": [
    "f = open(\"answers_midterm.txt\", 'w')\n",
    "f.write(str(answers) + '\\n')\n",
    "f.close()"
   ]
  },
  {
   "cell_type": "code",
   "execution_count": null,
   "id": "b53acc41",
   "metadata": {},
   "outputs": [],
   "source": []
  }
 ],
 "metadata": {
  "kernelspec": {
   "display_name": "Python 3 (ipykernel)",
   "language": "python",
   "name": "python3"
  },
  "language_info": {
   "codemirror_mode": {
    "name": "ipython",
    "version": 3
   },
   "file_extension": ".py",
   "mimetype": "text/x-python",
   "name": "python",
   "nbconvert_exporter": "python",
   "pygments_lexer": "ipython3",
   "version": "3.11.5"
  }
 },
 "nbformat": 4,
 "nbformat_minor": 5
}
