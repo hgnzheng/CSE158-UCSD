{
 "cells": [
  {
   "cell_type": "code",
   "execution_count": 1,
   "id": "0f55c023",
   "metadata": {},
   "outputs": [],
   "source": [
    "import gzip\n",
    "from collections import defaultdict\n",
    "import math\n",
    "import scipy.optimize\n",
    "from sklearn import svm\n",
    "import numpy as np\n",
    "import string\n",
    "import random\n",
    "import string\n",
    "from sklearn import linear_model\n",
    "import tensorflow as tf\n",
    "from surprise.model_selection import train_test_split"
   ]
  },
  {
   "cell_type": "code",
   "execution_count": 2,
   "id": "005c1a02-c5bf-4241-8d00-dc260d36f08f",
   "metadata": {},
   "outputs": [],
   "source": [
    "def assertFloat(x):\n",
    "    assert type(float(x)) == float\n",
    "\n",
    "def assertFloatList(items, N):\n",
    "    assert len(items) == N\n",
    "    assert [type(float(x)) for x in items] == [float]*N"
   ]
  },
  {
   "cell_type": "code",
   "execution_count": 3,
   "id": "cb2abe72",
   "metadata": {},
   "outputs": [],
   "source": [
    "def readGz(path):\n",
    "    for l in gzip.open(path, 'rt'):\n",
    "        yield eval(l)"
   ]
  },
  {
   "cell_type": "code",
   "execution_count": 4,
   "id": "e54fa48f",
   "metadata": {},
   "outputs": [],
   "source": [
    "def readJSON(path):\n",
    "    f = gzip.open(path, 'rt')\n",
    "    f.readline()\n",
    "    for l in f:\n",
    "        d = eval(l)\n",
    "        u = d['userID']\n",
    "        g = d['gameID']\n",
    "        yield u,g,d"
   ]
  },
  {
   "cell_type": "code",
   "execution_count": 5,
   "id": "c215087c",
   "metadata": {},
   "outputs": [],
   "source": [
    "answers = {}"
   ]
  },
  {
   "cell_type": "code",
   "execution_count": 6,
   "id": "27aec54d",
   "metadata": {},
   "outputs": [],
   "source": [
    "# Some data structures that will be useful"
   ]
  },
  {
   "cell_type": "code",
   "execution_count": 7,
   "id": "e72d24da",
   "metadata": {},
   "outputs": [],
   "source": [
    "allHours = []\n",
    "for l in readJSON(\"train.json.gz\"):\n",
    "    allHours.append(l)"
   ]
  },
  {
   "cell_type": "code",
   "execution_count": 8,
   "id": "462bd9bd-b657-4571-8fef-eee11d852099",
   "metadata": {},
   "outputs": [],
   "source": [
    "hoursTrain = allHours[:165000]\n",
    "hoursValid = allHours[165000:]"
   ]
  },
  {
   "cell_type": "code",
   "execution_count": 9,
   "id": "c58fd9e5-0ba6-4fef-83c1-315503d75348",
   "metadata": {},
   "outputs": [],
   "source": [
    "##################################################\n",
    "# Play prediction                                #\n",
    "##################################################"
   ]
  },
  {
   "cell_type": "code",
   "execution_count": 10,
   "metadata": {},
   "outputs": [
    {
     "data": {
      "text/plain": [
       "('u70666506',\n",
       " 'g49368897',\n",
       " {'userID': 'u70666506',\n",
       "  'early_access': False,\n",
       "  'hours': 63.5,\n",
       "  'hours_transformed': 6.011227255423254,\n",
       "  'found_funny': 1,\n",
       "  'text': 'If you want to sit in queue for 10-20min and have 140 ping then this game is perfect for you :)',\n",
       "  'gameID': 'g49368897',\n",
       "  'user_id': '76561198030408772',\n",
       "  'date': '2017-05-20'})"
      ]
     },
     "execution_count": 10,
     "metadata": {},
     "output_type": "execute_result"
    }
   ],
   "source": [
    "hoursTrain[0]"
   ]
  },
  {
   "cell_type": "code",
   "execution_count": 11,
   "id": "4e06cc33-bc60-4b45-be63-8033c17d9fe6",
   "metadata": {},
   "outputs": [],
   "source": [
    "# Any other preprocessing...\n",
    "users = set() # maintain a set of unique users\n",
    "games = set() # maintain a set of unique games\n",
    "pos_pairs = []\n",
    "for l in readGz(\"train.json.gz\"):\n",
    "    u,g = l['userID'], l['gameID']\n",
    "    users.add(u)\n",
    "    games.add(g)\n",
    "    pos_pairs += [(u, g)]"
   ]
  },
  {
   "cell_type": "code",
   "execution_count": 12,
   "metadata": {},
   "outputs": [],
   "source": [
    "train_data = pos_pairs[:165000]\n",
    "valid_data = pos_pairs[165000:] # because pos_pairs has length 175000"
   ]
  },
  {
   "cell_type": "code",
   "execution_count": 13,
   "metadata": {},
   "outputs": [
    {
     "data": {
      "text/plain": [
       "(6710, 2437)"
      ]
     },
     "execution_count": 13,
     "metadata": {},
     "output_type": "execute_result"
    }
   ],
   "source": [
    "len(users), len(games)"
   ]
  },
  {
   "cell_type": "code",
   "execution_count": 14,
   "metadata": {},
   "outputs": [
    {
     "name": "stderr",
     "output_type": "stream",
     "text": [
      "/var/folders/8f/_6h5xprs32dfmm3jfs0g7k880000gn/T/ipykernel_25869/759351938.py:5: DeprecationWarning: Sampling from a set deprecated\n",
      "since Python 3.9 and will be removed in a subsequent version.\n",
      "  user = random.sample(users, 1)[0]\n",
      "/var/folders/8f/_6h5xprs32dfmm3jfs0g7k880000gn/T/ipykernel_25869/759351938.py:6: DeprecationWarning: Sampling from a set deprecated\n",
      "since Python 3.9 and will be removed in a subsequent version.\n",
      "  game = random.sample(games, 1)[0]\n"
     ]
    }
   ],
   "source": [
    "# Randomly sample games that weren't played\n",
    "neg_pairs = set()\n",
    "len_valid = len(hoursValid)\n",
    "while True:\n",
    "    user = random.sample(users, 1)[0]\n",
    "    game = random.sample(games, 1)[0]\n",
    "    if (user, game) not in pos_pairs:\n",
    "        neg_pairs.add((user, game))\n",
    "    if len(neg_pairs) == len_valid:\n",
    "        break"
   ]
  },
  {
   "cell_type": "code",
   "execution_count": 15,
   "metadata": {},
   "outputs": [
    {
     "data": {
      "text/plain": [
       "(9999, 165000)"
      ]
     },
     "execution_count": 15,
     "metadata": {},
     "output_type": "execute_result"
    }
   ],
   "source": [
    "len(neg_pairs), len(train_data)"
   ]
  },
  {
   "cell_type": "code",
   "execution_count": 16,
   "id": "12f46fd0-3abb-4f46-8a8b-9cf37efa99ee",
   "metadata": {},
   "outputs": [],
   "source": [
    "### Question 1"
   ]
  },
  {
   "cell_type": "code",
   "execution_count": 17,
   "id": "7aa30a66-0dcd-4f1f-beb0-a6ba473c9070",
   "metadata": {},
   "outputs": [
    {
     "data": {
      "text/plain": [
       "0.68105"
      ]
     },
     "execution_count": 17,
     "metadata": {},
     "output_type": "execute_result"
    }
   ],
   "source": [
    "# Evaluate baseline strategy\n",
    "gameCount = defaultdict(int)\n",
    "totalPlayed = 0\n",
    "\n",
    "for user,game in train_data:\n",
    "    gameCount[game] += 1\n",
    "    totalPlayed += 1\n",
    "\n",
    "mostPopular = [(gameCount[x], x) for x in gameCount]\n",
    "mostPopular.sort()\n",
    "mostPopular.reverse()\n",
    "\n",
    "return1 = set()\n",
    "count = 0\n",
    "for ic, i in mostPopular:\n",
    "    count += ic\n",
    "    return1.add(i)\n",
    "    if count > totalPlayed/2: break\n",
    "\n",
    "predictions = []\n",
    "for user,game in valid_data:\n",
    "    if game in return1:\n",
    "        predictions += [1]\n",
    "    else:\n",
    "        predictions += [0]\n",
    "    \n",
    "for user,game in neg_pairs:\n",
    "    if game in return1:\n",
    "        predictions += [1]\n",
    "    else:\n",
    "        predictions += [0]\n",
    "\n",
    "sum_pred = sum([predictions[i]==1 for i in range(9999)]) + \\\n",
    "    sum([predictions[i] == 0 for i in range(9999, len(predictions))])\n",
    "acc = sum_pred / (2*len(valid_data))\n",
    "acc"
   ]
  },
  {
   "cell_type": "code",
   "execution_count": 18,
   "id": "17cb78c4-5841-46a9-af75-cc347d4f39c0",
   "metadata": {},
   "outputs": [
    {
     "data": {
      "text/plain": [
       "0.68105"
      ]
     },
     "execution_count": 18,
     "metadata": {},
     "output_type": "execute_result"
    }
   ],
   "source": [
    "answers['Q1'] = acc\n",
    "answers['Q1']"
   ]
  },
  {
   "cell_type": "code",
   "execution_count": 19,
   "id": "158deaa6-d294-4873-b10f-85f883d833d8",
   "metadata": {},
   "outputs": [],
   "source": [
    "assertFloat(answers['Q1'])"
   ]
  },
  {
   "cell_type": "code",
   "execution_count": 20,
   "id": "f843a2a7-57e5-4947-a513-ba8fa35f8cb6",
   "metadata": {},
   "outputs": [],
   "source": [
    "### Question 2"
   ]
  },
  {
   "cell_type": "code",
   "execution_count": 21,
   "id": "47c2b474-700f-4d37-be1b-3a704ad2968b",
   "metadata": {},
   "outputs": [],
   "source": [
    "# Improved strategy"
   ]
  },
  {
   "cell_type": "code",
   "execution_count": 22,
   "id": "6474d5ac-7dd0-4d62-b938-ec025bef55de",
   "metadata": {},
   "outputs": [
    {
     "data": {
      "text/plain": [
       "0.7002"
      ]
     },
     "execution_count": 22,
     "metadata": {},
     "output_type": "execute_result"
    }
   ],
   "source": [
    "# Evaluate baseline strategy\n",
    "gameCount = defaultdict(int)\n",
    "totalPlayed = 0\n",
    "\n",
    "for user,game in train_data:\n",
    "    gameCount[game] += 1\n",
    "    totalPlayed += 1\n",
    "\n",
    "mostPopular = [(gameCount[x], x) for x in gameCount]\n",
    "mostPopular.sort()\n",
    "mostPopular.reverse()\n",
    "\n",
    "return1 = set()\n",
    "count = 0\n",
    "for ic, i in mostPopular:\n",
    "    count += ic\n",
    "    return1.add(i)\n",
    "    if count > totalPlayed/1.5: break # Choose 67% percentile instead\n",
    "\n",
    "predictions = []\n",
    "for user,game in valid_data:\n",
    "    if game in return1:\n",
    "        predictions += [1]\n",
    "    else:\n",
    "        predictions += [0]\n",
    "    \n",
    "for user,game in neg_pairs:\n",
    "    if game in return1:\n",
    "        predictions += [1]\n",
    "    else:\n",
    "        predictions += [0]\n",
    "\n",
    "sum_pred_q2 = sum([predictions[i]==1 for i in range(9999)]) + \\\n",
    "    sum([predictions[i] == 0 for i in range(9999, len(predictions))])\n",
    "acc_q2 = sum_pred_q2 / (2*len(valid_data))\n",
    "acc_q2"
   ]
  },
  {
   "cell_type": "code",
   "execution_count": 23,
   "id": "06a69839-1423-4160-80dc-451eccf6b82f",
   "metadata": {},
   "outputs": [
    {
     "data": {
      "text/plain": [
       "[0.6666666666666666, 0.7002]"
      ]
     },
     "execution_count": 23,
     "metadata": {},
     "output_type": "execute_result"
    }
   ],
   "source": [
    "answers['Q2'] = [1/1.5, acc_q2]\n",
    "answers['Q2']"
   ]
  },
  {
   "cell_type": "code",
   "execution_count": 24,
   "id": "44ddabf1-bf18-428d-91b2-82702133cfb1",
   "metadata": {},
   "outputs": [],
   "source": [
    "assertFloatList(answers['Q2'], 2)"
   ]
  },
  {
   "cell_type": "code",
   "execution_count": 25,
   "id": "8c5c5e95-1c35-4f00-9fac-5a1d3bec338b",
   "metadata": {},
   "outputs": [],
   "source": [
    "### Question 3/4"
   ]
  },
  {
   "cell_type": "code",
   "execution_count": 26,
   "metadata": {},
   "outputs": [],
   "source": [
    "userPerGame = defaultdict(set) # Maps a game to the users who played it\n",
    "gamePerUser = defaultdict(set) # Maps a user to the game that they played\n",
    "hoursDict = {} # To retrieve an hour for a specific user/game pair\n",
    "\n",
    "for d in hoursTrain:\n",
    "    user,game = d[0], d[1]\n",
    "    userPerGame[game].add(user)\n",
    "    gamePerUser[user].add(game)\n",
    "    hoursDict[(user, game)] = d[2]['hours']"
   ]
  },
  {
   "cell_type": "code",
   "execution_count": 27,
   "metadata": {},
   "outputs": [],
   "source": [
    "userAverages = {}\n",
    "gameAverages = {}\n",
    "\n",
    "for u in gamePerUser:\n",
    "    rs = [hoursDict[(u,g)] for g in gamePerUser[u]]\n",
    "    userAverages[u] = sum(rs) / len(rs)\n",
    "\n",
    "for g in userPerGame:\n",
    "    rs = [hoursDict[(u,g)] for u in userPerGame[g]]\n",
    "    gameAverages[g] = sum(rs) / (len(rs))"
   ]
  },
  {
   "cell_type": "code",
   "execution_count": 28,
   "metadata": {},
   "outputs": [],
   "source": [
    "reviewsPerUser = defaultdict(list)\n",
    "reviewsPerGame = defaultdict(list)\n",
    "\n",
    "for d in hoursTrain:\n",
    "    user,game = d[0], d[1]\n",
    "    reviewsPerUser[user].append(d)\n",
    "    reviewsPerGame[game].append(d)"
   ]
  },
  {
   "cell_type": "code",
   "execution_count": 29,
   "metadata": {},
   "outputs": [
    {
     "data": {
      "text/plain": [
       "('u05450000',\n",
       " 'g52077802',\n",
       " {'hours': 16.8,\n",
       "  'gameID': 'g52077802',\n",
       "  'hours_transformed': 4.153805336079036,\n",
       "  'early_access': False,\n",
       "  'date': '2011-05-28',\n",
       "  'text': 'A poorly optimized and poorly realized piece of♥♥♥♥♥♥ Stay clear of this and all future Splash Damage products.',\n",
       "  'userID': 'u05450000'})"
      ]
     },
     "execution_count": 29,
     "metadata": {},
     "output_type": "execute_result"
    }
   ],
   "source": [
    "reviewsPerUser[\"u05450000\"][0]"
   ]
  },
  {
   "cell_type": "code",
   "execution_count": 30,
   "id": "0e7cca75-8730-459c-ad27-d827d65856e2",
   "metadata": {},
   "outputs": [],
   "source": [
    "def Jaccard(s1, s2):\n",
    "    numer = len(s1.intersection(s2))\n",
    "    denom = len(s1.union(s2))\n",
    "    if denom == 0:\n",
    "        return 0\n",
    "    return numer / denom\n",
    "\n",
    "def predictLabel(user, game, threshold):\n",
    "    similarities = []\n",
    "    for d in reviewsPerUser[user]:\n",
    "        i2 = d[1]\n",
    "        if i2 == game: continue\n",
    "        similarities.append(Jaccard(userPerGame[game], userPerGame[i2]))\n",
    "    return 1 if max(similarities) > threshold else 0"
   ]
  },
  {
   "cell_type": "code",
   "execution_count": 31,
   "metadata": {},
   "outputs": [
    {
     "data": {
      "text/plain": [
       "0.70485"
      ]
     },
     "execution_count": 31,
     "metadata": {},
     "output_type": "execute_result"
    }
   ],
   "source": [
    "# Evaluate baseline strategy\n",
    "predictions = []\n",
    "for user,game in valid_data:\n",
    "    predictions.append(predictLabel(user, game, 0.03))\n",
    "# print(len(predictions))\n",
    "for user,game in neg_pairs:\n",
    "    predictions.append(predictLabel(user, game, 0.03))\n",
    "# print(len(predictions))\n",
    "\n",
    "sum_pred_q3 = sum([predictions[i]==1 for i in range(10000)]) + \\\n",
    "    sum([predictions[i] == 0 for i in range(10000, len(predictions))])\n",
    "acc_q3 = sum_pred_q3 / (2*len(valid_data))\n",
    "acc_q3"
   ]
  },
  {
   "cell_type": "code",
   "execution_count": 32,
   "metadata": {},
   "outputs": [],
   "source": [
    "def threshold_and_popularity(threshold_popularity=1/1.5, threshold_jaccard=0.03):\n",
    "    gameCount = defaultdict(int)\n",
    "    totalPlayed = 0\n",
    "    \n",
    "    for user,game,_ in readJSON(\"train.json.gz\"):\n",
    "        gameCount[game] += 1\n",
    "        totalPlayed += 1\n",
    "        \n",
    "    mostPopular = [(gameCount[x], x) for x in gameCount]\n",
    "    mostPopular.sort()\n",
    "    mostPopular.reverse()\n",
    "    \n",
    "    return1 = set()\n",
    "    count = 0\n",
    "    for ic, i in mostPopular:\n",
    "        count += ic\n",
    "        return1.add(i)\n",
    "        if count > threshold_popularity: break\n",
    "    \n",
    "    correct = 0\n",
    "    for user, game in valid_data:\n",
    "        similarities = []\n",
    "        for d in reviewsPerUser[user]:\n",
    "            i2 = d[1]\n",
    "            if i2 == game: continue\n",
    "            similarities.append(Jaccard(userPerGame[game], userPerGame[i2]))\n",
    "            \n",
    "        if max(similarities) > threshold_jaccard and game in return1:\n",
    "            correct += (game in gamePerUser[user]) # recommend in this case\n",
    "        else:\n",
    "            correct += (game not in gamePerUser[user]) # not recommend in this case\n",
    "        \n",
    "    return correct/len(valid_data)"
   ]
  },
  {
   "cell_type": "code",
   "execution_count": 33,
   "metadata": {},
   "outputs": [
    {
     "data": {
      "text/plain": [
       "0.9945"
      ]
     },
     "execution_count": 33,
     "metadata": {},
     "output_type": "execute_result"
    }
   ],
   "source": [
    "acc_q4 = threshold_and_popularity()\n",
    "acc_q4"
   ]
  },
  {
   "cell_type": "code",
   "execution_count": 34,
   "id": "6180d5a7-fcaa-4208-9e2e-0babf0ab854d",
   "metadata": {},
   "outputs": [],
   "source": [
    "answers['Q3'] = acc_q3\n",
    "answers['Q4'] = acc_q4"
   ]
  },
  {
   "cell_type": "code",
   "execution_count": 35,
   "id": "6ac29b20-93d8-467e-9343-7363ae7c8071",
   "metadata": {},
   "outputs": [],
   "source": [
    "assertFloat(answers['Q3'])\n",
    "assertFloat(answers['Q4'])"
   ]
  },
  {
   "cell_type": "code",
   "execution_count": 36,
   "id": "75f81286-487d-494a-8ee8-a42c1aca6eb7",
   "metadata": {},
   "outputs": [],
   "source": [
    "threshold_popularity = 1/1.5\n",
    "threshold_jaccard = 0.003\n",
    "\n",
    "gameCount = defaultdict(int)\n",
    "totalPlayed = 0\n",
    "\n",
    "for user,game,_ in readJSON(\"train.json.gz\"):\n",
    "    gameCount[game] += 1\n",
    "    totalPlayed += 1\n",
    "    \n",
    "mostPopular = [(gameCount[x], x) for x in gameCount]\n",
    "mostPopular.sort()\n",
    "mostPopular.reverse()\n",
    "\n",
    "return1 = set()\n",
    "count = 0\n",
    "for ic, i in mostPopular:\n",
    "    count += ic\n",
    "    return1.add(i)\n",
    "    if count > totalPlayed*threshold_popularity: break\n",
    "\n",
    "return1 = set()\n",
    "count = 0\n",
    "for ic, i in mostPopular:\n",
    "    count += ic\n",
    "    return1.add(i)\n",
    "    if count > threshold_popularity: break\n",
    "\n",
    "predictions = open(\"HWpredictions_Played.csv\", 'w')\n",
    "for l in open(\"pairs_Played.csv\"):\n",
    "    if l.startswith(\"userID\"):\n",
    "        predictions.write(l)\n",
    "        continue\n",
    "    u,g = l.strip().split(',')\n",
    "    userPlayed = gamePerUser[u]\n",
    "    similarities = []\n",
    "    # Logic...\n",
    "    for d in reviewsPerUser[user]:\n",
    "        i2 = d[1]\n",
    "        if i2 == game: continue\n",
    "        similarities.append(Jaccard(userPerGame[game], userPerGame[i2]))\n",
    "\n",
    "    if max(similarities) > threshold_jaccard and game in return1:\n",
    "        predictions.write(u + ',' + g + ',' + \"1\" + '\\n')\n",
    "    else:\n",
    "        predictions.write(u + ',' + g + ',' + \"0\" + '\\n')\n",
    "\n",
    "predictions.close()"
   ]
  },
  {
   "cell_type": "code",
   "execution_count": 37,
   "id": "dbfd2cbf-b515-4f70-b613-e1248c5d6020",
   "metadata": {},
   "outputs": [],
   "source": [
    "answers['Q5'] = \"I confirm that I have uploaded an assignment submission to gradescope\""
   ]
  },
  {
   "cell_type": "code",
   "execution_count": 38,
   "id": "c82a7a00",
   "metadata": {},
   "outputs": [],
   "source": [
    "##################################################\n",
    "# Hours played prediction                        #\n",
    "##################################################"
   ]
  },
  {
   "cell_type": "code",
   "execution_count": 133,
   "metadata": {},
   "outputs": [],
   "source": [
    "### Question 6"
   ]
  },
  {
   "cell_type": "code",
   "execution_count": 168,
   "metadata": {},
   "outputs": [],
   "source": [
    "# I first tried the TF library, but it's not working..."
   ]
  },
  {
   "cell_type": "code",
   "execution_count": 39,
   "metadata": {},
   "outputs": [],
   "source": [
    "# userIDs = {}\n",
    "# itemIDs = {}\n",
    "# interactions = []\n",
    "\n",
    "# for d in allHours:\n",
    "#     u = d[0]\n",
    "#     i = d[1]\n",
    "#     r = d[2]['hours_transformed']\n",
    "#     if not u in userIDs: userIDs[u] = len(userIDs)\n",
    "#     if not i in itemIDs: itemIDs[i] = len(itemIDs)\n",
    "#     interactions.append((u,i,r))"
   ]
  },
  {
   "cell_type": "code",
   "execution_count": 40,
   "metadata": {},
   "outputs": [
    {
     "data": {
      "text/plain": [
       "174999"
      ]
     },
     "execution_count": 40,
     "metadata": {},
     "output_type": "execute_result"
    }
   ],
   "source": [
    "# random.shuffle(interactions)\n",
    "# len(interactions)"
   ]
  },
  {
   "cell_type": "code",
   "execution_count": 41,
   "metadata": {},
   "outputs": [],
   "source": [
    "# nTrain = 165000\n",
    "# nTest = len(interactions) - nTrain\n",
    "# interactionsTrain = interactions[:nTrain]\n",
    "# interactionsTest = interactions[nTrain:]"
   ]
  },
  {
   "cell_type": "code",
   "execution_count": 42,
   "metadata": {},
   "outputs": [],
   "source": [
    "# itemsPerUser = defaultdict(list)\n",
    "# usersPerItem = defaultdict(list)\n",
    "# for u,i,r in interactionsTrain:\n",
    "#     itemsPerUser[u].append(i)\n",
    "#     usersPerItem[i].append(u)"
   ]
  },
  {
   "cell_type": "code",
   "execution_count": 44,
   "metadata": {},
   "outputs": [
    {
     "data": {
      "text/plain": [
       "3.7178639189242024"
      ]
     },
     "execution_count": 44,
     "metadata": {},
     "output_type": "execute_result"
    }
   ],
   "source": [
    "# mu = sum([r for _,_,r in interactionsTrain] + [r for _,_,r in interactionsTest])*1.0 / len(allHours)\n",
    "# mu"
   ]
  },
  {
   "cell_type": "code",
   "execution_count": 45,
   "metadata": {},
   "outputs": [
    {
     "name": "stderr",
     "output_type": "stream",
     "text": [
      "WARNING:absl:At this time, the v2.11+ optimizer `tf.keras.optimizers.Adam` runs slowly on M1/M2 Macs, please use the legacy Keras optimizer instead, located at `tf.keras.optimizers.legacy.Adam`.\n"
     ]
    }
   ],
   "source": [
    "# optimizer = tf.keras.optimizers.Adam(0.1)"
   ]
  },
  {
   "cell_type": "code",
   "execution_count": 46,
   "metadata": {},
   "outputs": [],
   "source": [
    "# class LatentFactorModel(tf.keras.Model):\n",
    "#     def __init__(self, mu, lamb):\n",
    "#         super(LatentFactorModel, self).__init__()\n",
    "#         # Initialize to average\n",
    "#         self.alpha = tf.Variable(mu)\n",
    "#         # Initialize to small random values\n",
    "#         self.betaU = tf.Variable(tf.zeros(len(userIDs)))\n",
    "#         self.betaI = tf.Variable(tf.zeros(len(itemIDs)))\n",
    "#         # self.gammaU = tf.Variable(tf.random.normal([len(userIDs),K],stddev=0.001))\n",
    "#         # self.gammaI = tf.Variable(tf.random.normal([len(itemIDs),K],stddev=0.001))\n",
    "#         self.lamb = lamb\n",
    "\n",
    "#     # Prediction for a single instance (useful for evaluation)\n",
    "#     def predict(self, u, i):\n",
    "#         p = self.alpha + self.betaU[u] + self.betaI[i] \n",
    "#         # + tf.tensordot(self.gammaU[u], self.gammaI[i], 1)\n",
    "#         return p\n",
    "\n",
    "#     # Regularizer\n",
    "#     def reg(self):\n",
    "#         return self.lamb * (tf.reduce_sum(self.betaU**2) +\\\n",
    "#                             tf.reduce_sum(self.betaI**2))\n",
    "#                         # + tf.reduce_sum(self.gammaU**2) +\\\n",
    "#                         #     tf.reduce_sum(self.gammaI**2))\n",
    "    \n",
    "#     # Prediction for a sample of instances\n",
    "#     def predictSample(self, sampleU, sampleI):\n",
    "#         u = tf.convert_to_tensor(sampleU, dtype=tf.int32)\n",
    "#         i = tf.convert_to_tensor(sampleI, dtype=tf.int32)\n",
    "#         beta_u = tf.nn.embedding_lookup(self.betaU, u)\n",
    "#         beta_i = tf.nn.embedding_lookup(self.betaI, i)\n",
    "#         # gamma_u = tf.nn.embedding_lookup(self.gammaU, u)\n",
    "#         # gamma_i = tf.nn.embedding_lookup(self.gammaI, i)\n",
    "#         pred = self.alpha + beta_u + beta_i\n",
    "#             #    tf.reduce_sum(tf.multiply(gamma_u, gamma_i), 1)\n",
    "#         return pred\n",
    "    \n",
    "#     # Loss\n",
    "#     def call(self, sampleU, sampleI, sampleR):\n",
    "#         pred = self.predictSample(sampleU, sampleI)\n",
    "#         r = tf.convert_to_tensor(sampleR, dtype=tf.float32)\n",
    "#         return tf.nn.l2_loss(pred - r) / len(sampleR)"
   ]
  },
  {
   "cell_type": "code",
   "execution_count": 47,
   "metadata": {},
   "outputs": [],
   "source": [
    "# modelLFM = LatentFactorModel(mu, 1) # with lambda equal to 1"
   ]
  },
  {
   "cell_type": "code",
   "execution_count": 48,
   "metadata": {},
   "outputs": [
    {
     "data": {
      "text/plain": [
       "<tf.Variable 'Variable:0' shape=(6710,) dtype=float32, numpy=array([0., 0., 0., ..., 0., 0., 0.], dtype=float32)>"
      ]
     },
     "execution_count": 48,
     "metadata": {},
     "output_type": "execute_result"
    }
   ],
   "source": [
    "# modelLFM.trainable_variables[1]"
   ]
  },
  {
   "cell_type": "code",
   "execution_count": 49,
   "metadata": {},
   "outputs": [],
   "source": [
    "# def trainingStep(model, interactions):\n",
    "#     Nsamples = 50000\n",
    "#     with tf.GradientTape() as tape:\n",
    "#         sampleU, sampleI, sampleR = [], [], []\n",
    "#         for _ in range(Nsamples):\n",
    "#             u,i,r = random.choice(interactions)\n",
    "#             sampleU.append(userIDs[u])\n",
    "#             sampleI.append(itemIDs[i])\n",
    "#             sampleR.append(r)\n",
    "\n",
    "#         loss = model(sampleU,sampleI,sampleR)\n",
    "#         loss += model.reg()\n",
    "#     gradients = tape.gradient(loss, model.trainable_variables)\n",
    "#     optimizer.apply_gradients((grad, var) for\n",
    "#                               (grad, var) in zip(gradients, model.trainable_variables)\n",
    "#                               if grad is not None)\n",
    "#     return loss.numpy()"
   ]
  },
  {
   "cell_type": "code",
   "execution_count": 50,
   "metadata": {},
   "outputs": [
    {
     "name": "stdout",
     "output_type": "stream",
     "text": [
      "iteration 10, objective = 26.016861\n",
      "iteration 20, objective = 4.7072783\n",
      "iteration 30, objective = 3.285305\n",
      "iteration 40, objective = 3.3738892\n",
      "iteration 50, objective = 2.998368\n",
      "iteration 60, objective = 2.7378821\n",
      "iteration 70, objective = 2.668524\n",
      "iteration 80, objective = 2.664396\n",
      "iteration 90, objective = 2.6570597\n",
      "iteration 100, objective = 2.6578722\n"
     ]
    }
   ],
   "source": [
    "# for i in range(100):\n",
    "#     obj = trainingStep(modelLFM, interactionsTrain)\n",
    "#     if (i % 10 == 9): print(\"iteration \" + str(i+1) + \", objective = \" + str(obj))"
   ]
  },
  {
   "cell_type": "code",
   "execution_count": 436,
   "metadata": {},
   "outputs": [
    {
     "data": {
      "text/plain": [
       "9999"
      ]
     },
     "execution_count": 436,
     "metadata": {},
     "output_type": "execute_result"
    }
   ],
   "source": [
    "# predictions = []\n",
    "# for u,g,r in interactionsTest:\n",
    "#     predict = modelLFM.predict(userIDs[u], itemIDs[g]).numpy()\n",
    "#     predictions.append(predict)\n",
    "# len(predictions)"
   ]
  },
  {
   "cell_type": "code",
   "execution_count": 437,
   "metadata": {},
   "outputs": [],
   "source": [
    "# def MSE(preds, labels):\n",
    "#     diff = [(x-y)**2 for x,y in zip(preds, labels)]\n",
    "#     return sum(diff) / len(diff)"
   ]
  },
  {
   "cell_type": "code",
   "execution_count": 438,
   "metadata": {},
   "outputs": [
    {
     "data": {
      "text/plain": [
       "5.225517849604005"
      ]
     },
     "execution_count": 438,
     "metadata": {},
     "output_type": "execute_result"
    }
   ],
   "source": [
    "# validlabels = [r for _,_,r in interactionsTest]\n",
    "# validMSE = MSE(predictions,validlabels)\n",
    "# validMSE"
   ]
  },
  {
   "cell_type": "code",
   "execution_count": 39,
   "metadata": {},
   "outputs": [],
   "source": [
    "trainHours = [r[2]['hours_transformed'] for r in hoursTrain]\n",
    "globalAverage = sum(trainHours) * 1.0 / len(trainHours)"
   ]
  },
  {
   "cell_type": "code",
   "execution_count": 40,
   "metadata": {},
   "outputs": [],
   "source": [
    "hoursPerUser, hoursPerItem,Rui = {}, {}, {}\n",
    "for u,g,d in hoursTrain:\n",
    "    if u not in hoursPerUser:\n",
    "        hoursPerUser[u] = [(g, d['hours_transformed'])]\n",
    "    else:\n",
    "        hoursPerUser[u].append((g, d['hours_transformed']))\n",
    "    if g not in hoursPerItem:\n",
    "        hoursPerItem[g] = [(u, d['hours_transformed'])]\n",
    "    else:\n",
    "        hoursPerItem[g].append((u, d['hours_transformed']))\n",
    "    Rui[(u,g)] = d['hours_transformed']"
   ]
  },
  {
   "cell_type": "code",
   "execution_count": 41,
   "metadata": {},
   "outputs": [
    {
     "data": {
      "text/plain": [
       "2437"
      ]
     },
     "execution_count": 41,
     "metadata": {},
     "output_type": "execute_result"
    }
   ],
   "source": [
    "len(hoursPerItem)"
   ]
  },
  {
   "cell_type": "code",
   "execution_count": 42,
   "metadata": {},
   "outputs": [],
   "source": [
    "betaU = {}\n",
    "betaI = {}\n",
    "for u in hoursPerUser:\n",
    "    betaU[u] = 0\n",
    "\n",
    "for g in hoursPerItem:\n",
    "    betaI[g] = 0"
   ]
  },
  {
   "cell_type": "code",
   "execution_count": 43,
   "metadata": {},
   "outputs": [],
   "source": [
    "alpha = globalAverage # Could initialize anywhere, this is a guess"
   ]
  },
  {
   "cell_type": "code",
   "execution_count": 44,
   "metadata": {},
   "outputs": [],
   "source": [
    "def update_alpha():\n",
    "    global alpha\n",
    "    num = sum(Rui[(u,g)]- (betaU[u] + betaI[g]) for u,g,_ in hoursTrain)\n",
    "    denom = len(hoursTrain)\n",
    "    alpha = num / denom"
   ]
  },
  {
   "cell_type": "code",
   "execution_count": 45,
   "metadata": {},
   "outputs": [],
   "source": [
    "def update_betaU(lamb):\n",
    "    global alpha\n",
    "    for user in hoursPerUser:\n",
    "        num = sum(Rui[(user,g)]-(alpha+betaI[g]) for g,t in hoursPerUser[user])\n",
    "        denom = lamb + len(hoursPerUser[user])\n",
    "        betaU[user] = num / denom"
   ]
  },
  {
   "cell_type": "code",
   "execution_count": 46,
   "metadata": {},
   "outputs": [],
   "source": [
    "def update_betaI(lamb):\n",
    "    global alpha\n",
    "    for item in hoursPerItem:\n",
    "        num = sum(Rui[(u,item)]-(alpha+betaU[u]) for u,t in hoursPerItem[item])\n",
    "        denom = lamb + len(hoursPerItem[item])\n",
    "        betaI[item] = num / denom"
   ]
  },
  {
   "cell_type": "code",
   "execution_count": 47,
   "metadata": {},
   "outputs": [],
   "source": [
    "def predict(user, item):\n",
    "    global alpha\n",
    "    if user not in hoursPerUser and item not in hoursPerItem:\n",
    "        return alpha\n",
    "    if user in hoursPerUser and item not in hoursPerItem:\n",
    "        return alpha + betaU[user]\n",
    "    if user not in hoursPerUser and item in hoursPerItem:\n",
    "        return alpha + betaI[item]\n",
    "    return alpha + betaU[user] + betaI[item]"
   ]
  },
  {
   "cell_type": "code",
   "execution_count": 48,
   "metadata": {},
   "outputs": [],
   "source": [
    "def MSE():\n",
    "    mse = sum((_['hours_transformed']-predict(u,i))**2 for u,i,_ in hoursValid) / len(hoursValid)\n",
    "    return mse"
   ]
  },
  {
   "cell_type": "code",
   "execution_count": 49,
   "metadata": {},
   "outputs": [],
   "source": [
    "def iterate(lamb, max_iteration=50):\n",
    "    for iter in range(max_iteration):\n",
    "        update_alpha()\n",
    "        update_betaU(lamb)\n",
    "        update_betaI(lamb)\n",
    "        if iter % 10 == 9:\n",
    "            validMSE = MSE()\n",
    "            print(f\"Current Iteration is {iter+1} | MSE: {validMSE}\")\n",
    "    return validMSE"
   ]
  },
  {
   "cell_type": "code",
   "execution_count": 50,
   "metadata": {},
   "outputs": [
    {
     "name": "stdout",
     "output_type": "stream",
     "text": [
      "Current Iteration is 10 | MSE: 3.0071926265486812\n",
      "Current Iteration is 20 | MSE: 3.0071983181788915\n",
      "Current Iteration is 30 | MSE: 3.007207678843451\n",
      "Current Iteration is 40 | MSE: 3.0072192105803386\n",
      "Current Iteration is 50 | MSE: 3.0072318058212737\n"
     ]
    }
   ],
   "source": [
    "validMSE = iterate(lamb=1)"
   ]
  },
  {
   "cell_type": "code",
   "execution_count": 176,
   "id": "6534a08d-013e-4353-a12c-b1f2bbed5812",
   "metadata": {},
   "outputs": [
    {
     "data": {
      "text/plain": [
       "3.0073392524294853"
      ]
     },
     "execution_count": 176,
     "metadata": {},
     "output_type": "execute_result"
    }
   ],
   "source": [
    "answers['Q6'] = validMSE\n",
    "answers['Q6']"
   ]
  },
  {
   "cell_type": "code",
   "execution_count": 177,
   "id": "bc0e3695-682b-4d65-9576-c59795d04930",
   "metadata": {},
   "outputs": [],
   "source": [
    "assertFloat(answers['Q6'])"
   ]
  },
  {
   "cell_type": "code",
   "execution_count": null,
   "id": "d9d419e4-e8c4-4766-b189-d77fbe608417",
   "metadata": {},
   "outputs": [],
   "source": [
    "### Question 7"
   ]
  },
  {
   "cell_type": "code",
   "execution_count": 178,
   "metadata": {},
   "outputs": [
    {
     "data": {
      "text/plain": [
       "{'u70666506': 0.561017721267805,\n",
       " 'u18612571': -0.3046105728918799,\n",
       " 'u34283088': -0.8047924105953433,\n",
       " 'u16220374': 0.16645867858134822,\n",
       " 'u01499286': 0.06569118494120813,\n",
       " 'u73063505': 0.3547348100122898,\n",
       " 'u29223775': 0.27344236257754706,\n",
       " 'u44401308': 0.39848579614659657,\n",
       " 'u45027672': -0.30479428143983633,\n",
       " 'u33908704': 0.5892052422670299,\n",
       " 'u27998358': -0.4538130787869238,\n",
       " 'u36214177': -0.6865768732341309,\n",
       " 'u73747744': 0.4721814453601131,\n",
       " 'u97936673': -0.4376261616244375,\n",
       " 'u25365202': 0.4609311720037873,\n",
       " 'u08631099': -0.049554694608745155,\n",
       " 'u52584928': -0.008694260214150812,\n",
       " 'u09520763': 0.39745764532878963,\n",
       " 'u04893836': -0.20169032583725838,\n",
       " 'u58381940': -0.19842263396131646,\n",
       " 'u85007552': -0.5912503993456444,\n",
       " 'u48369340': 0.06378806804838105,\n",
       " 'u79530461': -0.8572463811120159,\n",
       " 'u44157494': 0.5657907967796565,\n",
       " 'u70118164': -0.9672246198685392,\n",
       " 'u21352780': -0.10955044271507301,\n",
       " 'u74354158': -0.2251903184330083,\n",
       " 'u67890036': -0.8720179043878814,\n",
       " 'u90421779': -0.2863095109517044,\n",
       " 'u63577652': -0.3382553002246859,\n",
       " 'u80585251': 1.499801848309071,\n",
       " 'u17490349': 0.5388252025857412,\n",
       " 'u58591954': -0.03491368649403808,\n",
       " 'u09958308': -0.6406387879900295,\n",
       " 'u58917734': 0.11727691284621003,\n",
       " 'u43617344': 1.1110085910398075,\n",
       " 'u83284468': 0.36154901077634477,\n",
       " 'u28405098': 0.15577591717581388,\n",
       " 'u47603874': 0.16133954483957605,\n",
       " 'u35984505': 1.1324512646037632,\n",
       " 'u12891480': 0.4854473845893867,\n",
       " 'u48290481': 0.15160949849095995,\n",
       " 'u37438991': -0.5303174129736719,\n",
       " 'u14867857': -0.8003134407840451,\n",
       " 'u98010359': -0.4376010714664549,\n",
       " 'u33597806': 0.13155208117705144,\n",
       " 'u63248104': 0.058724761926158345,\n",
       " 'u87386199': -0.25578645308320236,\n",
       " 'u12492690': 0.3330100859785889,\n",
       " 'u19771394': -0.5588910940493561,\n",
       " 'u19599296': 0.34422315190508146,\n",
       " 'u52773685': -0.025794433922353005,\n",
       " 'u12905306': -1.5282770129159453,\n",
       " 'u32538708': 0.5266207361764884,\n",
       " 'u26899141': 0.29028775225600384,\n",
       " 'u70005241': 0.1281731372621195,\n",
       " 'u70647035': 0.4106705682722512,\n",
       " 'u70645303': 0.6673356310898146,\n",
       " 'u47904373': -0.11933980868143212,\n",
       " 'u90262380': -0.03156194842779499,\n",
       " 'u07307818': 0.45504206749264076,\n",
       " 'u02211193': -0.11141660128472941,\n",
       " 'u27067398': -0.26904677910180597,\n",
       " 'u88835772': 0.10885876428865818,\n",
       " 'u34999115': 0.3868703737993066,\n",
       " 'u15711329': -0.22489463008059052,\n",
       " 'u50987399': -0.013883549301529881,\n",
       " 'u72503354': 0.9286209464846581,\n",
       " 'u89607081': 0.3620197039306674,\n",
       " 'u55833077': 0.9729602491619066,\n",
       " 'u88806757': -0.4082495035302636,\n",
       " 'u01283011': -0.3916235385429742,\n",
       " 'u34031843': 0.3557071436904123,\n",
       " 'u09936668': 0.22504917761556548,\n",
       " 'u65152844': -0.3219818442341629,\n",
       " 'u03242465': 0.8990599620164257,\n",
       " 'u12556110': 0.03100786560166542,\n",
       " 'u73963959': 0.14776897103654277,\n",
       " 'u90109995': 0.26470029991005506,\n",
       " 'u95210326': -1.0133263073402705,\n",
       " 'u60034827': 0.044236376262158414,\n",
       " 'u35900932': -0.6025857148515739,\n",
       " 'u64823722': 0.6266552580798627,\n",
       " 'u32441769': -0.7057480351257568,\n",
       " 'u27420825': 0.3947570982592969,\n",
       " 'u12979095': 0.30189402770788226,\n",
       " 'u83445194': 0.6543274309995768,\n",
       " 'u47037823': 0.6796634486150949,\n",
       " 'u39020317': -0.3457103621143619,\n",
       " 'u51637484': -0.9394703564274359,\n",
       " 'u29843563': 0.3585092697422653,\n",
       " 'u60956035': -0.8359438456106797,\n",
       " 'u23567947': -0.5739842973512469,\n",
       " 'u31753305': 0.4958706596603071,\n",
       " 'u05310170': -0.020194833313742423,\n",
       " 'u11491160': -0.7109656807580531,\n",
       " 'u11105542': -0.9226609996140195,\n",
       " 'u65998850': 0.28724013783708524,\n",
       " 'u61243657': -0.8322864053363268,\n",
       " 'u46171715': -0.06643515846821592,\n",
       " 'u78280392': -0.3695039323512847,\n",
       " 'u86005107': -0.1609897429977522,\n",
       " 'u06464611': 0.005138629865536915,\n",
       " 'u44605250': 0.2267063722028438,\n",
       " 'u88434025': 0.28856478021602977,\n",
       " 'u94739498': -0.18161425773725,\n",
       " 'u71532684': -1.586405109371136,\n",
       " 'u42347101': -0.3556049515433599,\n",
       " 'u06502269': -0.49442306434863187,\n",
       " 'u14906592': -0.9654775909536875,\n",
       " 'u10460685': 0.03764682743263535,\n",
       " 'u93450281': 0.24879658149670725,\n",
       " 'u41644422': 0.8482712027495539,\n",
       " 'u06845404': -0.5385238252695778,\n",
       " 'u00628588': -0.038611540188000254,\n",
       " 'u75470769': 0.5080457565207533,\n",
       " 'u51270439': 0.606540403687651,\n",
       " 'u65027223': -0.008965687223736326,\n",
       " 'u92719024': 1.1805257654130505,\n",
       " 'u15739829': -0.2711866555786321,\n",
       " 'u17751563': -0.03833683964282052,\n",
       " 'u08983578': -0.08350816760573972,\n",
       " 'u65551086': 0.3124961363464434,\n",
       " 'u65274722': -0.05770983399239267,\n",
       " 'u86258656': 1.9048940278064241,\n",
       " 'u10691163': 0.4290900017921531,\n",
       " 'u50593621': -0.019154116577623143,\n",
       " 'u38881068': -0.0626156287130431,\n",
       " 'u92570404': -0.2771703992548757,\n",
       " 'u27544131': -0.18271576447643492,\n",
       " 'u28629898': -0.9374792709857476,\n",
       " 'u70407797': -0.026005716162743612,\n",
       " 'u49961321': -0.12604117943446222,\n",
       " 'u71800313': 0.12302160690868787,\n",
       " 'u05015710': 0.10510997116566798,\n",
       " 'u17777056': 0.402878387063802,\n",
       " 'u97050705': 0.8289118845040097,\n",
       " 'u05576561': 0.2760090672565352,\n",
       " 'u77506393': 0.21078768760100622,\n",
       " 'u83097722': -0.5609638645511816,\n",
       " 'u90215446': -0.35970124219931426,\n",
       " 'u18875733': -1.925326598945189,\n",
       " 'u51119424': -0.02454336958001324,\n",
       " 'u99182282': 0.22385942743370113,\n",
       " 'u88218929': -0.620469152381697,\n",
       " 'u08806945': -0.8713366799379574,\n",
       " 'u22096553': 0.7186798699935719,\n",
       " 'u33746699': -1.0255552735803282,\n",
       " 'u35179060': -0.6175624104818295,\n",
       " 'u14184813': 0.6779872621992197,\n",
       " 'u33254176': 0.6225876724284877,\n",
       " 'u44081559': -0.17221428622393656,\n",
       " 'u45425014': 0.2712710336151245,\n",
       " 'u58849842': 0.48040725936217615,\n",
       " 'u99813696': -0.16927806480259505,\n",
       " 'u11593267': -0.434401021922954,\n",
       " 'u63163832': 0.4652042939905879,\n",
       " 'u00357752': -0.9626778985482777,\n",
       " 'u22298998': 0.5934648379408555,\n",
       " 'u06118787': 0.7660836934176892,\n",
       " 'u53628162': 0.7786886624612347,\n",
       " 'u63050765': 0.510875740632446,\n",
       " 'u44562324': -0.7499602149379115,\n",
       " 'u78399036': -1.304058024471084,\n",
       " 'u16209840': 0.24825183421068073,\n",
       " 'u74016254': -1.6111415904289832,\n",
       " 'u32402530': 0.8343329921387689,\n",
       " 'u83288532': -0.1518772011568751,\n",
       " 'u04466631': -0.5045038502500181,\n",
       " 'u79974556': -1.4791670568534137,\n",
       " 'u15844922': 0.8687517863023557,\n",
       " 'u79273901': 0.29945727485765267,\n",
       " 'u75343375': -0.48265585640492126,\n",
       " 'u02243640': 0.4307805223975531,\n",
       " 'u67143531': -0.05805284345329836,\n",
       " 'u68671276': -1.4885270563353319,\n",
       " 'u60146455': 0.12323583069050836,\n",
       " 'u68743894': -0.26459940969193574,\n",
       " 'u69942744': 0.8560321373493108,\n",
       " 'u62644689': -0.6059120274331385,\n",
       " 'u56770007': -0.413782536435793,\n",
       " 'u95974698': 0.30297817118157233,\n",
       " 'u81489269': -0.8071891350771015,\n",
       " 'u22696973': 0.5163676817297682,\n",
       " 'u69738495': -0.20237905718719032,\n",
       " 'u82262883': 0.6162207685144043,\n",
       " 'u96167444': 0.07937173723888717,\n",
       " 'u92869955': 0.0030771007477763696,\n",
       " 'u42370240': 0.194375171928008,\n",
       " 'u40347900': 0.05929490094920216,\n",
       " 'u58254457': -0.1774863863090418,\n",
       " 'u37109830': -0.2098025063481822,\n",
       " 'u58733933': 0.35755470879230156,\n",
       " 'u39230731': -1.596921747818349,\n",
       " 'u56327199': 0.6715398751358933,\n",
       " 'u85199007': -0.10689037926613086,\n",
       " 'u79684960': -0.20653402963694104,\n",
       " 'u59708985': -0.1274683669194503,\n",
       " 'u51163091': 0.06271933252078382,\n",
       " 'u87227222': 0.12735894420984192,\n",
       " 'u30338578': 0.8450736124470166,\n",
       " 'u66004745': 0.16550023924067483,\n",
       " 'u64016923': -0.9180560765161863,\n",
       " 'u90591026': -0.2362220239297687,\n",
       " 'u62757983': 0.20173628553029418,\n",
       " 'u27263635': -1.1660908176058855,\n",
       " 'u65379510': 0.38956091460957515,\n",
       " 'u47270135': 0.1328619453981785,\n",
       " 'u56136272': -0.9976117232517835,\n",
       " 'u82875792': -0.2375447534251399,\n",
       " 'u84467794': 1.463635563935051,\n",
       " 'u58822302': -0.39432478202377297,\n",
       " 'u26771241': -0.1344763179242647,\n",
       " 'u58338178': -0.35288986319101134,\n",
       " 'u30833867': 0.05723622251147493,\n",
       " 'u32714714': 1.5685349078774669,\n",
       " 'u72952508': -0.08091099715984681,\n",
       " 'u79245037': -0.22050297670931154,\n",
       " 'u59370489': -0.22802959392643168,\n",
       " 'u55775021': 1.0230710913796632,\n",
       " 'u88837062': -0.34051585776550325,\n",
       " 'u52579929': -0.09624319792259933,\n",
       " 'u69966150': -0.12986850329033434,\n",
       " 'u17716601': 0.3845642983452972,\n",
       " 'u19056561': -0.9086318654508588,\n",
       " 'u93961714': 0.19509585948419494,\n",
       " 'u83427263': -0.3358023193658487,\n",
       " 'u00953018': -0.8869180483562187,\n",
       " 'u31490960': -0.16101461186775945,\n",
       " 'u91587996': -0.9383740995030226,\n",
       " 'u95348276': 0.31604816991719104,\n",
       " 'u89709906': 0.8511462074204038,\n",
       " 'u05518843': -1.9283100263289223,\n",
       " 'u18633205': 0.6585174909601142,\n",
       " 'u05114490': -0.009986458401563326,\n",
       " 'u42166729': 0.25257487491893243,\n",
       " 'u53258669': -0.6185285089578121,\n",
       " 'u91136278': 0.30885164810740773,\n",
       " 'u72922736': 0.3277214157498823,\n",
       " 'u35871341': -0.24984753201639948,\n",
       " 'u53098507': -0.6754384018731984,\n",
       " 'u29035154': -0.02420001000794535,\n",
       " 'u93364692': 0.45241108830517485,\n",
       " 'u02012462': -0.13775761532100306,\n",
       " 'u32456321': 0.20259470678158512,\n",
       " 'u81659773': 0.32710136395485734,\n",
       " 'u52155642': -0.12850536774245072,\n",
       " 'u66562726': -0.5415266458532193,\n",
       " 'u32377855': 0.086144731951109,\n",
       " 'u31760825': 0.33933213863899897,\n",
       " 'u14495633': -0.26083870856809765,\n",
       " 'u27124852': -0.23641542366349497,\n",
       " 'u45660048': -1.0724369632130708,\n",
       " 'u18986794': 0.43998500268884505,\n",
       " 'u00875922': 0.39139199406031566,\n",
       " 'u87244996': 0.9344866616761973,\n",
       " 'u16598632': -0.02376961520090735,\n",
       " 'u64671579': -0.7040723604444951,\n",
       " 'u73753509': 0.1370471805114853,\n",
       " 'u73982503': 0.08905173276002501,\n",
       " 'u81251440': 0.32788242748826246,\n",
       " 'u15040844': -0.6547993650634213,\n",
       " 'u04836696': 0.4398844479689577,\n",
       " 'u69556026': -0.06384185738737432,\n",
       " 'u88441925': -0.1699296245244711,\n",
       " 'u43379937': 0.21247242339506842,\n",
       " 'u10867316': 0.36623201132468003,\n",
       " 'u72139431': -0.23461497774312537,\n",
       " 'u23800330': 2.9121747778273077,\n",
       " 'u52831443': -0.5626369170201195,\n",
       " 'u17742070': 0.057837389225564785,\n",
       " 'u42897868': -0.2245343901583993,\n",
       " 'u89993397': 0.9661427555008809,\n",
       " 'u11736936': 0.8423627130188467,\n",
       " 'u31103256': 0.24830232896454021,\n",
       " 'u62855536': -0.18635538706670407,\n",
       " 'u20730600': -1.3488996621889155,\n",
       " 'u49457621': 0.2849031455526724,\n",
       " 'u65449218': -0.38691359879058074,\n",
       " 'u73863896': 0.31586528243395295,\n",
       " 'u55818297': -0.01440288974379719,\n",
       " 'u42241023': 0.4182039208194044,\n",
       " 'u12285210': -0.2350808303577527,\n",
       " 'u31204595': -0.4957357188849831,\n",
       " 'u53923084': -1.1621784687959904,\n",
       " 'u47054693': -0.3381688691892696,\n",
       " 'u70917707': 0.20506392979769783,\n",
       " 'u82936629': 0.3649827291828116,\n",
       " 'u48378925': 0.11525610488396447,\n",
       " 'u65717372': -0.639862601337652,\n",
       " 'u94222355': -0.03371468472643688,\n",
       " 'u19670502': 0.32246894159178957,\n",
       " 'u26710071': 0.4867447046079016,\n",
       " 'u69137549': -0.03588071926106032,\n",
       " 'u28470370': -1.5213217405803146,\n",
       " 'u06971689': -0.5432491907770719,\n",
       " 'u08568174': -0.3382489897204619,\n",
       " 'u06231068': 0.3938982962486425,\n",
       " 'u03201327': -1.224448401084217,\n",
       " 'u05581149': 0.14670001462351798,\n",
       " 'u07583525': 0.11548876475695102,\n",
       " 'u55730078': -0.3643117863467977,\n",
       " 'u81349942': -0.19834118877398962,\n",
       " 'u93591744': -0.45930461463569866,\n",
       " 'u97802984': -0.31928385901908146,\n",
       " 'u90337818': 0.3432949980978886,\n",
       " 'u75811549': 0.2566832430239633,\n",
       " 'u19431743': 0.45183761637531317,\n",
       " 'u90733484': 0.2850952632042113,\n",
       " 'u72398292': -0.231013341173683,\n",
       " 'u45342952': 1.1831445080842578,\n",
       " 'u33457819': 0.36580436559532575,\n",
       " 'u96971686': -0.28399143734947574,\n",
       " 'u06223538': -0.4599768039551698,\n",
       " 'u22395052': 0.7057643043161165,\n",
       " 'u33042402': -0.04572930838060986,\n",
       " 'u71672839': -1.5531261592828587,\n",
       " 'u94680884': 0.6897414957570419,\n",
       " 'u04259444': 0.3494348156544225,\n",
       " 'u45934020': 0.8311204767630642,\n",
       " 'u02338699': -0.13291447325842676,\n",
       " 'u24464327': 0.09091989069127186,\n",
       " 'u81360847': -1.3245358947846892,\n",
       " 'u56166550': -0.1515528787804507,\n",
       " 'u71996483': -0.1280482341819431,\n",
       " 'u56021748': 0.4655735936344077,\n",
       " 'u90210178': -0.34913404235951556,\n",
       " 'u13076145': 0.2944058512101287,\n",
       " 'u79354427': 0.1488923955255092,\n",
       " 'u33701854': 0.4803434917300075,\n",
       " 'u21133378': -0.2119558181883589,\n",
       " 'u97829138': -0.789686654654036,\n",
       " 'u21089564': 0.09829045861354678,\n",
       " 'u95721915': 0.16543763614586665,\n",
       " 'u45148118': -0.6639218045048384,\n",
       " 'u42035064': 0.255782459468595,\n",
       " 'u59869979': -0.4004980574034848,\n",
       " 'u91703040': 0.7943366125893969,\n",
       " 'u62246824': -0.02299430798088543,\n",
       " 'u74679178': 0.8366275200054691,\n",
       " 'u27244547': -0.07515005174988522,\n",
       " 'u11399660': 0.10619909756405227,\n",
       " 'u79398659': 0.3930973755137678,\n",
       " 'u49244274': -0.4189285192247342,\n",
       " 'u59568450': -0.9262145998207071,\n",
       " 'u06187144': 0.49315925814491285,\n",
       " 'u31712305': -0.531154497703824,\n",
       " 'u52201343': -0.39524939902530365,\n",
       " 'u62354011': 0.7014489164666405,\n",
       " 'u80734230': 0.005559047889800535,\n",
       " 'u94793879': -1.2422603111693398,\n",
       " 'u15250211': -0.03318567840713233,\n",
       " 'u25717012': -0.742464695119557,\n",
       " 'u55105731': -0.6254493943720323,\n",
       " 'u93071176': 1.5745841804400116,\n",
       " 'u41103984': 0.5246881379694095,\n",
       " 'u01457302': 0.149266069645255,\n",
       " 'u39216927': -0.8961495669104724,\n",
       " 'u48121649': -0.8426557944385018,\n",
       " 'u38148878': -0.3975236837255229,\n",
       " 'u27709887': -0.044577220495244374,\n",
       " 'u67317909': -0.6473096849376775,\n",
       " 'u70169974': 0.8608251249607112,\n",
       " 'u22284190': 0.18994779426058148,\n",
       " 'u46276007': 0.7575637104700245,\n",
       " 'u63218599': 0.5986333977030462,\n",
       " 'u36025454': 0.2524620418988762,\n",
       " 'u87799097': 0.43560450841176124,\n",
       " 'u03608422': 0.003714618271512639,\n",
       " 'u72986401': 0.33484954036565573,\n",
       " 'u46872691': -0.4096277188593826,\n",
       " 'u83503668': 0.2107549519561613,\n",
       " 'u92112007': 0.13672702541438747,\n",
       " 'u55835946': -0.35230942024338874,\n",
       " 'u54177102': 0.2912360242782243,\n",
       " 'u42222139': 0.05333886733042363,\n",
       " 'u60154970': 1.195248189036737,\n",
       " 'u32369191': 0.7318965597351123,\n",
       " 'u41317587': 0.04626941010174732,\n",
       " 'u07492501': 1.0291921454480855,\n",
       " 'u04903635': -1.466968267465205,\n",
       " 'u52704336': 0.32515845316740344,\n",
       " 'u59755606': -0.9174397369778307,\n",
       " 'u91823042': 0.10473119191039877,\n",
       " 'u91505067': -0.3693020400467611,\n",
       " 'u58468346': -0.4289475069585813,\n",
       " 'u55381716': 0.7811941869829256,\n",
       " 'u91465670': 0.2452280822791109,\n",
       " 'u83394320': -1.0492122622381657,\n",
       " 'u98413978': -0.08337703767397393,\n",
       " 'u63905484': -0.33404488162533996,\n",
       " 'u61078154': 0.36675944501847707,\n",
       " 'u39532419': -1.1706156252095885,\n",
       " 'u92729375': 0.17649553520469563,\n",
       " 'u53619060': -0.6873900374215373,\n",
       " 'u14014903': -0.39510533512326607,\n",
       " 'u85115534': -0.6199068247009958,\n",
       " 'u41793614': -0.3854042838323442,\n",
       " 'u96397429': 0.3168486508609022,\n",
       " 'u33427219': -0.17094931558817755,\n",
       " 'u14947742': 5.449045590263807,\n",
       " 'u34913220': 0.7362207779741833,\n",
       " 'u03556571': -0.030934451334562494,\n",
       " 'u63097990': 0.12226435987336458,\n",
       " 'u62720974': -0.811492265419935,\n",
       " 'u98382527': 1.143218640176494,\n",
       " 'u04989018': 0.38977297616509005,\n",
       " 'u97774562': 0.4326595894410931,\n",
       " 'u79311898': 0.3614297943820724,\n",
       " 'u52643255': 0.11242961887246868,\n",
       " 'u24033680': 0.10747310727111117,\n",
       " 'u09932820': 0.76023586894765,\n",
       " 'u51962149': 0.1382583931119273,\n",
       " 'u79483995': 0.09328568356017239,\n",
       " 'u55486347': -0.9930617107653269,\n",
       " 'u46692057': 0.35675431087497955,\n",
       " 'u83423962': -0.17219427650115923,\n",
       " 'u94960521': 0.5059918087043466,\n",
       " 'u81562258': -0.11058032751620071,\n",
       " 'u34591471': -0.15386200812282383,\n",
       " 'u02081561': -0.7963808293424602,\n",
       " 'u11615113': 0.036392059918547,\n",
       " 'u61150089': 0.3572276068625201,\n",
       " 'u71486940': 0.23500210800438878,\n",
       " 'u24738820': -0.10109008848678762,\n",
       " 'u78883544': -0.1028922497885737,\n",
       " 'u01432674': -0.05017648509515353,\n",
       " 'u90007181': 1.074121046214065,\n",
       " 'u03233576': -0.11356306552465507,\n",
       " 'u85939164': -0.024684761587537025,\n",
       " 'u08166315': 0.15735205858295673,\n",
       " 'u74599559': 0.26925810525552124,\n",
       " 'u42003455': 0.5465938719014558,\n",
       " 'u36393124': -0.6537761881464994,\n",
       " 'u24632292': 0.027361744417079916,\n",
       " 'u66850142': 1.2792545402278794,\n",
       " 'u17988807': -0.13067480335171944,\n",
       " 'u48261357': 0.13078025561598774,\n",
       " 'u78735646': -0.9045117171847764,\n",
       " 'u27347248': 0.6432580986407371,\n",
       " 'u80085723': 0.40191845522378256,\n",
       " 'u98179594': 0.21551920753780288,\n",
       " 'u79566293': 0.04275310987303593,\n",
       " 'u68554058': 0.03495455620647421,\n",
       " 'u62005453': -0.6514382532397104,\n",
       " 'u39566752': -0.8486721232855005,\n",
       " 'u59268285': 0.06646474637240801,\n",
       " 'u00198127': -0.1652289901872565,\n",
       " 'u16977154': 0.4099846343419999,\n",
       " 'u18969273': 0.7863735759218152,\n",
       " 'u28542486': -0.20193965754949708,\n",
       " 'u96347560': 0.04813932430388803,\n",
       " 'u01450589': -0.03449061557127431,\n",
       " 'u74849356': 0.021630419642708603,\n",
       " 'u22437467': -1.0282492249040707,\n",
       " 'u47024805': 0.47722061563710233,\n",
       " 'u56283764': 0.8851982171318373,\n",
       " 'u10115696': -0.33467784228319547,\n",
       " 'u99369901': -0.24842374074257892,\n",
       " 'u79152764': -0.14059148330894652,\n",
       " 'u30419181': 0.982415062316026,\n",
       " 'u29216495': -0.42616554544276386,\n",
       " 'u12502495': -1.017759667219644,\n",
       " 'u57355453': 0.1747456681720439,\n",
       " 'u95798288': 0.37332769891935946,\n",
       " 'u21838481': 0.5016821517205159,\n",
       " 'u90437656': -0.5513791642330593,\n",
       " 'u68603964': -0.09441534169651296,\n",
       " 'u62201021': 0.033677694741025575,\n",
       " 'u54714550': 0.13737514768562428,\n",
       " 'u07825507': 0.8224091484326483,\n",
       " 'u47180106': -0.283117910378821,\n",
       " 'u30739982': 1.0844071997732565,\n",
       " 'u03790099': -0.21149709562074548,\n",
       " 'u21769359': 0.2038366073872029,\n",
       " 'u87426831': -0.3607025888270398,\n",
       " 'u48675073': -0.39519773265332453,\n",
       " 'u52018626': -0.5297339523184251,\n",
       " 'u12125660': 0.8315077247904635,\n",
       " 'u79541988': -0.2935555976824383,\n",
       " 'u56274213': 1.8258406153102877,\n",
       " 'u33714836': -0.19991764120495617,\n",
       " 'u88844065': 1.1106586679951092,\n",
       " 'u02780373': -0.7824789571646455,\n",
       " 'u88726473': -0.12005882193272081,\n",
       " 'u40742527': -0.4165855665545972,\n",
       " 'u35171801': -0.5812252386772023,\n",
       " 'u57950682': 0.3095552060275446,\n",
       " 'u08460828': 0.6724110395934665,\n",
       " 'u43994930': -1.1249851247171458,\n",
       " 'u67757702': 0.2936856895624099,\n",
       " 'u89239385': 0.22554892644281324,\n",
       " 'u78202970': -0.411964207046864,\n",
       " 'u31623551': 0.6933096929551321,\n",
       " 'u63347594': 0.2008493696766087,\n",
       " 'u38420807': -0.11104002165182823,\n",
       " 'u94085555': -0.0923179547874815,\n",
       " 'u90429334': 0.06675222009045587,\n",
       " 'u28343851': 0.10869097379061221,\n",
       " 'u96375702': 0.17756458225473995,\n",
       " 'u32720476': -1.1054523787041297,\n",
       " 'u73718543': 0.07515696660324313,\n",
       " 'u17156425': -0.18865898986608046,\n",
       " 'u80792313': -0.05006496321163614,\n",
       " 'u69256218': 0.18922122726271068,\n",
       " 'u45679096': 0.5900280181803041,\n",
       " 'u27906982': -0.6607503823560401,\n",
       " 'u94443376': 0.7201742462165056,\n",
       " 'u73667368': -0.1865451446899351,\n",
       " 'u56197595': 0.09339466612728078,\n",
       " 'u63840885': -0.4635437609859252,\n",
       " 'u94750194': 0.1568123161776388,\n",
       " 'u80605925': 0.3967015447260991,\n",
       " 'u31394716': 0.6331471477774965,\n",
       " 'u86081323': 0.5318569504648983,\n",
       " 'u49752072': -0.3524216204830239,\n",
       " 'u53958870': 0.2434233052710037,\n",
       " 'u82361180': 0.4837866203615224,\n",
       " 'u90093410': 0.6509371435254093,\n",
       " 'u04109297': -0.6713265080856226,\n",
       " 'u47242027': -0.037289673094484985,\n",
       " 'u66627551': 0.47339045436037575,\n",
       " 'u48616923': 0.690681755137064,\n",
       " 'u93459370': 0.3767701442844544,\n",
       " 'u58200581': 0.16697080926972752,\n",
       " 'u72216053': 0.15461108215267358,\n",
       " 'u92301572': 0.2695471035431634,\n",
       " 'u61738822': -0.18624628605059076,\n",
       " 'u71495753': 0.681084831256536,\n",
       " 'u82332490': -0.08881276796911991,\n",
       " 'u61076669': -1.2648437663849832,\n",
       " 'u78389390': -0.19173074397892714,\n",
       " 'u73868850': 0.4846581350542803,\n",
       " 'u00211549': -0.1611331359611412,\n",
       " 'u17284479': 0.055622303490872244,\n",
       " 'u55611139': -0.05773879053173102,\n",
       " 'u90666952': 0.24695689675113566,\n",
       " 'u95169497': 0.10629473824415207,\n",
       " 'u16346527': -0.4277098834001121,\n",
       " 'u81310029': 0.07236717227643459,\n",
       " 'u38419315': 0.43586911431711745,\n",
       " 'u54965133': -0.065631583471217,\n",
       " 'u98799221': 0.09880255720937917,\n",
       " 'u14312444': 0.16672538279791632,\n",
       " 'u04311781': 0.2602707043361083,\n",
       " 'u85762815': 0.42322930076042975,\n",
       " 'u99576383': 1.2274305053825443,\n",
       " 'u38727086': -1.6124631091220551,\n",
       " 'u13424219': -0.5972905456912212,\n",
       " 'u24658352': 0.5978720556255369,\n",
       " 'u47168952': 0.24219426564666827,\n",
       " 'u25827317': 0.2296806797347683,\n",
       " 'u70487702': 0.08323136618554483,\n",
       " 'u85366813': 0.1568329839340286,\n",
       " 'u93185343': -0.1587038477455854,\n",
       " 'u54953931': 0.12358982332926226,\n",
       " 'u60628281': 1.2492047883452224,\n",
       " 'u28260148': -0.4303522191703513,\n",
       " 'u46678332': -0.08569758011227918,\n",
       " 'u54755806': -0.1854201573270892,\n",
       " 'u23724796': 0.4226784101438409,\n",
       " 'u77827699': 0.9350417647861982,\n",
       " 'u39599062': 0.42305317668585496,\n",
       " 'u64077850': 0.281502230002021,\n",
       " 'u65396282': -1.3903302369121544,\n",
       " 'u05068078': -0.8737949172980445,\n",
       " 'u03209692': 0.34596115291359864,\n",
       " 'u78239215': -0.016572859468130516,\n",
       " 'u41736066': -0.7620446895446694,\n",
       " 'u61755488': 0.728357513795517,\n",
       " 'u59698390': -0.42819744930072073,\n",
       " 'u11812854': 0.48177575301762937,\n",
       " 'u30278296': 0.5106617972035985,\n",
       " 'u38825354': -0.292632820425494,\n",
       " 'u65883423': -0.05190944137341599,\n",
       " 'u61457662': -0.1853230728296671,\n",
       " 'u82283399': -0.858058419518949,\n",
       " 'u49653217': -0.3517309762564639,\n",
       " 'u57510806': 0.3047148456337614,\n",
       " 'u11427817': 0.09835208465814366,\n",
       " 'u01154477': -0.8179846271396612,\n",
       " 'u07403582': 0.6416936439531508,\n",
       " 'u92381286': 0.6384953792127848,\n",
       " 'u17884154': -0.9699449173689514,\n",
       " 'u77156869': -0.17877358479487795,\n",
       " 'u16966941': -0.764917795935405,\n",
       " 'u99498831': -0.09014752021701786,\n",
       " 'u98443157': -0.030670543084639103,\n",
       " 'u12741451': 0.0640469990472581,\n",
       " 'u53621137': -0.22899320265216558,\n",
       " 'u47028892': -0.8906973565934221,\n",
       " 'u71664746': 0.34416668496462544,\n",
       " 'u29401175': 0.6565259854357434,\n",
       " 'u62560683': 0.3153492731690443,\n",
       " 'u76241191': 0.7304814246896169,\n",
       " 'u98682022': -0.04899297321949729,\n",
       " 'u41981227': -0.12206919630279443,\n",
       " 'u09970728': -0.9770782502933207,\n",
       " 'u29033935': 0.43532738540267085,\n",
       " 'u91673094': -0.5895412466385742,\n",
       " 'u04938777': 0.7875729429229078,\n",
       " 'u23564587': -0.13165029393551675,\n",
       " 'u27646423': -0.13956532350663212,\n",
       " 'u61709204': -0.08753848012606447,\n",
       " 'u38155838': -0.17119683650328033,\n",
       " 'u40002160': -0.20803097935874165,\n",
       " 'u84062881': -1.6586425452292892,\n",
       " 'u77665302': 1.3737223636892018,\n",
       " 'u05086511': 0.5842214713883256,\n",
       " 'u46745373': -0.7677666210332446,\n",
       " 'u46645213': 0.12239244049717415,\n",
       " 'u97099051': -0.11930141457954016,\n",
       " 'u17384601': -0.18093569277631483,\n",
       " 'u67989643': -0.08344658781989836,\n",
       " 'u69804013': 0.29324103716719885,\n",
       " 'u49592765': -0.796827260103152,\n",
       " 'u49569747': 0.5962719837183402,\n",
       " 'u18029408': 0.02751073238889354,\n",
       " 'u16384355': 1.5011193820687596,\n",
       " 'u44583541': -0.22391833926011148,\n",
       " 'u18067087': -0.7270796533893769,\n",
       " 'u47741496': 0.04818968397515568,\n",
       " 'u31492526': 0.16014629521370033,\n",
       " 'u82872855': 0.2408055086001446,\n",
       " 'u56506625': 0.0034824990950939718,\n",
       " 'u26837546': -0.7331619352848806,\n",
       " 'u96883621': 0.1986237639880624,\n",
       " 'u25000916': 0.19981700599638805,\n",
       " 'u60584353': 0.041950111483443873,\n",
       " 'u34295594': -0.05501544739322124,\n",
       " 'u08369407': -0.15348353391245945,\n",
       " 'u34600363': 0.6550896076342032,\n",
       " 'u11949707': -0.26742102268442175,\n",
       " 'u13037843': -0.26294991539021423,\n",
       " 'u86096399': -0.17583720048950233,\n",
       " 'u54051090': -0.5515979682830298,\n",
       " 'u40959771': -1.0435441839107746,\n",
       " 'u76404562': 0.7890341686081188,\n",
       " 'u98396281': 0.4646296342996558,\n",
       " 'u06544537': 0.6025530805283986,\n",
       " 'u55449940': -0.18989394661771639,\n",
       " 'u12276837': -0.5401829829064189,\n",
       " 'u29576207': -0.4106398767584788,\n",
       " 'u07635613': 0.015491879738148391,\n",
       " 'u93376085': -0.10879356544379591,\n",
       " 'u80563208': 0.1992883670534212,\n",
       " 'u02882779': 0.15939069318273483,\n",
       " 'u83192523': -0.7443091422176447,\n",
       " 'u61984333': 0.6763831174356199,\n",
       " 'u00715488': 0.23969445646711782,\n",
       " 'u72671384': 0.06719118523285827,\n",
       " 'u21233168': 0.09708297011964669,\n",
       " 'u73312807': -0.5390385708873136,\n",
       " 'u54654852': -0.019230167634013973,\n",
       " 'u02129594': -0.4751857404029745,\n",
       " 'u62593459': 0.24213276794079283,\n",
       " 'u83416802': 0.5373572355459366,\n",
       " 'u39855963': 0.43209437830349146,\n",
       " 'u04495704': -0.5313024501742747,\n",
       " 'u39544543': -0.5700876786222788,\n",
       " 'u24506196': 0.18539479279767265,\n",
       " 'u75917410': 0.2798588386237523,\n",
       " 'u58471931': 0.739360819951726,\n",
       " 'u25599643': 0.5410272664630604,\n",
       " 'u47661995': -0.6299900855906773,\n",
       " 'u77089819': -0.407029134653656,\n",
       " 'u32243545': -1.0113770139011273,\n",
       " 'u76352109': -0.49644779980762194,\n",
       " 'u32770398': 0.48762353358074584,\n",
       " 'u03317306': -1.6780143835263799,\n",
       " 'u68530602': 0.0065613073491600825,\n",
       " 'u73485675': 0.11145256063297121,\n",
       " 'u39563714': -2.2422272869188125,\n",
       " 'u04771226': 0.3975923511355275,\n",
       " 'u76617351': 1.083419692113388,\n",
       " 'u07680623': -0.6388899741128337,\n",
       " 'u47819715': -1.265151275173449,\n",
       " 'u68598297': -0.260986533380201,\n",
       " 'u21021746': -0.10225894063370855,\n",
       " 'u50473964': 0.4733181353577419,\n",
       " 'u87938517': -0.8747333633069254,\n",
       " 'u64237842': -0.17941897278271376,\n",
       " 'u08403032': -1.0201560462147252,\n",
       " 'u62509621': -0.12350648876863032,\n",
       " 'u96226018': 0.09144170373964917,\n",
       " 'u96104653': 0.10129038373975649,\n",
       " 'u25511862': 0.5898701972049284,\n",
       " 'u01276399': 0.374282855457913,\n",
       " 'u42889153': -0.6078777073739259,\n",
       " 'u42908769': -1.3111887852895177,\n",
       " 'u64713703': -0.1792017970559344,\n",
       " 'u37836993': 0.029149402833430867,\n",
       " 'u57886191': 0.33100337206834324,\n",
       " 'u33399997': -1.6551636076641827,\n",
       " 'u96852472': -0.6102086678914516,\n",
       " 'u04939787': -0.02557171439438022,\n",
       " 'u19311904': 0.2356950258882329,\n",
       " 'u59361314': 0.6518210252325798,\n",
       " 'u47388253': -0.2899232429815411,\n",
       " 'u64072664': 0.4504914658437517,\n",
       " 'u93933943': -0.2972030601527943,\n",
       " 'u73061090': 0.3469439201891681,\n",
       " 'u60034715': -0.036266122883548524,\n",
       " 'u53473939': -1.0277601241114445,\n",
       " 'u91401178': 0.4623169285660143,\n",
       " 'u87853991': -0.7009698189363421,\n",
       " 'u81022198': 0.826572510032615,\n",
       " 'u13250932': 1.0137335393667855,\n",
       " 'u74180765': 0.23961651172646403,\n",
       " 'u02954565': 0.12933417202349534,\n",
       " 'u92142028': -0.425832589742511,\n",
       " 'u59883445': 0.6572141395013925,\n",
       " 'u77655643': 0.5775634952054712,\n",
       " 'u38827286': 0.2513010437534784,\n",
       " 'u93621031': 0.31178702315271595,\n",
       " 'u20566880': 0.4416449554313432,\n",
       " 'u80583554': -0.16626277356982394,\n",
       " 'u29752586': 0.1030801917274322,\n",
       " 'u95475607': 0.847098942893848,\n",
       " 'u81930231': -1.2354310883493684,\n",
       " 'u33849260': -0.19537299573258043,\n",
       " 'u98582042': -0.9211954119106723,\n",
       " 'u76551408': 0.07802087542874998,\n",
       " 'u84603281': 0.40071804993756704,\n",
       " 'u55350279': -0.08547347819831486,\n",
       " 'u18042527': 0.7463029403700109,\n",
       " 'u06083958': 0.11437938826494032,\n",
       " 'u19075325': -1.2217587650795767,\n",
       " 'u11882275': -0.2528989699251722,\n",
       " 'u90344735': 0.7083834614393691,\n",
       " 'u77044163': 0.7918782994605241,\n",
       " 'u35014505': 0.2907260326799704,\n",
       " 'u34042649': 0.26956689928326677,\n",
       " 'u44712083': -0.4150687662360951,\n",
       " 'u42024428': 0.21022653602060887,\n",
       " 'u49238900': -0.5531582053215902,\n",
       " 'u52959535': -0.06288757605859746,\n",
       " 'u39188769': 0.1606885638200389,\n",
       " 'u67101950': 0.050834518092957914,\n",
       " 'u52799909': 0.03965399841195117,\n",
       " 'u71514747': -0.43129287481069106,\n",
       " 'u46422197': -0.17980668453728102,\n",
       " 'u00687255': 0.7179428923327903,\n",
       " 'u58624800': -1.7441128799406003,\n",
       " 'u14140705': 0.048330904865602306,\n",
       " 'u87534292': 0.28731359998869405,\n",
       " 'u82658939': -1.3699809511494196,\n",
       " 'u31435261': -0.9745963192477325,\n",
       " 'u25331768': -1.82532228866235,\n",
       " 'u53056713': 0.3492673521951204,\n",
       " 'u82515621': -0.6009730885525977,\n",
       " 'u52146622': 0.4327046170417593,\n",
       " 'u71130252': -0.426354384823967,\n",
       " 'u25631744': 0.6883771641417334,\n",
       " 'u48059598': 2.395323349612753,\n",
       " 'u88365353': 0.051847409595536714,\n",
       " 'u12182788': -0.5836266889631753,\n",
       " 'u23904359': -1.2065286592842235,\n",
       " 'u67343366': -0.01077587799099553,\n",
       " 'u82502949': 0.3285722034025178,\n",
       " 'u03997304': 0.6533701921591225,\n",
       " 'u38561265': 0.6319321824827685,\n",
       " 'u05068233': 0.8394566236062948,\n",
       " 'u25936320': -0.48693846282614517,\n",
       " 'u16311463': -1.0361000461072927,\n",
       " 'u74606341': -0.00038965484700460574,\n",
       " 'u10245930': -1.2021430435911669,\n",
       " 'u50538538': 0.5085591119042328,\n",
       " 'u29916526': -0.05788839247187143,\n",
       " 'u40145039': -0.9429729891901295,\n",
       " 'u39877819': -0.751245294809747,\n",
       " 'u89325755': 0.02251102604469433,\n",
       " 'u27141768': 0.37153157338177273,\n",
       " 'u75142913': 0.05253110070916427,\n",
       " 'u63256053': -0.06775496267221563,\n",
       " 'u07229282': -0.005049895614146976,\n",
       " 'u09833175': -0.010700249432813252,\n",
       " 'u06718972': -0.6696872989600151,\n",
       " 'u35176345': -0.920717168710819,\n",
       " 'u01363394': -0.17465702353719537,\n",
       " 'u59141532': 0.18159833728684519,\n",
       " 'u64280940': -0.17771819685586623,\n",
       " 'u18093411': 0.18562830687966453,\n",
       " 'u83343215': -0.32230406168327097,\n",
       " 'u42208082': 0.12920658980943434,\n",
       " 'u91855861': 0.5331632850562008,\n",
       " 'u54624084': 0.026728531908368325,\n",
       " 'u26858759': 0.6776130365517342,\n",
       " 'u83918172': 0.13358443322631952,\n",
       " 'u49960824': -0.005814197120319202,\n",
       " 'u44337325': 0.6643783312034951,\n",
       " 'u11415212': 0.8314731238359545,\n",
       " 'u51986373': -1.8763562309748354,\n",
       " 'u73883910': 0.13264406910189672,\n",
       " 'u55854800': -0.026351632796494225,\n",
       " 'u69159654': 0.5230194721414696,\n",
       " 'u97524202': 0.36561494139063627,\n",
       " 'u93652398': -0.1630949481523056,\n",
       " 'u92774045': -0.2522736093303887,\n",
       " 'u59988770': -0.7227440435448815,\n",
       " 'u80947479': 0.26071423476297295,\n",
       " 'u34386088': -0.27067957319349517,\n",
       " 'u17224257': -0.09528222348839335,\n",
       " 'u48311027': 0.38842117941667503,\n",
       " 'u52496811': -0.2201320591149494,\n",
       " 'u22376696': -0.4704847683399249,\n",
       " 'u54173124': -0.5813014560650894,\n",
       " 'u28941486': 0.3634600451777329,\n",
       " 'u47403227': 0.34167440735890725,\n",
       " 'u97764793': 0.32488190925984584,\n",
       " 'u11194965': -0.1321253808960074,\n",
       " 'u95113472': -0.8267916103799698,\n",
       " 'u03757196': 0.22232174624033194,\n",
       " 'u00134864': 0.09442910285680652,\n",
       " 'u00874815': -1.4839437305800398,\n",
       " 'u48780404': 0.39257283661150333,\n",
       " 'u58279240': 0.006859053548335298,\n",
       " 'u53728448': -0.4952691290608224,\n",
       " 'u85252845': 0.004095079741810698,\n",
       " 'u53095821': 0.0015730400550473598,\n",
       " 'u20853281': -0.8541121130715768,\n",
       " 'u54308430': 0.4824907808776386,\n",
       " 'u16579434': -0.07863756759331592,\n",
       " 'u49621496': 0.13482104082426322,\n",
       " 'u64783960': -0.21606345127547746,\n",
       " 'u17759890': 0.30239334097670933,\n",
       " 'u63229947': 0.05017748223951511,\n",
       " 'u65636202': 0.43185879523372156,\n",
       " 'u27508534': 0.4736921579462003,\n",
       " 'u30064155': 0.2230353899120455,\n",
       " 'u72476497': 0.6968417666127511,\n",
       " 'u43031841': 0.06667370360101718,\n",
       " 'u04613617': 0.0475653679193648,\n",
       " 'u50474220': -0.30924275712314403,\n",
       " 'u29321637': -0.10111967033744523,\n",
       " 'u96746119': 0.1565381746836625,\n",
       " 'u97040079': 0.25927905990203065,\n",
       " 'u93197231': -0.049709145651432786,\n",
       " 'u66436749': 0.6133499427143276,\n",
       " 'u11233362': -0.470794224087964,\n",
       " 'u15542795': 0.29972890365541904,\n",
       " 'u71939463': 0.14205368334817073,\n",
       " 'u07709944': 0.08896005016357264,\n",
       " 'u17444308': 0.08143620554796463,\n",
       " 'u71069985': -0.6685091227419155,\n",
       " 'u20316991': -0.3536394050463065,\n",
       " 'u61208117': -0.7834865504771981,\n",
       " 'u32661839': 1.2043932280634597,\n",
       " 'u28472852': -0.5822240179540282,\n",
       " 'u02675249': 0.13288635802620047,\n",
       " 'u54615544': 0.38972867496672225,\n",
       " 'u92894715': 0.9422452300016004,\n",
       " 'u82152797': -0.2737804829183837,\n",
       " 'u85063575': 0.17060458797896594,\n",
       " 'u55294812': -0.2442238688656259,\n",
       " 'u63242826': -0.21093334151947174,\n",
       " 'u12743334': -1.2685367286226064,\n",
       " 'u36610257': 0.3910621041574482,\n",
       " 'u48341125': -0.8760588417839213,\n",
       " 'u47504384': -0.04371604707875438,\n",
       " 'u42961245': -1.6767166998781342,\n",
       " 'u24528184': 0.006242756009382677,\n",
       " 'u77351829': -1.578507431935517,\n",
       " 'u68383845': 0.27002039712632714,\n",
       " 'u88163092': -0.2962824709045274,\n",
       " 'u67811014': -0.36044166615943096,\n",
       " 'u54045913': -0.10401865835791743,\n",
       " 'u50752235': -0.6242848007869093,\n",
       " 'u28227898': -0.2710618909888913,\n",
       " 'u31393471': -0.12840843084206716,\n",
       " 'u97714691': 0.3833111905711504,\n",
       " 'u64787931': 0.7073937835302372,\n",
       " 'u19679270': -0.25758965239028203,\n",
       " 'u87181283': -0.9775920173029499,\n",
       " 'u67332556': 0.5071567154520039,\n",
       " 'u42439750': 0.13568437743192285,\n",
       " 'u48087366': 0.13388535100429655,\n",
       " 'u89127451': -0.19520793528142943,\n",
       " 'u62414810': -0.01563060029077766,\n",
       " 'u20565215': -0.06317867468975756,\n",
       " 'u67572244': -0.28805308980260375,\n",
       " 'u63484823': -1.5062215720222718,\n",
       " 'u72474436': -0.0365881200576621,\n",
       " 'u89568898': 0.21015920165233112,\n",
       " 'u93655272': -0.10841575853753452,\n",
       " 'u25042283': 0.4008144393601726,\n",
       " 'u57035589': -0.13997820915469716,\n",
       " 'u15010009': -0.3714778742637885,\n",
       " 'u82755291': -0.08199845938131377,\n",
       " 'u37103371': 0.3204256618700675,\n",
       " 'u06631135': -0.4916532438807373,\n",
       " 'u82556897': 0.5435571575898168,\n",
       " 'u21551385': 0.30524194390724335,\n",
       " 'u05202684': -0.5167422887655243,\n",
       " 'u14702336': 0.8498281989419847,\n",
       " 'u84042893': -0.20041171303066407,\n",
       " 'u68343562': -0.6496986202450699,\n",
       " 'u09621573': 0.33309483650904487,\n",
       " 'u42411555': -0.03878409048850139,\n",
       " 'u38064594': -0.9312430504669287,\n",
       " 'u55659468': 0.605258374057594,\n",
       " 'u51504468': -0.42809490287871593,\n",
       " 'u98329890': 0.18864810139272783,\n",
       " 'u96833073': 0.4003640934196823,\n",
       " 'u89178964': -2.0280813767790105,\n",
       " 'u91547889': -0.20010240394233703,\n",
       " 'u36112555': 0.024307416212550517,\n",
       " 'u21396545': -0.6163589229663355,\n",
       " 'u56788026': -0.2998502411525135,\n",
       " 'u41605687': 1.0119734238275129,\n",
       " 'u07360188': -0.5043218313878843,\n",
       " 'u49974537': 0.4824573492215926,\n",
       " 'u23791734': 0.1953586944069994,\n",
       " 'u92013513': 0.3717697696404645,\n",
       " 'u67398492': -0.028248233782608538,\n",
       " 'u73785086': 0.20996053979455478,\n",
       " 'u10242260': 0.26251592102184695,\n",
       " 'u34330410': -0.24636837550055424,\n",
       " 'u66224945': 0.7478683925483484,\n",
       " 'u66682814': 1.1329865128007468,\n",
       " 'u19053494': 0.3723539957745015,\n",
       " 'u15020435': -0.3064206331953006,\n",
       " 'u03749090': 0.23303840125224431,\n",
       " 'u61476252': -0.18696196758002046,\n",
       " 'u43621243': 0.3470438112061883,\n",
       " 'u73768165': -0.06002357352496696,\n",
       " 'u72873283': -0.3960866606546826,\n",
       " 'u05960945': 0.0663299307490816,\n",
       " 'u66651136': -0.058234244038205624,\n",
       " 'u12329804': 0.16017452013787692,\n",
       " 'u04150783': -0.08236287218516401,\n",
       " 'u34672505': 0.05242281117711048,\n",
       " 'u39369505': 0.6810565178401754,\n",
       " 'u29861752': 0.07630404046283418,\n",
       " 'u88040580': -0.0009918781624975624,\n",
       " 'u42467385': 0.11171027848774183,\n",
       " 'u24637388': -0.2709848704221487,\n",
       " 'u76862514': -0.5913321538714016,\n",
       " 'u84959387': -1.0535316890072541,\n",
       " 'u10455070': 0.06117315180950263,\n",
       " 'u52038231': -0.008770183018296678,\n",
       " 'u20340818': 0.30299518312646745,\n",
       " 'u33961552': -0.6920164524701494,\n",
       " 'u84685172': 0.38924120382728744,\n",
       " 'u05373153': 0.3054229533449351,\n",
       " 'u43739751': 0.09914161669541904,\n",
       " 'u96292613': -0.8195749618342824,\n",
       " 'u76307639': 0.25123157148345643,\n",
       " 'u00370921': -0.33261780798382007,\n",
       " 'u80064824': -0.06463054658118975,\n",
       " 'u44824365': -1.2660714122818053,\n",
       " 'u88843432': 0.28929971795233916,\n",
       " 'u45711549': 0.507820503864597,\n",
       " 'u03604519': 0.11591551705025203,\n",
       " 'u65793931': -0.13865337486199894,\n",
       " 'u40140637': 1.324970692403025,\n",
       " 'u84759213': -0.07975904368236511,\n",
       " 'u76386235': -0.0909322398441539,\n",
       " 'u88553986': 0.384381967389715,\n",
       " 'u41502407': 0.4820821215623557,\n",
       " 'u53615716': -1.0808852916589853,\n",
       " 'u34679480': -0.39743531735478427,\n",
       " 'u61454999': -0.3997687375835469,\n",
       " 'u46705135': 0.5080820863753438,\n",
       " 'u19904237': -0.30290674482949775,\n",
       " 'u80021772': 0.6805132544564294,\n",
       " 'u20204106': 0.40620877176665915,\n",
       " 'u38606788': 0.7171256990197836,\n",
       " 'u30525890': -0.29116110664458744,\n",
       " 'u28326815': 0.15212664351237348,\n",
       " 'u17366133': -0.4494305934330266,\n",
       " 'u75597994': 0.216150350654833,\n",
       " 'u21635454': -0.09337210752369919,\n",
       " 'u50755757': 0.36625463837834266,\n",
       " 'u52828833': 0.05759097201461322,\n",
       " 'u38997786': -0.6059980066058713,\n",
       " 'u57879333': -0.35494074496519695,\n",
       " 'u54312176': 0.18024927080830158,\n",
       " 'u23476091': -0.6289548374505839,\n",
       " 'u99783622': 0.492540832012444,\n",
       " 'u49194432': -0.06154879073979533,\n",
       " 'u25828842': 0.007518953594566131,\n",
       " 'u94159937': 0.44347352364568227,\n",
       " 'u76337229': 0.3057065206347542,\n",
       " 'u33843988': -0.11183720609410067,\n",
       " 'u44825310': -0.2664502565319977,\n",
       " 'u70339605': -0.6680097920656715,\n",
       " 'u49508040': 0.055010314754585815,\n",
       " 'u85514440': -0.378532999803454,\n",
       " 'u06382645': -0.46242565649058975,\n",
       " 'u07462131': 0.3188650834540248,\n",
       " 'u04639299': 0.2683928469759174,\n",
       " 'u63521682': -1.184183758698237,\n",
       " 'u43492331': 0.13010895651177293,\n",
       " 'u26963539': -0.06628568493059503,\n",
       " 'u45913286': -0.31371095146110956,\n",
       " 'u74426406': 0.06909288222614454,\n",
       " 'u21185789': 0.7944541682139429,\n",
       " 'u00238333': -0.42405399128399324,\n",
       " 'u51628961': -0.04512426054048661,\n",
       " ...}"
      ]
     },
     "execution_count": 178,
     "metadata": {},
     "output_type": "execute_result"
    }
   ],
   "source": [
    "betaU"
   ]
  },
  {
   "cell_type": "code",
   "execution_count": 179,
   "metadata": {},
   "outputs": [],
   "source": [
    "max_beta_u_id, max_beta_u = max(betaU, key=betaU.get), max(betaU.values())\n",
    "min_beta_u_id, min_beta_u = min(betaU, key=betaU.get), min(betaU.values())\n",
    "max_beta_I_id, max_beta_I = max(betaI, key=betaI.get), max(betaI.values())\n",
    "min_beta_I_id, min_beta_I = min(betaI, key=betaI.get), min(betaI.values())\n"
   ]
  },
  {
   "cell_type": "code",
   "execution_count": 180,
   "metadata": {},
   "outputs": [
    {
     "name": "stdout",
     "output_type": "stream",
     "text": [
      "Maximum betaU = u60898505 (5.827861878106079)\n",
      "Maximum betaI = g17604638 (5.456289047184816)\n",
      "Minimum betaU = u13037838 (-3.005956949143559)\n",
      "Minimum betaI = g84397720 (-2.848737738548173)\n"
     ]
    }
   ],
   "source": [
    "print(\"Maximum betaU = \" + str(max_beta_u_id) + ' (' + str(max_beta_u) + ')')\n",
    "print(\"Maximum betaI = \" + str(max_beta_I_id) + ' (' + str(max_beta_I) + ')')\n",
    "print(\"Minimum betaU = \" + str(min_beta_u_id) + ' (' + str(min_beta_u) + ')')\n",
    "print(\"Minimum betaI = \" + str(min_beta_I_id) + ' (' + str(min_beta_I) + ')')"
   ]
  },
  {
   "cell_type": "code",
   "execution_count": 181,
   "id": "65b17529-ade3-4cdf-a5c1-b17b06e68237",
   "metadata": {},
   "outputs": [
    {
     "data": {
      "text/plain": [
       "[5.827861878106079, -3.005956949143559, 5.456289047184816, -2.848737738548173]"
      ]
     },
     "execution_count": 181,
     "metadata": {},
     "output_type": "execute_result"
    }
   ],
   "source": [
    "answers['Q7'] = [max_beta_u, min_beta_u, max_beta_I, min_beta_I]\n",
    "answers['Q7']"
   ]
  },
  {
   "cell_type": "code",
   "execution_count": null,
   "id": "7c9faa5c-2bc1-4d51-ae29-df2d82c9372d",
   "metadata": {},
   "outputs": [],
   "source": [
    "assertFloatList(answers['Q7'], 4)"
   ]
  },
  {
   "cell_type": "code",
   "execution_count": null,
   "id": "c604fd19-2fb8-44bf-82b5-33797f534707",
   "metadata": {},
   "outputs": [],
   "source": [
    "### Question 8"
   ]
  },
  {
   "cell_type": "code",
   "execution_count": 193,
   "metadata": {},
   "outputs": [],
   "source": [
    "def iterate(lamb, max_iteration=50):\n",
    "    for iter in range(max_iteration):\n",
    "        update_alpha()\n",
    "        update_betaU(lamb)\n",
    "        update_betaI(lamb)\n",
    "        if iter == 29:\n",
    "            validMSE = MSE()\n",
    "            print(f\"Current Lambda is {lamb} | MSE: {validMSE}\")\n",
    "    return validMSE"
   ]
  },
  {
   "cell_type": "code",
   "execution_count": 194,
   "id": "30b8cbba-d0ec-46a6-b079-1c9a0e188971",
   "metadata": {},
   "outputs": [
    {
     "name": "stdout",
     "output_type": "stream",
     "text": [
      "Current Lambda is 0.0 | MSE: 3.020383624199873\n",
      "Current Lambda is 0.5 | MSE: 3.013181679928504\n",
      "Current Lambda is 1.0 | MSE: 3.007362495687221\n",
      "Current Lambda is 1.5 | MSE: 3.0026894312170103\n",
      "Current Lambda is 2.0 | MSE: 2.9989808264257367\n",
      "Current Lambda is 2.5 | MSE: 2.9960953818232614\n",
      "Current Lambda is 3.0 | MSE: 2.993919461048325\n",
      "Current Lambda is 3.5 | MSE: 2.992358564301318\n",
      "Current Lambda is 4.0 | MSE: 2.991332895960878\n",
      "Current Lambda is 4.5 | MSE: 2.9907747814251913\n",
      "Current Lambda is 5.0 | MSE: 2.9906266263152785\n",
      "Current Lambda is 5.5 | MSE: 2.9908391701019776\n",
      "Current Lambda is 6.0 | MSE: 2.991370049865965\n",
      "Current Lambda is 6.5 | MSE: 2.9921826478452993\n",
      "Current Lambda is 7.0 | MSE: 2.9932451656309085\n",
      "Current Lambda is 7.5 | MSE: 2.9945298734105688\n",
      "Current Lambda is 8.0 | MSE: 2.996012495647068\n",
      "Current Lambda is 8.5 | MSE: 2.997671704610793\n",
      "Current Lambda is 9.0 | MSE: 2.999488700097838\n",
      "Current Lambda is 9.5 | MSE: 3.0014468586000094\n"
     ]
    }
   ],
   "source": [
    "# Better lambda...\n",
    "bestValidMSE = None\n",
    "bestLamb = 0\n",
    "for lamb in np.arange(0, 10, 0.5):\n",
    "    validMSE = iterate(lamb, max_iteration=30)\n",
    "    if bestValidMSE == None or validMSE < bestValidMSE:\n",
    "        bestValidMSE = validMSE\n",
    "        bestLamb = lamb"
   ]
  },
  {
   "cell_type": "code",
   "execution_count": 196,
   "id": "b95c8e49-d120-4367-a20f-a39381776979",
   "metadata": {},
   "outputs": [
    {
     "data": {
      "text/plain": [
       "(5.0, 2.9906266263152785)"
      ]
     },
     "execution_count": 196,
     "metadata": {},
     "output_type": "execute_result"
    }
   ],
   "source": [
    "answers['Q8'] = (bestLamb, bestValidMSE)\n",
    "answers['Q8']"
   ]
  },
  {
   "cell_type": "code",
   "execution_count": 197,
   "id": "fe2dcb96-86a0-473e-980b-340435715ea8",
   "metadata": {},
   "outputs": [],
   "source": [
    "assertFloatList(answers['Q8'], 2)"
   ]
  },
  {
   "cell_type": "code",
   "execution_count": 199,
   "id": "90a7cd55-1f58-42a5-8c35-4debf80a3e3e",
   "metadata": {},
   "outputs": [],
   "source": [
    "predictions = open(\"HWpredictions_Hours.csv\", 'w')\n",
    "for l in open(\"pairs_Hours.csv\"):\n",
    "    if l.startswith(\"userID\"):\n",
    "        predictions.write(l)\n",
    "        continue\n",
    "    u,g = l.strip().split(',')\n",
    "    \n",
    "    if u in betaU and g in betaI:\n",
    "        predictions.write(u + ',' + g + ',' + str(alpha + betaU[u] + betaI[g]) + '\\n')\n",
    "    else:\n",
    "        predictions.write(u + ',' + g + ',' + str(0) + '\\n')\n",
    "\n",
    "predictions.close()"
   ]
  },
  {
   "cell_type": "code",
   "execution_count": 200,
   "id": "c5fe92e3-3ab1-4858-858c-eeb732d964f6",
   "metadata": {},
   "outputs": [],
   "source": [
    "f = open(\"answers_hw3.txt\", 'w')\n",
    "f.write(str(answers) + '\\n')\n",
    "f.close()"
   ]
  },
  {
   "cell_type": "code",
   "execution_count": null,
   "id": "9676dc3e",
   "metadata": {},
   "outputs": [],
   "source": []
  }
 ],
 "metadata": {
  "kernelspec": {
   "display_name": "Python 3 (ipykernel)",
   "language": "python",
   "name": "python3"
  },
  "language_info": {
   "codemirror_mode": {
    "name": "ipython",
    "version": 3
   },
   "file_extension": ".py",
   "mimetype": "text/x-python",
   "name": "python",
   "nbconvert_exporter": "python",
   "pygments_lexer": "ipython3",
   "version": "3.9.18"
  }
 },
 "nbformat": 4,
 "nbformat_minor": 5
}
