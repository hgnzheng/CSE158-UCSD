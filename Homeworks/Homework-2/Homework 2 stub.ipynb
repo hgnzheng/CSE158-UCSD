{
 "cells": [
  {
   "cell_type": "code",
   "execution_count": 1,
   "id": "d998586d",
   "metadata": {},
   "outputs": [],
   "source": [
    "import random\n",
    "from sklearn import linear_model\n",
    "from matplotlib import pyplot as plt\n",
    "from collections import defaultdict\n",
    "import gzip"
   ]
  },
  {
   "cell_type": "code",
   "execution_count": 2,
   "id": "f17a95c1",
   "metadata": {},
   "outputs": [],
   "source": [
    "def assertFloat(x):\n",
    "    assert type(float(x)) == float\n",
    "\n",
    "def assertFloatList(items, N):\n",
    "    assert len(items) == N\n",
    "    assert [type(float(x)) for x in items] == [float]*N"
   ]
  },
  {
   "cell_type": "code",
   "execution_count": 3,
   "id": "4a87f98f-715c-4bc5-9b06-ac92e1ad7a22",
   "metadata": {},
   "outputs": [],
   "source": [
    "answers = {}"
   ]
  },
  {
   "cell_type": "code",
   "execution_count": 4,
   "id": "a851f13d-134a-4ce4-8bd2-df5f606ac9dd",
   "metadata": {},
   "outputs": [],
   "source": [
    "def parseData(fname):\n",
    "    for l in open(fname):\n",
    "        yield eval(l)"
   ]
  },
  {
   "cell_type": "code",
   "execution_count": 5,
   "id": "ba796d3e-294d-403c-8b81-b3f4a85523d4",
   "metadata": {},
   "outputs": [],
   "source": [
    "data = list(parseData(\"beer_50000.json\"))"
   ]
  },
  {
   "cell_type": "code",
   "execution_count": 6,
   "id": "ba50c56f",
   "metadata": {},
   "outputs": [
    {
     "data": {
      "text/plain": [
       "{'review/appearance': 2.5,\n",
       " 'beer/style': 'Hefeweizen',\n",
       " 'review/palate': 1.5,\n",
       " 'review/taste': 1.5,\n",
       " 'beer/name': 'Sausa Weizen',\n",
       " 'review/timeUnix': 1234817823,\n",
       " 'beer/ABV': 5.0,\n",
       " 'beer/beerId': '47986',\n",
       " 'beer/brewerId': '10325',\n",
       " 'review/timeStruct': {'isdst': 0,\n",
       "  'mday': 16,\n",
       "  'hour': 20,\n",
       "  'min': 57,\n",
       "  'sec': 3,\n",
       "  'mon': 2,\n",
       "  'year': 2009,\n",
       "  'yday': 47,\n",
       "  'wday': 0},\n",
       " 'review/overall': 1.5,\n",
       " 'review/text': 'A lot of foam. But a lot.\\tIn the smell some banana, and then lactic and tart. Not a good start.\\tQuite dark orange in color, with a lively carbonation (now visible, under the foam).\\tAgain tending to lactic sourness.\\tSame for the taste. With some yeast and banana.',\n",
       " 'user/profileName': 'stcules',\n",
       " 'review/aroma': 2.0}"
      ]
     },
     "execution_count": 6,
     "metadata": {},
     "output_type": "execute_result"
    }
   ],
   "source": [
    "data[0]"
   ]
  },
  {
   "cell_type": "code",
   "execution_count": 7,
   "id": "6100b434-b50d-4dff-b986-61ce07aa6a39",
   "metadata": {},
   "outputs": [],
   "source": [
    "random.seed(0)\n",
    "random.shuffle(data)"
   ]
  },
  {
   "cell_type": "code",
   "execution_count": 8,
   "id": "a6e9582d-279e-4a0d-bcad-e85018bd4ffb",
   "metadata": {},
   "outputs": [],
   "source": [
    "# Already 50/25/25 split\n",
    "dataTrain = data[:25000]\n",
    "dataValid = data[25000:37500]\n",
    "dataTest = data[37500:]"
   ]
  },
  {
   "cell_type": "code",
   "execution_count": 9,
   "id": "d3b17174-8ad6-4a98-ac3f-1a431c730cfd",
   "metadata": {},
   "outputs": [],
   "source": [
    "yTrain = [d['beer/ABV'] > 7 for d in dataTrain]\n",
    "yValid = [d['beer/ABV'] > 7 for d in dataValid]\n",
    "yTest = [d['beer/ABV'] > 7 for d in dataTest]"
   ]
  },
  {
   "cell_type": "code",
   "execution_count": 10,
   "id": "a7712018-f883-4a4c-9ba0-9ae9287c6b31",
   "metadata": {},
   "outputs": [],
   "source": [
    "categoryCounts = defaultdict(int)\n",
    "for d in data:\n",
    "    categoryCounts[d['beer/style']] += 1"
   ]
  },
  {
   "cell_type": "code",
   "execution_count": 11,
   "id": "e82da2c2-43a6-4269-87a3-5fd5ef92f3b0",
   "metadata": {},
   "outputs": [],
   "source": [
    "categories = [c for c in categoryCounts if categoryCounts[c] > 1000]"
   ]
  },
  {
   "cell_type": "code",
   "execution_count": 12,
   "id": "1c838c5c-6c59-4049-8201-68c376dd4295",
   "metadata": {},
   "outputs": [],
   "source": [
    "catID = dict(zip(list(categories),range(len(categories))))"
   ]
  },
  {
   "cell_type": "code",
   "execution_count": null,
   "id": "b7bbafdd-9c35-4b24-8d7c-1474430bcb06",
   "metadata": {},
   "outputs": [],
   "source": []
  },
  {
   "cell_type": "code",
   "execution_count": 13,
   "id": "7dbd03fa-5329-405f-9023-7690f9a45c86",
   "metadata": {},
   "outputs": [],
   "source": [
    "def feat(d):\n",
    "    # In my solution, I wrote a reusable function that takes parameters to generate features for each question\n",
    "    # Feel free to keep or discard\n",
    "    cat = d['beer/style']\n",
    "    ID = catID[cat] if cat in categories else 0\n",
    "    # one-hot encoding\n",
    "    encode = [0 for x in range(len(catID) -1)]\n",
    "    if ID > 0:\n",
    "        encode[ID - 1] = 1\n",
    "    return [1] + encode"
   ]
  },
  {
   "cell_type": "code",
   "execution_count": 14,
   "id": "8f8b3562-5ca9-4648-855c-7b597273b25f",
   "metadata": {},
   "outputs": [],
   "source": [
    "def pipeline(reg):\n",
    "    X = [feat(d) for d in dataTrain]\n",
    "    y = [d['beer/ABV'] > 7 for d in dataTrain]\n",
    "    model = linear_model.LogisticRegression(C=reg, class_weight='balanced')\n",
    "    model.fit(X, y)\n",
    "    \n",
    "    X_test = [feat(d) for d in dataTest]\n",
    "    X_valid = [feat(d) for d in dataValid]\n",
    "    y_test = [d['beer/ABV'] > 7 for d in dataTest]\n",
    "    y_valid = [d['beer/ABV'] > 7 for d in dataValid]\n",
    "    \n",
    "    test_pred = model.predict(X_test)\n",
    "    valid_pred = model.predict(X_valid)\n",
    "    # Report the accuracy\n",
    "    print(model.score(X_test, y_test))\n",
    "    \n",
    "    TP = sum([a == b for a,b in zip(test_pred, y_test) if b == True])\n",
    "    TN = sum([a == b for a,b in zip(test_pred, y_test) if b == False])\n",
    "    FP = sum([a != b for a,b in zip(test_pred, y_test) if b == False])\n",
    "    FN = sum([a != b for a,b in zip(test_pred, y_test) if b == True])    \n",
    "    \n",
    "    BER_test = 1 / 2 * (FP / (FP + TN) + FN / (FN + TP))\n",
    "    # print(BER_test)\n",
    "    \n",
    "    TP = sum([a == b for a,b in zip(valid_pred, y_valid) if b == True])\n",
    "    TN = sum([a == b for a,b in zip(valid_pred, y_valid) if b == False])\n",
    "    FP = sum([a != b for a,b in zip(valid_pred, y_valid) if b == False])\n",
    "    FN = sum([a != b for a,b in zip(valid_pred, y_valid) if b == True])    \n",
    "    \n",
    "    BER_valid = 1 / 2 * (FP / (FP + TN) + FN / (FN + TP))\n",
    "    # print(BER_valid)\n",
    "    return model, BER_valid, BER_test"
   ]
  },
  {
   "cell_type": "code",
   "execution_count": 15,
   "id": "14486a0e-c501-4988-abb5-ab70c1cd3e66",
   "metadata": {},
   "outputs": [],
   "source": [
    "### Question 1"
   ]
  },
  {
   "cell_type": "code",
   "execution_count": 16,
   "id": "900cb7ce-fb76-401d-a95e-66053bed0445",
   "metadata": {},
   "outputs": [
    {
     "name": "stdout",
     "output_type": "stream",
     "text": [
      "0.85096\n"
     ]
    }
   ],
   "source": [
    "mod, validBER, testBER = pipeline(10)"
   ]
  },
  {
   "cell_type": "code",
   "execution_count": 17,
   "id": "cf2571b3-6999-4714-a4aa-62dab31937bb",
   "metadata": {},
   "outputs": [
    {
     "data": {
      "text/plain": [
       "[0.16130237168160533, 0.16078380246088317]"
      ]
     },
     "execution_count": 17,
     "metadata": {},
     "output_type": "execute_result"
    }
   ],
   "source": [
    "answers['Q1'] = [validBER, testBER]\n",
    "answers['Q1']"
   ]
  },
  {
   "cell_type": "code",
   "execution_count": 18,
   "id": "f899b683-3a9c-4f65-9167-54938589f12c",
   "metadata": {},
   "outputs": [],
   "source": [
    "assertFloatList(answers['Q1'], 2)"
   ]
  },
  {
   "cell_type": "code",
   "execution_count": 19,
   "id": "a5724e91-cbd9-4e44-8a20-7a8cc350c1a4",
   "metadata": {},
   "outputs": [],
   "source": [
    "### Question 2"
   ]
  },
  {
   "cell_type": "code",
   "execution_count": 20,
   "id": "0856182b",
   "metadata": {},
   "outputs": [
    {
     "data": {
      "text/plain": [
       "{'review/appearance': 4.0,\n",
       " 'beer/style': 'Belgian Pale Ale',\n",
       " 'review/palate': 4.0,\n",
       " 'review/taste': 4.0,\n",
       " 'beer/name': 'La Binchoise Blonde Tradition',\n",
       " 'review/timeUnix': 1210043435,\n",
       " 'beer/ABV': 6.5,\n",
       " 'beer/beerId': '7693',\n",
       " 'beer/brewerId': '3282',\n",
       " 'review/timeStruct': {'isdst': 0,\n",
       "  'mday': 6,\n",
       "  'hour': 3,\n",
       "  'min': 10,\n",
       "  'sec': 35,\n",
       "  'mon': 5,\n",
       "  'year': 2008,\n",
       "  'yday': 127,\n",
       "  'wday': 1},\n",
       " 'review/overall': 4.0,\n",
       " 'review/text': 'From the 11.2oz stubby.\\tPours a straw/golden color with a nice head that soon settles to a nice thin crown. Pleasing aroma of yeast and fruit. Taste melds fruit notes with a nice carbonation and peppery hop profile. Slightly dry finish, but satisfying leaving you wanting another drink. Recommended.',\n",
       " 'user/profileName': 'sinistermadman',\n",
       " 'review/aroma': 4.0}"
      ]
     },
     "execution_count": 20,
     "metadata": {},
     "output_type": "execute_result"
    }
   ],
   "source": [
    "dataTrain[0]"
   ]
  },
  {
   "cell_type": "code",
   "execution_count": 21,
   "id": "70b3c62e",
   "metadata": {},
   "outputs": [
    {
     "data": {
      "text/plain": [
       "4721"
      ]
     },
     "execution_count": 21,
     "metadata": {},
     "output_type": "execute_result"
    }
   ],
   "source": [
    "max_length = max([len(d['review/text']) for d in dataTrain])\n",
    "max_length"
   ]
  },
  {
   "cell_type": "code",
   "execution_count": 22,
   "id": "24994a60",
   "metadata": {},
   "outputs": [],
   "source": [
    "def feat(d):\n",
    "    cat = d['beer/style']\n",
    "    ID = catID[cat] if cat in categories else 0\n",
    "    # one-hot encoding\n",
    "    encode = [0 for x in range(len(catID) -1)]\n",
    "    if ID > 0:\n",
    "        encode[ID - 1] = 1\n",
    "    review_scores = [d['review/appearance'], d['review/palate'], d['review/taste'],\n",
    "                    d['review/overall'], d['review/aroma']]\n",
    "    \n",
    "    return [1] + encode + review_scores + [len(d['review/text']) / max_length]"
   ]
  },
  {
   "cell_type": "code",
   "execution_count": 23,
   "id": "741fa85f",
   "metadata": {},
   "outputs": [],
   "source": [
    "def pipeline(reg):\n",
    "    X = [feat(d) for d in dataTrain]\n",
    "    y = [d['beer/ABV'] > 7 for d in dataTrain]\n",
    "    model = linear_model.LogisticRegression(C=reg, class_weight='balanced')\n",
    "    model.fit(X, y)\n",
    "    \n",
    "    X_test = [feat(d) for d in dataTest]\n",
    "    X_valid = [feat(d) for d in dataValid]\n",
    "    y_test = [d['beer/ABV'] > 7 for d in dataTest]\n",
    "    y_valid = [d['beer/ABV'] > 7 for d in dataValid]\n",
    "    \n",
    "    test_pred = model.predict(X_test)\n",
    "    valid_pred = model.predict(X_valid)\n",
    "    # Report the accuracy\n",
    "    print(model.score(X_test, y_test))\n",
    "    \n",
    "    TP = sum([a == b for a,b in zip(test_pred, y_test) if b == True])\n",
    "    TN = sum([a == b for a,b in zip(test_pred, y_test) if b == False])\n",
    "    FP = sum([a != b for a,b in zip(test_pred, y_test) if b == False])\n",
    "    FN = sum([a != b for a,b in zip(test_pred, y_test) if b == True])    \n",
    "    \n",
    "    BER_test = 1 / 2 * (FP / (FP + TN) + FN / (FN + TP))\n",
    "    # print(BER_test)\n",
    "    \n",
    "    TP = sum([a == b for a,b in zip(valid_pred, y_valid) if b == True])\n",
    "    TN = sum([a == b for a,b in zip(valid_pred, y_valid) if b == False])\n",
    "    FP = sum([a != b for a,b in zip(valid_pred, y_valid) if b == False])\n",
    "    FN = sum([a != b for a,b in zip(valid_pred, y_valid) if b == True])    \n",
    "    \n",
    "    BER_valid = 1 / 2 * (FP / (FP + TN) + FN / (FN + TP))\n",
    "    # print(BER_valid)\n",
    "    return model, BER_valid, BER_test"
   ]
  },
  {
   "cell_type": "code",
   "execution_count": 24,
   "id": "f707bfa2-cdd6-43fd-8bff-724e1a28f185",
   "metadata": {},
   "outputs": [
    {
     "name": "stdout",
     "output_type": "stream",
     "text": [
      "0.85704\n"
     ]
    },
    {
     "name": "stderr",
     "output_type": "stream",
     "text": [
      "/Users/youzezheng/anaconda3/lib/python3.11/site-packages/sklearn/linear_model/_logistic.py:460: ConvergenceWarning: lbfgs failed to converge (status=1):\n",
      "STOP: TOTAL NO. of ITERATIONS REACHED LIMIT.\n",
      "\n",
      "Increase the number of iterations (max_iter) or scale the data as shown in:\n",
      "    https://scikit-learn.org/stable/modules/preprocessing.html\n",
      "Please also refer to the documentation for alternative solver options:\n",
      "    https://scikit-learn.org/stable/modules/linear_model.html#logistic-regression\n",
      "  n_iter_i = _check_optimize_result(\n"
     ]
    }
   ],
   "source": [
    "mod, validBER, testBER = pipeline(10)"
   ]
  },
  {
   "cell_type": "code",
   "execution_count": 25,
   "id": "23daba7d-3f75-4d50-b393-34992f4710cc",
   "metadata": {},
   "outputs": [
    {
     "data": {
      "text/plain": [
       "[0.14929168412822388, 0.150572815931349]"
      ]
     },
     "execution_count": 25,
     "metadata": {},
     "output_type": "execute_result"
    }
   ],
   "source": [
    "answers['Q2'] = [validBER, testBER]\n",
    "answers['Q2']"
   ]
  },
  {
   "cell_type": "code",
   "execution_count": 26,
   "id": "ecb8d0b4-d4c8-4419-a7c1-febb78fd44f5",
   "metadata": {},
   "outputs": [],
   "source": [
    "assertFloatList(answers['Q2'], 2)"
   ]
  },
  {
   "cell_type": "code",
   "execution_count": 27,
   "id": "6e65d346-5020-429b-90ed-4d52d7c97b4f",
   "metadata": {},
   "outputs": [],
   "source": [
    "### Question 3"
   ]
  },
  {
   "cell_type": "code",
   "execution_count": 28,
   "id": "c97f0b41-0914-4649-984f-252e03ff9b08",
   "metadata": {},
   "outputs": [
    {
     "name": "stdout",
     "output_type": "stream",
     "text": [
      "0.802\n",
      "Validation BER for C=0.001 is 0.1967815722017428\n",
      "0.856\n",
      "Validation BER for C=0.01 is 0.15089049054483042\n"
     ]
    },
    {
     "name": "stderr",
     "output_type": "stream",
     "text": [
      "/Users/youzezheng/anaconda3/lib/python3.11/site-packages/sklearn/linear_model/_logistic.py:460: ConvergenceWarning: lbfgs failed to converge (status=1):\n",
      "STOP: TOTAL NO. of ITERATIONS REACHED LIMIT.\n",
      "\n",
      "Increase the number of iterations (max_iter) or scale the data as shown in:\n",
      "    https://scikit-learn.org/stable/modules/preprocessing.html\n",
      "Please also refer to the documentation for alternative solver options:\n",
      "    https://scikit-learn.org/stable/modules/linear_model.html#logistic-regression\n",
      "  n_iter_i = _check_optimize_result(\n"
     ]
    },
    {
     "name": "stdout",
     "output_type": "stream",
     "text": [
      "0.85744\n",
      "Validation BER for C=0.1 is 0.15120531303268894\n"
     ]
    },
    {
     "name": "stderr",
     "output_type": "stream",
     "text": [
      "/Users/youzezheng/anaconda3/lib/python3.11/site-packages/sklearn/linear_model/_logistic.py:460: ConvergenceWarning: lbfgs failed to converge (status=1):\n",
      "STOP: TOTAL NO. of ITERATIONS REACHED LIMIT.\n",
      "\n",
      "Increase the number of iterations (max_iter) or scale the data as shown in:\n",
      "    https://scikit-learn.org/stable/modules/preprocessing.html\n",
      "Please also refer to the documentation for alternative solver options:\n",
      "    https://scikit-learn.org/stable/modules/linear_model.html#logistic-regression\n",
      "  n_iter_i = _check_optimize_result(\n"
     ]
    },
    {
     "name": "stdout",
     "output_type": "stream",
     "text": [
      "0.85704\n",
      "Validation BER for C=1 is 0.15012886140494944\n",
      "0.85704\n",
      "Validation BER for C=10 is 0.14929168412822388\n"
     ]
    },
    {
     "name": "stderr",
     "output_type": "stream",
     "text": [
      "/Users/youzezheng/anaconda3/lib/python3.11/site-packages/sklearn/linear_model/_logistic.py:460: ConvergenceWarning: lbfgs failed to converge (status=1):\n",
      "STOP: TOTAL NO. of ITERATIONS REACHED LIMIT.\n",
      "\n",
      "Increase the number of iterations (max_iter) or scale the data as shown in:\n",
      "    https://scikit-learn.org/stable/modules/preprocessing.html\n",
      "Please also refer to the documentation for alternative solver options:\n",
      "    https://scikit-learn.org/stable/modules/linear_model.html#logistic-regression\n",
      "  n_iter_i = _check_optimize_result(\n"
     ]
    }
   ],
   "source": [
    "naive_classifier = 0.5\n",
    "valid_BER = 0.5\n",
    "test_BER = 0.5\n",
    "best_C = 0\n",
    "model = None\n",
    "for c in [0.001, 0.01, 0.1, 1, 10]:\n",
    "    mod, validBER, testBER = pipeline(c)\n",
    "    print(f\"Validation BER for C={c} is {validBER}\")\n",
    "    mean_BER = (1/2) * (validBER + testBER)\n",
    "    if mean_BER < naive_classifier:\n",
    "        naive_classifier = mean_BER\n",
    "        valid_BER = validBER\n",
    "        test_BER = testBER\n",
    "        best_C = c\n",
    "        model = mod"
   ]
  },
  {
   "cell_type": "code",
   "execution_count": 29,
   "id": "0d0f5628-46f4-430d-8e84-99a97b9d81a2",
   "metadata": {},
   "outputs": [
    {
     "data": {
      "text/plain": [
       "10"
      ]
     },
     "execution_count": 29,
     "metadata": {},
     "output_type": "execute_result"
    }
   ],
   "source": [
    "bestC = best_C\n",
    "bestC"
   ]
  },
  {
   "cell_type": "code",
   "execution_count": 30,
   "id": "06ae5223-330b-42f0-bce3-66fe2526e126",
   "metadata": {},
   "outputs": [],
   "source": [
    "mod, validBER, testBER = model, valid_BER, test_BER"
   ]
  },
  {
   "cell_type": "code",
   "execution_count": 31,
   "id": "812e0e27-424f-4389-9a65-d19d470910cd",
   "metadata": {},
   "outputs": [
    {
     "data": {
      "text/plain": [
       "[10, 0.14929168412822388, 0.150572815931349]"
      ]
     },
     "execution_count": 31,
     "metadata": {},
     "output_type": "execute_result"
    }
   ],
   "source": [
    "answers['Q3'] = [bestC, validBER, testBER]\n",
    "answers['Q3']"
   ]
  },
  {
   "cell_type": "code",
   "execution_count": 32,
   "id": "362bb32f-f81e-4f3e-9c8b-24b6beeee794",
   "metadata": {},
   "outputs": [],
   "source": [
    "assertFloatList(answers['Q3'], 3)"
   ]
  },
  {
   "cell_type": "code",
   "execution_count": 33,
   "id": "6e31986b-646d-4bac-b578-517c6f2c02b9",
   "metadata": {},
   "outputs": [],
   "source": [
    "### Question 4"
   ]
  },
  {
   "cell_type": "code",
   "execution_count": 34,
   "id": "5f19ee01",
   "metadata": {},
   "outputs": [],
   "source": [
    "def feat(d):\n",
    "    cat = d['beer/style']\n",
    "    ID = catID[cat] if cat in categories else 0\n",
    "    # one-hot encoding\n",
    "    encode = [0 for x in range(len(catID) -1)]\n",
    "    if ID > 0:\n",
    "        encode[ID - 1] = 1\n",
    "    review_scores = [d['review/appearance'], d['review/palate'], d['review/taste'],\n",
    "                    d['review/overall'], d['review/aroma']]\n",
    "    \n",
    "    return [1] + review_scores + [len(d['review/text']) / max_length]\n",
    "\n",
    "def pipeline(reg):\n",
    "    X = [feat(d) for d in dataTrain]\n",
    "    y = [d['beer/ABV'] > 7 for d in dataTrain]\n",
    "    model = linear_model.LogisticRegression(C=reg, class_weight='balanced')\n",
    "    model.fit(X, y)\n",
    "    \n",
    "    X_test = [feat(d) for d in dataTest]\n",
    "    X_valid = [feat(d) for d in dataValid]\n",
    "    y_test = [d['beer/ABV'] > 7 for d in dataTest]\n",
    "    y_valid = [d['beer/ABV'] > 7 for d in dataValid]\n",
    "    \n",
    "    test_pred = model.predict(X_test)\n",
    "    valid_pred = model.predict(X_valid)\n",
    "    # Report the accuracy\n",
    "    print(model.score(X_test, y_test))\n",
    "    \n",
    "    TP = sum([a == b for a,b in zip(test_pred, y_test) if b == True])\n",
    "    TN = sum([a == b for a,b in zip(test_pred, y_test) if b == False])\n",
    "    FP = sum([a != b for a,b in zip(test_pred, y_test) if b == False])\n",
    "    FN = sum([a != b for a,b in zip(test_pred, y_test) if b == True])    \n",
    "    \n",
    "    BER_test = 1 / 2 * (FP / (FP + TN) + FN / (FN + TP))\n",
    "    # print(BER_test)\n",
    "    \n",
    "    TP = sum([a == b for a,b in zip(valid_pred, y_valid) if b == True])\n",
    "    TN = sum([a == b for a,b in zip(valid_pred, y_valid) if b == False])\n",
    "    FP = sum([a != b for a,b in zip(valid_pred, y_valid) if b == False])\n",
    "    FN = sum([a != b for a,b in zip(valid_pred, y_valid) if b == True])    \n",
    "    \n",
    "    BER_valid = 1 / 2 * (FP / (FP + TN) + FN / (FN + TP))\n",
    "    # print(BER_valid)\n",
    "    return model, BER_valid, BER_test"
   ]
  },
  {
   "cell_type": "code",
   "execution_count": 35,
   "id": "e13dfbba-c13e-4e60-b243-6f7145096dd8",
   "metadata": {},
   "outputs": [
    {
     "name": "stdout",
     "output_type": "stream",
     "text": [
      "0.68456\n"
     ]
    }
   ],
   "source": [
    "mod, validBER, testBER_noCat = pipeline(1)"
   ]
  },
  {
   "cell_type": "code",
   "execution_count": 36,
   "id": "378b9837",
   "metadata": {},
   "outputs": [],
   "source": [
    "def feat(d):\n",
    "    cat = d['beer/style']\n",
    "    ID = catID[cat] if cat in categories else 0\n",
    "    # one-hot encoding\n",
    "    encode = [0 for x in range(len(catID) -1)]\n",
    "    if ID > 0:\n",
    "        encode[ID - 1] = 1\n",
    "    review_scores = [d['review/appearance'], d['review/palate'], d['review/taste'],\n",
    "                    d['review/overall'], d['review/aroma']]\n",
    "    \n",
    "    return [1] + encode + [len(d['review/text']) / max_length]\n",
    "\n",
    "def pipeline(reg):\n",
    "    X = [feat(d) for d in dataTrain]\n",
    "    y = [d['beer/ABV'] > 7 for d in dataTrain]\n",
    "    model = linear_model.LogisticRegression(C=reg, class_weight='balanced')\n",
    "    model.fit(X, y)\n",
    "    \n",
    "    X_test = [feat(d) for d in dataTest]\n",
    "    X_valid = [feat(d) for d in dataValid]\n",
    "    y_test = [d['beer/ABV'] > 7 for d in dataTest]\n",
    "    y_valid = [d['beer/ABV'] > 7 for d in dataValid]\n",
    "    \n",
    "    test_pred = model.predict(X_test)\n",
    "    valid_pred = model.predict(X_valid)\n",
    "    # Report the accuracy\n",
    "    print(model.score(X_test, y_test))\n",
    "    \n",
    "    TP = sum([a == b for a,b in zip(test_pred, y_test) if b == True])\n",
    "    TN = sum([a == b for a,b in zip(test_pred, y_test) if b == False])\n",
    "    FP = sum([a != b for a,b in zip(test_pred, y_test) if b == False])\n",
    "    FN = sum([a != b for a,b in zip(test_pred, y_test) if b == True])    \n",
    "    \n",
    "    BER_test = 1 / 2 * (FP / (FP + TN) + FN / (FN + TP))\n",
    "    # print(BER_test)\n",
    "    \n",
    "    TP = sum([a == b for a,b in zip(valid_pred, y_valid) if b == True])\n",
    "    TN = sum([a == b for a,b in zip(valid_pred, y_valid) if b == False])\n",
    "    FP = sum([a != b for a,b in zip(valid_pred, y_valid) if b == False])\n",
    "    FN = sum([a != b for a,b in zip(valid_pred, y_valid) if b == True])    \n",
    "    \n",
    "    BER_valid = 1 / 2 * (FP / (FP + TN) + FN / (FN + TP))\n",
    "    # print(BER_valid)\n",
    "    return model, BER_valid, BER_test"
   ]
  },
  {
   "cell_type": "code",
   "execution_count": 37,
   "id": "d2c4f168-c3e6-4d1c-ad39-7804ff5a1a5f",
   "metadata": {},
   "outputs": [
    {
     "name": "stdout",
     "output_type": "stream",
     "text": [
      "0.85\n"
     ]
    }
   ],
   "source": [
    "mod, validBER, testBER_noReview = pipeline(1)"
   ]
  },
  {
   "cell_type": "code",
   "execution_count": 38,
   "id": "140d804a",
   "metadata": {},
   "outputs": [],
   "source": [
    "def feat(d):\n",
    "    cat = d['beer/style']\n",
    "    ID = catID[cat] if cat in categories else 0\n",
    "    # one-hot encoding\n",
    "    encode = [0 for x in range(len(catID) -1)]\n",
    "    if ID > 0:\n",
    "        encode[ID - 1] = 1\n",
    "    review_scores = [d['review/appearance'], d['review/palate'], d['review/taste'],\n",
    "                    d['review/overall'], d['review/aroma']]\n",
    "    \n",
    "    return [1] + encode + review_scores\n",
    "\n",
    "def pipeline(reg):\n",
    "    X = [feat(d) for d in dataTrain]\n",
    "    y = [d['beer/ABV'] > 7 for d in dataTrain]\n",
    "    model = linear_model.LogisticRegression(C=reg, class_weight='balanced')\n",
    "    model.fit(X, y)\n",
    "    \n",
    "    X_test = [feat(d) for d in dataTest]\n",
    "    X_valid = [feat(d) for d in dataValid]\n",
    "    y_test = [d['beer/ABV'] > 7 for d in dataTest]\n",
    "    y_valid = [d['beer/ABV'] > 7 for d in dataValid]\n",
    "    \n",
    "    test_pred = model.predict(X_test)\n",
    "    valid_pred = model.predict(X_valid)\n",
    "    # Report the accuracy\n",
    "    print(model.score(X_test, y_test))\n",
    "    \n",
    "    TP = sum([a == b for a,b in zip(test_pred, y_test) if b == True])\n",
    "    TN = sum([a == b for a,b in zip(test_pred, y_test) if b == False])\n",
    "    FP = sum([a != b for a,b in zip(test_pred, y_test) if b == False])\n",
    "    FN = sum([a != b for a,b in zip(test_pred, y_test) if b == True])    \n",
    "    \n",
    "    BER_test = 1 / 2 * (FP / (FP + TN) + FN / (FN + TP))\n",
    "    # print(BER_test)\n",
    "    \n",
    "    TP = sum([a == b for a,b in zip(valid_pred, y_valid) if b == True])\n",
    "    TN = sum([a == b for a,b in zip(valid_pred, y_valid) if b == False])\n",
    "    FP = sum([a != b for a,b in zip(valid_pred, y_valid) if b == False])\n",
    "    FN = sum([a != b for a,b in zip(valid_pred, y_valid) if b == True])    \n",
    "    \n",
    "    BER_valid = 1 / 2 * (FP / (FP + TN) + FN / (FN + TP))\n",
    "    # print(BER_valid)\n",
    "    return model, BER_valid, BER_test"
   ]
  },
  {
   "cell_type": "code",
   "execution_count": 39,
   "id": "bc7c86a0-2e6a-48bc-828a-8b805786a41d",
   "metadata": {},
   "outputs": [
    {
     "name": "stdout",
     "output_type": "stream",
     "text": [
      "0.85376\n"
     ]
    },
    {
     "name": "stderr",
     "output_type": "stream",
     "text": [
      "/Users/youzezheng/anaconda3/lib/python3.11/site-packages/sklearn/linear_model/_logistic.py:460: ConvergenceWarning: lbfgs failed to converge (status=1):\n",
      "STOP: TOTAL NO. of ITERATIONS REACHED LIMIT.\n",
      "\n",
      "Increase the number of iterations (max_iter) or scale the data as shown in:\n",
      "    https://scikit-learn.org/stable/modules/preprocessing.html\n",
      "Please also refer to the documentation for alternative solver options:\n",
      "    https://scikit-learn.org/stable/modules/linear_model.html#logistic-regression\n",
      "  n_iter_i = _check_optimize_result(\n"
     ]
    }
   ],
   "source": [
    "mod, validBER, testBER_noLength = pipeline(1)"
   ]
  },
  {
   "cell_type": "code",
   "execution_count": null,
   "id": "0ad5935e",
   "metadata": {},
   "outputs": [],
   "source": []
  },
  {
   "cell_type": "code",
   "execution_count": 40,
   "id": "b3f5794b-10c9-41b3-bbf4-05b346fffcfb",
   "metadata": {},
   "outputs": [
    {
     "data": {
      "text/plain": [
       "[0.31387501072485213, 0.16077986153652415, 0.15419420344633064]"
      ]
     },
     "execution_count": 40,
     "metadata": {},
     "output_type": "execute_result"
    }
   ],
   "source": [
    "answers['Q4'] = [testBER_noCat, testBER_noReview, testBER_noLength]\n",
    "answers['Q4']"
   ]
  },
  {
   "cell_type": "code",
   "execution_count": 41,
   "id": "0c3a712d-90cd-4a67-afe1-cca63b84e498",
   "metadata": {},
   "outputs": [],
   "source": [
    "assertFloatList(answers['Q4'], 3)"
   ]
  },
  {
   "cell_type": "code",
   "execution_count": 42,
   "id": "614e7747-143a-43e5-a0bd-1709c3bc4b50",
   "metadata": {},
   "outputs": [],
   "source": [
    "### Question 5"
   ]
  },
  {
   "cell_type": "code",
   "execution_count": 43,
   "id": "fe681798-bbd6-4d9b-ae30-f1431b9bebaf",
   "metadata": {},
   "outputs": [],
   "source": [
    "path = \"amazon_reviews_us_Musical_Instruments_v1_00.tsv.gz\"\n",
    "f = gzip.open(path, 'rt', encoding=\"utf8\")\n",
    "\n",
    "header = f.readline()\n",
    "header = header.strip().split('\\t')"
   ]
  },
  {
   "cell_type": "code",
   "execution_count": 44,
   "id": "36a79b1c-a4bf-4e5d-bc5d-e5e9bfd333f3",
   "metadata": {},
   "outputs": [
    {
     "data": {
      "text/plain": [
       "['marketplace',\n",
       " 'customer_id',\n",
       " 'review_id',\n",
       " 'product_id',\n",
       " 'product_parent',\n",
       " 'product_title',\n",
       " 'product_category',\n",
       " 'star_rating',\n",
       " 'helpful_votes',\n",
       " 'total_votes',\n",
       " 'vine',\n",
       " 'verified_purchase',\n",
       " 'review_headline',\n",
       " 'review_body',\n",
       " 'review_date']"
      ]
     },
     "execution_count": 44,
     "metadata": {},
     "output_type": "execute_result"
    }
   ],
   "source": [
    "header"
   ]
  },
  {
   "cell_type": "code",
   "execution_count": 45,
   "id": "01c5fd53-ddd9-4f65-b602-f33dcd411ab2",
   "metadata": {},
   "outputs": [
    {
     "name": "stdout",
     "output_type": "stream",
     "text": [
      "Skipping duplicate user/item: ('46953315', 'B00QM3CNN6')\n",
      "Skipping duplicate user/item: ('31616428', 'B0026RB0G8')\n",
      "Skipping duplicate user/item: ('47240912', 'B008I653SC')\n",
      "Skipping duplicate user/item: ('14503091', 'B003FRMRC4')\n",
      "Skipping duplicate user/item: ('38538360', 'B00HVLUR86')\n",
      "Skipping duplicate user/item: ('43448024', 'B00HVLUR86')\n",
      "Skipping duplicate user/item: ('51525270', 'B00HVLUR86')\n",
      "Skipping duplicate user/item: ('20652160', 'B004OU2IQG')\n",
      "Skipping duplicate user/item: ('10964440', 'B00HVLUR86')\n",
      "Skipping duplicate user/item: ('20043677', 'B00HVLUR86')\n",
      "Skipping duplicate user/item: ('44796499', 'B00HVLUSGM')\n",
      "Skipping duplicate user/item: ('29066899', 'B0002CZSYO')\n",
      "Skipping duplicate user/item: ('10385056', 'B004OU2IQG')\n",
      "Skipping duplicate user/item: ('1658551', 'B00HVLURL8')\n",
      "Skipping duplicate user/item: ('907433', 'B00N9Q2E5G')\n",
      "Skipping duplicate user/item: ('39412969', 'B00HVLUR86')\n",
      "Skipping duplicate user/item: ('4901688', 'B00HVLUR86')\n",
      "Skipping duplicate user/item: ('23458093', 'B005CX4GLE')\n",
      "Skipping duplicate user/item: ('38515272', 'B00HVLUSGM')\n",
      "Skipping duplicate user/item: ('11577442', 'B004OU2IQG')\n",
      "Skipping duplicate user/item: ('33123229', 'B0002CZSZ8')\n",
      "Skipping duplicate user/item: ('1473221', 'B00HVLURL8')\n",
      "Skipping duplicate user/item: ('1473221', 'B004OU2IQG')\n",
      "Skipping duplicate user/item: ('1658551', 'B004OU2IQG')\n",
      "Skipping duplicate user/item: ('43576831', 'B00MUFJXTM')\n",
      "Skipping duplicate user/item: ('31983516', 'B00HVLUR86')\n",
      "Skipping duplicate user/item: ('14312454', 'B004OU2IQG')\n",
      "Skipping duplicate user/item: ('30290991', 'B004OU2IQG')\n",
      "Skipping duplicate user/item: ('2714455', 'B003VWKPHC')\n",
      "Skipping duplicate user/item: ('19347026', 'B00B9QONQQ')\n",
      "Skipping duplicate user/item: ('44303814', 'B00HVLUSGM')\n",
      "Skipping duplicate user/item: ('7586067', 'B0002D0A82')\n",
      "Skipping duplicate user/item: ('45224935', 'B00NICSAVI')\n",
      "Skipping duplicate user/item: ('15394678', 'B00LTZTPJM')\n",
      "Skipping duplicate user/item: ('13593540', 'B0002D0CK8')\n",
      "Skipping duplicate user/item: ('4032226', 'B000BKJPQY')\n",
      "Skipping duplicate user/item: ('22561437', 'B003VWKPHC')\n",
      "Skipping duplicate user/item: ('14945376', 'B00HVLUSGM')\n",
      "Skipping duplicate user/item: ('12738423', 'B000068O3T')\n",
      "Skipping duplicate user/item: ('7081001', 'B0098VHUEG')\n",
      "Skipping duplicate user/item: ('41554871', 'B005VLWHP4')\n",
      "Skipping duplicate user/item: ('25881037', 'B003OG9NH8')\n",
      "Skipping duplicate user/item: ('52621298', 'B000A6ASSS')\n",
      "Skipping duplicate user/item: ('10125876', 'B008U1P9QG')\n",
      "Skipping duplicate user/item: ('50181160', 'B0002E3FBA')\n",
      "Skipping duplicate user/item: ('44622391', 'B003OT9N48')\n",
      "Skipping duplicate user/item: ('48408803', 'B00HVLUR86')\n",
      "Skipping duplicate user/item: ('1976244', 'B0010CP5DY')\n",
      "Skipping duplicate user/item: ('1753779', 'B0002CZVU0')\n",
      "Skipping duplicate user/item: ('17036027', 'B00267QD8S')\n",
      "Skipping duplicate user/item: ('7472528', 'B00646MZHK')\n",
      "Skipping duplicate user/item: ('26003848', 'B00CICPN0K')\n",
      "Skipping duplicate user/item: ('27819775', 'B003BNZHSI')\n",
      "Skipping duplicate user/item: ('13011180', 'B006RJRBY6')\n",
      "Skipping duplicate user/item: ('50079991', 'B0002F5544')\n",
      "Skipping duplicate user/item: ('15398248', 'B0032BYCWG')\n",
      "Skipping duplicate user/item: ('32786226', 'B003FRMRC4')\n",
      "Skipping duplicate user/item: ('47300481', 'B004Z17008')\n",
      "Skipping duplicate user/item: ('36336335', 'B002MAKE98')\n",
      "Skipping duplicate user/item: ('25504145', 'B005CX4GLE')\n",
      "Skipping duplicate user/item: ('25189829', 'B003VWJ2K8')\n",
      "Skipping duplicate user/item: ('16333305', 'B002MAMCIE')\n",
      "Skipping duplicate user/item: ('5095315', 'B003VWKPHC')\n",
      "Skipping duplicate user/item: ('19017131', 'B0002D0A7S')\n",
      "Skipping duplicate user/item: ('11330459', 'B003VWJ2K8')\n",
      "Skipping duplicate user/item: ('48076283', 'B0002D09Q0')\n",
      "Skipping duplicate user/item: ('31588426', 'B005NACC6M')\n",
      "Skipping duplicate user/item: ('35281019', 'B00646MZHK')\n",
      "Skipping duplicate user/item: ('9878929', 'B0057OIUW4')\n",
      "Skipping duplicate user/item: ('48005643', 'B003QGPCTE')\n",
      "Skipping duplicate user/item: ('49974033', 'B0002FOBJY')\n",
      "Skipping duplicate user/item: ('13906387', 'B005NACC6M')\n",
      "Skipping duplicate user/item: ('12746123', 'B005NACC6M')\n",
      "Skipping duplicate user/item: ('14064980', 'B00ALR3XH4')\n",
      "Skipping duplicate user/item: ('20797342', 'B00ATP5KF6')\n",
      "Skipping duplicate user/item: ('32368781', 'B001BM4PTI')\n",
      "Skipping duplicate user/item: ('21145462', 'B003VWJ2K8')\n",
      "Skipping duplicate user/item: ('16420980', 'B007I0EGGO')\n",
      "Skipping duplicate user/item: ('45432948', 'B003PEU5SK')\n",
      "Skipping duplicate user/item: ('13174036', 'B006RJRBY6')\n",
      "Skipping duplicate user/item: ('14812308', 'B0029PONJS')\n",
      "Skipping duplicate user/item: ('52428106', 'B000Y010WS')\n",
      "Skipping duplicate user/item: ('52896636', 'B003AYLJXU')\n",
      "Skipping duplicate user/item: ('23539660', 'B0002E518U')\n",
      "Skipping duplicate user/item: ('25740618', 'B004ZL3AEI')\n",
      "Skipping duplicate user/item: ('25740618', 'B0006SE59S')\n",
      "Skipping duplicate user/item: ('12922606', 'B000065BP9')\n",
      "Skipping duplicate user/item: ('24873662', 'B0002M6AC8')\n",
      "Skipping duplicate user/item: ('52256186', 'B0002GY7KQ')\n",
      "Skipping duplicate user/item: ('18342171', 'B0002H0OCA')\n",
      "Skipping duplicate user/item: ('49600435', 'B0002F7JPC')\n",
      "Skipping duplicate user/item: ('52390258', 'B0006HY5PI')\n",
      "Skipping duplicate user/item: ('17281475', 'B00008MIGG')\n",
      "Skipping duplicate user/item: ('32535778', 'B0000DH7IT')\n",
      "Skipping duplicate user/item: ('29480926', 'B0000TFYK2')\n",
      "Skipping duplicate user/item: ('26926367', 'B00007CWI7')\n",
      "Skipping duplicate user/item: ('26926367', 'B00007CWI7')\n",
      "Skipping duplicate user/item: ('30727166', 'B00002MZ8M')\n",
      "Skipping duplicate user/item: ('50944807', 'B00006AMBW')\n",
      "Skipping duplicate user/item: ('50944807', 'B00006AMBW')\n",
      "Skipping duplicate user/item: ('50072613', 'B00005BMSN')\n",
      "Skipping duplicate user/item: ('36831311', 'B00005OWCU')\n",
      "Skipping duplicate user/item: ('33924930', 'B00005K9CI')\n",
      "Skipping duplicate user/item: ('35957274', 'B00005BWSN')\n",
      "Skipping duplicate user/item: ('52056770', 'B000062UI4')\n",
      "Skipping duplicate user/item: ('40818529', 'B00006L57W')\n",
      "Skipping duplicate user/item: ('38182161', 'B00005S8KM')\n",
      "Skipping duplicate user/item: ('39289364', 'B00004SY4H')\n",
      "Skipping duplicate user/item: ('50683331', 'B00005S8KM')\n",
      "Skipping duplicate user/item: ('39430726', 'B00004YUWT')\n",
      "Skipping duplicate user/item: ('41535371', 'B00002F2IZ')\n",
      "Skipping duplicate user/item: ('41535371', 'B00002F2IZ')\n",
      "Skipping duplicate user/item: ('48686420', 'B00004YAHE')\n",
      "Skipping duplicate user/item: ('50707323', 'B00005OQMY')\n",
      "Skipping duplicate user/item: ('46322021', 'B00005K9DX')\n",
      "Skipping duplicate user/item: ('52835176', 'B00002F2IZ')\n",
      "Skipping duplicate user/item: ('47736173', 'B00004YUWT')\n",
      "Skipping duplicate user/item: ('49350719', 'B00002DDSF')\n"
     ]
    }
   ],
   "source": [
    "dataset = []\n",
    "\n",
    "pairsSeen = set()\n",
    "\n",
    "for line in f:\n",
    "    fields = line.strip().split('\\t')\n",
    "    d = dict(zip(header, fields))\n",
    "    ui = (d['customer_id'], d['product_id'])\n",
    "    if ui in pairsSeen:\n",
    "        print(\"Skipping duplicate user/item:\", ui)\n",
    "        continue\n",
    "    pairsSeen.add(ui)\n",
    "    d['star_rating'] = int(d['star_rating'])\n",
    "    d['helpful_votes'] = int(d['helpful_votes'])\n",
    "    d['total_votes'] = int(d['total_votes'])\n",
    "    dataset.append(d)"
   ]
  },
  {
   "cell_type": "code",
   "execution_count": 46,
   "id": "1d3c0175-41bc-4267-be22-0dd98136345a",
   "metadata": {},
   "outputs": [],
   "source": [
    "dataTrain = dataset[:int(len(dataset)*0.9)]\n",
    "dataTest = dataset[int(len(dataset)*0.9):]"
   ]
  },
  {
   "cell_type": "code",
   "execution_count": 47,
   "id": "68418f81",
   "metadata": {},
   "outputs": [
    {
     "data": {
      "text/plain": [
       "{'marketplace': 'US',\n",
       " 'customer_id': '45610553',\n",
       " 'review_id': 'RMDCHWD0Y5OZ9',\n",
       " 'product_id': 'B00HH62VB6',\n",
       " 'product_parent': '618218723',\n",
       " 'product_title': 'AGPtek® 10 Isolated Output 9V 12V 18V Guitar Pedal Board Power Supply Effect Pedals with Isolated Short Cricuit / Overcurrent Protection',\n",
       " 'product_category': 'Musical Instruments',\n",
       " 'star_rating': 3,\n",
       " 'helpful_votes': 0,\n",
       " 'total_votes': 1,\n",
       " 'vine': 'N',\n",
       " 'verified_purchase': 'N',\n",
       " 'review_headline': 'Three Stars',\n",
       " 'review_body': 'Works very good, but induces ALOT of noise.',\n",
       " 'review_date': '2015-08-31'}"
      ]
     },
     "execution_count": 47,
     "metadata": {},
     "output_type": "execute_result"
    }
   ],
   "source": [
    "dataTrain[0]"
   ]
  },
  {
   "cell_type": "code",
   "execution_count": 48,
   "id": "f3440cf1-2366-4d69-a4ae-a8ca5e2ea9f5",
   "metadata": {},
   "outputs": [],
   "source": [
    "# Feel free to keep or discard\n",
    "\n",
    "usersPerItem = defaultdict(set) # Maps an item to the users who rated it\n",
    "itemsPerUser = defaultdict(set) # Maps a user to the items that they rated\n",
    "itemNames = {}\n",
    "ratingDict = {} # To retrieve a rating for a specific user/item pair\n",
    "reviewsPerUser = defaultdict(list)\n",
    "\n",
    "for d in dataTrain:\n",
    "    user,item = d['customer_id'], d['product_id']\n",
    "    usersPerItem[item].add(user)\n",
    "    itemsPerUser[user].add(item)\n",
    "    itemNames[item] = d['product_title']\n",
    "    \n",
    "for d in dataset:\n",
    "    user,item = d['customer_id'], d['product_id']\n",
    "    itemNames[item] = d['product_title']\n",
    "    ratingDict[(user, item)] = d['star_rating']\n",
    "    reviewsPerUser[user].append(d)"
   ]
  },
  {
   "cell_type": "code",
   "execution_count": 49,
   "id": "62880122-0f22-43c6-afca-fdc9699e97f4",
   "metadata": {},
   "outputs": [],
   "source": [
    "userAverages = {}\n",
    "itemAverages = {}\n",
    "\n",
    "for u in itemsPerUser:\n",
    "    rs = [ratingDict[(u, i)] for i in itemsPerUser[u]]\n",
    "    userAverages[u] = sum(rs) / len(rs)\n",
    "    \n",
    "for i in usersPerItem:\n",
    "    rs = [ratingDict[(u, i)] for u in usersPerItem[i]]\n",
    "    itemAverages[i] = sum(rs) / len(rs)\n",
    "\n",
    "ratingMean = sum([d['star_rating'] for d in dataTrain]) / len(dataTrain)"
   ]
  },
  {
   "cell_type": "code",
   "execution_count": 50,
   "id": "d4e285d3",
   "metadata": {},
   "outputs": [
    {
     "data": {
      "text/plain": [
       "{'marketplace': 'US',\n",
       " 'customer_id': '45610553',\n",
       " 'review_id': 'RMDCHWD0Y5OZ9',\n",
       " 'product_id': 'B00HH62VB6',\n",
       " 'product_parent': '618218723',\n",
       " 'product_title': 'AGPtek® 10 Isolated Output 9V 12V 18V Guitar Pedal Board Power Supply Effect Pedals with Isolated Short Cricuit / Overcurrent Protection',\n",
       " 'product_category': 'Musical Instruments',\n",
       " 'star_rating': 3,\n",
       " 'helpful_votes': 0,\n",
       " 'total_votes': 1,\n",
       " 'vine': 'N',\n",
       " 'verified_purchase': 'N',\n",
       " 'review_headline': 'Three Stars',\n",
       " 'review_body': 'Works very good, but induces ALOT of noise.',\n",
       " 'review_date': '2015-08-31'}"
      ]
     },
     "execution_count": 50,
     "metadata": {},
     "output_type": "execute_result"
    }
   ],
   "source": [
    "dataTrain[0]"
   ]
  },
  {
   "cell_type": "code",
   "execution_count": 51,
   "id": "9415da7b-4a56-4093-a5bd-eea40d99e3f7",
   "metadata": {},
   "outputs": [],
   "source": [
    "def Jaccard(s1, s2):\n",
    "    numer = len(s1.intersection(s2))\n",
    "    denom = len(s1.union(s2))\n",
    "    if denom == 0:\n",
    "        return 0\n",
    "    return numer / denom"
   ]
  },
  {
   "cell_type": "code",
   "execution_count": 52,
   "id": "83816a03-6c51-4d1d-ae08-9490d4d38b70",
   "metadata": {},
   "outputs": [],
   "source": [
    "def mostSimilar(i, N):\n",
    "    similarities = []\n",
    "    users = usersPerItem[i]\n",
    "    for i2 in usersPerItem:\n",
    "        if i2 == i: continue\n",
    "        sim = Jaccard(users, usersPerItem[i2])\n",
    "        similarities.append((sim, i2))\n",
    "    similarities.sort(reverse=True)\n",
    "    return similarities[:N]"
   ]
  },
  {
   "cell_type": "code",
   "execution_count": 53,
   "id": "5680865b-5249-4834-b019-3628857510a5",
   "metadata": {},
   "outputs": [],
   "source": [
    "query = 'B00KCHRKD6'"
   ]
  },
  {
   "cell_type": "code",
   "execution_count": 54,
   "id": "38b430ca-4e4b-4a1e-b38c-2a1c448dbdef",
   "metadata": {},
   "outputs": [],
   "source": [
    "ms = mostSimilar(query, 10)"
   ]
  },
  {
   "cell_type": "code",
   "execution_count": 55,
   "id": "2b8d21ce-2cec-460f-bbdf-e943a9cbed6a",
   "metadata": {},
   "outputs": [
    {
     "data": {
      "text/plain": [
       "[(0.015228426395939087, 'B00H7NFDKA'),\n",
       " (0.014492753623188406, 'B00QKVV3HC'),\n",
       " (0.014492753623188406, 'B00GXRMD7W'),\n",
       " (0.014084507042253521, 'B00H7ILRRI'),\n",
       " (0.014084507042253521, 'B0057RUMPO'),\n",
       " (0.014084507042253521, 'B000B6DTYW'),\n",
       " (0.013888888888888888, 'B00L2708TI'),\n",
       " (0.013513513513513514, 'B009Z1KKWI'),\n",
       " (0.013513513513513514, 'B000VYINCW'),\n",
       " (0.013333333333333334, 'B003F2BDZQ')]"
      ]
     },
     "execution_count": 55,
     "metadata": {},
     "output_type": "execute_result"
    }
   ],
   "source": [
    "answers['Q5'] = ms\n",
    "answers['Q5']"
   ]
  },
  {
   "cell_type": "code",
   "execution_count": 56,
   "id": "57b7fb52-248a-4d11-a924-b8744aecd7a1",
   "metadata": {},
   "outputs": [],
   "source": [
    "assertFloatList([m[0] for m in ms], 10)"
   ]
  },
  {
   "cell_type": "code",
   "execution_count": 57,
   "id": "1e6fe1df-9464-4dc9-a58e-b6b1a6168803",
   "metadata": {},
   "outputs": [],
   "source": [
    "### Question 6"
   ]
  },
  {
   "cell_type": "code",
   "execution_count": 58,
   "id": "fe6c50d2-22b2-44cb-b29b-e08ac999d947",
   "metadata": {},
   "outputs": [],
   "source": [
    "def MSE(y, ypred):\n",
    "    differences = [(x-y)**2 for x,y in zip(ypred, y)]\n",
    "    return sum(differences) / len(differences)"
   ]
  },
  {
   "cell_type": "code",
   "execution_count": 59,
   "id": "4247a1f0-189d-44d3-80c4-a21669673f90",
   "metadata": {},
   "outputs": [],
   "source": [
    "def predictRating(user,item):\n",
    "    ratings = []\n",
    "    similarities = []\n",
    "    if item not in itemAverages:\n",
    "        return ratingMean\n",
    "    for d in reviewsPerUser[user]:\n",
    "        i2 = d['product_id']\n",
    "        if i2 == item: continue\n",
    "        if i2 in itemAverages:\n",
    "            ratings.append(d['star_rating'] - itemAverages[i2])\n",
    "        else:\n",
    "            ratings.append(d['star_rating'] - ratingMean)\n",
    "        similarities.append(Jaccard(usersPerItem[item], usersPerItem[i2]))\n",
    "    if (sum(similarities) > 0):\n",
    "        weightedRatings = [(x*y) for x,y in zip(ratings, similarities)]\n",
    "        return itemAverages[item] + sum(weightedRatings) / sum(similarities)\n",
    "    else:\n",
    "        return itemAverages[item]"
   ]
  },
  {
   "cell_type": "code",
   "execution_count": 60,
   "id": "242de977-3b55-4ffb-9300-5f0cc8c30424",
   "metadata": {},
   "outputs": [],
   "source": [
    "alwaysPredictMean = [ratingMean for d in dataTest]"
   ]
  },
  {
   "cell_type": "code",
   "execution_count": 61,
   "id": "6dd35154-0402-44ee-be29-cab6699c2f1a",
   "metadata": {},
   "outputs": [],
   "source": [
    "simPredictions = [predictRating(d['customer_id'], d['product_id']) for d in dataTest]"
   ]
  },
  {
   "cell_type": "code",
   "execution_count": 62,
   "id": "003fa11f-0c3a-4af2-80f1-d400863c067d",
   "metadata": {},
   "outputs": [],
   "source": [
    "labels = [d['star_rating'] for d in dataTest]"
   ]
  },
  {
   "cell_type": "code",
   "execution_count": 63,
   "id": "31e6735d-4e79-4584-adfa-4c4497a84a4a",
   "metadata": {},
   "outputs": [
    {
     "data": {
      "text/plain": [
       "1.7275966297419991"
      ]
     },
     "execution_count": 63,
     "metadata": {},
     "output_type": "execute_result"
    }
   ],
   "source": [
    "answers['Q6'] = MSE(simPredictions, labels)\n",
    "answers['Q6']"
   ]
  },
  {
   "cell_type": "code",
   "execution_count": 64,
   "id": "01b6b0eb-575c-4d4f-8a2a-8fefafe873f9",
   "metadata": {},
   "outputs": [],
   "source": [
    "assertFloat(answers['Q6'])"
   ]
  },
  {
   "cell_type": "code",
   "execution_count": 65,
   "id": "5268ae3a-b7b9-4b52-ba37-6d6363261396",
   "metadata": {},
   "outputs": [],
   "source": [
    "### Question 7"
   ]
  },
  {
   "cell_type": "code",
   "execution_count": 66,
   "id": "ed85fe59",
   "metadata": {},
   "outputs": [
    {
     "data": {
      "text/plain": [
       "{'marketplace': 'US',\n",
       " 'customer_id': '45610553',\n",
       " 'review_id': 'RMDCHWD0Y5OZ9',\n",
       " 'product_id': 'B00HH62VB6',\n",
       " 'product_parent': '618218723',\n",
       " 'product_title': 'AGPtek® 10 Isolated Output 9V 12V 18V Guitar Pedal Board Power Supply Effect Pedals with Isolated Short Cricuit / Overcurrent Protection',\n",
       " 'product_category': 'Musical Instruments',\n",
       " 'star_rating': 3,\n",
       " 'helpful_votes': 0,\n",
       " 'total_votes': 1,\n",
       " 'vine': 'N',\n",
       " 'verified_purchase': 'N',\n",
       " 'review_headline': 'Three Stars',\n",
       " 'review_body': 'Works very good, but induces ALOT of noise.',\n",
       " 'review_date': '2015-08-31'}"
      ]
     },
     "execution_count": 66,
     "metadata": {},
     "output_type": "execute_result"
    }
   ],
   "source": [
    "dataTrain[0]"
   ]
  },
  {
   "cell_type": "code",
   "execution_count": 67,
   "id": "755e5412",
   "metadata": {},
   "outputs": [],
   "source": [
    "from datetime import datetime\n",
    "import math"
   ]
  },
  {
   "cell_type": "code",
   "execution_count": 68,
   "id": "22b92925",
   "metadata": {},
   "outputs": [],
   "source": [
    "def decay_function(time_1, time_2):\n",
    "    return math.exp(-abs(time_1 - time_2))"
   ]
  },
  {
   "cell_type": "code",
   "execution_count": 69,
   "id": "89b7c182",
   "metadata": {},
   "outputs": [],
   "source": [
    "def predictRatingV2(user,item, item_time):\n",
    "    ratings = []\n",
    "    similarities = []\n",
    "    if item not in itemAverages:\n",
    "        return ratingMean\n",
    "    for d in reviewsPerUser[user]:\n",
    "        i2 = d['product_id']\n",
    "        i2_time = datetime.strptime(d['review_date'], \"%Y-%m-%d\").timestamp()\n",
    "        item_time_stamp = datetime.strptime(item_time, \"%Y-%m-%d\").timestamp()\n",
    "        if i2 == item: continue\n",
    "        if i2 in itemAverages:\n",
    "            ratings.append(d['star_rating'] - itemAverages[i2])\n",
    "        else:\n",
    "            ratings.append(d['star_rating'] - ratingMean)\n",
    "        similarities.append(Jaccard(usersPerItem[item], usersPerItem[i2]) * decay_function(item_time_stamp, i2_time))\n",
    "    if (sum(similarities) > 0):\n",
    "        weightedRatings = [(x*y) for x,y in zip(ratings, similarities)]\n",
    "        return itemAverages[item] + sum(weightedRatings) / sum(similarities)\n",
    "    else:\n",
    "        return itemAverages[item]"
   ]
  },
  {
   "cell_type": "code",
   "execution_count": 70,
   "id": "b8822fa6",
   "metadata": {},
   "outputs": [],
   "source": [
    "simPredictions = [predictRatingV2(d['customer_id'], d['product_id'], d['review_date']) for d in dataTest]"
   ]
  },
  {
   "cell_type": "code",
   "execution_count": 71,
   "id": "57b89aac",
   "metadata": {},
   "outputs": [],
   "source": [
    "labels = [d['star_rating'] for d in dataTest]"
   ]
  },
  {
   "cell_type": "code",
   "execution_count": 72,
   "id": "bbdb0e6e",
   "metadata": {},
   "outputs": [],
   "source": [
    "def MSE(y, ypred):\n",
    "    differences = [(x-y)**2 for x,y in zip(ypred, y)]\n",
    "    return sum(differences) / len(differences)"
   ]
  },
  {
   "cell_type": "code",
   "execution_count": 73,
   "id": "81dc3028-770b-4741-abf9-789205c07eb7",
   "metadata": {},
   "outputs": [
    {
     "data": {
      "text/plain": [
       "1.7062703182590517"
      ]
     },
     "execution_count": 73,
     "metadata": {},
     "output_type": "execute_result"
    }
   ],
   "source": [
    "itsMSE = MSE(simPredictions, labels)\n",
    "itsMSE"
   ]
  },
  {
   "cell_type": "code",
   "execution_count": 74,
   "id": "5bd20307-5913-46d5-930d-53caf359f685",
   "metadata": {},
   "outputs": [
    {
     "data": {
      "text/plain": [
       "['The function basically takes in two timestamps calculated by the library. Then, I calculate the absolute difference between two times and then apply the result to the standard decay function model to obtain the weigh.',\n",
       " 1.7062703182590517]"
      ]
     },
     "execution_count": 74,
     "metadata": {},
     "output_type": "execute_result"
    }
   ],
   "source": [
    "answers['Q7'] = [\"The function basically takes in two timestamps calculated by the library. Then, I calculate the absolute difference between two times and then apply the result to the standard decay function model to obtain the weigh.\", itsMSE]\n",
    "answers['Q7']"
   ]
  },
  {
   "cell_type": "code",
   "execution_count": 75,
   "id": "98c31bb6-e8f8-4f9f-ac15-2e120f24613d",
   "metadata": {},
   "outputs": [],
   "source": [
    "assertFloat(answers['Q7'][1])"
   ]
  },
  {
   "cell_type": "code",
   "execution_count": 77,
   "id": "a9cdbf74",
   "metadata": {},
   "outputs": [],
   "source": [
    "f = open(\"answers_hw2.txt\", 'w')\n",
    "f.write(str(answers) + '\\n')\n",
    "f.close()"
   ]
  }
 ],
 "metadata": {
  "kernelspec": {
   "display_name": "Python 3 (ipykernel)",
   "language": "python",
   "name": "python3"
  },
  "language_info": {
   "codemirror_mode": {
    "name": "ipython",
    "version": 3
   },
   "file_extension": ".py",
   "mimetype": "text/x-python",
   "name": "python",
   "nbconvert_exporter": "python",
   "pygments_lexer": "ipython3",
   "version": "3.11.5"
  }
 },
 "nbformat": 4,
 "nbformat_minor": 5
}
