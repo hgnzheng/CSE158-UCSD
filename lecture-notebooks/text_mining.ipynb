{
 "cells": [
  {
   "cell_type": "code",
   "execution_count": 2,
   "metadata": {},
   "outputs": [],
   "source": [
    "import numpy\n",
    "import urllib\n",
    "import scipy.optimize\n",
    "import random\n",
    "from collections import defaultdict\n",
    "import nltk # natural Language tool\n",
    "import string # various string operations\n",
    "from nltk.stem.porter import * # stemmer\n",
    "from sklearn import linear_model\n",
    "import ast\n",
    "import gensim\n",
    "from gensim.models import Word2Vec # Language model (probably in a couple of weeks...)"
   ]
  },
  {
   "cell_type": "code",
   "execution_count": 4,
   "metadata": {},
   "outputs": [],
   "source": [
    "def parseData(fname):\n",
    "    for l in urllib.urlopen(fname):\n",
    "        yield ast.literal_eval(l)"
   ]
  },
  {
   "cell_type": "code",
   "execution_count": 5,
   "metadata": {},
   "outputs": [],
   "source": [
    "def parseDataFromFile(fname):\n",
    "    for l in open(fname):\n",
    "        yield ast.literal_eval(l)"
   ]
  },
  {
   "cell_type": "code",
   "execution_count": 9,
   "metadata": {},
   "outputs": [],
   "source": [
    "data_ = list(parseDataFromFile(\"beer_50000.json\"))"
   ]
  },
  {
   "cell_type": "code",
   "execution_count": 10,
   "metadata": {},
   "outputs": [],
   "source": [
    "data = data_[:5000]"
   ]
  },
  {
   "cell_type": "code",
   "execution_count": 11,
   "metadata": {},
   "outputs": [
    {
     "data": {
      "text/plain": [
       "{'review/appearance': 2.5,\n",
       " 'beer/style': 'Hefeweizen',\n",
       " 'review/palate': 1.5,\n",
       " 'review/taste': 1.5,\n",
       " 'beer/name': 'Sausa Weizen',\n",
       " 'review/timeUnix': 1234817823,\n",
       " 'beer/ABV': 5.0,\n",
       " 'beer/beerId': '47986',\n",
       " 'beer/brewerId': '10325',\n",
       " 'review/timeStruct': {'isdst': 0,\n",
       "  'mday': 16,\n",
       "  'hour': 20,\n",
       "  'min': 57,\n",
       "  'sec': 3,\n",
       "  'mon': 2,\n",
       "  'year': 2009,\n",
       "  'yday': 47,\n",
       "  'wday': 0},\n",
       " 'review/overall': 1.5,\n",
       " 'review/text': 'A lot of foam. But a lot.\\tIn the smell some banana, and then lactic and tart. Not a good start.\\tQuite dark orange in color, with a lively carbonation (now visible, under the foam).\\tAgain tending to lactic sourness.\\tSame for the taste. With some yeast and banana.',\n",
       " 'user/profileName': 'stcules',\n",
       " 'review/aroma': 2.0}"
      ]
     },
     "execution_count": 11,
     "metadata": {},
     "output_type": "execute_result"
    }
   ],
   "source": [
    "data[0]"
   ]
  },
  {
   "cell_type": "code",
   "execution_count": 44,
   "metadata": {},
   "outputs": [],
   "source": [
    "# Count words\n",
    "wordCount = defaultdict(int)\n",
    "totalWords = 0"
   ]
  },
  {
   "cell_type": "code",
   "execution_count": 45,
   "metadata": {},
   "outputs": [],
   "source": [
    "punct = string.punctuation\n",
    "stemmer = PorterStemmer()"
   ]
  },
  {
   "cell_type": "code",
   "execution_count": 46,
   "metadata": {},
   "outputs": [
    {
     "data": {
      "text/plain": [
       "'!\"#$%&\\'()*+,-./:;<=>?@[\\\\]^_`{|}~'"
      ]
     },
     "execution_count": 46,
     "metadata": {},
     "output_type": "execute_result"
    }
   ],
   "source": [
    "punct"
   ]
  },
  {
   "cell_type": "code",
   "execution_count": 47,
   "metadata": {},
   "outputs": [],
   "source": [
    "for d in data:\n",
    "    r = d['review/text']\n",
    "    r = r.lower()\n",
    "    r = ''.join(c for c in r if (not c in punct))\n",
    "    words = r.split()\n",
    "    for w in words:\n",
    "        # w = stemmer.stem(w)\n",
    "        totalWords += 1\n",
    "        wordCount[w] += 1"
   ]
  },
  {
   "cell_type": "code",
   "execution_count": 48,
   "metadata": {},
   "outputs": [
    {
     "data": {
      "text/plain": [
       "636392"
      ]
     },
     "execution_count": 48,
     "metadata": {},
     "output_type": "execute_result"
    }
   ],
   "source": [
    "totalWords"
   ]
  },
  {
   "cell_type": "code",
   "execution_count": 49,
   "metadata": {},
   "outputs": [
    {
     "data": {
      "text/plain": [
       "19426"
      ]
     },
     "execution_count": 49,
     "metadata": {},
     "output_type": "execute_result"
    }
   ],
   "source": [
    "len(wordCount)"
   ]
  },
  {
   "cell_type": "code",
   "execution_count": 50,
   "metadata": {},
   "outputs": [
    {
     "data": {
      "text/plain": [
       "27569"
      ]
     },
     "execution_count": 50,
     "metadata": {},
     "output_type": "execute_result"
    }
   ],
   "source": [
    "wordCount['the']"
   ]
  },
  {
   "cell_type": "code",
   "execution_count": 51,
   "metadata": {},
   "outputs": [],
   "source": [
    "# Build vector of word counts\n",
    "counts = [(wordCount[w], w) for w in wordCount]"
   ]
  },
  {
   "cell_type": "code",
   "execution_count": 52,
   "metadata": {},
   "outputs": [
    {
     "data": {
      "text/plain": [
       "[(30695, 'a'),\n",
       " (556, 'lot'),\n",
       " (15935, 'of'),\n",
       " (389, 'foam'),\n",
       " (6836, 'but'),\n",
       " (7033, 'in'),\n",
       " (27569, 'the'),\n",
       " (1771, 'smell'),\n",
       " (3946, 'some'),\n",
       " (151, 'banana')]"
      ]
     },
     "execution_count": 52,
     "metadata": {},
     "output_type": "execute_result"
    }
   ],
   "source": [
    "counts[:10]"
   ]
  },
  {
   "cell_type": "code",
   "execution_count": 53,
   "metadata": {},
   "outputs": [],
   "source": [
    "counts.sort(reverse=True)"
   ]
  },
  {
   "cell_type": "code",
   "execution_count": 56,
   "metadata": {},
   "outputs": [
    {
     "data": {
      "text/plain": [
       "[(30695, 'a'),\n",
       " (27569, 'the'),\n",
       " (19512, 'and'),\n",
       " (15935, 'of'),\n",
       " (12623, 'is'),\n",
       " (11298, 'with'),\n",
       " (9466, 'to'),\n",
       " (9068, 'this'),\n",
       " (8471, 'i'),\n",
       " (8144, 'it')]"
      ]
     },
     "execution_count": 56,
     "metadata": {},
     "output_type": "execute_result"
    }
   ],
   "source": [
    "counts[:10]"
   ]
  },
  {
   "cell_type": "code",
   "execution_count": 57,
   "metadata": {},
   "outputs": [],
   "source": [
    "# Extract top words\n",
    "nWords = 1000"
   ]
  },
  {
   "cell_type": "code",
   "execution_count": 58,
   "metadata": {},
   "outputs": [],
   "source": [
    "words = [x[1] for x in counts[:nWords]]"
   ]
  },
  {
   "cell_type": "code",
   "execution_count": 59,
   "metadata": {},
   "outputs": [
    {
     "data": {
      "text/plain": [
       "(59, 'juice')"
      ]
     },
     "execution_count": 59,
     "metadata": {},
     "output_type": "execute_result"
    }
   ],
   "source": [
    "counts[999]"
   ]
  },
  {
   "cell_type": "code",
   "execution_count": 61,
   "metadata": {},
   "outputs": [
    {
     "data": {
      "text/plain": [
       "[(59, 'cherries'),\n",
       " (59, 'barleywine'),\n",
       " (59, 'appropriate'),\n",
       " (59, 'apparent'),\n",
       " (59, 'already'),\n",
       " (58, 'thinner'),\n",
       " (58, 'sugars'),\n",
       " (58, 'particularly'),\n",
       " (58, 'months'),\n",
       " (58, 'hopping'),\n",
       " (58, 'frogs'),\n",
       " (58, 'forms'),\n",
       " (58, 'disappointing'),\n",
       " (58, 'cloves'),\n",
       " (58, 'area'),\n",
       " (57, 'terms'),\n",
       " (57, 'picking'),\n",
       " (57, 'job'),\n",
       " (57, 'inviting'),\n",
       " (57, 'heineken'),\n",
       " (57, 'disappointed'),\n",
       " (57, 'combination'),\n",
       " (57, 'bittering'),\n",
       " (57, 'barrelaged'),\n",
       " (56, 'smokiness'),\n",
       " (56, 'sitting'),\n",
       " (56, 'expensive'),\n",
       " (56, 'buds'),\n",
       " (56, 'aspect'),\n",
       " (56, 'addition'),\n",
       " (55, 'warmer'),\n",
       " (55, 'temperature'),\n",
       " (55, 'rounded'),\n",
       " (55, 'release'),\n",
       " (55, 'produced'),\n",
       " (55, 'none'),\n",
       " (55, 'manalishi'),\n",
       " (55, 'heavier'),\n",
       " (55, 'ends'),\n",
       " (55, 'deal'),\n",
       " (55, 'char'),\n",
       " (55, 'blast'),\n",
       " (54, 'velvety'),\n",
       " (54, 'us'),\n",
       " (54, 'tinge'),\n",
       " (54, 'thicker'),\n",
       " (54, 'slightest'),\n",
       " (54, 'single'),\n",
       " (54, 'lively'),\n",
       " (54, 'detected'),\n",
       " (54, 'depth'),\n",
       " (54, 'choice'),\n",
       " (54, 'brought'),\n",
       " (54, '94'),\n",
       " (53, 'whisky'),\n",
       " (53, 'somewhere'),\n",
       " (53, 'pleasing'),\n",
       " (53, 'oranges'),\n",
       " (53, 'minute'),\n",
       " (53, 'mf'),\n",
       " (53, 'live'),\n",
       " (53, 'his'),\n",
       " (53, 'hazed'),\n",
       " (53, 'fridge'),\n",
       " (53, 'delicate'),\n",
       " (53, 'check'),\n",
       " (53, 'bring'),\n",
       " (53, 'alcoholic'),\n",
       " (52, 'usual'),\n",
       " (52, 'sipping'),\n",
       " (52, 'run'),\n",
       " (52, 'muted'),\n",
       " (52, 'mahogany'),\n",
       " (52, 'hand'),\n",
       " (52, 'figs'),\n",
       " (52, 'extreme'),\n",
       " (52, 'earth'),\n",
       " (52, 'booziness'),\n",
       " (52, 'assertive'),\n",
       " (52, 'apples'),\n",
       " (52, '35'),\n",
       " (51, 'winner'),\n",
       " (51, 'triple'),\n",
       " (51, 'reminiscent'),\n",
       " (51, 'notice'),\n",
       " (51, 'medicinal'),\n",
       " (51, 'limited'),\n",
       " (51, 'likely'),\n",
       " (51, 'hold'),\n",
       " (51, 'gentle'),\n",
       " (51, 'friends'),\n",
       " (51, 'distinct'),\n",
       " (51, 'describe'),\n",
       " (51, 'attractive'),\n",
       " (50, 'trip'),\n",
       " (50, 'topped'),\n",
       " (50, 'tangy'),\n",
       " (50, 'sits'),\n",
       " (50, 'sit'),\n",
       " (50, 'often')]"
      ]
     },
     "execution_count": 61,
     "metadata": {},
     "output_type": "execute_result"
    }
   ],
   "source": [
    "counts[1000:1100]"
   ]
  },
  {
   "cell_type": "code",
   "execution_count": null,
   "metadata": {},
   "outputs": [],
   "source": []
  }
 ],
 "metadata": {
  "kernelspec": {
   "display_name": "base",
   "language": "python",
   "name": "python3"
  },
  "language_info": {
   "codemirror_mode": {
    "name": "ipython",
    "version": 3
   },
   "file_extension": ".py",
   "mimetype": "text/x-python",
   "name": "python",
   "nbconvert_exporter": "python",
   "pygments_lexer": "ipython3",
   "version": "3.11.5"
  }
 },
 "nbformat": 4,
 "nbformat_minor": 2
}
