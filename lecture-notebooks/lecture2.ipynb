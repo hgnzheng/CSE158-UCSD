{
 "cells": [
  {
   "cell_type": "code",
   "execution_count": 1,
   "metadata": {},
   "outputs": [],
   "source": [
    "import numpy # linear algebra \n",
    "import urllib # reads data from web (don't need right now)\n",
    "import scipy.optimize # regression function\n",
    "import random # random number generation\n",
    "import ast # read json data"
   ]
  },
  {
   "cell_type": "code",
   "execution_count": 2,
   "metadata": {},
   "outputs": [],
   "source": [
    "def parseData(fname):\n",
    "    for l in urllib.urlopen(fname):\n",
    "        yield eval(l)"
   ]
  },
  {
   "cell_type": "code",
   "execution_count": 3,
   "metadata": {},
   "outputs": [],
   "source": [
    "def parseDataFromFile(fname):\n",
    "    for l in open(fname):\n",
    "        yield eval(l)\n",
    "        # yield ast.literal_eval(l)"
   ]
  },
  {
   "cell_type": "code",
   "execution_count": 4,
   "metadata": {},
   "outputs": [],
   "source": [
    "# data = list(parseData(\"beer_50000.json\"))\n",
    "data = list(parseDataFromFile(\"beer_50000.json\"))"
   ]
  },
  {
   "cell_type": "code",
   "execution_count": 9,
   "metadata": {},
   "outputs": [
    {
     "data": {
      "text/plain": [
       "{'review/appearance': 4.0,\n",
       " 'beer/style': 'American Double / Imperial IPA',\n",
       " 'review/palate': 4.0,\n",
       " 'review/taste': 4.5,\n",
       " 'beer/name': 'Cauldron DIPA',\n",
       " 'review/timeUnix': 1293735206,\n",
       " 'user/gender': 'Male',\n",
       " 'user/birthdayRaw': 'Jun 16, 1901',\n",
       " 'beer/ABV': 7.7,\n",
       " 'beer/beerId': '64883',\n",
       " 'user/birthdayUnix': -2163081600,\n",
       " 'beer/brewerId': '1075',\n",
       " 'review/timeStruct': {'isdst': 0,\n",
       "  'mday': 30,\n",
       "  'hour': 18,\n",
       "  'min': 53,\n",
       "  'sec': 26,\n",
       "  'mon': 12,\n",
       "  'year': 2010,\n",
       "  'yday': 364,\n",
       "  'wday': 3},\n",
       " 'user/ageInSeconds': 3581417047,\n",
       " 'review/overall': 4.0,\n",
       " 'review/text': \"According to the website, the style for the Caldera Cauldron changes every year. The current release is a DIPA, which frankly is the only cauldron I'm familiar with (it was an IPA/DIPA the last time I ordered a cauldron at the horsebrass several years back). In any event... at the Horse Brass yesterday.\\t\\tThe beer pours an orange copper color with good head retention and lacing. The nose is all hoppy IPA goodness, showcasing a huge aroma of dry citrus, pine and sandlewood. The flavor profile replicates the nose pretty closely in this West Coast all the way DIPA. This DIPA is not for the faint of heart and is a bit much even for a hophead like myslf. The finish is quite dry and hoppy, and there's barely enough sweet malt to balance and hold up the avalanche of hoppy bitterness in this beer. Mouthfeel is actually fairly light, with a long, persistentely bitter finish. Drinkability is good, with the alcohol barely noticeable in this well crafted beer. Still, this beer is so hugely hoppy/bitter, it's really hard for me to imagine ordering more than a single glass. Regardless, this is a very impressive beer from the folks at Caldera.\",\n",
       " 'user/profileName': 'johnmichaelsen',\n",
       " 'review/aroma': 4.5}"
      ]
     },
     "execution_count": 9,
     "metadata": {},
     "output_type": "execute_result"
    }
   ],
   "source": [
    "data[4]"
   ]
  },
  {
   "cell_type": "code",
   "execution_count": 6,
   "metadata": {},
   "outputs": [
    {
     "data": {
      "text/plain": [
       "1.5"
      ]
     },
     "execution_count": 6,
     "metadata": {},
     "output_type": "execute_result"
    }
   ],
   "source": [
    "data[0]['review/overall']"
   ]
  },
  {
   "cell_type": "code",
   "execution_count": 10,
   "metadata": {},
   "outputs": [],
   "source": [
    "data = [d for d in data if 'user/ageInSeconds' in d and d['user/ageInSeconds'] < 80*365*24*60*60]"
   ]
  },
  {
   "cell_type": "code",
   "execution_count": 11,
   "metadata": {},
   "outputs": [
    {
     "data": {
      "text/plain": [
       "10389"
      ]
     },
     "execution_count": 11,
     "metadata": {},
     "output_type": "execute_result"
    }
   ],
   "source": [
    "len(data)"
   ]
  },
  {
   "cell_type": "code",
   "execution_count": 27,
   "metadata": {},
   "outputs": [],
   "source": [
    "def feature(datum):\n",
    "    a = datum['beer/ABV']\n",
    "    return [1, a, a**2, a**3]"
   ]
  },
  {
   "cell_type": "code",
   "execution_count": 28,
   "metadata": {},
   "outputs": [],
   "source": [
    "X = [feature(d) for d in data]"
   ]
  },
  {
   "cell_type": "code",
   "execution_count": 29,
   "metadata": {},
   "outputs": [
    {
     "data": {
      "text/plain": [
       "[[1, 5.6, 31.359999999999996, 175.61599999999996],\n",
       " [1, 7.4, 54.760000000000005, 405.22400000000005],\n",
       " [1, 7.4, 54.760000000000005, 405.22400000000005],\n",
       " [1, 7.4, 54.760000000000005, 405.22400000000005],\n",
       " [1, 7.4, 54.760000000000005, 405.22400000000005],\n",
       " [1, 7.4, 54.760000000000005, 405.22400000000005],\n",
       " [1, 7.4, 54.760000000000005, 405.22400000000005],\n",
       " [1, 5.5, 30.25, 166.375],\n",
       " [1, 5.5, 30.25, 166.375],\n",
       " [1, 5.5, 30.25, 166.375]]"
      ]
     },
     "execution_count": 29,
     "metadata": {},
     "output_type": "execute_result"
    }
   ],
   "source": [
    "X[:10]"
   ]
  },
  {
   "cell_type": "code",
   "execution_count": 30,
   "metadata": {},
   "outputs": [],
   "source": [
    "y = [d['review/overall'] for d in data]"
   ]
  },
  {
   "cell_type": "code",
   "execution_count": 31,
   "metadata": {},
   "outputs": [
    {
     "data": {
      "text/plain": [
       "[4.0, 4.0, 4.5, 4.5, 4.5, 4.0, 4.0, 2.5, 4.5, 4.5]"
      ]
     },
     "execution_count": 31,
     "metadata": {},
     "output_type": "execute_result"
    }
   ],
   "source": [
    "y[:10]"
   ]
  },
  {
   "cell_type": "code",
   "execution_count": 32,
   "metadata": {},
   "outputs": [
    {
     "name": "stderr",
     "output_type": "stream",
     "text": [
      "/var/folders/8f/_6h5xprs32dfmm3jfs0g7k880000gn/T/ipykernel_2115/3025030687.py:1: FutureWarning: `rcond` parameter will change to the default of machine precision times ``max(M, N)`` where M and N are the input matrix dimensions.\n",
      "To use the future default and silence this warning we advise to pass `rcond=None`, to keep using the old, explicitly pass `rcond=-1`.\n",
      "  theta, residuals, rank, s = numpy.linalg.lstsq(X, y)\n"
     ]
    }
   ],
   "source": [
    "theta, residuals, rank, s = numpy.linalg.lstsq(X, y)"
   ]
  },
  {
   "cell_type": "code",
   "execution_count": 33,
   "metadata": {},
   "outputs": [
    {
     "data": {
      "text/plain": [
       "array([ 2.11824487e+00,  4.60373830e-01, -3.15252237e-02,  5.17848121e-04])"
      ]
     },
     "execution_count": 33,
     "metadata": {},
     "output_type": "execute_result"
    }
   ],
   "source": [
    "theta"
   ]
  },
  {
   "cell_type": "code",
   "execution_count": 34,
   "metadata": {},
   "outputs": [
    {
     "data": {
      "text/plain": [
       "14518349.106657688"
      ]
     },
     "execution_count": 34,
     "metadata": {},
     "output_type": "execute_result"
    }
   ],
   "source": [
    "theta[1]*60*60*24*365"
   ]
  },
  {
   "cell_type": "code",
   "execution_count": 35,
   "metadata": {},
   "outputs": [
    {
     "data": {
      "text/plain": [
       "matrix([[ 2.11824487e+00],\n",
       "        [ 4.60373830e-01],\n",
       "        [-3.15252237e-02],\n",
       "        [ 5.17848121e-04]])"
      ]
     },
     "execution_count": 35,
     "metadata": {},
     "output_type": "execute_result"
    }
   ],
   "source": [
    "# Using linear algebra for comparison\n",
    "X = numpy.matrix(X)\n",
    "y = numpy.matrix(y)\n",
    "numpy.linalg.inv(X.T * X) * X.T * y.T"
   ]
  },
  {
   "cell_type": "code",
   "execution_count": null,
   "metadata": {},
   "outputs": [],
   "source": [
    "                             "
   ]
  }
 ],
 "metadata": {
  "kernelspec": {
   "display_name": "Python 3",
   "language": "python",
   "name": "python3"
  },
  "language_info": {
   "codemirror_mode": {
    "name": "ipython",
    "version": 3
   },
   "file_extension": ".py",
   "mimetype": "text/x-python",
   "name": "python",
   "nbconvert_exporter": "python",
   "pygments_lexer": "ipython3",
   "version": "3.9.7"
  },
  "orig_nbformat": 4
 },
 "nbformat": 4,
 "nbformat_minor": 2
}
