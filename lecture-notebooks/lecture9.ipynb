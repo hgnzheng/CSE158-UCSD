{
 "cells": [
  {
   "cell_type": "code",
   "execution_count": 1,
   "metadata": {},
   "outputs": [
    {
     "name": "stderr",
     "output_type": "stream",
     "text": [
      "2023-11-02 22:34:24.938460: I tensorflow/core/platform/cpu_feature_guard.cc:182] This TensorFlow binary is optimized to use available CPU instructions in performance-critical operations.\n",
      "To enable the following instructions: SSE4.1 SSE4.2, in other operations, rebuild TensorFlow with the appropriate compiler flags.\n"
     ]
    }
   ],
   "source": [
    "# Import libraries\n",
    "import gzip\n",
    "import random\n",
    "import scipy\n",
    "import tensorflow as tf\n",
    "from collections import defaultdict\n",
    "from implicit import bpr\n",
    "from surprise import SVD, Reader, Dataset\n",
    "from surprise.model_selection import train_test_split"
   ]
  },
  {
   "cell_type": "code",
   "execution_count": 11,
   "metadata": {},
   "outputs": [],
   "source": [
    "reader = Reader(line_format='user item rating', sep='\\t')\n",
    "data = Dataset.load_from_file(\"goodreads_fantasy.tsv\", reader=reader)"
   ]
  },
  {
   "cell_type": "code",
   "execution_count": 12,
   "metadata": {},
   "outputs": [],
   "source": [
    "# Standard latent-factor model\n",
    "model = SVD()"
   ]
  },
  {
   "cell_type": "code",
   "execution_count": 13,
   "metadata": {},
   "outputs": [],
   "source": [
    "# Inbuilt functions to split into training and test fraction\n",
    "trainset, testset = train_test_split(data, test_size=.25)"
   ]
  },
  {
   "cell_type": "code",
   "execution_count": 14,
   "metadata": {},
   "outputs": [],
   "source": [
    "# Fit the model and extract predictions\n",
    "model.fit(trainset)\n",
    "predictions = model.test(testset)"
   ]
  },
  {
   "cell_type": "code",
   "execution_count": 16,
   "metadata": {},
   "outputs": [
    {
     "data": {
      "text/plain": [
       "4.425306431009143"
      ]
     },
     "execution_count": 16,
     "metadata": {},
     "output_type": "execute_result"
    }
   ],
   "source": [
    "predictions[0].est"
   ]
  },
  {
   "cell_type": "code",
   "execution_count": 17,
   "metadata": {},
   "outputs": [
    {
     "name": "stdout",
     "output_type": "stream",
     "text": [
      "1.1816900803597814\n"
     ]
    }
   ],
   "source": [
    "# MSE for model predictions (test set)\n",
    "sse = 0\n",
    "for p in predictions:\n",
    "    sse += (p.r_ui - p.est) ** 2\n",
    "    \n",
    "print(sse / len(predictions))"
   ]
  },
  {
   "cell_type": "code",
   "execution_count": 18,
   "metadata": {},
   "outputs": [],
   "source": [
    "# Bayesian Personalized Ranking (Implicit)\n",
    "def parseData(fname):\n",
    "    for l in gzip.open(fname):\n",
    "        d = eval(l)\n",
    "        del d['review_text'] # Discard the reviews, to save memory when we don't use them\n",
    "        yield d"
   ]
  },
  {
   "cell_type": "code",
   "execution_count": 20,
   "metadata": {},
   "outputs": [],
   "source": [
    "# Full dataset of Goodreads fantasy reviews (fairly memory-hungry, could be replaced by something smaller)\n",
    "data = list(parseData(\"goodreads_reviews_fantasy_paranormal.json.gz\"))"
   ]
  },
  {
   "cell_type": "code",
   "execution_count": 21,
   "metadata": {},
   "outputs": [],
   "source": [
    "random.shuffle(data)"
   ]
  },
  {
   "cell_type": "code",
   "execution_count": 22,
   "metadata": {},
   "outputs": [
    {
     "data": {
      "text/plain": [
       "{'user_id': '38c2c8bd48c2861806389ab126767f02',\n",
       " 'book_id': '22852890',\n",
       " 'review_id': '40ca3690f7398a2b9209cccbc7ad8b50',\n",
       " 'rating': 4,\n",
       " 'date_added': 'Tue Sep 02 12:30:34 -0700 2014',\n",
       " 'date_updated': 'Mon Oct 12 10:50:16 -0700 2015',\n",
       " 'read_at': 'Mon Oct 05 00:00:00 -0700 2015',\n",
       " 'started_at': '',\n",
       " 'n_votes': 0,\n",
       " 'n_comments': 0}"
      ]
     },
     "execution_count": 22,
     "metadata": {},
     "output_type": "execute_result"
    }
   ],
   "source": [
    "# Example from the dataset\n",
    "data[0]"
   ]
  },
  {
   "cell_type": "code",
   "execution_count": 23,
   "metadata": {},
   "outputs": [],
   "source": [
    "# Build some utility data structures\n",
    "userIDs, itemIDs = {}, {}\n",
    "\n",
    "for d in data:\n",
    "    u, i = d['user_id'], d['book_id']\n",
    "    if not u in userIDs: userIDs[u] = len(userIDs) # sequential user ID\n",
    "    if not i in itemIDs: itemIDs[i] = len(itemIDs)\n",
    "    \n",
    "nUsers, nItems = len(userIDs), len(itemIDs)"
   ]
  },
  {
   "cell_type": "code",
   "execution_count": 24,
   "metadata": {},
   "outputs": [
    {
     "data": {
      "text/plain": [
       "(256088, 258212)"
      ]
     },
     "execution_count": 24,
     "metadata": {},
     "output_type": "execute_result"
    }
   ],
   "source": [
    "nUsers, nItems"
   ]
  },
  {
   "cell_type": "code",
   "execution_count": 31,
   "metadata": {},
   "outputs": [],
   "source": [
    "# Build some sparse matrix data structure. Here we essentially build the (massive!)\n",
    "# user-item interaction matrix describing which items users have interacted with.\n",
    "# Convert dataset to sparse matrix. Only storing positive feedback instances (i.e., rated items).\n",
    "Xui = scipy.sparse.lil_matrix((nItems, nUsers))\n",
    "for d in data:\n",
    "    Xui[itemIDs[d['book_id']], userIDs[d['user_id']]] = 1\n",
    "    \n",
    "Xui_csr = scipy.sparse.csr_matrix(Xui.T)"
   ]
  },
  {
   "cell_type": "code",
   "execution_count": 32,
   "metadata": {},
   "outputs": [],
   "source": [
    "# Bayesian Personalized Ranking model with 5 latent factors\n",
    "# sigma(mu_u mu_i - mu_u mu_j)\n",
    "model = bpr.BayesianPersonalizedRanking(factors = 5)"
   ]
  },
  {
   "cell_type": "code",
   "execution_count": 40,
   "metadata": {},
   "outputs": [
    {
     "name": "stderr",
     "output_type": "stream",
     "text": [
      "100%|██████████| 100/100 [00:26<00:00,  3.73it/s, train_auc=90.35%, skipped=1.82%]\n"
     ]
    }
   ],
   "source": [
    "# Fit the model\n",
    "model.fit(Xui_csr)"
   ]
  },
  {
   "cell_type": "code",
   "execution_count": 41,
   "metadata": {},
   "outputs": [],
   "source": [
    "recommended = model.recommend(0, Xui_csr[0])\n",
    "related = model.similar_items(0)"
   ]
  },
  {
   "cell_type": "code",
   "execution_count": 42,
   "metadata": {},
   "outputs": [
    {
     "data": {
      "text/plain": [
       "(array([     0,  11409,  47904, 208448, 159572,  51893,  95044,  31137,\n",
       "        193223, 101784], dtype=int32),\n",
       " array([0.99999994, 0.9924968 , 0.9871873 , 0.98678166, 0.9867017 ,\n",
       "        0.9847294 , 0.9845206 , 0.9829978 , 0.981845  , 0.9815782 ],\n",
       "       dtype=float32))"
      ]
     },
     "execution_count": 42,
     "metadata": {},
     "output_type": "execute_result"
    }
   ],
   "source": [
    "related"
   ]
  },
  {
   "cell_type": "code",
   "execution_count": 43,
   "metadata": {},
   "outputs": [],
   "source": [
    "# Extract user and item factors\n",
    "itemFactors = model.item_factors\n",
    "userFactors = model.user_factors"
   ]
  },
  {
   "cell_type": "code",
   "execution_count": 44,
   "metadata": {},
   "outputs": [
    {
     "data": {
      "text/plain": [
       "array([-0.11903579,  0.53265977, -1.5387731 ,  0.31080228, -0.38170338,\n",
       "       -0.1698095 ], dtype=float32)"
      ]
     },
     "execution_count": 44,
     "metadata": {},
     "output_type": "execute_result"
    }
   ],
   "source": [
    "itemFactors[0]"
   ]
  },
  {
   "cell_type": "code",
   "execution_count": null,
   "metadata": {},
   "outputs": [],
   "source": [
    "# Latent factor model (Tensorflow)\n"
   ]
  }
 ],
 "metadata": {
  "kernelspec": {
   "display_name": "base",
   "language": "python",
   "name": "python3"
  },
  "language_info": {
   "codemirror_mode": {
    "name": "ipython",
    "version": 3
   },
   "file_extension": ".py",
   "mimetype": "text/x-python",
   "name": "python",
   "nbconvert_exporter": "python",
   "pygments_lexer": "ipython3",
   "version": "3.8.18"
  }
 },
 "nbformat": 4,
 "nbformat_minor": 2
}
