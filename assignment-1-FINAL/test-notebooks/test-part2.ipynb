{
 "cells": [
  {
   "cell_type": "markdown",
   "metadata": {},
   "source": [
    "# Assignment 1 - Hours Play prediction"
   ]
  },
  {
   "cell_type": "markdown",
   "metadata": {},
   "source": [
    "## Import libraries"
   ]
  },
  {
   "cell_type": "code",
   "execution_count": 25,
   "metadata": {},
   "outputs": [],
   "source": [
    "import gzip\n",
    "from collections import defaultdict\n",
    "import math\n",
    "import scipy.optimize\n",
    "from sklearn import svm\n",
    "from sklearn import linear_model\n",
    "import numpy as np\n",
    "import string\n",
    "import random\n",
    "import matplotlib.pyplot as plt\n",
    "import tensorflow as tf"
   ]
  },
  {
   "cell_type": "markdown",
   "metadata": {},
   "source": [
    "## Utility functions and data structures"
   ]
  },
  {
   "cell_type": "code",
   "execution_count": 277,
   "metadata": {},
   "outputs": [],
   "source": [
    "def readGz(path):\n",
    "    for l in gzip.open(path, 'rt'):\n",
    "        yield eval(l)"
   ]
  },
  {
   "cell_type": "code",
   "execution_count": 278,
   "metadata": {},
   "outputs": [],
   "source": [
    "def readJSON(path):\n",
    "    f = gzip.open(path, 'rt')\n",
    "    f.readline()\n",
    "    for l in f:\n",
    "        d = eval(l)\n",
    "        u = d['userID']\n",
    "        g = d['gameID']\n",
    "        yield u,g,d"
   ]
  },
  {
   "cell_type": "code",
   "execution_count": 279,
   "metadata": {},
   "outputs": [],
   "source": [
    "allHours = []\n",
    "for l in readJSON(\"train.json.gz\"):\n",
    "    allHours.append(l)"
   ]
  },
  {
   "cell_type": "code",
   "execution_count": 280,
   "metadata": {},
   "outputs": [],
   "source": [
    "hoursTrain = allHours[:165000]\n",
    "hoursValid = allHours[165000:]"
   ]
  },
  {
   "cell_type": "code",
   "execution_count": 281,
   "metadata": {},
   "outputs": [],
   "source": [
    "hoursPerUser = defaultdict(list)\n",
    "hoursPerItem = defaultdict(list)\n",
    "for u,g,d in hoursTrain:\n",
    "    r = d['hours_transformed']\n",
    "    hoursPerUser[u].append((g, r))\n",
    "    hoursPerItem[g].append((u, r))"
   ]
  },
  {
   "cell_type": "code",
   "execution_count": 282,
   "metadata": {},
   "outputs": [],
   "source": [
    "itemsPerUser = defaultdict(list)\n",
    "usersPerItem = defaultdict(list)\n",
    "for u,g,d in hoursTrain:\n",
    "    itemsPerUser[u].append(g)\n",
    "    usersPerItem[g].append(u)"
   ]
  },
  {
   "cell_type": "code",
   "execution_count": 283,
   "metadata": {},
   "outputs": [],
   "source": [
    "itemsPerUser = defaultdict(list)\n",
    "usersPerItem = defaultdict(list)\n",
    "for u,g,d in hoursTrain:\n",
    "    itemsPerUser[u].append(g)\n",
    "    usersPerItem[g].append(u)"
   ]
  },
  {
   "cell_type": "code",
   "execution_count": 284,
   "metadata": {},
   "outputs": [],
   "source": [
    "userIDs, itemIDs = {}, {}\n",
    "interactions = []\n",
    "\n",
    "for u,g,d in allHours:\n",
    "    if not u in userIDs: userIDs[u] = len(userIDs)\n",
    "    if not g in itemIDs: itemIDs[g] = len(itemIDs)\n",
    "    label = 1 # they are positive labels we presume --> might improve by sentiment analysis on text data\n",
    "    interactions.append((u,g,1))"
   ]
  },
  {
   "cell_type": "code",
   "execution_count": 285,
   "metadata": {},
   "outputs": [
    {
     "data": {
      "text/plain": [
       "174999"
      ]
     },
     "execution_count": 285,
     "metadata": {},
     "output_type": "execute_result"
    }
   ],
   "source": [
    "userIDs = {}\n",
    "itemIds = {}\n",
    "interactions = []\n",
    "\n",
    "for u,g,d in allHours:\n",
    "    r = d['hours_transformed']\n",
    "    if not u in userIDs: userIDs[u] = len(userIDs)\n",
    "    if not g in itemIds: itemIDs[g] = len(itemIDs)\n",
    "    interactions.append((u,g,r))\n",
    "\n",
    "random.shuffle(interactions)\n",
    "len(interactions)"
   ]
  },
  {
   "cell_type": "code",
   "execution_count": 286,
   "metadata": {},
   "outputs": [],
   "source": [
    "nTrain = int(len(interactions)*0.9)\n",
    "nTest = len(interactions) - nTrain\n",
    "interactionsTrain = interactions[:nTrain]\n",
    "interactionsTest = interactions[nTrain:]"
   ]
  },
  {
   "cell_type": "code",
   "execution_count": 287,
   "metadata": {},
   "outputs": [],
   "source": [
    "interactionsTrain = interactions[:165000]\n",
    "interactionsTest = interactions[165000:]"
   ]
  },
  {
   "cell_type": "code",
   "execution_count": 288,
   "metadata": {},
   "outputs": [],
   "source": [
    "# Generate a negative set\n",
    "userSet = set()\n",
    "gameSet = set()\n",
    "playedSet = set()\n",
    "\n",
    "for u,g,d in allHours:\n",
    "    userSet.add(u)\n",
    "    gameSet.add(g)\n",
    "    playedSet.add((u, g))"
   ]
  },
  {
   "cell_type": "code",
   "execution_count": 289,
   "metadata": {},
   "outputs": [
    {
     "data": {
      "text/plain": [
       "(6710, 2437)"
      ]
     },
     "execution_count": 289,
     "metadata": {},
     "output_type": "execute_result"
    }
   ],
   "source": [
    "len(userSet), len(gameSet)"
   ]
  },
  {
   "cell_type": "code",
   "execution_count": 290,
   "metadata": {},
   "outputs": [],
   "source": [
    "lUserSet = list(userSet)\n",
    "lGameSet = list(gameSet)\n",
    "userPassed = set()\n",
    "\n",
    "notPlayed = set()\n",
    "for u,g,d in hoursValid:\n",
    "    g = random.choice(lGameSet)\n",
    "    while (u,g) in playedSet or (u,g) in notPlayed:\n",
    "        g = random.choice(lGameSet)\n",
    "    notPlayed.add((u,g))\n",
    "\n",
    "playedValid = set()\n",
    "for u,g,r in hoursValid:\n",
    "    playedValid.add((u,g))"
   ]
  },
  {
   "cell_type": "code",
   "execution_count": 291,
   "metadata": {},
   "outputs": [],
   "source": [
    "import math"
   ]
  },
  {
   "cell_type": "markdown",
   "metadata": {},
   "source": [
    "## Fine Tuning"
   ]
  },
  {
   "cell_type": "markdown",
   "metadata": {},
   "source": [
    "BPR\n",
    "* Learning rate for Adam. --> Done. 0.1 is the best one.\n",
    "* Try out SGD and fine-tune the parameter --> Sucks, gone\n",
    "* Number of Epoch to train the model. --> 200.\n",
    "* Fine-tune the lambda -- maybe split into two lambdas. --> Done. Stick with the original one.\n",
    "* Threshold for label prediction.\n",
    "* Fine-tune the K-value of the BPR.\n",
    "* Ensemble different model predict (incorporate jaccard maybe?)."
   ]
  },
  {
   "cell_type": "markdown",
   "metadata": {},
   "source": [
    "LFM\n",
    "\n",
    "* Optimizer choice (Adam or SGD).\n",
    "* Learning rate for the optimizer.\n",
    "* Introduce two gamma terms.\n",
    "* K value (less than 5).\n",
    "* Alpha (offset term).\n",
    "* Regularizer (introduce two regularizers instead of one)."
   ]
  },
  {
   "cell_type": "code",
   "execution_count": 318,
   "metadata": {},
   "outputs": [],
   "source": [
    "userIDs = {}\n",
    "itemIDs = {}\n",
    "interactions = []\n",
    "\n",
    "for u,g,d in allHours:\n",
    "    r = d['hours_transformed']\n",
    "    if not u in userIDs: userIDs[u] = len(userIDs)\n",
    "    if not g in itemIDs: itemIDs[g] = len(itemIDs)\n",
    "    interactions.append((u,g,r))"
   ]
  },
  {
   "cell_type": "code",
   "execution_count": 591,
   "metadata": {},
   "outputs": [],
   "source": [
    "saved_betaI=tf.identity(model.betaI)\n",
    "saved_betaU=tf.identity(model.betaU)\n",
    "saved_gammaI=tf.identity(model.gammaI)\n",
    "saved_gammaU=tf.identity(model.gammaU)"
   ]
  },
  {
   "cell_type": "code",
   "execution_count": 608,
   "metadata": {},
   "outputs": [
    {
     "data": {
      "text/plain": [
       "<tf.Tensor: shape=(2437,), dtype=float32, numpy=\n",
       "array([-0.30229905, -1.3742098 ,  0.9545139 , ..., -0.6790927 ,\n",
       "       -1.3271716 , -2.2350788 ], dtype=float32)>"
      ]
     },
     "execution_count": 608,
     "metadata": {},
     "output_type": "execute_result"
    }
   ],
   "source": [
    "saved_betaI"
   ]
  },
  {
   "cell_type": "code",
   "execution_count": 609,
   "metadata": {},
   "outputs": [],
   "source": [
    "# mean rating, just for initialization\n",
    "mu = sum([r for _,_,r in interactionsTrain]) / len(interactionsTrain)"
   ]
  },
  {
   "cell_type": "code",
   "execution_count": 610,
   "metadata": {},
   "outputs": [
    {
     "name": "stderr",
     "output_type": "stream",
     "text": [
      "WARNING:absl:At this time, the v2.11+ optimizer `tf.keras.optimizers.Adam` runs slowly on M1/M2 Macs, please use the legacy Keras optimizer instead, located at `tf.keras.optimizers.legacy.Adam`.\n"
     ]
    }
   ],
   "source": [
    "# Gradient descent optimizer, experiment with learning rate\n",
    "optimizer = tf.keras.optimizers.Adam(0.01)\n",
    "\n",
    "class LatentFactorModel(tf.keras.Model):\n",
    "    def __init__(self, mu, K, lamb1, lamb2):\n",
    "        super(LatentFactorModel, self).__init__()\n",
    "        # Initialize to average\n",
    "        self.alpha = tf.Variable(mu)\n",
    "        # Initialize to small random values\n",
    "        # self.betaU = tf.Variable(tf.random.normal([len(userIDs)],stddev=0.001))\n",
    "        # self.betaI = tf.Variable(tf.random.normal([len(itemIDs)],stddev=0.001))\n",
    "        # self.gammaU = tf.Variable(tf.random.normal([len(userIDs),K],stddev=0.001))\n",
    "        # self.gammaI = tf.Variable(tf.random.normal([len(itemIDs),K],stddev=0.001))\n",
    "        self.betaU = saved_betaU\n",
    "        self.betaI = saved_betaI\n",
    "        self.gammaU = saved_gammaU\n",
    "        self.gammaI = saved_gammaI\n",
    "        self.lamb1 = lamb1\n",
    "        self.lamb2 = lamb2\n",
    "\n",
    "    # Prediction for a single instance (useful for evaluation)\n",
    "    def predict(self, u, i):\n",
    "        p = self.alpha + self.betaU[u] + self.betaI[i] +\\\n",
    "            tf.tensordot(self.gammaU[u], self.gammaI[i], 1)\n",
    "        return p\n",
    "\n",
    "    # Regularizer\n",
    "    def reg(self):\n",
    "        return self.lamb1 * (tf.reduce_sum(self.betaU**2) +\\\n",
    "                           tf.reduce_sum(self.betaI**2)) +\\\n",
    "                self.lamb2 * (tf.reduce_sum(self.gammaU**2) +\\\n",
    "                           tf.reduce_sum(self.gammaI**2))\n",
    "    \n",
    "    # Prediction for a sample of instances\n",
    "    def predictSample(self, sampleU, sampleI):\n",
    "        u = tf.convert_to_tensor(sampleU, dtype=tf.int32)\n",
    "        i = tf.convert_to_tensor(sampleI, dtype=tf.int32)\n",
    "        beta_u = tf.nn.embedding_lookup(self.betaU, u)\n",
    "        beta_i = tf.nn.embedding_lookup(self.betaI, i)\n",
    "        gamma_u = tf.nn.embedding_lookup(self.gammaU, u)\n",
    "        gamma_i = tf.nn.embedding_lookup(self.gammaI, i)\n",
    "        pred = self.alpha + beta_u + beta_i +\\\n",
    "            tf.reduce_sum(tf.multiply(gamma_u, gamma_i), 1)\n",
    "        return pred\n",
    "    \n",
    "    # Loss\n",
    "    def call(self, sampleU, sampleI, sampleR):\n",
    "        pred = self.predictSample(sampleU, sampleI)\n",
    "        r = tf.convert_to_tensor(sampleR, dtype=tf.float32)\n",
    "        return tf.nn.l2_loss(pred - r) / len(sampleR)"
   ]
  },
  {
   "cell_type": "code",
   "execution_count": 611,
   "metadata": {},
   "outputs": [],
   "source": [
    "# Experiment with number of factors and regularization rate\n",
    "model = LatentFactorModel(mu, 3, 0.000005, 1.5)"
   ]
  },
  {
   "cell_type": "code",
   "execution_count": 612,
   "metadata": {},
   "outputs": [],
   "source": [
    "def trainingStep(interactions):\n",
    "    Nsamples = 50000\n",
    "    with tf.GradientTape() as tape:\n",
    "        sampleU, sampleI, sampleR = [], [], []\n",
    "        for _ in range(Nsamples):\n",
    "            u,i,r = random.choice(interactions)\n",
    "            sampleU.append(userIDs[u])\n",
    "            sampleI.append(itemIDs[i])\n",
    "            sampleR.append(r)\n",
    "\n",
    "        loss = model(sampleU,sampleI,sampleR)\n",
    "        loss += model.reg()\n",
    "    gradients = tape.gradient(loss, model.trainable_variables)\n",
    "    optimizer.apply_gradients((grad, var) for\n",
    "                              (grad, var) in zip(gradients, model.trainable_variables)\n",
    "                              if grad is not None)\n",
    "    return loss.numpy()"
   ]
  },
  {
   "cell_type": "markdown",
   "metadata": {},
   "source": [
    "LR | K | LAMB1 | LAMB2 | EPOCH | MSE\n",
    "\n",
    "**0.01 | 3 | 0.00001 | 0.001 | 500 | 3.0901693570116437**\n",
    "\n",
    "**0.01 | 3 | 0.00001 | 0.001 | 800 | 3.067797038747282**\n",
    "\n",
    "0.01 | 3 | 0.00001 | 0.001 | 400 | 3.11296272467422\n",
    "\n",
    "0.01 | 2 | 0.00001 | 0.001 | 400 | 3.110882067066202\n",
    "\n",
    "0.01 | 4 | 0.00001 | 0.001 | 400 | 3.118307844312977\n",
    "\n",
    "0.01 | 2 | 0.00001 | 0.001 | 500 | 3.118307844312977\n",
    "\n",
    "**0.1 | 3 | 0.00001 | 0.001 | 400 | 3.11237270120542**\n",
    "\n",
    "0.1 | 3 | 0.00001 | 0.001 | 500 | 3.107369001485266"
   ]
  },
  {
   "cell_type": "code",
   "execution_count": 613,
   "metadata": {},
   "outputs": [],
   "source": [
    "def MSE(preds, labels):\n",
    "    diff = [(x-y)**2 for x,y in zip(preds, labels)]\n",
    "    return sum(diff) / len(diff)"
   ]
  },
  {
   "cell_type": "markdown",
   "metadata": {},
   "source": [
    "lambda2=1.5 works the best now."
   ]
  },
  {
   "cell_type": "code",
   "execution_count": 614,
   "metadata": {},
   "outputs": [],
   "source": [
    "test_labels = [r for _,_,r in interactionsTest]"
   ]
  },
  {
   "cell_type": "code",
   "execution_count": 615,
   "metadata": {},
   "outputs": [
    {
     "name": "stdout",
     "output_type": "stream",
     "text": [
      "iteration 20, objective = 1.4300528, MSE = 3.041966680812311\n",
      "iteration 40, objective = 1.3989687, MSE = 3.0411397828153905\n",
      "iteration 60, objective = 1.4019612, MSE = 3.0411402101872165\n",
      "iteration 80, objective = 1.4241041, MSE = 3.0411794279581033\n"
     ]
    },
    {
     "ename": "KeyboardInterrupt",
     "evalue": "",
     "output_type": "error",
     "traceback": [
      "\u001b[0;31m---------------------------------------------------------------------------\u001b[0m",
      "\u001b[0;31mKeyboardInterrupt\u001b[0m                         Traceback (most recent call last)",
      "\u001b[1;32m/Users/youzezheng/Desktop/assignment-1/Part-1/test-part2.ipynb Cell 34\u001b[0m line \u001b[0;36m4\n\u001b[1;32m      <a href='vscode-notebook-cell:/Users/youzezheng/Desktop/assignment-1/Part-1/test-part2.ipynb#Y204sZmlsZQ%3D%3D?line=0'>1</a>\u001b[0m \u001b[39m# 200 iterations of gradient descent with warm start\u001b[39;00m\n\u001b[1;32m      <a href='vscode-notebook-cell:/Users/youzezheng/Desktop/assignment-1/Part-1/test-part2.ipynb#Y204sZmlsZQ%3D%3D?line=1'>2</a>\u001b[0m \u001b[39m# mse_hist = []\u001b[39;00m\n\u001b[1;32m      <a href='vscode-notebook-cell:/Users/youzezheng/Desktop/assignment-1/Part-1/test-part2.ipynb#Y204sZmlsZQ%3D%3D?line=2'>3</a>\u001b[0m \u001b[39mfor\u001b[39;00m i \u001b[39min\u001b[39;00m \u001b[39mrange\u001b[39m(\u001b[39m200\u001b[39m):\n\u001b[0;32m----> <a href='vscode-notebook-cell:/Users/youzezheng/Desktop/assignment-1/Part-1/test-part2.ipynb#Y204sZmlsZQ%3D%3D?line=3'>4</a>\u001b[0m     obj \u001b[39m=\u001b[39m trainingStep(interactionsTrain)\n\u001b[1;32m      <a href='vscode-notebook-cell:/Users/youzezheng/Desktop/assignment-1/Part-1/test-part2.ipynb#Y204sZmlsZQ%3D%3D?line=4'>5</a>\u001b[0m     \u001b[39mif\u001b[39;00m i \u001b[39m%\u001b[39m \u001b[39m20\u001b[39m \u001b[39m==\u001b[39m \u001b[39m19\u001b[39m:\n\u001b[1;32m      <a href='vscode-notebook-cell:/Users/youzezheng/Desktop/assignment-1/Part-1/test-part2.ipynb#Y204sZmlsZQ%3D%3D?line=5'>6</a>\u001b[0m         valid_labels \u001b[39m=\u001b[39m [model\u001b[39m.\u001b[39mpredict(userIDs[u], itemIDs[g])\u001b[39m.\u001b[39mnumpy() \u001b[39mfor\u001b[39;00m u,g,r \u001b[39min\u001b[39;00m interactionsTest]\n",
      "\u001b[1;32m/Users/youzezheng/Desktop/assignment-1/Part-1/test-part2.ipynb Cell 34\u001b[0m line \u001b[0;36m1\n\u001b[1;32m      <a href='vscode-notebook-cell:/Users/youzezheng/Desktop/assignment-1/Part-1/test-part2.ipynb#Y204sZmlsZQ%3D%3D?line=7'>8</a>\u001b[0m         sampleI\u001b[39m.\u001b[39mappend(itemIDs[i])\n\u001b[1;32m      <a href='vscode-notebook-cell:/Users/youzezheng/Desktop/assignment-1/Part-1/test-part2.ipynb#Y204sZmlsZQ%3D%3D?line=8'>9</a>\u001b[0m         sampleR\u001b[39m.\u001b[39mappend(r)\n\u001b[0;32m---> <a href='vscode-notebook-cell:/Users/youzezheng/Desktop/assignment-1/Part-1/test-part2.ipynb#Y204sZmlsZQ%3D%3D?line=10'>11</a>\u001b[0m     loss \u001b[39m=\u001b[39m model(sampleU,sampleI,sampleR)\n\u001b[1;32m     <a href='vscode-notebook-cell:/Users/youzezheng/Desktop/assignment-1/Part-1/test-part2.ipynb#Y204sZmlsZQ%3D%3D?line=11'>12</a>\u001b[0m     loss \u001b[39m+\u001b[39m\u001b[39m=\u001b[39m model\u001b[39m.\u001b[39mreg()\n\u001b[1;32m     <a href='vscode-notebook-cell:/Users/youzezheng/Desktop/assignment-1/Part-1/test-part2.ipynb#Y204sZmlsZQ%3D%3D?line=12'>13</a>\u001b[0m gradients \u001b[39m=\u001b[39m tape\u001b[39m.\u001b[39mgradient(loss, model\u001b[39m.\u001b[39mtrainable_variables)\n",
      "File \u001b[0;32m~/anaconda3/envs/cse158/lib/python3.9/site-packages/keras/src/utils/traceback_utils.py:65\u001b[0m, in \u001b[0;36mfilter_traceback.<locals>.error_handler\u001b[0;34m(*args, **kwargs)\u001b[0m\n\u001b[1;32m     63\u001b[0m filtered_tb \u001b[39m=\u001b[39m \u001b[39mNone\u001b[39;00m\n\u001b[1;32m     64\u001b[0m \u001b[39mtry\u001b[39;00m:\n\u001b[0;32m---> 65\u001b[0m     \u001b[39mreturn\u001b[39;00m fn(\u001b[39m*\u001b[39;49margs, \u001b[39m*\u001b[39;49m\u001b[39m*\u001b[39;49mkwargs)\n\u001b[1;32m     66\u001b[0m \u001b[39mexcept\u001b[39;00m \u001b[39mException\u001b[39;00m \u001b[39mas\u001b[39;00m e:\n\u001b[1;32m     67\u001b[0m     filtered_tb \u001b[39m=\u001b[39m _process_traceback_frames(e\u001b[39m.\u001b[39m__traceback__)\n",
      "File \u001b[0;32m~/anaconda3/envs/cse158/lib/python3.9/site-packages/keras/src/engine/training.py:589\u001b[0m, in \u001b[0;36mModel.__call__\u001b[0;34m(self, *args, **kwargs)\u001b[0m\n\u001b[1;32m    585\u001b[0m         \u001b[39msuper\u001b[39m()\u001b[39m.\u001b[39m\u001b[39m__call__\u001b[39m(inputs, \u001b[39m*\u001b[39mcopied_args, \u001b[39m*\u001b[39m\u001b[39m*\u001b[39mcopied_kwargs)\n\u001b[1;32m    587\u001b[0m     layout_map_lib\u001b[39m.\u001b[39m_map_subclass_model_variable(\u001b[39mself\u001b[39m, \u001b[39mself\u001b[39m\u001b[39m.\u001b[39m_layout_map)\n\u001b[0;32m--> 589\u001b[0m \u001b[39mreturn\u001b[39;00m \u001b[39msuper\u001b[39;49m()\u001b[39m.\u001b[39;49m\u001b[39m__call__\u001b[39;49m(\u001b[39m*\u001b[39;49margs, \u001b[39m*\u001b[39;49m\u001b[39m*\u001b[39;49mkwargs)\n",
      "File \u001b[0;32m~/anaconda3/envs/cse158/lib/python3.9/site-packages/keras/src/utils/traceback_utils.py:65\u001b[0m, in \u001b[0;36mfilter_traceback.<locals>.error_handler\u001b[0;34m(*args, **kwargs)\u001b[0m\n\u001b[1;32m     63\u001b[0m filtered_tb \u001b[39m=\u001b[39m \u001b[39mNone\u001b[39;00m\n\u001b[1;32m     64\u001b[0m \u001b[39mtry\u001b[39;00m:\n\u001b[0;32m---> 65\u001b[0m     \u001b[39mreturn\u001b[39;00m fn(\u001b[39m*\u001b[39;49margs, \u001b[39m*\u001b[39;49m\u001b[39m*\u001b[39;49mkwargs)\n\u001b[1;32m     66\u001b[0m \u001b[39mexcept\u001b[39;00m \u001b[39mException\u001b[39;00m \u001b[39mas\u001b[39;00m e:\n\u001b[1;32m     67\u001b[0m     filtered_tb \u001b[39m=\u001b[39m _process_traceback_frames(e\u001b[39m.\u001b[39m__traceback__)\n",
      "File \u001b[0;32m~/anaconda3/envs/cse158/lib/python3.9/site-packages/keras/src/engine/base_layer.py:1060\u001b[0m, in \u001b[0;36mLayer.__call__\u001b[0;34m(self, *args, **kwargs)\u001b[0m\n\u001b[1;32m   1053\u001b[0m input_list \u001b[39m=\u001b[39m tf\u001b[39m.\u001b[39mnest\u001b[39m.\u001b[39mflatten(inputs)\n\u001b[1;32m   1055\u001b[0m \u001b[39m# Functional Model construction mode is invoked when `Layer`s are called\u001b[39;00m\n\u001b[1;32m   1056\u001b[0m \u001b[39m# on symbolic `KerasTensor`s, i.e.:\u001b[39;00m\n\u001b[1;32m   1057\u001b[0m \u001b[39m# >> inputs = tf.keras.Input(10)\u001b[39;00m\n\u001b[1;32m   1058\u001b[0m \u001b[39m# >> outputs = MyLayer()(inputs)  # Functional construction mode.\u001b[39;00m\n\u001b[1;32m   1059\u001b[0m \u001b[39m# >> model = tf.keras.Model(inputs, outputs)\u001b[39;00m\n\u001b[0;32m-> 1060\u001b[0m \u001b[39mif\u001b[39;00m _in_functional_construction_mode(\n\u001b[1;32m   1061\u001b[0m     \u001b[39mself\u001b[39;49m, inputs, args, kwargs, input_list\n\u001b[1;32m   1062\u001b[0m ):\n\u001b[1;32m   1063\u001b[0m     \u001b[39mreturn\u001b[39;00m \u001b[39mself\u001b[39m\u001b[39m.\u001b[39m_functional_construction_call(\n\u001b[1;32m   1064\u001b[0m         inputs, args, kwargs, input_list\n\u001b[1;32m   1065\u001b[0m     )\n\u001b[1;32m   1067\u001b[0m \u001b[39m# Maintains info about the `Layer.call` stack.\u001b[39;00m\n",
      "File \u001b[0;32m~/anaconda3/envs/cse158/lib/python3.9/site-packages/keras/src/engine/base_layer.py:3739\u001b[0m, in \u001b[0;36m_in_functional_construction_mode\u001b[0;34m(layer, inputs, args, kwargs, input_list)\u001b[0m\n\u001b[1;32m   3736\u001b[0m \u001b[39m\u001b[39m\u001b[39m\"\"\"Check the arguments to see if we are constructing a functional model.\"\"\"\u001b[39;00m\n\u001b[1;32m   3737\u001b[0m \u001b[39m# We are constructing a functional model if any of the inputs\u001b[39;00m\n\u001b[1;32m   3738\u001b[0m \u001b[39m# are KerasTensors\u001b[39;00m\n\u001b[0;32m-> 3739\u001b[0m \u001b[39mreturn\u001b[39;00m \u001b[39many\u001b[39;49m(\n\u001b[1;32m   3740\u001b[0m     \u001b[39misinstance\u001b[39;49m(tensor, keras_tensor\u001b[39m.\u001b[39;49mKerasTensor)\n\u001b[1;32m   3741\u001b[0m     \u001b[39mfor\u001b[39;49;00m tensor \u001b[39min\u001b[39;49;00m tf\u001b[39m.\u001b[39;49mnest\u001b[39m.\u001b[39;49mflatten([inputs, args, kwargs])\n\u001b[1;32m   3742\u001b[0m )\n",
      "File \u001b[0;32m~/anaconda3/envs/cse158/lib/python3.9/site-packages/keras/src/engine/base_layer.py:3740\u001b[0m, in \u001b[0;36m<genexpr>\u001b[0;34m(.0)\u001b[0m\n\u001b[1;32m   3736\u001b[0m \u001b[39m\u001b[39m\u001b[39m\"\"\"Check the arguments to see if we are constructing a functional model.\"\"\"\u001b[39;00m\n\u001b[1;32m   3737\u001b[0m \u001b[39m# We are constructing a functional model if any of the inputs\u001b[39;00m\n\u001b[1;32m   3738\u001b[0m \u001b[39m# are KerasTensors\u001b[39;00m\n\u001b[1;32m   3739\u001b[0m \u001b[39mreturn\u001b[39;00m \u001b[39many\u001b[39m(\n\u001b[0;32m-> 3740\u001b[0m     \u001b[39misinstance\u001b[39;49m(tensor, keras_tensor\u001b[39m.\u001b[39;49mKerasTensor)\n\u001b[1;32m   3741\u001b[0m     \u001b[39mfor\u001b[39;00m tensor \u001b[39min\u001b[39;00m tf\u001b[39m.\u001b[39mnest\u001b[39m.\u001b[39mflatten([inputs, args, kwargs])\n\u001b[1;32m   3742\u001b[0m )\n",
      "\u001b[0;31mKeyboardInterrupt\u001b[0m: "
     ]
    }
   ],
   "source": [
    "# 200 iterations of gradient descent with warm start\n",
    "# mse_hist = []\n",
    "for i in range(200):\n",
    "    obj = trainingStep(interactionsTrain)\n",
    "    if i % 20 == 19:\n",
    "        valid_labels = [model.predict(userIDs[u], itemIDs[g]).numpy() for u,g,r in interactionsTest]\n",
    "        valid_mse = MSE(test_labels, valid_labels)\n",
    "        print(\"iteration \" + str(i+1) + \", objective = \" + str(obj) + \", MSE = \" + str(valid_mse))"
   ]
  },
  {
   "cell_type": "code",
   "execution_count": null,
   "metadata": {},
   "outputs": [],
   "source": [
    "3.039763017293007"
   ]
  },
  {
   "cell_type": "code",
   "execution_count": 577,
   "metadata": {},
   "outputs": [],
   "source": [
    "test_preds = [model.predict(userIDs[u], itemIDs[g]).numpy() for u,g,r in interactionsTest]"
   ]
  },
  {
   "cell_type": "code",
   "execution_count": 578,
   "metadata": {},
   "outputs": [
    {
     "data": {
      "text/plain": [
       "3.0486554908572128"
      ]
     },
     "execution_count": 578,
     "metadata": {},
     "output_type": "execute_result"
    }
   ],
   "source": [
    "MSE(test_labels, test_preds)"
   ]
  },
  {
   "cell_type": "code",
   "execution_count": 543,
   "metadata": {},
   "outputs": [
    {
     "data": {
      "text/plain": [
       "165000"
      ]
     },
     "execution_count": 543,
     "metadata": {},
     "output_type": "execute_result"
    }
   ],
   "source": [
    "len(interactionsTrain)"
   ]
  },
  {
   "cell_type": "code",
   "execution_count": 217,
   "metadata": {},
   "outputs": [
    {
     "data": {
      "text/plain": [
       "(9999, 9999)"
      ]
     },
     "execution_count": 217,
     "metadata": {},
     "output_type": "execute_result"
    }
   ],
   "source": [
    "len(playedValid), len(notPlayed)"
   ]
  },
  {
   "cell_type": "code",
   "execution_count": 443,
   "metadata": {},
   "outputs": [],
   "source": [
    "test_labels = [r for _,_,r in interactionsTest]"
   ]
  },
  {
   "cell_type": "code",
   "execution_count": 489,
   "metadata": {},
   "outputs": [],
   "source": [
    "test_preds = [model.predict(userIDs[u], itemIDs[g]).numpy() for u,g,r in interactionsTest]"
   ]
  },
  {
   "cell_type": "code",
   "execution_count": 490,
   "metadata": {},
   "outputs": [
    {
     "data": {
      "text/plain": [
       "3.0764907361880964"
      ]
     },
     "execution_count": 490,
     "metadata": {},
     "output_type": "execute_result"
    }
   ],
   "source": [
    "MSE(test_labels, test_preds)"
   ]
  },
  {
   "cell_type": "code",
   "execution_count": 616,
   "metadata": {},
   "outputs": [],
   "source": [
    "predictions = open(\"predictions_Hours.csv\", 'w')\n",
    "for l in open(\"pairs_Hours.csv\"):\n",
    "    if l.startswith(\"userID\"):\n",
    "        predictions.write(l)\n",
    "        continue\n",
    "    u,g = l.strip().split(',')\n",
    "    pred = model.predict(userIDs[u], itemIDs[g]).numpy()\n",
    "    _ = predictions.write(u + ',' + g + ',' + str(pred) + '\\n')\n",
    "\n",
    "predictions.close()"
   ]
  },
  {
   "cell_type": "markdown",
   "metadata": {},
   "source": []
  }
 ],
 "metadata": {
  "kernelspec": {
   "display_name": "cse158",
   "language": "python",
   "name": "python3"
  },
  "language_info": {
   "codemirror_mode": {
    "name": "ipython",
    "version": 3
   },
   "file_extension": ".py",
   "mimetype": "text/x-python",
   "name": "python",
   "nbconvert_exporter": "python",
   "pygments_lexer": "ipython3",
   "version": "3.9.18"
  }
 },
 "nbformat": 4,
 "nbformat_minor": 2
}
