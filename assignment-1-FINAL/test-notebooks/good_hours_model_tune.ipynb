{
 "cells": [
  {
   "cell_type": "code",
   "execution_count": 1,
   "id": "0f55c023",
   "metadata": {},
   "outputs": [],
   "source": [
    "import gzip\n",
    "from collections import defaultdict\n",
    "import math\n",
    "import scipy.optimize\n",
    "from sklearn import svm\n",
    "import numpy as np\n",
    "import string\n",
    "import random\n",
    "import string\n",
    "from sklearn import linear_model\n",
    "import tensorflow as tf\n",
    "from surprise.model_selection import train_test_split"
   ]
  },
  {
   "cell_type": "code",
   "execution_count": 348,
   "id": "005c1a02-c5bf-4241-8d00-dc260d36f08f",
   "metadata": {},
   "outputs": [],
   "source": [
    "def assertFloat(x):\n",
    "    assert type(float(x)) == float\n",
    "\n",
    "def assertFloatList(items, N):\n",
    "    assert len(items) == N\n",
    "    assert [type(float(x)) for x in items] == [float]*N"
   ]
  },
  {
   "cell_type": "code",
   "execution_count": 349,
   "id": "cb2abe72",
   "metadata": {},
   "outputs": [],
   "source": [
    "def readGz(path):\n",
    "    for l in gzip.open(path, 'rt'):\n",
    "        yield eval(l)"
   ]
  },
  {
   "cell_type": "code",
   "execution_count": 350,
   "id": "e54fa48f",
   "metadata": {},
   "outputs": [],
   "source": [
    "def readJSON(path):\n",
    "    f = gzip.open(path, 'rt')\n",
    "    f.readline()\n",
    "    for l in f:\n",
    "        d = eval(l)\n",
    "        u = d['userID']\n",
    "        g = d['gameID']\n",
    "        yield u,g,d"
   ]
  },
  {
   "cell_type": "code",
   "execution_count": 351,
   "id": "c215087c",
   "metadata": {},
   "outputs": [],
   "source": [
    "answers = {}"
   ]
  },
  {
   "cell_type": "code",
   "execution_count": 352,
   "id": "27aec54d",
   "metadata": {},
   "outputs": [],
   "source": [
    "# Some data structures that will be useful"
   ]
  },
  {
   "cell_type": "code",
   "execution_count": 353,
   "id": "e72d24da",
   "metadata": {},
   "outputs": [],
   "source": [
    "allHours = []\n",
    "for l in readJSON(\"train.json.gz\"):\n",
    "    allHours.append(l)"
   ]
  },
  {
   "cell_type": "code",
   "execution_count": 354,
   "id": "462bd9bd-b657-4571-8fef-eee11d852099",
   "metadata": {},
   "outputs": [],
   "source": [
    "hoursTrain = allHours[:165000]\n",
    "hoursValid = allHours[165000:]"
   ]
  },
  {
   "cell_type": "code",
   "execution_count": 11,
   "id": "c58fd9e5-0ba6-4fef-83c1-315503d75348",
   "metadata": {},
   "outputs": [],
   "source": [
    "##################################################\n",
    "# Play prediction                                #\n",
    "##################################################"
   ]
  },
  {
   "cell_type": "code",
   "execution_count": 12,
   "metadata": {},
   "outputs": [
    {
     "data": {
      "text/plain": [
       "('u70666506',\n",
       " 'g49368897',\n",
       " {'userID': 'u70666506',\n",
       "  'early_access': False,\n",
       "  'hours': 63.5,\n",
       "  'hours_transformed': 6.011227255423254,\n",
       "  'found_funny': 1,\n",
       "  'text': 'If you want to sit in queue for 10-20min and have 140 ping then this game is perfect for you :)',\n",
       "  'gameID': 'g49368897',\n",
       "  'user_id': '76561198030408772',\n",
       "  'date': '2017-05-20'})"
      ]
     },
     "execution_count": 12,
     "metadata": {},
     "output_type": "execute_result"
    }
   ],
   "source": [
    "hoursTrain[0]"
   ]
  },
  {
   "cell_type": "code",
   "execution_count": 13,
   "id": "4e06cc33-bc60-4b45-be63-8033c17d9fe6",
   "metadata": {},
   "outputs": [],
   "source": [
    "# Any other preprocessing...\n",
    "users = set() # maintain a set of unique users\n",
    "games = set() # maintain a set of unique games\n",
    "pos_pairs = []\n",
    "for l in readGz(\"train.json.gz\"):\n",
    "    u,g = l['userID'], l['gameID']\n",
    "    users.add(u)\n",
    "    games.add(g)\n",
    "    pos_pairs += [(u, g)]"
   ]
  },
  {
   "cell_type": "code",
   "execution_count": 14,
   "metadata": {},
   "outputs": [],
   "source": [
    "train_data = pos_pairs[:165000]\n",
    "valid_data = pos_pairs[165000:] # because pos_pairs has length 175000"
   ]
  },
  {
   "cell_type": "code",
   "execution_count": 15,
   "metadata": {},
   "outputs": [
    {
     "data": {
      "text/plain": [
       "(6710, 2437)"
      ]
     },
     "execution_count": 15,
     "metadata": {},
     "output_type": "execute_result"
    }
   ],
   "source": [
    "len(users), len(games)"
   ]
  },
  {
   "cell_type": "code",
   "execution_count": 16,
   "metadata": {},
   "outputs": [
    {
     "name": "stderr",
     "output_type": "stream",
     "text": [
      "/var/folders/8f/_6h5xprs32dfmm3jfs0g7k880000gn/T/ipykernel_1849/759351938.py:5: DeprecationWarning: Sampling from a set deprecated\n",
      "since Python 3.9 and will be removed in a subsequent version.\n",
      "  user = random.sample(users, 1)[0]\n",
      "/var/folders/8f/_6h5xprs32dfmm3jfs0g7k880000gn/T/ipykernel_1849/759351938.py:6: DeprecationWarning: Sampling from a set deprecated\n",
      "since Python 3.9 and will be removed in a subsequent version.\n",
      "  game = random.sample(games, 1)[0]\n"
     ]
    }
   ],
   "source": [
    "# Randomly sample games that weren't played\n",
    "neg_pairs = set()\n",
    "len_valid = len(hoursValid)\n",
    "while True:\n",
    "    user = random.sample(users, 1)[0]\n",
    "    game = random.sample(games, 1)[0]\n",
    "    if (user, game) not in pos_pairs:\n",
    "        neg_pairs.add((user, game))\n",
    "    if len(neg_pairs) == len_valid:\n",
    "        break"
   ]
  },
  {
   "cell_type": "code",
   "execution_count": 17,
   "metadata": {},
   "outputs": [
    {
     "data": {
      "text/plain": [
       "(9999, 165000)"
      ]
     },
     "execution_count": 17,
     "metadata": {},
     "output_type": "execute_result"
    }
   ],
   "source": [
    "len(neg_pairs), len(train_data)"
   ]
  },
  {
   "cell_type": "code",
   "execution_count": 18,
   "id": "12f46fd0-3abb-4f46-8a8b-9cf37efa99ee",
   "metadata": {},
   "outputs": [],
   "source": [
    "### Question 1"
   ]
  },
  {
   "cell_type": "code",
   "execution_count": 19,
   "id": "7aa30a66-0dcd-4f1f-beb0-a6ba473c9070",
   "metadata": {},
   "outputs": [
    {
     "data": {
      "text/plain": [
       "0.67905"
      ]
     },
     "execution_count": 19,
     "metadata": {},
     "output_type": "execute_result"
    }
   ],
   "source": [
    "# Evaluate baseline strategy\n",
    "gameCount = defaultdict(int)\n",
    "totalPlayed = 0\n",
    "\n",
    "for user,game in train_data:\n",
    "    gameCount[game] += 1\n",
    "    totalPlayed += 1\n",
    "\n",
    "mostPopular = [(gameCount[x], x) for x in gameCount]\n",
    "mostPopular.sort()\n",
    "mostPopular.reverse()\n",
    "\n",
    "return1 = set()\n",
    "count = 0\n",
    "for ic, i in mostPopular:\n",
    "    count += ic\n",
    "    return1.add(i)\n",
    "    if count > totalPlayed/2: break\n",
    "\n",
    "predictions = []\n",
    "for user,game in valid_data:\n",
    "    if game in return1:\n",
    "        predictions += [1]\n",
    "    else:\n",
    "        predictions += [0]\n",
    "    \n",
    "for user,game in neg_pairs:\n",
    "    if game in return1:\n",
    "        predictions += [1]\n",
    "    else:\n",
    "        predictions += [0]\n",
    "\n",
    "sum_pred = sum([predictions[i]==1 for i in range(9999)]) + \\\n",
    "    sum([predictions[i] == 0 for i in range(9999, len(predictions))])\n",
    "acc = sum_pred / (2*len(valid_data))\n",
    "acc"
   ]
  },
  {
   "cell_type": "code",
   "execution_count": 20,
   "id": "17cb78c4-5841-46a9-af75-cc347d4f39c0",
   "metadata": {},
   "outputs": [
    {
     "data": {
      "text/plain": [
       "0.67905"
      ]
     },
     "execution_count": 20,
     "metadata": {},
     "output_type": "execute_result"
    }
   ],
   "source": [
    "answers['Q1'] = acc\n",
    "answers['Q1']"
   ]
  },
  {
   "cell_type": "code",
   "execution_count": 21,
   "id": "158deaa6-d294-4873-b10f-85f883d833d8",
   "metadata": {},
   "outputs": [],
   "source": [
    "assertFloat(answers['Q1'])"
   ]
  },
  {
   "cell_type": "code",
   "execution_count": 20,
   "id": "f843a2a7-57e5-4947-a513-ba8fa35f8cb6",
   "metadata": {},
   "outputs": [],
   "source": [
    "### Question 2"
   ]
  },
  {
   "cell_type": "code",
   "execution_count": 21,
   "id": "47c2b474-700f-4d37-be1b-3a704ad2968b",
   "metadata": {},
   "outputs": [],
   "source": [
    "# Improved strategy"
   ]
  },
  {
   "cell_type": "code",
   "execution_count": 22,
   "id": "6474d5ac-7dd0-4d62-b938-ec025bef55de",
   "metadata": {},
   "outputs": [
    {
     "data": {
      "text/plain": [
       "0.70395"
      ]
     },
     "execution_count": 22,
     "metadata": {},
     "output_type": "execute_result"
    }
   ],
   "source": [
    "# Evaluate baseline strategy\n",
    "gameCount = defaultdict(int)\n",
    "totalPlayed = 0\n",
    "\n",
    "for user,game in train_data:\n",
    "    gameCount[game] += 1\n",
    "    totalPlayed += 1\n",
    "\n",
    "mostPopular = [(gameCount[x], x) for x in gameCount]\n",
    "mostPopular.sort()\n",
    "mostPopular.reverse()\n",
    "\n",
    "return1 = set()\n",
    "count = 0\n",
    "for ic, i in mostPopular:\n",
    "    count += ic\n",
    "    return1.add(i)\n",
    "    if count > totalPlayed/1.5: break # Choose 67% percentile instead\n",
    "\n",
    "predictions = []\n",
    "for user,game in valid_data:\n",
    "    if game in return1:\n",
    "        predictions += [1]\n",
    "    else:\n",
    "        predictions += [0]\n",
    "    \n",
    "for user,game in neg_pairs:\n",
    "    if game in return1:\n",
    "        predictions += [1]\n",
    "    else:\n",
    "        predictions += [0]\n",
    "\n",
    "sum_pred_q2 = sum([predictions[i]==1 for i in range(9999)]) + \\\n",
    "    sum([predictions[i] == 0 for i in range(9999, len(predictions))])\n",
    "acc_q2 = sum_pred_q2 / (2*len(valid_data))\n",
    "acc_q2"
   ]
  },
  {
   "cell_type": "code",
   "execution_count": 19,
   "id": "06a69839-1423-4160-80dc-451eccf6b82f",
   "metadata": {},
   "outputs": [
    {
     "data": {
      "text/plain": [
       "[0.6666666666666666, 0.7046]"
      ]
     },
     "execution_count": 19,
     "metadata": {},
     "output_type": "execute_result"
    }
   ],
   "source": [
    "answers['Q2'] = [1/1.5, acc_q2]\n",
    "answers['Q2']"
   ]
  },
  {
   "cell_type": "code",
   "execution_count": 20,
   "id": "44ddabf1-bf18-428d-91b2-82702133cfb1",
   "metadata": {},
   "outputs": [],
   "source": [
    "assertFloatList(answers['Q2'], 2)"
   ]
  },
  {
   "cell_type": "code",
   "execution_count": 21,
   "id": "8c5c5e95-1c35-4f00-9fac-5a1d3bec338b",
   "metadata": {},
   "outputs": [],
   "source": [
    "### Question 3/4"
   ]
  },
  {
   "cell_type": "code",
   "execution_count": 22,
   "metadata": {},
   "outputs": [],
   "source": [
    "userPerGame = defaultdict(set) # Maps a game to the users who played it\n",
    "gamePerUser = defaultdict(set) # Maps a user to the game that they played\n",
    "hoursDict = {} # To retrieve an hour for a specific user/game pair\n",
    "\n",
    "for d in hoursTrain:\n",
    "    user,game = d[0], d[1]\n",
    "    userPerGame[game].add(user)\n",
    "    gamePerUser[user].add(game)\n",
    "    hoursDict[(user, game)] = d[2]['hours']"
   ]
  },
  {
   "cell_type": "code",
   "execution_count": 23,
   "metadata": {},
   "outputs": [],
   "source": [
    "userAverages = {}\n",
    "gameAverages = {}\n",
    "\n",
    "for u in gamePerUser:\n",
    "    rs = [hoursDict[(u,g)] for g in gamePerUser[u]]\n",
    "    userAverages[u] = sum(rs) / len(rs)\n",
    "\n",
    "for g in userPerGame:\n",
    "    rs = [hoursDict[(u,g)] for u in userPerGame[g]]\n",
    "    gameAverages[g] = sum(rs) / (len(rs))"
   ]
  },
  {
   "cell_type": "code",
   "execution_count": 24,
   "metadata": {},
   "outputs": [],
   "source": [
    "reviewsPerUser = defaultdict(list)\n",
    "reviewsPerGame = defaultdict(list)\n",
    "\n",
    "for d in hoursTrain:\n",
    "    user,game = d[0], d[1]\n",
    "    reviewsPerUser[user].append(d)\n",
    "    reviewsPerGame[game].append(d)"
   ]
  },
  {
   "cell_type": "code",
   "execution_count": 25,
   "metadata": {},
   "outputs": [
    {
     "data": {
      "text/plain": [
       "('u05450000',\n",
       " 'g52077802',\n",
       " {'hours': 16.8,\n",
       "  'gameID': 'g52077802',\n",
       "  'hours_transformed': 4.153805336079036,\n",
       "  'early_access': False,\n",
       "  'date': '2011-05-28',\n",
       "  'text': 'A poorly optimized and poorly realized piece of♥♥♥♥♥♥ Stay clear of this and all future Splash Damage products.',\n",
       "  'userID': 'u05450000'})"
      ]
     },
     "execution_count": 25,
     "metadata": {},
     "output_type": "execute_result"
    }
   ],
   "source": [
    "reviewsPerUser[\"u05450000\"][0]"
   ]
  },
  {
   "cell_type": "code",
   "execution_count": 26,
   "id": "0e7cca75-8730-459c-ad27-d827d65856e2",
   "metadata": {},
   "outputs": [],
   "source": [
    "def Jaccard(s1, s2):\n",
    "    numer = len(s1.intersection(s2))\n",
    "    denom = len(s1.union(s2))\n",
    "    if denom == 0:\n",
    "        return 0\n",
    "    return numer / denom\n",
    "\n",
    "def predictLabel(user, game, threshold):\n",
    "    similarities = []\n",
    "    for d in reviewsPerUser[user]:\n",
    "        i2 = d[1]\n",
    "        if i2 == game: continue\n",
    "        similarities.append(Jaccard(userPerGame[game], userPerGame[i2]))\n",
    "    return 1 if max(similarities) > threshold else 0"
   ]
  },
  {
   "cell_type": "code",
   "execution_count": 27,
   "metadata": {},
   "outputs": [
    {
     "data": {
      "text/plain": [
       "0.70635"
      ]
     },
     "execution_count": 27,
     "metadata": {},
     "output_type": "execute_result"
    }
   ],
   "source": [
    "# Evaluate baseline strategy\n",
    "predictions = []\n",
    "for user,game in valid_data:\n",
    "    predictions.append(predictLabel(user, game, 0.03))\n",
    "# print(len(predictions))\n",
    "for user,game in neg_pairs:\n",
    "    predictions.append(predictLabel(user, game, 0.03))\n",
    "# print(len(predictions))\n",
    "\n",
    "sum_pred_q3 = sum([predictions[i]==1 for i in range(10000)]) + \\\n",
    "    sum([predictions[i] == 0 for i in range(10000, len(predictions))])\n",
    "acc_q3 = sum_pred_q3 / (2*len(valid_data))\n",
    "acc_q3"
   ]
  },
  {
   "cell_type": "code",
   "execution_count": 28,
   "metadata": {},
   "outputs": [],
   "source": [
    "def threshold_and_popularity(threshold_popularity=1/1.5, threshold_jaccard=0.03):\n",
    "    gameCount = defaultdict(int)\n",
    "    totalPlayed = 0\n",
    "    \n",
    "    for user,game,_ in readJSON(\"train.json.gz\"):\n",
    "        gameCount[game] += 1\n",
    "        totalPlayed += 1\n",
    "        \n",
    "    mostPopular = [(gameCount[x], x) for x in gameCount]\n",
    "    mostPopular.sort()\n",
    "    mostPopular.reverse()\n",
    "    \n",
    "    return1 = set()\n",
    "    count = 0\n",
    "    for ic, i in mostPopular:\n",
    "        count += ic\n",
    "        return1.add(i)\n",
    "        if count > threshold_popularity: break\n",
    "    \n",
    "    correct = 0\n",
    "    for user, game in valid_data:\n",
    "        similarities = []\n",
    "        for d in reviewsPerUser[user]:\n",
    "            i2 = d[1]\n",
    "            if i2 == game: continue\n",
    "            similarities.append(Jaccard(userPerGame[game], userPerGame[i2]))\n",
    "            \n",
    "        if max(similarities) > threshold_jaccard and game in return1:\n",
    "            correct += (game in gamePerUser[user]) # recommend in this case\n",
    "        else:\n",
    "            correct += (game not in gamePerUser[user]) # not recommend in this case\n",
    "        \n",
    "    return correct/len(valid_data)"
   ]
  },
  {
   "cell_type": "code",
   "execution_count": 29,
   "metadata": {},
   "outputs": [
    {
     "data": {
      "text/plain": [
       "0.9945"
      ]
     },
     "execution_count": 29,
     "metadata": {},
     "output_type": "execute_result"
    }
   ],
   "source": [
    "acc_q4 = threshold_and_popularity()\n",
    "acc_q4"
   ]
  },
  {
   "cell_type": "code",
   "execution_count": 34,
   "id": "6180d5a7-fcaa-4208-9e2e-0babf0ab854d",
   "metadata": {},
   "outputs": [],
   "source": [
    "answers['Q3'] = acc_q3\n",
    "answers['Q4'] = acc_q4"
   ]
  },
  {
   "cell_type": "code",
   "execution_count": 35,
   "id": "6ac29b20-93d8-467e-9343-7363ae7c8071",
   "metadata": {},
   "outputs": [],
   "source": [
    "assertFloat(answers['Q3'])\n",
    "assertFloat(answers['Q4'])"
   ]
  },
  {
   "cell_type": "code",
   "execution_count": 30,
   "id": "75f81286-487d-494a-8ee8-a42c1aca6eb7",
   "metadata": {},
   "outputs": [],
   "source": [
    "threshold_popularity = 1/1.5\n",
    "threshold_jaccard = 0.003\n",
    "\n",
    "gameCount = defaultdict(int)\n",
    "totalPlayed = 0\n",
    "\n",
    "for user,game,_ in readJSON(\"train.json.gz\"):\n",
    "    gameCount[game] += 1\n",
    "    totalPlayed += 1\n",
    "    \n",
    "mostPopular = [(gameCount[x], x) for x in gameCount]\n",
    "mostPopular.sort()\n",
    "mostPopular.reverse()\n",
    "\n",
    "return1 = set()\n",
    "count = 0\n",
    "for ic, i in mostPopular:\n",
    "    count += ic\n",
    "    return1.add(i)\n",
    "    if count > totalPlayed*threshold_popularity: break\n",
    "\n",
    "return1 = set()\n",
    "count = 0\n",
    "for ic, i in mostPopular:\n",
    "    count += ic\n",
    "    return1.add(i)\n",
    "    if count > threshold_popularity: break\n",
    "\n",
    "predictions = open(\"HWpredictions_Played.csv\", 'w')\n",
    "for l in open(\"pairs_Played.csv\"):\n",
    "    if l.startswith(\"userID\"):\n",
    "        predictions.write(l)\n",
    "        continue\n",
    "    u,g = l.strip().split(',')\n",
    "    userPlayed = gamePerUser[u]\n",
    "    similarities = []\n",
    "    # Logic...\n",
    "    for d in reviewsPerUser[user]:\n",
    "        i2 = d[1]\n",
    "        if i2 == game: continue\n",
    "        similarities.append(Jaccard(userPerGame[game], userPerGame[i2]))\n",
    "\n",
    "    if max(similarities) > threshold_jaccard and game in return1:\n",
    "        predictions.write(u + ',' + g + ',' + \"1\" + '\\n')\n",
    "    else:\n",
    "        predictions.write(u + ',' + g + ',' + \"0\" + '\\n')\n",
    "\n",
    "predictions.close()"
   ]
  },
  {
   "cell_type": "code",
   "execution_count": 38,
   "id": "c82a7a00",
   "metadata": {},
   "outputs": [],
   "source": [
    "##################################################\n",
    "# Hours played prediction                        #\n",
    "##################################################"
   ]
  },
  {
   "cell_type": "code",
   "execution_count": 508,
   "metadata": {},
   "outputs": [],
   "source": [
    "hoursTrain = allHours[:165000]\n",
    "hoursValid = allHours[165000:]"
   ]
  },
  {
   "cell_type": "code",
   "execution_count": 538,
   "metadata": {},
   "outputs": [],
   "source": [
    "hours = [r[2]['hours_transformed'] for r in allHours]\n",
    "globalAverage = sum(hours) * 1.0 / len(hours)\n",
    "hoursPerUser, hoursPerItem,Rui = {}, {}, {}\n",
    "for u,g,d in allHours:\n",
    "    if u not in hoursPerUser:\n",
    "        hoursPerUser[u] = [(g, d['hours_transformed'])]\n",
    "    else:\n",
    "        hoursPerUser[u].append((g, d['hours_transformed']))\n",
    "    if g not in hoursPerItem:\n",
    "        hoursPerItem[g] = [(u, d['hours_transformed'])]\n",
    "    else:\n",
    "        hoursPerItem[g].append((u, d['hours_transformed']))\n",
    "    Rui[(u,g)] = d['hours_transformed']\n",
    "betaU = {}\n",
    "betaI = {}\n",
    "for u in hoursPerUser:\n",
    "    betaU[u] = 0\n",
    "\n",
    "for g in hoursPerItem:\n",
    "    betaI[g] = 0"
   ]
  },
  {
   "cell_type": "code",
   "execution_count": 539,
   "metadata": {},
   "outputs": [],
   "source": [
    "alpha = globalAverage # Could initialize anywhere, this is a guess"
   ]
  },
  {
   "cell_type": "code",
   "execution_count": 540,
   "metadata": {},
   "outputs": [],
   "source": [
    "def update_alpha():\n",
    "    global alpha\n",
    "    num = sum(Rui[(u,g)]- (betaU[u] + betaI[g]) for u,g,_ in allHours)\n",
    "    denom = len(allHours)\n",
    "    alpha = num / denom"
   ]
  },
  {
   "cell_type": "code",
   "execution_count": 541,
   "metadata": {},
   "outputs": [],
   "source": [
    "def update_betaU(lamb):\n",
    "    global alpha\n",
    "    for user in hoursPerUser:\n",
    "        num = sum(Rui[(user,g)]-(alpha+betaI[g]) for g,t in hoursPerUser[user])\n",
    "        denom = lamb + len(hoursPerUser[user])\n",
    "        betaU[user] = num / denom"
   ]
  },
  {
   "cell_type": "code",
   "execution_count": 542,
   "metadata": {},
   "outputs": [],
   "source": [
    "def update_betaI(lamb):\n",
    "    global alpha\n",
    "    for item in hoursPerItem:\n",
    "        num = sum(Rui[(u,item)]-(alpha+betaU[u]) for u,t in hoursPerItem[item])\n",
    "        denom = lamb + len(hoursPerItem[item])\n",
    "        betaI[item] = num / denom"
   ]
  },
  {
   "cell_type": "code",
   "execution_count": 543,
   "metadata": {},
   "outputs": [],
   "source": [
    "def predict(user, item):\n",
    "    global alpha\n",
    "    if user not in hoursPerUser and item not in hoursPerItem:\n",
    "        return alpha\n",
    "    if user in hoursPerUser and item not in hoursPerItem:\n",
    "        return alpha + betaU[user]\n",
    "    if user not in hoursPerUser and item in hoursPerItem:\n",
    "        return alpha + betaI[item]\n",
    "    return alpha + betaU[user] + betaI[item]"
   ]
  },
  {
   "cell_type": "code",
   "execution_count": 544,
   "metadata": {},
   "outputs": [],
   "source": [
    "def MSE():\n",
    "    mse = sum((_['hours_transformed']-predict(u,i))**2 for u,i,_ in hoursValid) / len(hoursValid)\n",
    "    return mse"
   ]
  },
  {
   "cell_type": "code",
   "execution_count": 545,
   "metadata": {},
   "outputs": [],
   "source": [
    "def iterate(lamb, max_iteration=1000):\n",
    "    mse = 0\n",
    "    counter = 0\n",
    "    for iter in range(max_iteration):\n",
    "        update_alpha()\n",
    "        update_betaU(lamb)\n",
    "        update_betaI(lamb)\n",
    "        curr_MSE = MSE()\n",
    "        if iter % 10 == 9:\n",
    "            print(f\"Current Iteration is {iter+1} | MSE: {curr_MSE}\")\n",
    "        if mse == 0 or curr_MSE <= mse:\n",
    "            mse = curr_MSE\n",
    "        else:\n",
    "            counter+=1\n",
    "        if counter ==1:\n",
    "            print(f\"End Iteration is {iter+1} | MSE: {curr_MSE}\")\n",
    "            break\n",
    "    return curr_MSE"
   ]
  },
  {
   "cell_type": "code",
   "execution_count": 546,
   "metadata": {},
   "outputs": [
    {
     "name": "stdout",
     "output_type": "stream",
     "text": [
      "Current Iteration is 10 | MSE: 2.749665686371287\n",
      "Current Iteration is 20 | MSE: 2.748783972606049\n",
      "Current Iteration is 30 | MSE: 2.748462339139309\n",
      "Current Iteration is 40 | MSE: 2.748334559412922\n",
      "Current Iteration is 50 | MSE: 2.7482790253596647\n",
      "Current Iteration is 60 | MSE: 2.7482529964938864\n",
      "Current Iteration is 70 | MSE: 2.7482401198914124\n",
      "Current Iteration is 80 | MSE: 2.748233526497276\n",
      "Current Iteration is 90 | MSE: 2.7482300807254734\n",
      "Current Iteration is 100 | MSE: 2.748228258949598\n",
      "Current Iteration is 110 | MSE: 2.7482272895884785\n",
      "Current Iteration is 120 | MSE: 2.748226771989656\n",
      "Current Iteration is 130 | MSE: 2.7482264950904147\n",
      "Current Iteration is 140 | MSE: 2.748226346807017\n",
      "Current Iteration is 150 | MSE: 2.7482262673557276\n",
      "Current Iteration is 160 | MSE: 2.7482262247726283\n",
      "Current Iteration is 170 | MSE: 2.748226201945986\n",
      "Current Iteration is 180 | MSE: 2.748226189708754\n",
      "Current Iteration is 190 | MSE: 2.748226183148152\n",
      "Current Iteration is 200 | MSE: 2.7482261796307976\n",
      "Current Iteration is 210 | MSE: 2.7482261777450114\n",
      "Current Iteration is 220 | MSE: 2.748226176733956\n",
      "Current Iteration is 230 | MSE: 2.748226176191889\n",
      "Current Iteration is 240 | MSE: 2.7482261759012605\n",
      "Current Iteration is 250 | MSE: 2.7482261757454283\n",
      "Current Iteration is 260 | MSE: 2.7482261756618884\n",
      "Current Iteration is 270 | MSE: 2.7482261756170967\n",
      "Current Iteration is 280 | MSE: 2.7482261755931026\n",
      "Current Iteration is 290 | MSE: 2.7482261755802186\n",
      "Current Iteration is 300 | MSE: 2.7482261755733135\n",
      "Current Iteration is 310 | MSE: 2.7482261755696156\n",
      "Current Iteration is 320 | MSE: 2.7482261755676234\n",
      "Current Iteration is 330 | MSE: 2.7482261755665514\n",
      "Current Iteration is 340 | MSE: 2.74822617556599\n",
      "Current Iteration is 350 | MSE: 2.748226175565681\n",
      "Current Iteration is 360 | MSE: 2.748226175565513\n",
      "End Iteration is 361 | MSE: 2.7482261755655193\n"
     ]
    }
   ],
   "source": [
    "validMSE = iterate(lamb=5)"
   ]
  },
  {
   "cell_type": "code",
   "execution_count": 547,
   "metadata": {},
   "outputs": [
    {
     "data": {
      "text/plain": [
       "2.7482261755655193"
      ]
     },
     "execution_count": 547,
     "metadata": {},
     "output_type": "execute_result"
    }
   ],
   "source": [
    "validMSE"
   ]
  },
  {
   "cell_type": "code",
   "execution_count": 373,
   "id": "c604fd19-2fb8-44bf-82b5-33797f534707",
   "metadata": {},
   "outputs": [],
   "source": [
    "### Question 8"
   ]
  },
  {
   "cell_type": "code",
   "execution_count": 500,
   "metadata": {},
   "outputs": [],
   "source": [
    "def iterate(lamb, max_iteration=50):\n",
    "    mse = 0\n",
    "    betaU = {}\n",
    "    betaI = {}\n",
    "    for u in hoursPerUser:\n",
    "        betaU[u] = 0\n",
    "\n",
    "    for g in hoursPerItem:\n",
    "        betaI[g] = 0\n",
    "    for iter in range(max_iteration):\n",
    "        update_alpha()\n",
    "        update_betaU(lamb)\n",
    "        update_betaI(lamb)\n",
    "        curr_mse = MSE()\n",
    "        if mse == 0 or curr_mse <= mse:\n",
    "            mse = curr_mse\n",
    "        else:\n",
    "            print(f\"Current Lambda is {lamb} | MSE: {curr_mse}\")\n",
    "            break\n",
    "        if iter == 29:\n",
    "            print(f\"Current Lambda is {lamb} | MSE: {curr_mse}\")\n",
    "    return mse"
   ]
  },
  {
   "cell_type": "code",
   "execution_count": 526,
   "id": "30b8cbba-d0ec-46a6-b079-1c9a0e188971",
   "metadata": {},
   "outputs": [
    {
     "name": "stdout",
     "output_type": "stream",
     "text": [
      "Current Lambda is 0.001 | MSE: 2.7217719627934\n",
      "Current Lambda is 0.011 | MSE: 2.721777121993741\n",
      "Current Lambda is 0.020999999999999998 | MSE: 2.721782656903129\n",
      "Current Lambda is 0.030999999999999996 | MSE: 2.7217885657249172\n",
      "Current Lambda is 0.040999999999999995 | MSE: 2.721794846681891\n",
      "Current Lambda is 0.05099999999999999 | MSE: 2.7218014980154677\n"
     ]
    },
    {
     "ename": "KeyboardInterrupt",
     "evalue": "",
     "output_type": "error",
     "traceback": [
      "\u001b[0;31m---------------------------------------------------------------------------\u001b[0m",
      "\u001b[0;31mKeyboardInterrupt\u001b[0m                         Traceback (most recent call last)",
      "\u001b[1;32m/Users/youzezheng/Desktop/good-hours-model-tune/Homework 3 stub.ipynb Cell 51\u001b[0m line \u001b[0;36m1\n\u001b[1;32m     <a href='vscode-notebook-cell:/Users/youzezheng/Desktop/good-hours-model-tune/Homework%203%20stub.ipynb#Y103sZmlsZQ%3D%3D?line=14'>15</a>\u001b[0m     \u001b[39melse\u001b[39;00m:\n\u001b[1;32m     <a href='vscode-notebook-cell:/Users/youzezheng/Desktop/good-hours-model-tune/Homework%203%20stub.ipynb#Y103sZmlsZQ%3D%3D?line=15'>16</a>\u001b[0m         hoursPerItem[g]\u001b[39m.\u001b[39mappend((u, d[\u001b[39m'\u001b[39m\u001b[39mhours_transformed\u001b[39m\u001b[39m'\u001b[39m]))\n\u001b[0;32m---> <a href='vscode-notebook-cell:/Users/youzezheng/Desktop/good-hours-model-tune/Homework%203%20stub.ipynb#Y103sZmlsZQ%3D%3D?line=16'>17</a>\u001b[0m     Rui[(u,g)] \u001b[39m=\u001b[39m d[\u001b[39m'\u001b[39m\u001b[39mhours_transformed\u001b[39m\u001b[39m'\u001b[39m]\n\u001b[1;32m     <a href='vscode-notebook-cell:/Users/youzezheng/Desktop/good-hours-model-tune/Homework%203%20stub.ipynb#Y103sZmlsZQ%3D%3D?line=17'>18</a>\u001b[0m betaU \u001b[39m=\u001b[39m {}\n\u001b[1;32m     <a href='vscode-notebook-cell:/Users/youzezheng/Desktop/good-hours-model-tune/Homework%203%20stub.ipynb#Y103sZmlsZQ%3D%3D?line=18'>19</a>\u001b[0m betaI \u001b[39m=\u001b[39m {}\n",
      "\u001b[0;31mKeyboardInterrupt\u001b[0m: "
     ]
    }
   ],
   "source": [
    "# Better lambda...\n",
    "bestValidMSE = None\n",
    "bestLamb = 0\n",
    "for lamb in np.arange(0.001, 4.71, 0.01):\n",
    "    hours = [r[2]['hours_transformed'] for r in allHours]\n",
    "    globalAverage = sum(hours) * 1.0 / len(hours)\n",
    "    hoursPerUser, hoursPerItem,Rui = {}, {}, {}\n",
    "    for u,g,d in allHours:\n",
    "        if u not in hoursPerUser:\n",
    "            hoursPerUser[u] = [(g, d['hours_transformed'])]\n",
    "        else:\n",
    "            hoursPerUser[u].append((g, d['hours_transformed']))\n",
    "        if g not in hoursPerItem:\n",
    "            hoursPerItem[g] = [(u, d['hours_transformed'])]\n",
    "        else:\n",
    "            hoursPerItem[g].append((u, d['hours_transformed']))\n",
    "        Rui[(u,g)] = d['hours_transformed']\n",
    "    betaU = {}\n",
    "    betaI = {}\n",
    "    for u in hoursPerUser:\n",
    "        betaU[u] = 0\n",
    "\n",
    "    for g in hoursPerItem:\n",
    "        betaI[g] = 0\n",
    "    validMSE = iterate(lamb, max_iteration=100)\n",
    "    if bestValidMSE == None or validMSE < bestValidMSE:\n",
    "        bestValidMSE = validMSE\n",
    "        bestLamb = lamb"
   ]
  },
  {
   "cell_type": "code",
   "execution_count": 507,
   "metadata": {},
   "outputs": [
    {
     "data": {
      "text/plain": [
       "(2.746672815636831, 4.8)"
      ]
     },
     "execution_count": 507,
     "metadata": {},
     "output_type": "execute_result"
    }
   ],
   "source": [
    "bestValidMSE, bestLamb # Fine-tune lambda"
   ]
  },
  {
   "cell_type": "markdown",
   "metadata": {},
   "source": [
    "(2.990624596408338, 4.949999999999997)\n",
    "\n",
    "(3.057123229940671, 5.089999999999994)"
   ]
  },
  {
   "cell_type": "code",
   "execution_count": null,
   "metadata": {},
   "outputs": [],
   "source": []
  },
  {
   "cell_type": "code",
   "execution_count": 548,
   "id": "90a7cd55-1f58-42a5-8c35-4debf80a3e3e",
   "metadata": {},
   "outputs": [],
   "source": [
    "predictions = open(\"predictions_Hours.csv\", 'w')\n",
    "for l in open(\"pairs_Hours.csv\"):\n",
    "    if l.startswith(\"userID\"):\n",
    "        predictions.write(l)\n",
    "        continue\n",
    "    u,g = l.strip().split(',')\n",
    "    \n",
    "    if (u,g) in Rui:\n",
    "        predictions.write(u + ',' + g + ',' + str(Rui[(u,g)]) + '\\n')\n",
    "    if u in betaU and g in betaI:\n",
    "        predictions.write(u + ',' + g + ',' + str(alpha + betaU[u] + betaI[g]) + '\\n')\n",
    "    else:\n",
    "        predictions.write(u + ',' + g + ',' + str(0) + '\\n')\n",
    "\n",
    "predictions.close()"
   ]
  },
  {
   "cell_type": "code",
   "execution_count": null,
   "id": "9676dc3e",
   "metadata": {},
   "outputs": [],
   "source": []
  }
 ],
 "metadata": {
  "kernelspec": {
   "display_name": "Python 3 (ipykernel)",
   "language": "python",
   "name": "python3"
  },
  "language_info": {
   "codemirror_mode": {
    "name": "ipython",
    "version": 3
   },
   "file_extension": ".py",
   "mimetype": "text/x-python",
   "name": "python",
   "nbconvert_exporter": "python",
   "pygments_lexer": "ipython3",
   "version": "3.9.18"
  }
 },
 "nbformat": 4,
 "nbformat_minor": 5
}
