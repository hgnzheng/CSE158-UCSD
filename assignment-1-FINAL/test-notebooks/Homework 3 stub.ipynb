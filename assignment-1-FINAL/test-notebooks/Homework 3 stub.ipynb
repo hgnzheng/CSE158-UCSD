{
 "cells": [
  {
   "cell_type": "code",
   "execution_count": 2,
   "id": "0f55c023",
   "metadata": {},
   "outputs": [],
   "source": [
    "import gzip\n",
    "from collections import defaultdict\n",
    "import math\n",
    "import scipy.optimize\n",
    "from sklearn import svm\n",
    "import numpy as np\n",
    "import string\n",
    "import random\n",
    "import string\n",
    "from sklearn import linear_model\n",
    "import tensorflow as tf\n",
    "from surprise.model_selection import train_test_split"
   ]
  },
  {
   "cell_type": "code",
   "execution_count": 3,
   "id": "005c1a02-c5bf-4241-8d00-dc260d36f08f",
   "metadata": {},
   "outputs": [],
   "source": [
    "def assertFloat(x):\n",
    "    assert type(float(x)) == float\n",
    "\n",
    "def assertFloatList(items, N):\n",
    "    assert len(items) == N\n",
    "    assert [type(float(x)) for x in items] == [float]*N"
   ]
  },
  {
   "cell_type": "code",
   "execution_count": 4,
   "id": "cb2abe72",
   "metadata": {},
   "outputs": [],
   "source": [
    "def readGz(path):\n",
    "    for l in gzip.open(path, 'rt'):\n",
    "        yield eval(l)"
   ]
  },
  {
   "cell_type": "code",
   "execution_count": 5,
   "id": "e54fa48f",
   "metadata": {},
   "outputs": [],
   "source": [
    "def readJSON(path):\n",
    "    f = gzip.open(path, 'rt')\n",
    "    f.readline()\n",
    "    for l in f:\n",
    "        d = eval(l)\n",
    "        u = d['userID']\n",
    "        g = d['gameID']\n",
    "        yield u,g,d"
   ]
  },
  {
   "cell_type": "code",
   "execution_count": 7,
   "id": "27aec54d",
   "metadata": {},
   "outputs": [],
   "source": [
    "# Some data structures that will be useful"
   ]
  },
  {
   "cell_type": "code",
   "execution_count": 8,
   "id": "e72d24da",
   "metadata": {},
   "outputs": [],
   "source": [
    "allHours = []\n",
    "for l in readJSON(\"train.json.gz\"):\n",
    "    allHours.append(l)"
   ]
  },
  {
   "cell_type": "code",
   "execution_count": 13,
   "id": "462bd9bd-b657-4571-8fef-eee11d852099",
   "metadata": {},
   "outputs": [],
   "source": [
    "hoursTrain = allHours[:165000]\n",
    "hoursValid = allHours[165000:]"
   ]
  },
  {
   "cell_type": "code",
   "execution_count": 8,
   "id": "c58fd9e5-0ba6-4fef-83c1-315503d75348",
   "metadata": {},
   "outputs": [],
   "source": [
    "##################################################\n",
    "# Play prediction                                #\n",
    "##################################################"
   ]
  },
  {
   "cell_type": "code",
   "execution_count": 9,
   "id": "4e06cc33-bc60-4b45-be63-8033c17d9fe6",
   "metadata": {},
   "outputs": [],
   "source": [
    "# Any other preprocessing...\n",
    "users = set() # maintain a set of unique users\n",
    "games = set() # maintain a set of unique games\n",
    "pos_pairs = []\n",
    "for l in readGz(\"train.json.gz\"):\n",
    "    u,g = l['userID'], l['gameID']\n",
    "    users.add(u)\n",
    "    games.add(g)\n",
    "    pos_pairs += [(u, g)]"
   ]
  },
  {
   "cell_type": "code",
   "execution_count": 10,
   "metadata": {},
   "outputs": [],
   "source": [
    "train_data = pos_pairs[:165000]\n",
    "valid_data = pos_pairs[165000:] # because pos_pairs has length 175000"
   ]
  },
  {
   "cell_type": "code",
   "execution_count": 11,
   "metadata": {},
   "outputs": [
    {
     "data": {
      "text/plain": [
       "(6710, 2437)"
      ]
     },
     "execution_count": 11,
     "metadata": {},
     "output_type": "execute_result"
    }
   ],
   "source": [
    "len(users), len(games)"
   ]
  },
  {
   "cell_type": "code",
   "execution_count": 14,
   "metadata": {},
   "outputs": [
    {
     "name": "stderr",
     "output_type": "stream",
     "text": [
      "/var/folders/8f/_6h5xprs32dfmm3jfs0g7k880000gn/T/ipykernel_98098/759351938.py:5: DeprecationWarning: Sampling from a set deprecated\n",
      "since Python 3.9 and will be removed in a subsequent version.\n",
      "  user = random.sample(users, 1)[0]\n",
      "/var/folders/8f/_6h5xprs32dfmm3jfs0g7k880000gn/T/ipykernel_98098/759351938.py:6: DeprecationWarning: Sampling from a set deprecated\n",
      "since Python 3.9 and will be removed in a subsequent version.\n",
      "  game = random.sample(games, 1)[0]\n"
     ]
    }
   ],
   "source": [
    "# Randomly sample games that weren't played\n",
    "neg_pairs = set()\n",
    "len_valid = len(hoursValid)\n",
    "while True:\n",
    "    user = random.sample(users, 1)[0]\n",
    "    game = random.sample(games, 1)[0]\n",
    "    if (user, game) not in pos_pairs:\n",
    "        neg_pairs.add((user, game))\n",
    "    if len(neg_pairs) == len_valid:\n",
    "        break"
   ]
  },
  {
   "cell_type": "code",
   "execution_count": 15,
   "metadata": {},
   "outputs": [
    {
     "data": {
      "text/plain": [
       "(9999, 165000)"
      ]
     },
     "execution_count": 15,
     "metadata": {},
     "output_type": "execute_result"
    }
   ],
   "source": [
    "len(neg_pairs), len(train_data)"
   ]
  },
  {
   "cell_type": "code",
   "execution_count": 16,
   "metadata": {},
   "outputs": [],
   "source": [
    "userPerGame = defaultdict(set) # Maps a game to the users who played it\n",
    "gamePerUser = defaultdict(set) # Maps a user to the game that they played\n",
    "hoursDict = {} # To retrieve an hour for a specific user/game pair\n",
    "\n",
    "for d in hoursTrain:\n",
    "    user,game = d[0], d[1]\n",
    "    userPerGame[game].add(user)\n",
    "    gamePerUser[user].add(game)\n",
    "    hoursDict[(user, game)] = d[2]['hours']"
   ]
  },
  {
   "cell_type": "code",
   "execution_count": 17,
   "metadata": {},
   "outputs": [],
   "source": [
    "userAverages = {}\n",
    "gameAverages = {}\n",
    "\n",
    "for u in gamePerUser:\n",
    "    rs = [hoursDict[(u,g)] for g in gamePerUser[u]]\n",
    "    userAverages[u] = sum(rs) / len(rs)\n",
    "\n",
    "for g in userPerGame:\n",
    "    rs = [hoursDict[(u,g)] for u in userPerGame[g]]\n",
    "    gameAverages[g] = sum(rs) / (len(rs))"
   ]
  },
  {
   "cell_type": "code",
   "execution_count": 28,
   "metadata": {},
   "outputs": [],
   "source": [
    "reviewsPerUser = defaultdict(list)\n",
    "reviewsPerItem = defaultdict(list)\n",
    "\n",
    "for d in hoursTrain:\n",
    "    user,game = d[0], d[1]\n",
    "    reviewsPerUser[user].append(d)\n",
    "    reviewsPerItem[game].append(d)"
   ]
  },
  {
   "cell_type": "code",
   "execution_count": 19,
   "metadata": {},
   "outputs": [
    {
     "data": {
      "text/plain": [
       "('u05450000',\n",
       " 'g52077802',\n",
       " {'hours': 16.8,\n",
       "  'gameID': 'g52077802',\n",
       "  'hours_transformed': 4.153805336079036,\n",
       "  'early_access': False,\n",
       "  'date': '2011-05-28',\n",
       "  'text': 'A poorly optimized and poorly realized piece of♥♥♥♥♥♥ Stay clear of this and all future Splash Damage products.',\n",
       "  'userID': 'u05450000'})"
      ]
     },
     "execution_count": 19,
     "metadata": {},
     "output_type": "execute_result"
    }
   ],
   "source": [
    "reviewsPerUser[\"u05450000\"][0]"
   ]
  },
  {
   "cell_type": "code",
   "execution_count": 38,
   "id": "c82a7a00",
   "metadata": {},
   "outputs": [],
   "source": [
    "##################################################\n",
    "# Hours played prediction                        #\n",
    "##################################################"
   ]
  },
  {
   "cell_type": "code",
   "execution_count": 22,
   "metadata": {},
   "outputs": [],
   "source": [
    "trainHours = [r[2]['hours_transformed'] for r in hoursTrain]\n",
    "globalAverage = sum(trainHours) * 1.0 / len(trainHours)"
   ]
  },
  {
   "cell_type": "code",
   "execution_count": 23,
   "metadata": {},
   "outputs": [
    {
     "data": {
      "text/plain": [
       "3.716088074007024"
      ]
     },
     "execution_count": 23,
     "metadata": {},
     "output_type": "execute_result"
    }
   ],
   "source": [
    "globalAverage"
   ]
  },
  {
   "cell_type": "markdown",
   "metadata": {},
   "source": [
    "## Complete Latent Factor Model (one latent factor)"
   ]
  },
  {
   "cell_type": "code",
   "execution_count": 35,
   "metadata": {},
   "outputs": [],
   "source": [
    "N = len(allHours)\n",
    "nUsers = len(reviewsPerUser)\n",
    "nItems = len(reviewsPerItem)\n",
    "users = list(reviewsPerUser.keys())\n",
    "items = list(reviewsPerItem.keys())"
   ]
  },
  {
   "cell_type": "code",
   "execution_count": 24,
   "metadata": {},
   "outputs": [],
   "source": [
    "alpha = globalAverage"
   ]
  },
  {
   "cell_type": "code",
   "execution_count": 29,
   "metadata": {},
   "outputs": [],
   "source": [
    "userBiases = defaultdict(float)\n",
    "itemBiases = defaultdict(float)\n",
    "userGamma = {}\n",
    "itemGamma = {}"
   ]
  },
  {
   "cell_type": "code",
   "execution_count": 30,
   "metadata": {},
   "outputs": [],
   "source": [
    "K = 2"
   ]
  },
  {
   "cell_type": "code",
   "execution_count": 32,
   "metadata": {},
   "outputs": [],
   "source": [
    "for u in reviewsPerUser:\n",
    "    userGamma[u] = [random.random() * 0.1 - 0.05 for k in range(K)]"
   ]
  },
  {
   "cell_type": "code",
   "execution_count": 33,
   "metadata": {},
   "outputs": [],
   "source": [
    "for i in reviewsPerItem:\n",
    "    itemGamma[i] = [random.random() * 0.1 - 0.05 for k in range(K)]"
   ]
  },
  {
   "cell_type": "code",
   "execution_count": 100,
   "metadata": {},
   "outputs": [],
   "source": [
    "def unpack(theta):\n",
    "    global alpha\n",
    "    global userBiases\n",
    "    global itemBiases\n",
    "    global userGamma\n",
    "    global itemGamma\n",
    "    index = 0\n",
    "    alpha = theta[index]\n",
    "    index += 1\n",
    "    userBiases = dict(zip(users, theta[index:index+nUsers]))\n",
    "    index += nUsers\n",
    "    itemBiases = dict(zip(items, theta[index:index+nItems]))\n",
    "    index += nItems\n",
    "    # for u in users:\n",
    "    #     userGamma[u] = theta[index:index+K]\n",
    "    #     index += K\n",
    "    # for i in items:\n",
    "    #     itemGamma[i] = theta[index:index+K]\n",
    "    #     index += K"
   ]
  },
  {
   "cell_type": "code",
   "execution_count": 101,
   "metadata": {},
   "outputs": [],
   "source": [
    "def inner(x, y):\n",
    "    return sum([a*b for a,b in zip(x,y)])"
   ]
  },
  {
   "cell_type": "code",
   "execution_count": 102,
   "metadata": {},
   "outputs": [],
   "source": [
    "def prediction(user, item):\n",
    "    return alpha + userBiases[user] + itemBiases[item] \n",
    "# + inner(userGamma[user], itemGamma[item])"
   ]
  },
  {
   "cell_type": "code",
   "execution_count": 103,
   "metadata": {},
   "outputs": [],
   "source": [
    "def cost(theta, labels, lamb1,lamb2):\n",
    "    unpack(theta)\n",
    "    predictions = [prediction(u, g) for u,g,d in hoursTrain]\n",
    "    cost = MSE(predictions, labels)\n",
    "    print(\"MSE = \" + str(cost))\n",
    "    for u in users:\n",
    "        cost += lamb1*userBiases[u]**2\n",
    "        # for k in range(K):\n",
    "        #     cost += lamb2*userGamma[u][k]**2\n",
    "    for i in items:\n",
    "        cost += lamb1*itemBiases[i]**2\n",
    "        # for k in range(K):\n",
    "        #     cost += lamb2*itemGamma[i][k]**2\n",
    "    return cost"
   ]
  },
  {
   "cell_type": "code",
   "execution_count": 104,
   "metadata": {},
   "outputs": [],
   "source": [
    "def derivative(theta, labels, lamb1, lamb2):\n",
    "    unpack(theta)\n",
    "    N = len(allHours)\n",
    "    dalpha = 0\n",
    "    dUserBiases = defaultdict(float)\n",
    "    dItemBiases = defaultdict(float)\n",
    "    dUserGamma = {}\n",
    "    dItemGamma = {}\n",
    "    for u in reviewsPerUser:\n",
    "        dUserGamma[u] = [0.0 for k in range(K)]\n",
    "    for i in reviewsPerItem:\n",
    "        dItemGamma[i] = [0.0 for k in range(K)]\n",
    "    for u,i,d in allHours:\n",
    "        pred = prediction(u, i)\n",
    "        diff = pred - d['hours_transformed']\n",
    "        dalpha += 2/N*diff\n",
    "        dUserBiases[u] += 2/N*diff\n",
    "        dItemBiases[i] += 2/N*diff\n",
    "        # for k in range(K):\n",
    "        #     dUserGamma[u][k] += 2/N*itemGamma[i][k]*diff\n",
    "        #     dItemGamma[i][k] += 2/N*userGamma[u][k]*diff\n",
    "    for u in userBiases:\n",
    "        dUserBiases[u] += 2*lamb1*userBiases[u]\n",
    "        # for k in range(K):\n",
    "        #     dUserGamma[u][k] += 2*lamb2*userGamma[u][k]\n",
    "    for i in itemBiases:\n",
    "        dItemBiases[i] += 2*lamb1*itemBiases[i]\n",
    "        # for k in range(K):\n",
    "        #     dItemGamma[i][k] += 2*lamb2*itemGamma[i][k]\n",
    "    dtheta = [dalpha] + [dUserBiases[u] for u in users] + [dItemBiases[i] for i in items]\n",
    "    # for u in users:\n",
    "    #     dtheta += dUserGamma[u]\n",
    "    # for i in items:\n",
    "    #     dtheta += dItemGamma[i]\n",
    "    return np.array(dtheta)"
   ]
  },
  {
   "cell_type": "code",
   "execution_count": 105,
   "metadata": {},
   "outputs": [],
   "source": [
    "def MSE(predictions, labels):\n",
    "    differences = [(x-y)**2 for x,y in zip(predictions,labels)]\n",
    "    return sum(differences) / len(differences)"
   ]
  },
  {
   "cell_type": "code",
   "execution_count": 106,
   "metadata": {},
   "outputs": [],
   "source": [
    "labels = [d['hours_transformed'] for u,g,d in hoursTrain]"
   ]
  },
  {
   "cell_type": "code",
   "execution_count": 107,
   "metadata": {},
   "outputs": [],
   "source": [
    "alwaysPredictMean = [globalAverage for u,g,d in hoursTrain]"
   ]
  },
  {
   "cell_type": "code",
   "execution_count": 108,
   "metadata": {},
   "outputs": [
    {
     "data": {
      "text/plain": [
       "5.278030914752221"
      ]
     },
     "execution_count": 108,
     "metadata": {},
     "output_type": "execute_result"
    }
   ],
   "source": [
    "MSE(alwaysPredictMean, labels)"
   ]
  },
  {
   "cell_type": "code",
   "execution_count": 113,
   "metadata": {},
   "outputs": [
    {
     "name": "stdout",
     "output_type": "stream",
     "text": [
      "MSE = 5.673572374847924\n",
      "MSE = 5.399254102091392\n",
      "MSE = 5.302565861430607\n",
      "MSE = 5.276367042721776\n",
      "MSE = 5.276531494018957\n",
      "MSE = 5.276531728918435\n",
      "MSE = 5.276531669544021\n"
     ]
    },
    {
     "data": {
      "text/plain": [
       "(array([ 3.71767716e+00,  1.98642409e-05, -1.69180626e-05, ...,\n",
       "        -1.20800926e-05, -2.98644891e-05, -3.97332784e-05]),\n",
       " 5.277284486387923,\n",
       " {'grad': array([-1.93580857e-06,  3.54593482e-09, -2.03281132e-09, ...,\n",
       "         -1.46858070e-09, -7.80169586e-09, -1.29338515e-08]),\n",
       "  'task': 'CONVERGENCE: NORM_OF_PROJECTED_GRADIENT_<=_PGTOL',\n",
       "  'funcalls': 7,\n",
       "  'nit': 6,\n",
       "  'warnflag': 0})"
      ]
     },
     "execution_count": 113,
     "metadata": {},
     "output_type": "execute_result"
    }
   ],
   "source": [
    "scipy.optimize.fmin_l_bfgs_b(cost, [alpha] + # Initialize alpha\n",
    "                                   [0.0]*(nUsers+nItems),  # Initialize beta\n",
    "                              #      [random.random() * 0.1 - 0.05 for k in range(K*(nUsers+nItems))], # Gamma\n",
    "                             derivative, args = (labels, 4.959999999999999, 1))"
   ]
  },
  {
   "cell_type": "code",
   "execution_count": 96,
   "metadata": {},
   "outputs": [],
   "source": [
    "predictions = [prediction(u,g) for u,g,d in hoursValid]"
   ]
  },
  {
   "cell_type": "code",
   "execution_count": 97,
   "metadata": {},
   "outputs": [],
   "source": [
    "labels_valid = [d['hours_transformed'] for u,g,d in hoursValid]"
   ]
  },
  {
   "cell_type": "code",
   "execution_count": 98,
   "metadata": {},
   "outputs": [
    {
     "data": {
      "text/plain": [
       "2.727273307384981"
      ]
     },
     "execution_count": 98,
     "metadata": {},
     "output_type": "execute_result"
    }
   ],
   "source": [
    "MSE(predictions,labels_valid)"
   ]
  },
  {
   "cell_type": "code",
   "execution_count": null,
   "metadata": {},
   "outputs": [],
   "source": []
  },
  {
   "cell_type": "code",
   "execution_count": 99,
   "metadata": {},
   "outputs": [],
   "source": [
    "hoursPerUser, hoursPerItem,Rui = {}, {}, {}\n",
    "for u,g,d in hoursTrain:\n",
    "    if u not in hoursPerUser:\n",
    "        hoursPerUser[u] = [(g, d['hours_transformed'])]\n",
    "    else:\n",
    "        hoursPerUser[u].append((g, d['hours_transformed']))\n",
    "    if g not in hoursPerItem:\n",
    "        hoursPerItem[g] = [(u, d['hours_transformed'])]\n",
    "    else:\n",
    "        hoursPerItem[g].append((u, d['hours_transformed']))\n",
    "    Rui[(u,g)] = d['hours_transformed']"
   ]
  },
  {
   "cell_type": "code",
   "execution_count": 72,
   "metadata": {},
   "outputs": [
    {
     "data": {
      "text/plain": [
       "2437"
      ]
     },
     "execution_count": 72,
     "metadata": {},
     "output_type": "execute_result"
    }
   ],
   "source": [
    "len(hoursPerItem)"
   ]
  },
  {
   "cell_type": "code",
   "execution_count": 73,
   "metadata": {},
   "outputs": [],
   "source": [
    "betaU = {}\n",
    "betaI = {}\n",
    "for u in hoursPerUser:\n",
    "    betaU[u] = 0\n",
    "\n",
    "for g in hoursPerItem:\n",
    "    betaI[g] = 0"
   ]
  },
  {
   "cell_type": "code",
   "execution_count": 74,
   "metadata": {},
   "outputs": [],
   "source": [
    "alpha = globalAverage # Could initialize anywhere, this is a guess"
   ]
  },
  {
   "cell_type": "code",
   "execution_count": 75,
   "metadata": {},
   "outputs": [],
   "source": [
    "def update_alpha():\n",
    "    global alpha\n",
    "    num = sum(Rui[(u,g)]- (betaU[u] + betaI[g]) for u,g,_ in hoursTrain)\n",
    "    denom = len(hoursTrain)\n",
    "    alpha = num / denom"
   ]
  },
  {
   "cell_type": "code",
   "execution_count": 76,
   "metadata": {},
   "outputs": [],
   "source": [
    "def update_betaU(lamb):\n",
    "    global alpha\n",
    "    for user in hoursPerUser:\n",
    "        num = sum(Rui[(user,g)]-(alpha+betaI[g]) for g,t in hoursPerUser[user])\n",
    "        denom = lamb + len(hoursPerUser[user])\n",
    "        betaU[user] = num / denom"
   ]
  },
  {
   "cell_type": "code",
   "execution_count": 77,
   "metadata": {},
   "outputs": [],
   "source": [
    "def update_betaI(lamb):\n",
    "    global alpha\n",
    "    for item in hoursPerItem:\n",
    "        num = sum(Rui[(u,item)]-(alpha+betaU[u]) for u,t in hoursPerItem[item])\n",
    "        denom = lamb + len(hoursPerItem[item])\n",
    "        betaI[item] = num / denom"
   ]
  },
  {
   "cell_type": "code",
   "execution_count": 78,
   "metadata": {},
   "outputs": [],
   "source": [
    "def predict(user, item):\n",
    "    global alpha\n",
    "    if user not in hoursPerUser and item not in hoursPerItem:\n",
    "        return alpha\n",
    "    if user in hoursPerUser and item not in hoursPerItem:\n",
    "        return alpha + betaU[user]\n",
    "    if user not in hoursPerUser and item in hoursPerItem:\n",
    "        return alpha + betaI[item]\n",
    "    return alpha + betaU[user] + betaI[item]"
   ]
  },
  {
   "cell_type": "code",
   "execution_count": 79,
   "metadata": {},
   "outputs": [],
   "source": [
    "def MSE():\n",
    "    mse = sum((_['hours_transformed']-predict(u,i))**2 for u,i,_ in hoursValid) / len(hoursValid)\n",
    "    return mse"
   ]
  },
  {
   "cell_type": "code",
   "execution_count": 80,
   "metadata": {},
   "outputs": [],
   "source": [
    "def iterate(lamb, max_iteration=1000):\n",
    "    mse = 0\n",
    "    for iter in range(max_iteration):\n",
    "        update_alpha()\n",
    "        update_betaU(lamb)\n",
    "        update_betaI(lamb)\n",
    "        curr_MSE = MSE()\n",
    "        if iter % 10 == 9:\n",
    "            print(f\"Current Iteration is {iter+1} | MSE: {curr_MSE}\")\n",
    "        if mse == 0 or curr_MSE <= mse:\n",
    "            mse = curr_MSE\n",
    "        else:\n",
    "            print(f\"End Iteration is {iter+1} | MSE: {curr_MSE}\")\n",
    "            break\n",
    "    return curr_MSE"
   ]
  },
  {
   "cell_type": "code",
   "execution_count": 81,
   "metadata": {},
   "outputs": [
    {
     "name": "stdout",
     "output_type": "stream",
     "text": [
      "Current Iteration is 10 | MSE: 2.992272655157726\n",
      "Current Iteration is 20 | MSE: 2.9912393881609276\n",
      "Current Iteration is 30 | MSE: 2.990877755823751\n",
      "Current Iteration is 40 | MSE: 2.9907386098254003\n",
      "Current Iteration is 50 | MSE: 2.990679621491325\n",
      "Current Iteration is 60 | MSE: 2.990652571558784\n",
      "Current Iteration is 70 | MSE: 2.9906394816398763\n",
      "Current Iteration is 80 | MSE: 2.9906329353147316\n",
      "Current Iteration is 90 | MSE: 2.9906295995303536\n",
      "Current Iteration is 100 | MSE: 2.990627882220814\n",
      "Current Iteration is 110 | MSE: 2.990626993270169\n",
      "Current Iteration is 120 | MSE: 2.990626531779997\n",
      "Current Iteration is 130 | MSE: 2.9906262918381854\n",
      "Current Iteration is 140 | MSE: 2.9906261669866394\n",
      "Current Iteration is 150 | MSE: 2.990626101994436\n",
      "Current Iteration is 160 | MSE: 2.9906260681550467\n",
      "Current Iteration is 170 | MSE: 2.990626050533969\n",
      "Current Iteration is 180 | MSE: 2.9906260413576597\n",
      "Current Iteration is 190 | MSE: 2.9906260365788797\n",
      "Current Iteration is 200 | MSE: 2.990626034090178\n",
      "Current Iteration is 210 | MSE: 2.990626032794103\n",
      "Current Iteration is 220 | MSE: 2.990626032119135\n",
      "Current Iteration is 230 | MSE: 2.9906260317675843\n",
      "Current Iteration is 240 | MSE: 2.990626031584521\n",
      "Current Iteration is 250 | MSE: 2.990626031489182\n",
      "Current Iteration is 260 | MSE: 2.990626031439544\n",
      "Current Iteration is 270 | MSE: 2.990626031413679\n",
      "Current Iteration is 280 | MSE: 2.9906260314002187\n",
      "Current Iteration is 290 | MSE: 2.9906260313931976\n",
      "Current Iteration is 300 | MSE: 2.9906260313895494\n",
      "Current Iteration is 310 | MSE: 2.990626031387629\n",
      "Current Iteration is 320 | MSE: 2.99062603138664\n",
      "Current Iteration is 330 | MSE: 2.9906260313861344\n",
      "Current Iteration is 340 | MSE: 2.990626031385862\n",
      "End Iteration is 344 | MSE: 2.9906260313858097\n"
     ]
    }
   ],
   "source": [
    "validMSE = iterate(lamb=4.959999999999999)"
   ]
  },
  {
   "cell_type": "code",
   "execution_count": 46,
   "metadata": {},
   "outputs": [
    {
     "data": {
      "text/plain": [
       "3.0203673766083035"
      ]
     },
     "execution_count": 46,
     "metadata": {},
     "output_type": "execute_result"
    }
   ],
   "source": [
    "validMSE"
   ]
  },
  {
   "cell_type": "code",
   "execution_count": 55,
   "id": "c604fd19-2fb8-44bf-82b5-33797f534707",
   "metadata": {},
   "outputs": [],
   "source": [
    "### Question 8"
   ]
  },
  {
   "cell_type": "code",
   "execution_count": 58,
   "metadata": {},
   "outputs": [],
   "source": [
    "def iterate(lamb, max_iteration=50):\n",
    "    mse = 0\n",
    "    for iter in range(max_iteration):\n",
    "        update_alpha()\n",
    "        update_betaU(lamb)\n",
    "        update_betaI(lamb)\n",
    "        curr_mse = MSE()\n",
    "        if mse == 0 or curr_mse <= mse:\n",
    "            mse = curr_mse\n",
    "        else:\n",
    "            print(f\"Current Lambda is {lamb} | MSE: {curr_mse}\")\n",
    "            break\n",
    "        if iter == 29:\n",
    "            print(f\"Current Lambda is {lamb} | MSE: {curr_mse}\")\n",
    "    return mse"
   ]
  },
  {
   "cell_type": "code",
   "execution_count": 64,
   "id": "30b8cbba-d0ec-46a6-b079-1c9a0e188971",
   "metadata": {},
   "outputs": [
    {
     "name": "stdout",
     "output_type": "stream",
     "text": [
      "Current Lambda is 4.9 | MSE: 2.9906283917334524\n",
      "Current Lambda is 4.91 | MSE: 2.990627471979278\n",
      "Current Lambda is 4.92 | MSE: 2.9906268050468863\n",
      "Current Lambda is 4.93 | MSE: 2.9906263109404017\n",
      "Current Lambda is 4.9399999999999995 | MSE: 2.9906259852163006\n",
      "Current Lambda is 4.949999999999999 | MSE: 2.990625825237173\n",
      "Current Lambda is 4.959999999999999 | MSE: 2.990625828587001\n",
      "Current Lambda is 4.969999999999999 | MSE: 2.990625993031822\n",
      "Current Lambda is 4.979999999999999 | MSE: 2.9906263165131315\n",
      "Current Lambda is 4.989999999999998 | MSE: 2.9906267971386855\n",
      "Current Lambda is 4.999999999999998 | MSE: 2.9906274331714715\n",
      "Current Lambda is 5.009999999999998 | MSE: 2.990628223017745\n",
      "Current Lambda is 5.019999999999998 | MSE: 2.9906291652147052\n",
      "Current Lambda is 5.029999999999998 | MSE: 2.9906302584188142\n",
      "Current Lambda is 5.039999999999997 | MSE: 2.9906315013943465\n",
      "Current Lambda is 5.049999999999997 | MSE: 2.990632893002656\n",
      "Current Lambda is 5.059999999999997 | MSE: 2.9906344321925604\n",
      "Current Lambda is 5.069999999999997 | MSE: 2.9906361179911083\n",
      "Current Lambda is 5.0799999999999965 | MSE: 2.99063794949547\n",
      "Current Lambda is 5.089999999999996 | MSE: 2.9906399258654752\n",
      "Current Lambda is 5.099999999999996 | MSE: 2.990642046316947\n"
     ]
    }
   ],
   "source": [
    "# Better lambda...\n",
    "bestValidMSE = None\n",
    "bestLamb = 0\n",
    "for lamb in np.arange(4.9, 5.11, 0.01):\n",
    "    validMSE = iterate(lamb, max_iteration=30)\n",
    "    if bestValidMSE == None or validMSE < bestValidMSE:\n",
    "        bestValidMSE = validMSE\n",
    "        bestLamb = lamb"
   ]
  },
  {
   "cell_type": "code",
   "execution_count": 85,
   "metadata": {},
   "outputs": [
    {
     "data": {
      "text/plain": [
       "(2.9906253154177134, 4.959999999999999)"
      ]
     },
     "execution_count": 85,
     "metadata": {},
     "output_type": "execute_result"
    }
   ],
   "source": [
    "bestValidMSE, bestLamb # Fine-tune lambda"
   ]
  },
  {
   "cell_type": "code",
   "execution_count": 80,
   "id": "90a7cd55-1f58-42a5-8c35-4debf80a3e3e",
   "metadata": {},
   "outputs": [],
   "source": [
    "predictions = open(\"predictions_Hours.csv\", 'w')\n",
    "for l in open(\"pairs_Hours.csv\"):\n",
    "    if l.startswith(\"userID\"):\n",
    "        predictions.write(l)\n",
    "        continue\n",
    "    u,g = l.strip().split(',')\n",
    "    pred=prediction(u,g)\n",
    "    \n",
    "    if u in userBiases and g in itemBiases:\n",
    "        predictions.write(u + ',' + g + ',' + str(pred) + '\\n')\n",
    "    else:\n",
    "        predictions.write(u + ',' + g + ',' + str(0) + '\\n')\n",
    "\n",
    "predictions.close()"
   ]
  },
  {
   "cell_type": "code",
   "execution_count": null,
   "id": "9676dc3e",
   "metadata": {},
   "outputs": [],
   "source": []
  }
 ],
 "metadata": {
  "kernelspec": {
   "display_name": "Python 3 (ipykernel)",
   "language": "python",
   "name": "python3"
  },
  "language_info": {
   "codemirror_mode": {
    "name": "ipython",
    "version": 3
   },
   "file_extension": ".py",
   "mimetype": "text/x-python",
   "name": "python",
   "nbconvert_exporter": "python",
   "pygments_lexer": "ipython3",
   "version": "3.9.18"
  }
 },
 "nbformat": 4,
 "nbformat_minor": 5
}
