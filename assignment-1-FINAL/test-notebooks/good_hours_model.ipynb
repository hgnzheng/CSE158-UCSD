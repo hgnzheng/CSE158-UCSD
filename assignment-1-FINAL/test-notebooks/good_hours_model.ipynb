{
 "cells": [
  {
   "cell_type": "code",
   "execution_count": 1,
   "id": "0f55c023",
   "metadata": {},
   "outputs": [],
   "source": [
    "import gzip\n",
    "from collections import defaultdict\n",
    "import math\n",
    "import scipy.optimize\n",
    "from sklearn import svm\n",
    "import numpy as np\n",
    "import string\n",
    "import random\n",
    "import string\n",
    "from sklearn import linear_model\n",
    "import tensorflow as tf\n",
    "from surprise.model_selection import train_test_split"
   ]
  },
  {
   "cell_type": "code",
   "execution_count": 2,
   "id": "005c1a02-c5bf-4241-8d00-dc260d36f08f",
   "metadata": {},
   "outputs": [],
   "source": [
    "def assertFloat(x):\n",
    "    assert type(float(x)) == float\n",
    "\n",
    "def assertFloatList(items, N):\n",
    "    assert len(items) == N\n",
    "    assert [type(float(x)) for x in items] == [float]*N"
   ]
  },
  {
   "cell_type": "code",
   "execution_count": 3,
   "id": "cb2abe72",
   "metadata": {},
   "outputs": [],
   "source": [
    "def readGz(path):\n",
    "    for l in gzip.open(path, 'rt'):\n",
    "        yield eval(l)"
   ]
  },
  {
   "cell_type": "code",
   "execution_count": 4,
   "id": "e54fa48f",
   "metadata": {},
   "outputs": [],
   "source": [
    "def readJSON(path):\n",
    "    f = gzip.open(path, 'rt')\n",
    "    f.readline()\n",
    "    for l in f:\n",
    "        d = eval(l)\n",
    "        u = d['userID']\n",
    "        g = d['gameID']\n",
    "        yield u,g,d"
   ]
  },
  {
   "cell_type": "code",
   "execution_count": 5,
   "id": "c215087c",
   "metadata": {},
   "outputs": [],
   "source": [
    "answers = {}"
   ]
  },
  {
   "cell_type": "code",
   "execution_count": 6,
   "id": "27aec54d",
   "metadata": {},
   "outputs": [],
   "source": [
    "# Some data structures that will be useful"
   ]
  },
  {
   "cell_type": "code",
   "execution_count": 6,
   "id": "e72d24da",
   "metadata": {},
   "outputs": [],
   "source": [
    "allHours = []\n",
    "for l in readJSON(\"train.json.gz\"):\n",
    "    allHours.append(l)"
   ]
  },
  {
   "cell_type": "code",
   "execution_count": 7,
   "id": "462bd9bd-b657-4571-8fef-eee11d852099",
   "metadata": {},
   "outputs": [],
   "source": [
    "hoursTrain = allHours[:165000]\n",
    "hoursValid = allHours[165000:]"
   ]
  },
  {
   "cell_type": "code",
   "execution_count": 8,
   "id": "c58fd9e5-0ba6-4fef-83c1-315503d75348",
   "metadata": {},
   "outputs": [],
   "source": [
    "##################################################\n",
    "# Play prediction                                #\n",
    "##################################################"
   ]
  },
  {
   "cell_type": "code",
   "execution_count": 9,
   "metadata": {},
   "outputs": [
    {
     "data": {
      "text/plain": [
       "('u70666506',\n",
       " 'g49368897',\n",
       " {'userID': 'u70666506',\n",
       "  'early_access': False,\n",
       "  'hours': 63.5,\n",
       "  'hours_transformed': 6.011227255423254,\n",
       "  'found_funny': 1,\n",
       "  'text': 'If you want to sit in queue for 10-20min and have 140 ping then this game is perfect for you :)',\n",
       "  'gameID': 'g49368897',\n",
       "  'user_id': '76561198030408772',\n",
       "  'date': '2017-05-20'})"
      ]
     },
     "execution_count": 9,
     "metadata": {},
     "output_type": "execute_result"
    }
   ],
   "source": [
    "hoursTrain[0]"
   ]
  },
  {
   "cell_type": "code",
   "execution_count": 10,
   "id": "4e06cc33-bc60-4b45-be63-8033c17d9fe6",
   "metadata": {},
   "outputs": [],
   "source": [
    "# Any other preprocessing...\n",
    "users = set() # maintain a set of unique users\n",
    "games = set() # maintain a set of unique games\n",
    "pos_pairs = []\n",
    "for l in readGz(\"train.json.gz\"):\n",
    "    u,g = l['userID'], l['gameID']\n",
    "    users.add(u)\n",
    "    games.add(g)\n",
    "    pos_pairs += [(u, g)]"
   ]
  },
  {
   "cell_type": "code",
   "execution_count": 11,
   "metadata": {},
   "outputs": [],
   "source": [
    "train_data = pos_pairs[:165000]\n",
    "valid_data = pos_pairs[165000:] # because pos_pairs has length 175000"
   ]
  },
  {
   "cell_type": "code",
   "execution_count": 12,
   "metadata": {},
   "outputs": [
    {
     "data": {
      "text/plain": [
       "(6710, 2437)"
      ]
     },
     "execution_count": 12,
     "metadata": {},
     "output_type": "execute_result"
    }
   ],
   "source": [
    "len(users), len(games)"
   ]
  },
  {
   "cell_type": "code",
   "execution_count": 13,
   "metadata": {},
   "outputs": [
    {
     "name": "stderr",
     "output_type": "stream",
     "text": [
      "/var/folders/8f/_6h5xprs32dfmm3jfs0g7k880000gn/T/ipykernel_97179/759351938.py:5: DeprecationWarning: Sampling from a set deprecated\n",
      "since Python 3.9 and will be removed in a subsequent version.\n",
      "  user = random.sample(users, 1)[0]\n",
      "/var/folders/8f/_6h5xprs32dfmm3jfs0g7k880000gn/T/ipykernel_97179/759351938.py:6: DeprecationWarning: Sampling from a set deprecated\n",
      "since Python 3.9 and will be removed in a subsequent version.\n",
      "  game = random.sample(games, 1)[0]\n"
     ]
    }
   ],
   "source": [
    "# Randomly sample games that weren't played\n",
    "neg_pairs = set()\n",
    "len_valid = len(hoursValid)\n",
    "while True:\n",
    "    user = random.sample(users, 1)[0]\n",
    "    game = random.sample(games, 1)[0]\n",
    "    if (user, game) not in pos_pairs:\n",
    "        neg_pairs.add((user, game))\n",
    "    if len(neg_pairs) == len_valid:\n",
    "        break"
   ]
  },
  {
   "cell_type": "code",
   "execution_count": 14,
   "metadata": {},
   "outputs": [
    {
     "data": {
      "text/plain": [
       "(9999, 165000)"
      ]
     },
     "execution_count": 14,
     "metadata": {},
     "output_type": "execute_result"
    }
   ],
   "source": [
    "len(neg_pairs), len(train_data)"
   ]
  },
  {
   "cell_type": "code",
   "execution_count": 15,
   "id": "12f46fd0-3abb-4f46-8a8b-9cf37efa99ee",
   "metadata": {},
   "outputs": [],
   "source": [
    "### Question 1"
   ]
  },
  {
   "cell_type": "code",
   "execution_count": 16,
   "id": "7aa30a66-0dcd-4f1f-beb0-a6ba473c9070",
   "metadata": {},
   "outputs": [
    {
     "data": {
      "text/plain": [
       "0.6846"
      ]
     },
     "execution_count": 16,
     "metadata": {},
     "output_type": "execute_result"
    }
   ],
   "source": [
    "# Evaluate baseline strategy\n",
    "gameCount = defaultdict(int)\n",
    "totalPlayed = 0\n",
    "\n",
    "for user,game in train_data:\n",
    "    gameCount[game] += 1\n",
    "    totalPlayed += 1\n",
    "\n",
    "mostPopular = [(gameCount[x], x) for x in gameCount]\n",
    "mostPopular.sort()\n",
    "mostPopular.reverse()\n",
    "\n",
    "return1 = set()\n",
    "count = 0\n",
    "for ic, i in mostPopular:\n",
    "    count += ic\n",
    "    return1.add(i)\n",
    "    if count > totalPlayed/2: break\n",
    "\n",
    "predictions = []\n",
    "for user,game in valid_data:\n",
    "    if game in return1:\n",
    "        predictions += [1]\n",
    "    else:\n",
    "        predictions += [0]\n",
    "    \n",
    "for user,game in neg_pairs:\n",
    "    if game in return1:\n",
    "        predictions += [1]\n",
    "    else:\n",
    "        predictions += [0]\n",
    "\n",
    "sum_pred = sum([predictions[i]==1 for i in range(9999)]) + \\\n",
    "    sum([predictions[i] == 0 for i in range(9999, len(predictions))])\n",
    "acc = sum_pred / (2*len(valid_data))\n",
    "acc"
   ]
  },
  {
   "cell_type": "code",
   "execution_count": 18,
   "id": "17cb78c4-5841-46a9-af75-cc347d4f39c0",
   "metadata": {},
   "outputs": [
    {
     "data": {
      "text/plain": [
       "0.68105"
      ]
     },
     "execution_count": 18,
     "metadata": {},
     "output_type": "execute_result"
    }
   ],
   "source": [
    "answers['Q1'] = acc\n",
    "answers['Q1']"
   ]
  },
  {
   "cell_type": "code",
   "execution_count": 19,
   "id": "158deaa6-d294-4873-b10f-85f883d833d8",
   "metadata": {},
   "outputs": [],
   "source": [
    "assertFloat(answers['Q1'])"
   ]
  },
  {
   "cell_type": "code",
   "execution_count": 20,
   "id": "f843a2a7-57e5-4947-a513-ba8fa35f8cb6",
   "metadata": {},
   "outputs": [],
   "source": [
    "### Question 2"
   ]
  },
  {
   "cell_type": "code",
   "execution_count": 21,
   "id": "47c2b474-700f-4d37-be1b-3a704ad2968b",
   "metadata": {},
   "outputs": [],
   "source": [
    "# Improved strategy"
   ]
  },
  {
   "cell_type": "code",
   "execution_count": 18,
   "id": "6474d5ac-7dd0-4d62-b938-ec025bef55de",
   "metadata": {},
   "outputs": [
    {
     "data": {
      "text/plain": [
       "0.7046"
      ]
     },
     "execution_count": 18,
     "metadata": {},
     "output_type": "execute_result"
    }
   ],
   "source": [
    "# Evaluate baseline strategy\n",
    "gameCount = defaultdict(int)\n",
    "totalPlayed = 0\n",
    "\n",
    "for user,game in train_data:\n",
    "    gameCount[game] += 1\n",
    "    totalPlayed += 1\n",
    "\n",
    "mostPopular = [(gameCount[x], x) for x in gameCount]\n",
    "mostPopular.sort()\n",
    "mostPopular.reverse()\n",
    "\n",
    "return1 = set()\n",
    "count = 0\n",
    "for ic, i in mostPopular:\n",
    "    count += ic\n",
    "    return1.add(i)\n",
    "    if count > totalPlayed/1.5: break # Choose 67% percentile instead\n",
    "\n",
    "predictions = []\n",
    "for user,game in valid_data:\n",
    "    if game in return1:\n",
    "        predictions += [1]\n",
    "    else:\n",
    "        predictions += [0]\n",
    "    \n",
    "for user,game in neg_pairs:\n",
    "    if game in return1:\n",
    "        predictions += [1]\n",
    "    else:\n",
    "        predictions += [0]\n",
    "\n",
    "sum_pred_q2 = sum([predictions[i]==1 for i in range(9999)]) + \\\n",
    "    sum([predictions[i] == 0 for i in range(9999, len(predictions))])\n",
    "acc_q2 = sum_pred_q2 / (2*len(valid_data))\n",
    "acc_q2"
   ]
  },
  {
   "cell_type": "code",
   "execution_count": 19,
   "id": "06a69839-1423-4160-80dc-451eccf6b82f",
   "metadata": {},
   "outputs": [
    {
     "data": {
      "text/plain": [
       "[0.6666666666666666, 0.7046]"
      ]
     },
     "execution_count": 19,
     "metadata": {},
     "output_type": "execute_result"
    }
   ],
   "source": [
    "answers['Q2'] = [1/1.5, acc_q2]\n",
    "answers['Q2']"
   ]
  },
  {
   "cell_type": "code",
   "execution_count": 20,
   "id": "44ddabf1-bf18-428d-91b2-82702133cfb1",
   "metadata": {},
   "outputs": [],
   "source": [
    "assertFloatList(answers['Q2'], 2)"
   ]
  },
  {
   "cell_type": "code",
   "execution_count": 21,
   "id": "8c5c5e95-1c35-4f00-9fac-5a1d3bec338b",
   "metadata": {},
   "outputs": [],
   "source": [
    "### Question 3/4"
   ]
  },
  {
   "cell_type": "code",
   "execution_count": 22,
   "metadata": {},
   "outputs": [],
   "source": [
    "userPerGame = defaultdict(set) # Maps a game to the users who played it\n",
    "gamePerUser = defaultdict(set) # Maps a user to the game that they played\n",
    "hoursDict = {} # To retrieve an hour for a specific user/game pair\n",
    "\n",
    "for d in hoursTrain:\n",
    "    user,game = d[0], d[1]\n",
    "    userPerGame[game].add(user)\n",
    "    gamePerUser[user].add(game)\n",
    "    hoursDict[(user, game)] = d[2]['hours']"
   ]
  },
  {
   "cell_type": "code",
   "execution_count": 23,
   "metadata": {},
   "outputs": [],
   "source": [
    "userAverages = {}\n",
    "gameAverages = {}\n",
    "\n",
    "for u in gamePerUser:\n",
    "    rs = [hoursDict[(u,g)] for g in gamePerUser[u]]\n",
    "    userAverages[u] = sum(rs) / len(rs)\n",
    "\n",
    "for g in userPerGame:\n",
    "    rs = [hoursDict[(u,g)] for u in userPerGame[g]]\n",
    "    gameAverages[g] = sum(rs) / (len(rs))"
   ]
  },
  {
   "cell_type": "code",
   "execution_count": 24,
   "metadata": {},
   "outputs": [],
   "source": [
    "reviewsPerUser = defaultdict(list)\n",
    "reviewsPerGame = defaultdict(list)\n",
    "\n",
    "for d in hoursTrain:\n",
    "    user,game = d[0], d[1]\n",
    "    reviewsPerUser[user].append(d)\n",
    "    reviewsPerGame[game].append(d)"
   ]
  },
  {
   "cell_type": "code",
   "execution_count": 25,
   "metadata": {},
   "outputs": [
    {
     "data": {
      "text/plain": [
       "('u05450000',\n",
       " 'g52077802',\n",
       " {'hours': 16.8,\n",
       "  'gameID': 'g52077802',\n",
       "  'hours_transformed': 4.153805336079036,\n",
       "  'early_access': False,\n",
       "  'date': '2011-05-28',\n",
       "  'text': 'A poorly optimized and poorly realized piece of♥♥♥♥♥♥ Stay clear of this and all future Splash Damage products.',\n",
       "  'userID': 'u05450000'})"
      ]
     },
     "execution_count": 25,
     "metadata": {},
     "output_type": "execute_result"
    }
   ],
   "source": [
    "reviewsPerUser[\"u05450000\"][0]"
   ]
  },
  {
   "cell_type": "code",
   "execution_count": 26,
   "id": "0e7cca75-8730-459c-ad27-d827d65856e2",
   "metadata": {},
   "outputs": [],
   "source": [
    "def Jaccard(s1, s2):\n",
    "    numer = len(s1.intersection(s2))\n",
    "    denom = len(s1.union(s2))\n",
    "    if denom == 0:\n",
    "        return 0\n",
    "    return numer / denom\n",
    "\n",
    "def predictLabel(user, game, threshold):\n",
    "    similarities = []\n",
    "    for d in reviewsPerUser[user]:\n",
    "        i2 = d[1]\n",
    "        if i2 == game: continue\n",
    "        similarities.append(Jaccard(userPerGame[game], userPerGame[i2]))\n",
    "    return 1 if max(similarities) > threshold else 0"
   ]
  },
  {
   "cell_type": "code",
   "execution_count": 27,
   "metadata": {},
   "outputs": [
    {
     "data": {
      "text/plain": [
       "0.70635"
      ]
     },
     "execution_count": 27,
     "metadata": {},
     "output_type": "execute_result"
    }
   ],
   "source": [
    "# Evaluate baseline strategy\n",
    "predictions = []\n",
    "for user,game in valid_data:\n",
    "    predictions.append(predictLabel(user, game, 0.03))\n",
    "# print(len(predictions))\n",
    "for user,game in neg_pairs:\n",
    "    predictions.append(predictLabel(user, game, 0.03))\n",
    "# print(len(predictions))\n",
    "\n",
    "sum_pred_q3 = sum([predictions[i]==1 for i in range(10000)]) + \\\n",
    "    sum([predictions[i] == 0 for i in range(10000, len(predictions))])\n",
    "acc_q3 = sum_pred_q3 / (2*len(valid_data))\n",
    "acc_q3"
   ]
  },
  {
   "cell_type": "code",
   "execution_count": 28,
   "metadata": {},
   "outputs": [],
   "source": [
    "def threshold_and_popularity(threshold_popularity=1/1.5, threshold_jaccard=0.03):\n",
    "    gameCount = defaultdict(int)\n",
    "    totalPlayed = 0\n",
    "    \n",
    "    for user,game,_ in readJSON(\"train.json.gz\"):\n",
    "        gameCount[game] += 1\n",
    "        totalPlayed += 1\n",
    "        \n",
    "    mostPopular = [(gameCount[x], x) for x in gameCount]\n",
    "    mostPopular.sort()\n",
    "    mostPopular.reverse()\n",
    "    \n",
    "    return1 = set()\n",
    "    count = 0\n",
    "    for ic, i in mostPopular:\n",
    "        count += ic\n",
    "        return1.add(i)\n",
    "        if count > threshold_popularity: break\n",
    "    \n",
    "    correct = 0\n",
    "    for user, game in valid_data:\n",
    "        similarities = []\n",
    "        for d in reviewsPerUser[user]:\n",
    "            i2 = d[1]\n",
    "            if i2 == game: continue\n",
    "            similarities.append(Jaccard(userPerGame[game], userPerGame[i2]))\n",
    "            \n",
    "        if max(similarities) > threshold_jaccard and game in return1:\n",
    "            correct += (game in gamePerUser[user]) # recommend in this case\n",
    "        else:\n",
    "            correct += (game not in gamePerUser[user]) # not recommend in this case\n",
    "        \n",
    "    return correct/len(valid_data)"
   ]
  },
  {
   "cell_type": "code",
   "execution_count": 29,
   "metadata": {},
   "outputs": [
    {
     "data": {
      "text/plain": [
       "0.9945"
      ]
     },
     "execution_count": 29,
     "metadata": {},
     "output_type": "execute_result"
    }
   ],
   "source": [
    "acc_q4 = threshold_and_popularity()\n",
    "acc_q4"
   ]
  },
  {
   "cell_type": "code",
   "execution_count": 34,
   "id": "6180d5a7-fcaa-4208-9e2e-0babf0ab854d",
   "metadata": {},
   "outputs": [],
   "source": [
    "answers['Q3'] = acc_q3\n",
    "answers['Q4'] = acc_q4"
   ]
  },
  {
   "cell_type": "code",
   "execution_count": 35,
   "id": "6ac29b20-93d8-467e-9343-7363ae7c8071",
   "metadata": {},
   "outputs": [],
   "source": [
    "assertFloat(answers['Q3'])\n",
    "assertFloat(answers['Q4'])"
   ]
  },
  {
   "cell_type": "code",
   "execution_count": 30,
   "id": "75f81286-487d-494a-8ee8-a42c1aca6eb7",
   "metadata": {},
   "outputs": [],
   "source": [
    "threshold_popularity = 1/1.5\n",
    "threshold_jaccard = 0.003\n",
    "\n",
    "gameCount = defaultdict(int)\n",
    "totalPlayed = 0\n",
    "\n",
    "for user,game,_ in readJSON(\"train.json.gz\"):\n",
    "    gameCount[game] += 1\n",
    "    totalPlayed += 1\n",
    "    \n",
    "mostPopular = [(gameCount[x], x) for x in gameCount]\n",
    "mostPopular.sort()\n",
    "mostPopular.reverse()\n",
    "\n",
    "return1 = set()\n",
    "count = 0\n",
    "for ic, i in mostPopular:\n",
    "    count += ic\n",
    "    return1.add(i)\n",
    "    if count > totalPlayed*threshold_popularity: break\n",
    "\n",
    "return1 = set()\n",
    "count = 0\n",
    "for ic, i in mostPopular:\n",
    "    count += ic\n",
    "    return1.add(i)\n",
    "    if count > threshold_popularity: break\n",
    "\n",
    "predictions = open(\"HWpredictions_Played.csv\", 'w')\n",
    "for l in open(\"pairs_Played.csv\"):\n",
    "    if l.startswith(\"userID\"):\n",
    "        predictions.write(l)\n",
    "        continue\n",
    "    u,g = l.strip().split(',')\n",
    "    userPlayed = gamePerUser[u]\n",
    "    similarities = []\n",
    "    # Logic...\n",
    "    for d in reviewsPerUser[user]:\n",
    "        i2 = d[1]\n",
    "        if i2 == game: continue\n",
    "        similarities.append(Jaccard(userPerGame[game], userPerGame[i2]))\n",
    "\n",
    "    if max(similarities) > threshold_jaccard and game in return1:\n",
    "        predictions.write(u + ',' + g + ',' + \"1\" + '\\n')\n",
    "    else:\n",
    "        predictions.write(u + ',' + g + ',' + \"0\" + '\\n')\n",
    "\n",
    "predictions.close()"
   ]
  },
  {
   "cell_type": "code",
   "execution_count": 38,
   "id": "c82a7a00",
   "metadata": {},
   "outputs": [],
   "source": [
    "##################################################\n",
    "# Hours played prediction                        #\n",
    "##################################################"
   ]
  },
  {
   "cell_type": "code",
   "execution_count": 70,
   "metadata": {},
   "outputs": [],
   "source": [
    "trainHours = [r[2]['hours_transformed'] for r in hoursTrain]\n",
    "globalAverage = sum(trainHours) * 1.0 / len(trainHours)"
   ]
  },
  {
   "cell_type": "code",
   "execution_count": 71,
   "metadata": {},
   "outputs": [],
   "source": [
    "hoursPerUser, hoursPerItem,Rui = {}, {}, {}\n",
    "for u,g,d in hoursTrain:\n",
    "    if u not in hoursPerUser:\n",
    "        hoursPerUser[u] = [(g, d['hours_transformed'])]\n",
    "    else:\n",
    "        hoursPerUser[u].append((g, d['hours_transformed']))\n",
    "    if g not in hoursPerItem:\n",
    "        hoursPerItem[g] = [(u, d['hours_transformed'])]\n",
    "    else:\n",
    "        hoursPerItem[g].append((u, d['hours_transformed']))\n",
    "    Rui[(u,g)] = d['hours_transformed']"
   ]
  },
  {
   "cell_type": "code",
   "execution_count": 72,
   "metadata": {},
   "outputs": [
    {
     "data": {
      "text/plain": [
       "2437"
      ]
     },
     "execution_count": 72,
     "metadata": {},
     "output_type": "execute_result"
    }
   ],
   "source": [
    "len(hoursPerItem)"
   ]
  },
  {
   "cell_type": "code",
   "execution_count": 73,
   "metadata": {},
   "outputs": [],
   "source": [
    "betaU = {}\n",
    "betaI = {}\n",
    "for u in hoursPerUser:\n",
    "    betaU[u] = 0\n",
    "\n",
    "for g in hoursPerItem:\n",
    "    betaI[g] = 0"
   ]
  },
  {
   "cell_type": "code",
   "execution_count": 74,
   "metadata": {},
   "outputs": [],
   "source": [
    "alpha = globalAverage # Could initialize anywhere, this is a guess"
   ]
  },
  {
   "cell_type": "code",
   "execution_count": 75,
   "metadata": {},
   "outputs": [],
   "source": [
    "def update_alpha():\n",
    "    global alpha\n",
    "    num = sum(Rui[(u,g)]- (betaU[u] + betaI[g]) for u,g,_ in hoursTrain)\n",
    "    denom = len(hoursTrain)\n",
    "    alpha = num / denom"
   ]
  },
  {
   "cell_type": "code",
   "execution_count": 76,
   "metadata": {},
   "outputs": [],
   "source": [
    "def update_betaU(lamb):\n",
    "    global alpha\n",
    "    for user in hoursPerUser:\n",
    "        num = sum(Rui[(user,g)]-(alpha+betaI[g]) for g,t in hoursPerUser[user])\n",
    "        denom = lamb + len(hoursPerUser[user])\n",
    "        betaU[user] = num / denom"
   ]
  },
  {
   "cell_type": "code",
   "execution_count": 77,
   "metadata": {},
   "outputs": [],
   "source": [
    "def update_betaI(lamb):\n",
    "    global alpha\n",
    "    for item in hoursPerItem:\n",
    "        num = sum(Rui[(u,item)]-(alpha+betaU[u]) for u,t in hoursPerItem[item])\n",
    "        denom = lamb + len(hoursPerItem[item])\n",
    "        betaI[item] = num / denom"
   ]
  },
  {
   "cell_type": "code",
   "execution_count": 78,
   "metadata": {},
   "outputs": [],
   "source": [
    "def predict(user, item):\n",
    "    global alpha\n",
    "    if user not in hoursPerUser and item not in hoursPerItem:\n",
    "        return alpha\n",
    "    if user in hoursPerUser and item not in hoursPerItem:\n",
    "        return alpha + betaU[user]\n",
    "    if user not in hoursPerUser and item in hoursPerItem:\n",
    "        return alpha + betaI[item]\n",
    "    return alpha + betaU[user] + betaI[item]"
   ]
  },
  {
   "cell_type": "code",
   "execution_count": 79,
   "metadata": {},
   "outputs": [],
   "source": [
    "def MSE():\n",
    "    mse = sum((_['hours_transformed']-predict(u,i))**2 for u,i,_ in hoursValid) / len(hoursValid)\n",
    "    return mse"
   ]
  },
  {
   "cell_type": "code",
   "execution_count": 80,
   "metadata": {},
   "outputs": [],
   "source": [
    "def iterate(lamb, max_iteration=1000):\n",
    "    mse = 0\n",
    "    for iter in range(max_iteration):\n",
    "        update_alpha()\n",
    "        update_betaU(lamb)\n",
    "        update_betaI(lamb)\n",
    "        curr_MSE = MSE()\n",
    "        if iter % 10 == 9:\n",
    "            print(f\"Current Iteration is {iter+1} | MSE: {curr_MSE}\")\n",
    "        if mse == 0 or curr_MSE <= mse:\n",
    "            mse = curr_MSE\n",
    "        else:\n",
    "            print(f\"End Iteration is {iter+1} | MSE: {curr_MSE}\")\n",
    "            break\n",
    "    return curr_MSE"
   ]
  },
  {
   "cell_type": "code",
   "execution_count": 81,
   "metadata": {},
   "outputs": [
    {
     "name": "stdout",
     "output_type": "stream",
     "text": [
      "Current Iteration is 10 | MSE: 2.992272655157726\n",
      "Current Iteration is 20 | MSE: 2.9912393881609276\n",
      "Current Iteration is 30 | MSE: 2.990877755823751\n",
      "Current Iteration is 40 | MSE: 2.9907386098254003\n",
      "Current Iteration is 50 | MSE: 2.990679621491325\n",
      "Current Iteration is 60 | MSE: 2.990652571558784\n",
      "Current Iteration is 70 | MSE: 2.9906394816398763\n",
      "Current Iteration is 80 | MSE: 2.9906329353147316\n",
      "Current Iteration is 90 | MSE: 2.9906295995303536\n",
      "Current Iteration is 100 | MSE: 2.990627882220814\n",
      "Current Iteration is 110 | MSE: 2.990626993270169\n",
      "Current Iteration is 120 | MSE: 2.990626531779997\n",
      "Current Iteration is 130 | MSE: 2.9906262918381854\n",
      "Current Iteration is 140 | MSE: 2.9906261669866394\n",
      "Current Iteration is 150 | MSE: 2.990626101994436\n",
      "Current Iteration is 160 | MSE: 2.9906260681550467\n",
      "Current Iteration is 170 | MSE: 2.990626050533969\n",
      "Current Iteration is 180 | MSE: 2.9906260413576597\n",
      "Current Iteration is 190 | MSE: 2.9906260365788797\n",
      "Current Iteration is 200 | MSE: 2.990626034090178\n",
      "Current Iteration is 210 | MSE: 2.990626032794103\n",
      "Current Iteration is 220 | MSE: 2.990626032119135\n",
      "Current Iteration is 230 | MSE: 2.9906260317675843\n",
      "Current Iteration is 240 | MSE: 2.990626031584521\n",
      "Current Iteration is 250 | MSE: 2.990626031489182\n",
      "Current Iteration is 260 | MSE: 2.990626031439544\n",
      "Current Iteration is 270 | MSE: 2.990626031413679\n",
      "Current Iteration is 280 | MSE: 2.9906260314002187\n",
      "Current Iteration is 290 | MSE: 2.9906260313931976\n",
      "Current Iteration is 300 | MSE: 2.9906260313895494\n",
      "Current Iteration is 310 | MSE: 2.990626031387629\n",
      "Current Iteration is 320 | MSE: 2.99062603138664\n",
      "Current Iteration is 330 | MSE: 2.9906260313861344\n",
      "Current Iteration is 340 | MSE: 2.990626031385862\n",
      "End Iteration is 344 | MSE: 2.9906260313858097\n"
     ]
    }
   ],
   "source": [
    "validMSE = iterate(lamb=4.959999999999999)"
   ]
  },
  {
   "cell_type": "code",
   "execution_count": 46,
   "metadata": {},
   "outputs": [
    {
     "data": {
      "text/plain": [
       "3.0203673766083035"
      ]
     },
     "execution_count": 46,
     "metadata": {},
     "output_type": "execute_result"
    }
   ],
   "source": [
    "validMSE"
   ]
  },
  {
   "cell_type": "code",
   "execution_count": 55,
   "id": "c604fd19-2fb8-44bf-82b5-33797f534707",
   "metadata": {},
   "outputs": [],
   "source": [
    "### Question 8"
   ]
  },
  {
   "cell_type": "code",
   "execution_count": 58,
   "metadata": {},
   "outputs": [],
   "source": [
    "def iterate(lamb, max_iteration=50):\n",
    "    mse = 0\n",
    "    for iter in range(max_iteration):\n",
    "        update_alpha()\n",
    "        update_betaU(lamb)\n",
    "        update_betaI(lamb)\n",
    "        curr_mse = MSE()\n",
    "        if mse == 0 or curr_mse <= mse:\n",
    "            mse = curr_mse\n",
    "        else:\n",
    "            print(f\"Current Lambda is {lamb} | MSE: {curr_mse}\")\n",
    "            break\n",
    "        if iter == 29:\n",
    "            print(f\"Current Lambda is {lamb} | MSE: {curr_mse}\")\n",
    "    return mse"
   ]
  },
  {
   "cell_type": "code",
   "execution_count": 64,
   "id": "30b8cbba-d0ec-46a6-b079-1c9a0e188971",
   "metadata": {},
   "outputs": [
    {
     "name": "stdout",
     "output_type": "stream",
     "text": [
      "Current Lambda is 4.9 | MSE: 2.9906283917334524\n",
      "Current Lambda is 4.91 | MSE: 2.990627471979278\n",
      "Current Lambda is 4.92 | MSE: 2.9906268050468863\n",
      "Current Lambda is 4.93 | MSE: 2.9906263109404017\n",
      "Current Lambda is 4.9399999999999995 | MSE: 2.9906259852163006\n",
      "Current Lambda is 4.949999999999999 | MSE: 2.990625825237173\n",
      "Current Lambda is 4.959999999999999 | MSE: 2.990625828587001\n",
      "Current Lambda is 4.969999999999999 | MSE: 2.990625993031822\n",
      "Current Lambda is 4.979999999999999 | MSE: 2.9906263165131315\n",
      "Current Lambda is 4.989999999999998 | MSE: 2.9906267971386855\n",
      "Current Lambda is 4.999999999999998 | MSE: 2.9906274331714715\n",
      "Current Lambda is 5.009999999999998 | MSE: 2.990628223017745\n",
      "Current Lambda is 5.019999999999998 | MSE: 2.9906291652147052\n",
      "Current Lambda is 5.029999999999998 | MSE: 2.9906302584188142\n",
      "Current Lambda is 5.039999999999997 | MSE: 2.9906315013943465\n",
      "Current Lambda is 5.049999999999997 | MSE: 2.990632893002656\n",
      "Current Lambda is 5.059999999999997 | MSE: 2.9906344321925604\n",
      "Current Lambda is 5.069999999999997 | MSE: 2.9906361179911083\n",
      "Current Lambda is 5.0799999999999965 | MSE: 2.99063794949547\n",
      "Current Lambda is 5.089999999999996 | MSE: 2.9906399258654752\n",
      "Current Lambda is 5.099999999999996 | MSE: 2.990642046316947\n"
     ]
    }
   ],
   "source": [
    "# Better lambda...\n",
    "bestValidMSE = None\n",
    "bestLamb = 0\n",
    "for lamb in np.arange(4.9, 5.11, 0.01):\n",
    "    validMSE = iterate(lamb, max_iteration=30)\n",
    "    if bestValidMSE == None or validMSE < bestValidMSE:\n",
    "        bestValidMSE = validMSE\n",
    "        bestLamb = lamb"
   ]
  },
  {
   "cell_type": "code",
   "execution_count": 85,
   "metadata": {},
   "outputs": [
    {
     "data": {
      "text/plain": [
       "(2.9906253154177134, 4.959999999999999)"
      ]
     },
     "execution_count": 85,
     "metadata": {},
     "output_type": "execute_result"
    }
   ],
   "source": [
    "bestValidMSE, bestLamb # Fine-tune lambda"
   ]
  },
  {
   "cell_type": "code",
   "execution_count": 84,
   "id": "90a7cd55-1f58-42a5-8c35-4debf80a3e3e",
   "metadata": {},
   "outputs": [],
   "source": [
    "predictions = open(\"HWpredictions_Hours.csv\", 'w')\n",
    "for l in open(\"pairs_Hours.csv\"):\n",
    "    if l.startswith(\"userID\"):\n",
    "        predictions.write(l)\n",
    "        continue\n",
    "    u,g = l.strip().split(',')\n",
    "    \n",
    "    if u in betaU and g in betaI:\n",
    "        predictions.write(u + ',' + g + ',' + str(alpha + betaU[u] + betaI[g]) + '\\n')\n",
    "    else:\n",
    "        predictions.write(u + ',' + g + ',' + str(0) + '\\n')\n",
    "\n",
    "predictions.close()"
   ]
  },
  {
   "cell_type": "code",
   "execution_count": 200,
   "id": "c5fe92e3-3ab1-4858-858c-eeb732d964f6",
   "metadata": {},
   "outputs": [],
   "source": [
    "f = open(\"answers_hw3.txt\", 'w')\n",
    "f.write(str(answers) + '\\n')\n",
    "f.close()"
   ]
  },
  {
   "cell_type": "code",
   "execution_count": null,
   "id": "9676dc3e",
   "metadata": {},
   "outputs": [],
   "source": []
  }
 ],
 "metadata": {
  "kernelspec": {
   "display_name": "Python 3 (ipykernel)",
   "language": "python",
   "name": "python3"
  },
  "language_info": {
   "codemirror_mode": {
    "name": "ipython",
    "version": 3
   },
   "file_extension": ".py",
   "mimetype": "text/x-python",
   "name": "python",
   "nbconvert_exporter": "python",
   "pygments_lexer": "ipython3",
   "version": "3.9.18"
  }
 },
 "nbformat": 4,
 "nbformat_minor": 5
}
